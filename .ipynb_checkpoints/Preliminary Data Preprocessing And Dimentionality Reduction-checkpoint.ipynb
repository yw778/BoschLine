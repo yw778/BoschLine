{
 "cells": [
  {
   "cell_type": "code",
   "execution_count": 1,
   "metadata": {
    "collapsed": true
   },
   "outputs": [],
   "source": [
    "# Imports\n",
    "%matplotlib notebook\n",
    "# numpy, matplotlib, seaborn and matplotlib\n",
    "import matplotlib\n",
    "import numpy as np\n",
    "import pandas as pd\n",
    "import matplotlib.pyplot as plt\n",
    "import seaborn as sns\n",
    "sns.set_style('whitegrid')\n",
    "# define data path\n",
    "INPUT_PATH = \"../data/%s.csv\"\n",
    "# define small samples to quickly explore data\n",
    "read_rows = 300;"
   ]
  },
  {
   "cell_type": "markdown",
   "metadata": {},
   "source": [
    "# Dataset Visualization Part"
   ]
  },
  {
   "cell_type": "markdown",
   "metadata": {},
   "source": [
    "## Overview Part\n",
    "This part is to overview the first N rows of the sample to get initial feeling of the dataset"
   ]
  },
  {
   "cell_type": "code",
   "execution_count": null,
   "metadata": {
    "collapsed": false,
    "scrolled": true
   },
   "outputs": [],
   "source": [
    "# load data head for overview\n",
    "train_date_overview = pd.read_csv('../data/train_date.csv',nrows = read_rows)\n",
    "train_categorical_overview = pd.read_csv('../data/train_categorical.csv',nrows = read_rows)\n",
    "train_numeric_overview = pd.read_csv('../data/train_numeric.csv',nrows = read_rows)\n",
    "test_categorical_overview = pd.read_csv('../data/test_categorical.csv', nrows = read_rows)\n",
    "test_date_overview = pd.read_csv('../data/test_date.csv', nrows = read_rows)\n",
    "test_numeric_overview = pd.read_csv('../data/test_numeric.csv', nrows = read_rows)"
   ]
  },
  {
   "cell_type": "code",
   "execution_count": null,
   "metadata": {
    "collapsed": false
   },
   "outputs": [],
   "source": [
    "#train_numeric_overview\n",
    "#train_categorical_overview\n",
    "train_date_overview\n",
    "#test_numeric_overview\n",
    "#test_categorical_overview\n",
    "test_date_overview "
   ]
  },
  {
   "cell_type": "markdown",
   "metadata": {},
   "source": [
    "## General Feature Exploration Part\n",
    "This part is to explore the common feature"
   ]
  },
  {
   "cell_type": "code",
   "execution_count": null,
   "metadata": {
    "collapsed": true
   },
   "outputs": [],
   "source": [
    "# function to calculate failure rate\n",
    "def get_failure_rate(file_name):\n",
    "    # will calculate the error rate from data on the file based on response col\n",
    "    # Respons: 1 = Failed QC , 0 = Passed QC\n",
    "    rows = pd.read_csv(INPUT_PATH % file_name, usecols=[\"Response\"])\n",
    "    failure_rate = rows[rows.Response == 1].size / float(rows[rows.Response == 0].size)\n",
    "    return failure_rate"
   ]
  },
  {
   "cell_type": "code",
   "execution_count": null,
   "metadata": {
    "collapsed": true
   },
   "outputs": [],
   "source": [
    "# function to calculate data size in 6 dataset\n",
    "def explore_data_size():\n",
    "    # explore the size (rows, cols) of each file\n",
    "    data_files = ['train_numeric', 'train_date', 'train_categorical', 'test_numeric',\n",
    "                  'test_date', 'test_categorical']\n",
    "    stats = []\n",
    "    for file_name in data_files:\n",
    "        cols = pd.read_csv(INPUT_PATH % file_name, nrows=1)\n",
    "        rows = pd.read_csv(INPUT_PATH % file_name, usecols=[\"Id\"])\n",
    "        stats.append({'File': file_name, 'Rows': rows.shape[0], 'Columns': cols.shape[1]})\n",
    "    # convert the result into a DataFrame so we can do plotting.\n",
    "    df = pd.DataFrame(stats, columns=[\"File\", \"Rows\", \"Columns\"])\n",
    "    failure_rate = get_failure_rate('train_numeric')\n",
    "    df[\"Error\"] = 0\n",
    "    df.loc[df.File == 'train_numeric', 'Error'] = failure_rate\n",
    "    return df"
   ]
  },
  {
   "cell_type": "code",
   "execution_count": null,
   "metadata": {
    "collapsed": false
   },
   "outputs": [],
   "source": [
    "# Get data size\n",
    "explore_data_size()"
   ]
  },
  {
   "cell_type": "markdown",
   "metadata": {
    "collapsed": true
   },
   "source": [
    "## Numerical Feature Exploration Part"
   ]
  },
  {
   "cell_type": "code",
   "execution_count": null,
   "metadata": {
    "collapsed": false
   },
   "outputs": [],
   "source": [
    "def get_number_features(station_features):\n",
    "    total_features = 0\n",
    "    for key in station_features.keys():\n",
    "        total_features += len(station_features[key]) \n",
    "    return total_features\n",
    "\n",
    "def get_features(feature_list):\n",
    "    # function to group features by station or line of production the convention is:\n",
    "    # L1_S15_F232 means Line 1, Station 15, Feature 232\n",
    "    line_features = {}\n",
    "    station_features = {}\n",
    "    lines = set([item.split('_')[0] for item in feature_list])\n",
    "    stations = set([item.split('_')[1] for item in feature_list])\n",
    "\n",
    "    for l in lines:\n",
    "        line_features[l] = [item for item in feature_list if '%s_' % l in item]\n",
    "\n",
    "    for s in stations:\n",
    "        station_features[s] = [item for item in feature_list if '%s_' % s in item]\n",
    "    \n",
    "    print 'No. of lines: '+ str(len(lines))\n",
    "    print 'No. of stations: '+ str(len(stations))\n",
    "    print 'No. of features: '+ str(int(get_number_features(station_features)))\n",
    "    \n",
    "\n",
    "    return (line_features, station_features)"
   ]
  },
  {
   "cell_type": "code",
   "execution_count": null,
   "metadata": {
    "collapsed": true
   },
   "outputs": [],
   "source": [
    "def explore_features(data_set_name,is_response):\n",
    "    # how many units processed in each station\n",
    "    # also percentage of failed/passed QS in each station\n",
    "    if is_response :\n",
    "        features = pd.read_csv(INPUT_PATH % data_set_name, nrows=1).drop([\"Response\", \"Id\"], axis=1).columns.values\n",
    "    else:\n",
    "        features = pd.read_csv(INPUT_PATH % data_set_name, nrows=1).drop([\"Id\"], axis=1).columns.values\n",
    "    \n",
    "    line_features, station_features = get_features(features)\n",
    "    # create a dataframe cols: station, features_count\n",
    "    sdf = pd.DataFrame(list({int(key[1:]): len(station_features[key]) for\n",
    "                             key in station_features.keys()}.items()),\n",
    "                       columns=[\"Station\", \"FeatureCount\"])\n",
    "    ldf = pd.DataFrame(list({int(key[1:]): len(line_features[key]) for\n",
    "                             key in line_features.keys()}.items()),\n",
    "                       columns=[\"Line\", \"FeatureCount\"])\n",
    "    \n",
    "    stations_plot = sdf.plot(x=\"Station\", y=\"FeatureCount\", kind=\"bar\",\n",
    "                             title=\"Fig.1 - Features by Station\",\n",
    "                             figsize=(13,6), fontsize=12)\n",
    "    \n",
    "    line_features_plot = ldf.plot(x=\"Line\",y=\"FeatureCount\", kind=\"bar\",\n",
    "                             title=\"Fig.2 - Features by line\",\n",
    "                             figsize=(13,6), fontsize=12)\n",
    "    \n",
    "    #print 'No. of features:'+ str(int(get_number_features(station_features)))\n",
    "    \n",
    "    return line_features, station_features"
   ]
  },
  {
   "cell_type": "code",
   "execution_count": null,
   "metadata": {
    "collapsed": false,
    "scrolled": true
   },
   "outputs": [],
   "source": [
    "lf, sf = explore_features(\"train_numeric\"\"train_numeric\",True)"
   ]
  },
  {
   "cell_type": "markdown",
   "metadata": {},
   "source": [
    "This part is to see how many parts per station, how many success and failure parts per station"
   ]
  },
  {
   "cell_type": "code",
   "execution_count": null,
   "metadata": {
    "collapsed": true
   },
   "outputs": [],
   "source": [
    "def explore_product_by_station(data_set_name,read_rows):\n",
    "    # need to see how many product per station\n",
    "    # features = pd.read_csv(INPUT_PATH % data_set_name, nrows=1).drop([\"Response\", \"Id\"], axis=1).columns.values\n",
    "    # line_features, station_features = get_features(features)\n",
    "    station_features = sf\n",
    "    dwb_result = []\n",
    "    ppbs_result = []\n",
    "    rows = 0\n",
    "    # inside this loop we will try to calculate different data sets, this way we only read the\n",
    "    # files once since it takes a while and produce multiple results\n",
    "    for station in station_features:\n",
    "        station_data = pd.read_csv(\n",
    "            INPUT_PATH % data_set_name,\n",
    "            usecols=station_features[station] + ['Id', 'Response'],nrows = read_rows)\n",
    "        \n",
    "        # need to get how many rows in the sample row\n",
    "        if not rows:\n",
    "            rows = station_data.shape[0]\n",
    "        # need to store how many processed units in each station\n",
    "        # only if all features in that station has value we conside unit processed in this station\n",
    "        ppbs_result.append(\n",
    "            {'Station': int(station[1:]),\n",
    "             'Processed': station_data[station_features[station]].notnull().all(axis=1).sum()})\n",
    "        \n",
    "        # data without blanks (dwb): take all rows and drop any row that has any blank\n",
    "        # in any station column\n",
    "        dwb = station_data.dropna(how=\"any\")\n",
    "        dwb_result.append([int(station[1:]), dwb.shape[0],\n",
    "                       dwb[dwb[\"Response\"] == 1].shape[0],\n",
    "                       dwb[dwb[\"Response\"] == 0].shape[0]])\n",
    "        \n",
    "    # convert list to a dataframe and prepare for the plot\n",
    "    dwb_df = pd.DataFrame(\n",
    "        dwb_result, columns=[\"Station\", \"Count\", \"Failed\", \"Passed\"]).sort_values(by=[\"Station\"])\n",
    "    # calculate the error rate for each station\n",
    "    dwb_df[\"Error\"] = dwb_df.apply(lambda row: float(row[\"Failed\"]) / (row[\"Count\"] + 1), axis=1)\n",
    "    \n",
    "    # plot the stacked bar tot product/ station\n",
    "    my_plot = dwb_df[[\"Station\", \"Failed\", \"Passed\"]].plot(kind=\"bar\", stacked=True, x=\"Station\",\n",
    "        title=\"Fig:3 - Products by station\", figsize=(13,6), fontsize=12)\n",
    "    my_plot.set_xlabel(\"Stations\")\n",
    "    my_plot.set_ylabel(\"Record Count\")\n",
    "    \n",
    "    # plot error rate per station\n",
    "    my_plot = dwb_df[[\"Station\", \"Error\"]].plot(\n",
    "        kind=\"bar\", x=\"Station\",\n",
    "        title=\"Fig:4 - Error by station\", figsize=(13,6), fontsize=12)\n",
    "    my_plot.set_xlabel(\"Stations\")\n",
    "    my_plot.set_ylabel(\"Error %\")\n",
    "    \n",
    "    # process the ppbs result to see how many products has been process by each station.\n",
    "    ppbs_df = pd.DataFrame(\n",
    "        ppbs_result, columns=['Station', 'Processed']).sort(columns=['Station'])\n",
    "    # calculate the missed product for each station: all count - processed count\n",
    "    ppbs_df[\"Missed\"] = ppbs_df[\"Processed\"].apply(lambda x: rows - x)\n",
    "    # the plot\n",
    "    ppbs_df.plot(x=\"Station\", kind=\"bar\", stacked=True,\n",
    "            title=\"Fig: 5 - Products processed by each station\",\n",
    "            figsize=(13,6), fontsize=12)\n",
    "    \n",
    "\n"
   ]
  },
  {
   "cell_type": "code",
   "execution_count": null,
   "metadata": {
    "collapsed": false,
    "scrolled": true
   },
   "outputs": [],
   "source": [
    "explore_product_by_station(\"train_numeric\",300)"
   ]
  },
  {
   "cell_type": "markdown",
   "metadata": {
    "collapsed": true
   },
   "source": [
    "## Categorial Data Exploration Part"
   ]
  },
  {
   "cell_type": "code",
   "execution_count": null,
   "metadata": {
    "collapsed": false,
    "scrolled": true
   },
   "outputs": [],
   "source": [
    "lf, sf = explore_features(\"train_categorical\",False)"
   ]
  },
  {
   "cell_type": "code",
   "execution_count": null,
   "metadata": {
    "collapsed": false
   },
   "outputs": [],
   "source": [
    "# this function is to explore sparsity rate per row\n",
    "def explore_sparse_rate(data_set_name, read_rows):\n",
    "    train_categorical = pd.read_csv(INPUT_PATH % data_set_name,nrows = read_rows).drop([\"Id\"], axis=1)\n",
    "    sparse_rate_each_part = []\n",
    "    sparse_rate_series = train_categorical.isnull().sum(axis = 1)/train_categorical.shape[1]\n",
    "    sparse_rate_df = pd.DataFrame(\n",
    "        sparse_rate_series, columns=['sparse_rate'])\n",
    "    return sparse_rate_df"
   ]
  },
  {
   "cell_type": "code",
   "execution_count": null,
   "metadata": {
    "collapsed": false
   },
   "outputs": [],
   "source": [
    "explore_sparse_rate('train_categorical', 100)"
   ]
  },
  {
   "cell_type": "code",
   "execution_count": null,
   "metadata": {
    "collapsed": true
   },
   "outputs": [],
   "source": [
    "# This function is to get feeling of the TX value in the dataset\n",
    "def explore_dintinct_Tx_value(data_set_name, read_rows):\n",
    "    train_categorical = pd.read_csv(INPUT_PATH % 'train_categorical',nrows = read_rows)\n",
    "    del train_categorical['Id']\n",
    "    train_categorical_zeroes = train_categorical.fillna(0)\n",
    "    train_categorical_zeroes = train_categorical_zeroes.values \n",
    "    return np.unique(train_categorical_zeroes[train_categorical_zeroes!=0.0])"
   ]
  },
  {
   "cell_type": "code",
   "execution_count": null,
   "metadata": {
    "collapsed": false
   },
   "outputs": [],
   "source": [
    "explore_dintinct_Tx_value('train_categorical', 30)"
   ]
  },
  {
   "cell_type": "markdown",
   "metadata": {},
   "source": [
    "# Feature Enginnering Part"
   ]
  },
  {
   "cell_type": "markdown",
   "metadata": {
    "collapsed": true
   },
   "source": [
    "## Method 1 : Applying PCA for Dimension Reduction\n",
    "Preliminary work to search for appropriate n component\n",
    "benchmark: how many variance is explained or we maintain how much variance"
   ]
  },
  {
   "cell_type": "code",
   "execution_count": 2,
   "metadata": {
    "collapsed": false
   },
   "outputs": [],
   "source": [
    "# import additional pakage\n",
    "import math\n",
    "from sklearn.decomposition import PCA, IncrementalPCA\n",
    "from sklearn import preprocessing\n",
    "# define chunksize how many rows load one time\n",
    "chunksize  = 50000"
   ]
  },
  {
   "cell_type": "code",
   "execution_count": 3,
   "metadata": {
    "collapsed": false
   },
   "outputs": [],
   "source": [
    "# Getting the column headers from first rows\n",
    "# Reading as float32 to save Memory \n",
    "data = pd.read_csv(INPUT_PATH % 'train_numeric',nrows=1)\n",
    "float_cols = [c for c in data]\n",
    "float32_cols = {c: np.float32 for c in float_cols}"
   ]
  },
  {
   "cell_type": "code",
   "execution_count": 4,
   "metadata": {
    "collapsed": false
   },
   "outputs": [],
   "source": [
    "# define the number of pc for preliminary decomposition\n",
    "n_components = 968\n",
    "predictors = [x for x in data.keys() if (x != 'Response' and x != 'Id')]"
   ]
  },
  {
   "cell_type": "code",
   "execution_count": 5,
   "metadata": {
    "collapsed": true
   },
   "outputs": [],
   "source": [
    "def standard_feature_scaling(df):\n",
    "    std_scale = preprocessing.StandardScaler().fit(df)\n",
    "    df_std = pd.DataFrame(std_scale.transform(df))\n",
    "    df_std.columns = df.columns\n",
    "    df_std.index = df.index\n",
    "    return df_std"
   ]
  },
  {
   "cell_type": "code",
   "execution_count": 6,
   "metadata": {
    "collapsed": false
   },
   "outputs": [],
   "source": [
    "def mean_imputer(DF):\n",
    "    fill_NaN = preprocessing.Imputer(missing_values=np.nan, strategy='mean')\n",
    "    imputed_DF = pd.DataFrame(fill_NaN.fit_transform(DF))\n",
    "    imputed_DF.columns = DF.columns\n",
    "    imputed_DF.index = DF.index\n",
    "    return imputed_DF"
   ]
  },
  {
   "cell_type": "code",
   "execution_count": null,
   "metadata": {
    "collapsed": false,
    "scrolled": true
   },
   "outputs": [],
   "source": [
    "ipca = IncrementalPCA(n_components=968)\n",
    "# Due to the large dataset read data seperately in chunks and perform IncrementalPCA \n",
    "counter = 0\n",
    "for chunk in pd.read_csv(INPUT_PATH % 'train_numeric', chunksize=chunksize,dtype=float32_cols):\n",
    "    counter += chunksize\n",
    "    print ('processed',counter,'samples')\n",
    "# To do: what value to fill NA \n",
    "    imputed_chunk = chunk[predictors].fillna(0.09)\n",
    "    #imputed_chunk = mean_imputer(chunk[predictors])\n",
    "    scailed_chunk = standard_feature_scaling(imputed_chunk)\n",
    "#    chunk  = scailed_chunk.fillna(0)\n",
    "    ipca.partial_fit(scailed_chunk)\n",
    "print ('Number of Samples Seen:',ipca.n_samples_seen_ )\n"
   ]
  },
  {
   "cell_type": "code",
   "execution_count": 8,
   "metadata": {
    "collapsed": false
   },
   "outputs": [],
   "source": [
    "def get_explained_variance(pca_components):\n",
    "    #print ('Explained variance by %d PCs:' %pca_components, np.sum(ipca.explained_variance_ratio_[:pca_components]))\n",
    "    return np.sum(ipca.explained_variance_ratio_[:pca_components])"
   ]
  },
  {
   "cell_type": "code",
   "execution_count": null,
   "metadata": {
    "collapsed": false,
    "scrolled": true
   },
   "outputs": [],
   "source": [
    "# plot how many variance is explained based on how many n_components\n",
    "n_components_value = range(968)\n",
    "n_components_explained_variance = [get_explained_variance(x) for x in n_components_value]\n",
    "explained_variance_pd = pd.DataFrame(n_components_explained_variance, columns=['explained_variance_rate'])\n",
    "my_plot = explained_variance_pd.plot(title=\"explained_variance_rate\", figsize=(10,6), fontsize=12)\n",
    "my_plot.set_ylabel(\"Explained Variance Rate\")\n",
    "my_plot.set_xlabel(\"Number of Component\")\n",
    "n_components_explained_variance"
   ]
  },
  {
   "cell_type": "code",
   "execution_count": null,
   "metadata": {
    "collapsed": false,
    "scrolled": true
   },
   "outputs": [],
   "source": [
    "# Make Train DataFrame only with n PC \n",
    "PC_n = ['f'+str(x) for x in range(0,n_components)]\n",
    "date_final = pd.DataFrame(columns=PC_n)\n",
    "for cat in pd.read_csv(INPUT_PATH % 'train_numeric', chunksize=chunksize,dtype=float32_cols):\n",
    "        cat  = cat.fillna(999)\n",
    "        y=ipca.transform(cat[predictors])\n",
    "        temp = cat['Id'].to_frame()\n",
    "        for i in PC_n:\n",
    "            temp[i]=0\n",
    "        temp[PC_n]=y\n",
    "        date_final = date_final.merge(temp, how='outer')\n",
    "print (date_final)\n",
    "date_final['Id'] = date_final['Id'].astype(np.int32)\n",
    "# save new dataset to CSV file \n",
    "train_filename = 'train_numeric_SVD_%s.csv' % n_components\n",
    "#date_final.to_csv(INPUT_PATH % train_filename,index=0)"
   ]
  },
  {
   "cell_type": "code",
   "execution_count": null,
   "metadata": {
    "collapsed": true
   },
   "outputs": [],
   "source": [
    "# Make Test DataFrame only with n PC \n",
    "PC_n = ['f'+str(x) for x in range(0,n_components)]\n",
    "date_final = pd.DataFrame(columns=PC_n)\n",
    "for cat in pd.read_csv('../input/test_numeric.csv', chunksize=chunksize,dtype=float32_cols):\n",
    "        cat  = cat.fillna(999)\n",
    "        y=ipca.transform(cat[predictors])\n",
    "        temp = cat['Id'].to_frame()\n",
    "        for i in PC_n:\n",
    "            temp[i]=0\n",
    "        temp[PC_n]=y\n",
    "        date_final = date_final.merge(temp, how='outer')\n",
    "date_final['Id'] = date_final['Id'].astype(np.int32)\n",
    "test_filename = 'test_numeric_SVD_%s.csv' % n_components\n",
    "# Save dataset to CSV file\n",
    "#date_final.to_csv(INPUT_PATH % test_filename,index=0)"
   ]
  },
  {
   "cell_type": "markdown",
   "metadata": {},
   "source": [
    "## Method 2 : XGBoost to select important features"
   ]
  },
  {
   "cell_type": "code",
   "execution_count": 22,
   "metadata": {
    "collapsed": true
   },
   "outputs": [],
   "source": [
    "# import additional package\n",
    "from xgboost import XGBClassifier\n",
    "import xgboost as xgb\n",
    "from sklearn.metrics import matthews_corrcoef, roc_auc_score\n",
    "from sklearn.cross_validation import cross_val_score, StratifiedKFold"
   ]
  },
  {
   "cell_type": "code",
   "execution_count": 4,
   "metadata": {
    "collapsed": false
   },
   "outputs": [],
   "source": [
    "# Sample the data in a roundabout way to get 5 percent sample\n",
    "date_chunks = pd.read_csv(\"../data/train_date.csv\", index_col=0, chunksize=10000, dtype=np.float32)\n",
    "num_chunks = pd.read_csv(\"../data/train_numeric.csv\", index_col=0,\n",
    "                         usecols=list(range(969)), chunksize=10000, dtype=np.float32)\n",
    "df_train = pd.concat([pd.concat([dchunk, nchunk], axis=1).sample(frac=0.05)\n",
    "               for dchunk, nchunk in zip(date_chunks, num_chunks)])\n",
    "y_sample = pd.read_csv(\"../data/train_numeric.csv\", index_col=0, usecols=[0,969], dtype=np.float32).loc[df_train.index].values.ravel()\n",
    "x_sample = df_train.values"
   ]
  },
  {
   "cell_type": "code",
   "execution_count": 5,
   "metadata": {
    "collapsed": false
   },
   "outputs": [
    {
     "data": {
      "text/plain": [
       "XGBClassifier(base_score=0.005, colsample_bylevel=1, colsample_bytree=1,\n",
       "       gamma=0, learning_rate=0.1, max_delta_step=0, max_depth=3,\n",
       "       min_child_weight=1, missing=None, n_estimators=100, nthread=-1,\n",
       "       objective='binary:logistic', reg_alpha=0, reg_lambda=1,\n",
       "       scale_pos_weight=1, seed=0, silent=True, subsample=1)"
      ]
     },
     "execution_count": 5,
     "metadata": {},
     "output_type": "execute_result"
    }
   ],
   "source": [
    "#TODO fit y ravel or not?\n",
    "clf = XGBClassifier(base_score=0.005)\n",
    "clf.fit(x_sample, y_sample)"
   ]
  },
  {
   "cell_type": "code",
   "execution_count": 6,
   "metadata": {
    "collapsed": false
   },
   "outputs": [
    {
     "data": {
      "application/javascript": [
       "/* Put everything inside the global mpl namespace */\n",
       "window.mpl = {};\n",
       "\n",
       "mpl.get_websocket_type = function() {\n",
       "    if (typeof(WebSocket) !== 'undefined') {\n",
       "        return WebSocket;\n",
       "    } else if (typeof(MozWebSocket) !== 'undefined') {\n",
       "        return MozWebSocket;\n",
       "    } else {\n",
       "        alert('Your browser does not have WebSocket support.' +\n",
       "              'Please try Chrome, Safari or Firefox ≥ 6. ' +\n",
       "              'Firefox 4 and 5 are also supported but you ' +\n",
       "              'have to enable WebSockets in about:config.');\n",
       "    };\n",
       "}\n",
       "\n",
       "mpl.figure = function(figure_id, websocket, ondownload, parent_element) {\n",
       "    this.id = figure_id;\n",
       "\n",
       "    this.ws = websocket;\n",
       "\n",
       "    this.supports_binary = (this.ws.binaryType != undefined);\n",
       "\n",
       "    if (!this.supports_binary) {\n",
       "        var warnings = document.getElementById(\"mpl-warnings\");\n",
       "        if (warnings) {\n",
       "            warnings.style.display = 'block';\n",
       "            warnings.textContent = (\n",
       "                \"This browser does not support binary websocket messages. \" +\n",
       "                    \"Performance may be slow.\");\n",
       "        }\n",
       "    }\n",
       "\n",
       "    this.imageObj = new Image();\n",
       "\n",
       "    this.context = undefined;\n",
       "    this.message = undefined;\n",
       "    this.canvas = undefined;\n",
       "    this.rubberband_canvas = undefined;\n",
       "    this.rubberband_context = undefined;\n",
       "    this.format_dropdown = undefined;\n",
       "\n",
       "    this.image_mode = 'full';\n",
       "\n",
       "    this.root = $('<div/>');\n",
       "    this._root_extra_style(this.root)\n",
       "    this.root.attr('style', 'display: inline-block');\n",
       "\n",
       "    $(parent_element).append(this.root);\n",
       "\n",
       "    this._init_header(this);\n",
       "    this._init_canvas(this);\n",
       "    this._init_toolbar(this);\n",
       "\n",
       "    var fig = this;\n",
       "\n",
       "    this.waiting = false;\n",
       "\n",
       "    this.ws.onopen =  function () {\n",
       "            fig.send_message(\"supports_binary\", {value: fig.supports_binary});\n",
       "            fig.send_message(\"send_image_mode\", {});\n",
       "            fig.send_message(\"refresh\", {});\n",
       "        }\n",
       "\n",
       "    this.imageObj.onload = function() {\n",
       "            if (fig.image_mode == 'full') {\n",
       "                // Full images could contain transparency (where diff images\n",
       "                // almost always do), so we need to clear the canvas so that\n",
       "                // there is no ghosting.\n",
       "                fig.context.clearRect(0, 0, fig.canvas.width, fig.canvas.height);\n",
       "            }\n",
       "            fig.context.drawImage(fig.imageObj, 0, 0);\n",
       "        };\n",
       "\n",
       "    this.imageObj.onunload = function() {\n",
       "        this.ws.close();\n",
       "    }\n",
       "\n",
       "    this.ws.onmessage = this._make_on_message_function(this);\n",
       "\n",
       "    this.ondownload = ondownload;\n",
       "}\n",
       "\n",
       "mpl.figure.prototype._init_header = function() {\n",
       "    var titlebar = $(\n",
       "        '<div class=\"ui-dialog-titlebar ui-widget-header ui-corner-all ' +\n",
       "        'ui-helper-clearfix\"/>');\n",
       "    var titletext = $(\n",
       "        '<div class=\"ui-dialog-title\" style=\"width: 100%; ' +\n",
       "        'text-align: center; padding: 3px;\"/>');\n",
       "    titlebar.append(titletext)\n",
       "    this.root.append(titlebar);\n",
       "    this.header = titletext[0];\n",
       "}\n",
       "\n",
       "\n",
       "\n",
       "mpl.figure.prototype._canvas_extra_style = function(canvas_div) {\n",
       "\n",
       "}\n",
       "\n",
       "\n",
       "mpl.figure.prototype._root_extra_style = function(canvas_div) {\n",
       "\n",
       "}\n",
       "\n",
       "mpl.figure.prototype._init_canvas = function() {\n",
       "    var fig = this;\n",
       "\n",
       "    var canvas_div = $('<div/>');\n",
       "\n",
       "    canvas_div.attr('style', 'position: relative; clear: both; outline: 0');\n",
       "\n",
       "    function canvas_keyboard_event(event) {\n",
       "        return fig.key_event(event, event['data']);\n",
       "    }\n",
       "\n",
       "    canvas_div.keydown('key_press', canvas_keyboard_event);\n",
       "    canvas_div.keyup('key_release', canvas_keyboard_event);\n",
       "    this.canvas_div = canvas_div\n",
       "    this._canvas_extra_style(canvas_div)\n",
       "    this.root.append(canvas_div);\n",
       "\n",
       "    var canvas = $('<canvas/>');\n",
       "    canvas.addClass('mpl-canvas');\n",
       "    canvas.attr('style', \"left: 0; top: 0; z-index: 0; outline: 0\")\n",
       "\n",
       "    this.canvas = canvas[0];\n",
       "    this.context = canvas[0].getContext(\"2d\");\n",
       "\n",
       "    var rubberband = $('<canvas/>');\n",
       "    rubberband.attr('style', \"position: absolute; left: 0; top: 0; z-index: 1;\")\n",
       "\n",
       "    var pass_mouse_events = true;\n",
       "\n",
       "    canvas_div.resizable({\n",
       "        start: function(event, ui) {\n",
       "            pass_mouse_events = false;\n",
       "        },\n",
       "        resize: function(event, ui) {\n",
       "            fig.request_resize(ui.size.width, ui.size.height);\n",
       "        },\n",
       "        stop: function(event, ui) {\n",
       "            pass_mouse_events = true;\n",
       "            fig.request_resize(ui.size.width, ui.size.height);\n",
       "        },\n",
       "    });\n",
       "\n",
       "    function mouse_event_fn(event) {\n",
       "        if (pass_mouse_events)\n",
       "            return fig.mouse_event(event, event['data']);\n",
       "    }\n",
       "\n",
       "    rubberband.mousedown('button_press', mouse_event_fn);\n",
       "    rubberband.mouseup('button_release', mouse_event_fn);\n",
       "    // Throttle sequential mouse events to 1 every 20ms.\n",
       "    rubberband.mousemove('motion_notify', mouse_event_fn);\n",
       "\n",
       "    rubberband.mouseenter('figure_enter', mouse_event_fn);\n",
       "    rubberband.mouseleave('figure_leave', mouse_event_fn);\n",
       "\n",
       "    canvas_div.on(\"wheel\", function (event) {\n",
       "        event = event.originalEvent;\n",
       "        event['data'] = 'scroll'\n",
       "        if (event.deltaY < 0) {\n",
       "            event.step = 1;\n",
       "        } else {\n",
       "            event.step = -1;\n",
       "        }\n",
       "        mouse_event_fn(event);\n",
       "    });\n",
       "\n",
       "    canvas_div.append(canvas);\n",
       "    canvas_div.append(rubberband);\n",
       "\n",
       "    this.rubberband = rubberband;\n",
       "    this.rubberband_canvas = rubberband[0];\n",
       "    this.rubberband_context = rubberband[0].getContext(\"2d\");\n",
       "    this.rubberband_context.strokeStyle = \"#000000\";\n",
       "\n",
       "    this._resize_canvas = function(width, height) {\n",
       "        // Keep the size of the canvas, canvas container, and rubber band\n",
       "        // canvas in synch.\n",
       "        canvas_div.css('width', width)\n",
       "        canvas_div.css('height', height)\n",
       "\n",
       "        canvas.attr('width', width);\n",
       "        canvas.attr('height', height);\n",
       "\n",
       "        rubberband.attr('width', width);\n",
       "        rubberband.attr('height', height);\n",
       "    }\n",
       "\n",
       "    // Set the figure to an initial 600x600px, this will subsequently be updated\n",
       "    // upon first draw.\n",
       "    this._resize_canvas(600, 600);\n",
       "\n",
       "    // Disable right mouse context menu.\n",
       "    $(this.rubberband_canvas).bind(\"contextmenu\",function(e){\n",
       "        return false;\n",
       "    });\n",
       "\n",
       "    function set_focus () {\n",
       "        canvas.focus();\n",
       "        canvas_div.focus();\n",
       "    }\n",
       "\n",
       "    window.setTimeout(set_focus, 100);\n",
       "}\n",
       "\n",
       "mpl.figure.prototype._init_toolbar = function() {\n",
       "    var fig = this;\n",
       "\n",
       "    var nav_element = $('<div/>')\n",
       "    nav_element.attr('style', 'width: 100%');\n",
       "    this.root.append(nav_element);\n",
       "\n",
       "    // Define a callback function for later on.\n",
       "    function toolbar_event(event) {\n",
       "        return fig.toolbar_button_onclick(event['data']);\n",
       "    }\n",
       "    function toolbar_mouse_event(event) {\n",
       "        return fig.toolbar_button_onmouseover(event['data']);\n",
       "    }\n",
       "\n",
       "    for(var toolbar_ind in mpl.toolbar_items) {\n",
       "        var name = mpl.toolbar_items[toolbar_ind][0];\n",
       "        var tooltip = mpl.toolbar_items[toolbar_ind][1];\n",
       "        var image = mpl.toolbar_items[toolbar_ind][2];\n",
       "        var method_name = mpl.toolbar_items[toolbar_ind][3];\n",
       "\n",
       "        if (!name) {\n",
       "            // put a spacer in here.\n",
       "            continue;\n",
       "        }\n",
       "        var button = $('<button/>');\n",
       "        button.addClass('ui-button ui-widget ui-state-default ui-corner-all ' +\n",
       "                        'ui-button-icon-only');\n",
       "        button.attr('role', 'button');\n",
       "        button.attr('aria-disabled', 'false');\n",
       "        button.click(method_name, toolbar_event);\n",
       "        button.mouseover(tooltip, toolbar_mouse_event);\n",
       "\n",
       "        var icon_img = $('<span/>');\n",
       "        icon_img.addClass('ui-button-icon-primary ui-icon');\n",
       "        icon_img.addClass(image);\n",
       "        icon_img.addClass('ui-corner-all');\n",
       "\n",
       "        var tooltip_span = $('<span/>');\n",
       "        tooltip_span.addClass('ui-button-text');\n",
       "        tooltip_span.html(tooltip);\n",
       "\n",
       "        button.append(icon_img);\n",
       "        button.append(tooltip_span);\n",
       "\n",
       "        nav_element.append(button);\n",
       "    }\n",
       "\n",
       "    var fmt_picker_span = $('<span/>');\n",
       "\n",
       "    var fmt_picker = $('<select/>');\n",
       "    fmt_picker.addClass('mpl-toolbar-option ui-widget ui-widget-content');\n",
       "    fmt_picker_span.append(fmt_picker);\n",
       "    nav_element.append(fmt_picker_span);\n",
       "    this.format_dropdown = fmt_picker[0];\n",
       "\n",
       "    for (var ind in mpl.extensions) {\n",
       "        var fmt = mpl.extensions[ind];\n",
       "        var option = $(\n",
       "            '<option/>', {selected: fmt === mpl.default_extension}).html(fmt);\n",
       "        fmt_picker.append(option)\n",
       "    }\n",
       "\n",
       "    // Add hover states to the ui-buttons\n",
       "    $( \".ui-button\" ).hover(\n",
       "        function() { $(this).addClass(\"ui-state-hover\");},\n",
       "        function() { $(this).removeClass(\"ui-state-hover\");}\n",
       "    );\n",
       "\n",
       "    var status_bar = $('<span class=\"mpl-message\"/>');\n",
       "    nav_element.append(status_bar);\n",
       "    this.message = status_bar[0];\n",
       "}\n",
       "\n",
       "mpl.figure.prototype.request_resize = function(x_pixels, y_pixels) {\n",
       "    // Request matplotlib to resize the figure. Matplotlib will then trigger a resize in the client,\n",
       "    // which will in turn request a refresh of the image.\n",
       "    this.send_message('resize', {'width': x_pixels, 'height': y_pixels});\n",
       "}\n",
       "\n",
       "mpl.figure.prototype.send_message = function(type, properties) {\n",
       "    properties['type'] = type;\n",
       "    properties['figure_id'] = this.id;\n",
       "    this.ws.send(JSON.stringify(properties));\n",
       "}\n",
       "\n",
       "mpl.figure.prototype.send_draw_message = function() {\n",
       "    if (!this.waiting) {\n",
       "        this.waiting = true;\n",
       "        this.ws.send(JSON.stringify({type: \"draw\", figure_id: this.id}));\n",
       "    }\n",
       "}\n",
       "\n",
       "\n",
       "mpl.figure.prototype.handle_save = function(fig, msg) {\n",
       "    var format_dropdown = fig.format_dropdown;\n",
       "    var format = format_dropdown.options[format_dropdown.selectedIndex].value;\n",
       "    fig.ondownload(fig, format);\n",
       "}\n",
       "\n",
       "\n",
       "mpl.figure.prototype.handle_resize = function(fig, msg) {\n",
       "    var size = msg['size'];\n",
       "    if (size[0] != fig.canvas.width || size[1] != fig.canvas.height) {\n",
       "        fig._resize_canvas(size[0], size[1]);\n",
       "        fig.send_message(\"refresh\", {});\n",
       "    };\n",
       "}\n",
       "\n",
       "mpl.figure.prototype.handle_rubberband = function(fig, msg) {\n",
       "    var x0 = msg['x0'];\n",
       "    var y0 = fig.canvas.height - msg['y0'];\n",
       "    var x1 = msg['x1'];\n",
       "    var y1 = fig.canvas.height - msg['y1'];\n",
       "    x0 = Math.floor(x0) + 0.5;\n",
       "    y0 = Math.floor(y0) + 0.5;\n",
       "    x1 = Math.floor(x1) + 0.5;\n",
       "    y1 = Math.floor(y1) + 0.5;\n",
       "    var min_x = Math.min(x0, x1);\n",
       "    var min_y = Math.min(y0, y1);\n",
       "    var width = Math.abs(x1 - x0);\n",
       "    var height = Math.abs(y1 - y0);\n",
       "\n",
       "    fig.rubberband_context.clearRect(\n",
       "        0, 0, fig.canvas.width, fig.canvas.height);\n",
       "\n",
       "    fig.rubberband_context.strokeRect(min_x, min_y, width, height);\n",
       "}\n",
       "\n",
       "mpl.figure.prototype.handle_figure_label = function(fig, msg) {\n",
       "    // Updates the figure title.\n",
       "    fig.header.textContent = msg['label'];\n",
       "}\n",
       "\n",
       "mpl.figure.prototype.handle_cursor = function(fig, msg) {\n",
       "    var cursor = msg['cursor'];\n",
       "    switch(cursor)\n",
       "    {\n",
       "    case 0:\n",
       "        cursor = 'pointer';\n",
       "        break;\n",
       "    case 1:\n",
       "        cursor = 'default';\n",
       "        break;\n",
       "    case 2:\n",
       "        cursor = 'crosshair';\n",
       "        break;\n",
       "    case 3:\n",
       "        cursor = 'move';\n",
       "        break;\n",
       "    }\n",
       "    fig.rubberband_canvas.style.cursor = cursor;\n",
       "}\n",
       "\n",
       "mpl.figure.prototype.handle_message = function(fig, msg) {\n",
       "    fig.message.textContent = msg['message'];\n",
       "}\n",
       "\n",
       "mpl.figure.prototype.handle_draw = function(fig, msg) {\n",
       "    // Request the server to send over a new figure.\n",
       "    fig.send_draw_message();\n",
       "}\n",
       "\n",
       "mpl.figure.prototype.handle_image_mode = function(fig, msg) {\n",
       "    fig.image_mode = msg['mode'];\n",
       "}\n",
       "\n",
       "mpl.figure.prototype.updated_canvas_event = function() {\n",
       "    // Called whenever the canvas gets updated.\n",
       "    this.send_message(\"ack\", {});\n",
       "}\n",
       "\n",
       "// A function to construct a web socket function for onmessage handling.\n",
       "// Called in the figure constructor.\n",
       "mpl.figure.prototype._make_on_message_function = function(fig) {\n",
       "    return function socket_on_message(evt) {\n",
       "        if (evt.data instanceof Blob) {\n",
       "            /* FIXME: We get \"Resource interpreted as Image but\n",
       "             * transferred with MIME type text/plain:\" errors on\n",
       "             * Chrome.  But how to set the MIME type?  It doesn't seem\n",
       "             * to be part of the websocket stream */\n",
       "            evt.data.type = \"image/png\";\n",
       "\n",
       "            /* Free the memory for the previous frames */\n",
       "            if (fig.imageObj.src) {\n",
       "                (window.URL || window.webkitURL).revokeObjectURL(\n",
       "                    fig.imageObj.src);\n",
       "            }\n",
       "\n",
       "            fig.imageObj.src = (window.URL || window.webkitURL).createObjectURL(\n",
       "                evt.data);\n",
       "            fig.updated_canvas_event();\n",
       "            fig.waiting = false;\n",
       "            return;\n",
       "        }\n",
       "        else if (typeof evt.data === 'string' && evt.data.slice(0, 21) == \"data:image/png;base64\") {\n",
       "            fig.imageObj.src = evt.data;\n",
       "            fig.updated_canvas_event();\n",
       "            fig.waiting = false;\n",
       "            return;\n",
       "        }\n",
       "\n",
       "        var msg = JSON.parse(evt.data);\n",
       "        var msg_type = msg['type'];\n",
       "\n",
       "        // Call the  \"handle_{type}\" callback, which takes\n",
       "        // the figure and JSON message as its only arguments.\n",
       "        try {\n",
       "            var callback = fig[\"handle_\" + msg_type];\n",
       "        } catch (e) {\n",
       "            console.log(\"No handler for the '\" + msg_type + \"' message type: \", msg);\n",
       "            return;\n",
       "        }\n",
       "\n",
       "        if (callback) {\n",
       "            try {\n",
       "                // console.log(\"Handling '\" + msg_type + \"' message: \", msg);\n",
       "                callback(fig, msg);\n",
       "            } catch (e) {\n",
       "                console.log(\"Exception inside the 'handler_\" + msg_type + \"' callback:\", e, e.stack, msg);\n",
       "            }\n",
       "        }\n",
       "    };\n",
       "}\n",
       "\n",
       "// from http://stackoverflow.com/questions/1114465/getting-mouse-location-in-canvas\n",
       "mpl.findpos = function(e) {\n",
       "    //this section is from http://www.quirksmode.org/js/events_properties.html\n",
       "    var targ;\n",
       "    if (!e)\n",
       "        e = window.event;\n",
       "    if (e.target)\n",
       "        targ = e.target;\n",
       "    else if (e.srcElement)\n",
       "        targ = e.srcElement;\n",
       "    if (targ.nodeType == 3) // defeat Safari bug\n",
       "        targ = targ.parentNode;\n",
       "\n",
       "    // jQuery normalizes the pageX and pageY\n",
       "    // pageX,Y are the mouse positions relative to the document\n",
       "    // offset() returns the position of the element relative to the document\n",
       "    var x = e.pageX - $(targ).offset().left;\n",
       "    var y = e.pageY - $(targ).offset().top;\n",
       "\n",
       "    return {\"x\": x, \"y\": y};\n",
       "};\n",
       "\n",
       "/*\n",
       " * return a copy of an object with only non-object keys\n",
       " * we need this to avoid circular references\n",
       " * http://stackoverflow.com/a/24161582/3208463\n",
       " */\n",
       "function simpleKeys (original) {\n",
       "  return Object.keys(original).reduce(function (obj, key) {\n",
       "    if (typeof original[key] !== 'object')\n",
       "        obj[key] = original[key]\n",
       "    return obj;\n",
       "  }, {});\n",
       "}\n",
       "\n",
       "mpl.figure.prototype.mouse_event = function(event, name) {\n",
       "    var canvas_pos = mpl.findpos(event)\n",
       "\n",
       "    if (name === 'button_press')\n",
       "    {\n",
       "        this.canvas.focus();\n",
       "        this.canvas_div.focus();\n",
       "    }\n",
       "\n",
       "    var x = canvas_pos.x;\n",
       "    var y = canvas_pos.y;\n",
       "\n",
       "    this.send_message(name, {x: x, y: y, button: event.button,\n",
       "                             step: event.step,\n",
       "                             guiEvent: simpleKeys(event)});\n",
       "\n",
       "    /* This prevents the web browser from automatically changing to\n",
       "     * the text insertion cursor when the button is pressed.  We want\n",
       "     * to control all of the cursor setting manually through the\n",
       "     * 'cursor' event from matplotlib */\n",
       "    event.preventDefault();\n",
       "    return false;\n",
       "}\n",
       "\n",
       "mpl.figure.prototype._key_event_extra = function(event, name) {\n",
       "    // Handle any extra behaviour associated with a key event\n",
       "}\n",
       "\n",
       "mpl.figure.prototype.key_event = function(event, name) {\n",
       "\n",
       "    // Prevent repeat events\n",
       "    if (name == 'key_press')\n",
       "    {\n",
       "        if (event.which === this._key)\n",
       "            return;\n",
       "        else\n",
       "            this._key = event.which;\n",
       "    }\n",
       "    if (name == 'key_release')\n",
       "        this._key = null;\n",
       "\n",
       "    var value = '';\n",
       "    if (event.ctrlKey && event.which != 17)\n",
       "        value += \"ctrl+\";\n",
       "    if (event.altKey && event.which != 18)\n",
       "        value += \"alt+\";\n",
       "    if (event.shiftKey && event.which != 16)\n",
       "        value += \"shift+\";\n",
       "\n",
       "    value += 'k';\n",
       "    value += event.which.toString();\n",
       "\n",
       "    this._key_event_extra(event, name);\n",
       "\n",
       "    this.send_message(name, {key: value,\n",
       "                             guiEvent: simpleKeys(event)});\n",
       "    return false;\n",
       "}\n",
       "\n",
       "mpl.figure.prototype.toolbar_button_onclick = function(name) {\n",
       "    if (name == 'download') {\n",
       "        this.handle_save(this, null);\n",
       "    } else {\n",
       "        this.send_message(\"toolbar_button\", {name: name});\n",
       "    }\n",
       "};\n",
       "\n",
       "mpl.figure.prototype.toolbar_button_onmouseover = function(tooltip) {\n",
       "    this.message.textContent = tooltip;\n",
       "};\n",
       "mpl.toolbar_items = [[\"Home\", \"Reset original view\", \"fa fa-home icon-home\", \"home\"], [\"Back\", \"Back to  previous view\", \"fa fa-arrow-left icon-arrow-left\", \"back\"], [\"Forward\", \"Forward to next view\", \"fa fa-arrow-right icon-arrow-right\", \"forward\"], [\"\", \"\", \"\", \"\"], [\"Pan\", \"Pan axes with left mouse, zoom with right\", \"fa fa-arrows icon-move\", \"pan\"], [\"Zoom\", \"Zoom to rectangle\", \"fa fa-square-o icon-check-empty\", \"zoom\"], [\"\", \"\", \"\", \"\"], [\"Download\", \"Download plot\", \"fa fa-floppy-o icon-save\", \"download\"]];\n",
       "\n",
       "mpl.extensions = [\"eps\", \"jpeg\", \"pdf\", \"png\", \"ps\", \"raw\", \"svg\", \"tif\"];\n",
       "\n",
       "mpl.default_extension = \"png\";var comm_websocket_adapter = function(comm) {\n",
       "    // Create a \"websocket\"-like object which calls the given IPython comm\n",
       "    // object with the appropriate methods. Currently this is a non binary\n",
       "    // socket, so there is still some room for performance tuning.\n",
       "    var ws = {};\n",
       "\n",
       "    ws.close = function() {\n",
       "        comm.close()\n",
       "    };\n",
       "    ws.send = function(m) {\n",
       "        //console.log('sending', m);\n",
       "        comm.send(m);\n",
       "    };\n",
       "    // Register the callback with on_msg.\n",
       "    comm.on_msg(function(msg) {\n",
       "        //console.log('receiving', msg['content']['data'], msg);\n",
       "        // Pass the mpl event to the overriden (by mpl) onmessage function.\n",
       "        ws.onmessage(msg['content']['data'])\n",
       "    });\n",
       "    return ws;\n",
       "}\n",
       "\n",
       "mpl.mpl_figure_comm = function(comm, msg) {\n",
       "    // This is the function which gets called when the mpl process\n",
       "    // starts-up an IPython Comm through the \"matplotlib\" channel.\n",
       "\n",
       "    var id = msg.content.data.id;\n",
       "    // Get hold of the div created by the display call when the Comm\n",
       "    // socket was opened in Python.\n",
       "    var element = $(\"#\" + id);\n",
       "    var ws_proxy = comm_websocket_adapter(comm)\n",
       "\n",
       "    function ondownload(figure, format) {\n",
       "        window.open(figure.imageObj.src);\n",
       "    }\n",
       "\n",
       "    var fig = new mpl.figure(id, ws_proxy,\n",
       "                           ondownload,\n",
       "                           element.get(0));\n",
       "\n",
       "    // Call onopen now - mpl needs it, as it is assuming we've passed it a real\n",
       "    // web socket which is closed, not our websocket->open comm proxy.\n",
       "    ws_proxy.onopen();\n",
       "\n",
       "    fig.parent_element = element.get(0);\n",
       "    fig.cell_info = mpl.find_output_cell(\"<div id='\" + id + \"'></div>\");\n",
       "    if (!fig.cell_info) {\n",
       "        console.error(\"Failed to find cell for figure\", id, fig);\n",
       "        return;\n",
       "    }\n",
       "\n",
       "    var output_index = fig.cell_info[2]\n",
       "    var cell = fig.cell_info[0];\n",
       "\n",
       "};\n",
       "\n",
       "mpl.figure.prototype.handle_close = function(fig, msg) {\n",
       "    fig.root.unbind('remove')\n",
       "\n",
       "    // Update the output cell to use the data from the current canvas.\n",
       "    fig.push_to_output();\n",
       "    var dataURL = fig.canvas.toDataURL();\n",
       "    // Re-enable the keyboard manager in IPython - without this line, in FF,\n",
       "    // the notebook keyboard shortcuts fail.\n",
       "    IPython.keyboard_manager.enable()\n",
       "    $(fig.parent_element).html('<img src=\"' + dataURL + '\">');\n",
       "    fig.close_ws(fig, msg);\n",
       "}\n",
       "\n",
       "mpl.figure.prototype.close_ws = function(fig, msg){\n",
       "    fig.send_message('closing', msg);\n",
       "    // fig.ws.close()\n",
       "}\n",
       "\n",
       "mpl.figure.prototype.push_to_output = function(remove_interactive) {\n",
       "    // Turn the data on the canvas into data in the output cell.\n",
       "    var dataURL = this.canvas.toDataURL();\n",
       "    this.cell_info[1]['text/html'] = '<img src=\"' + dataURL + '\">';\n",
       "}\n",
       "\n",
       "mpl.figure.prototype.updated_canvas_event = function() {\n",
       "    // Tell IPython that the notebook contents must change.\n",
       "    IPython.notebook.set_dirty(true);\n",
       "    this.send_message(\"ack\", {});\n",
       "    var fig = this;\n",
       "    // Wait a second, then push the new image to the DOM so\n",
       "    // that it is saved nicely (might be nice to debounce this).\n",
       "    setTimeout(function () { fig.push_to_output() }, 1000);\n",
       "}\n",
       "\n",
       "mpl.figure.prototype._init_toolbar = function() {\n",
       "    var fig = this;\n",
       "\n",
       "    var nav_element = $('<div/>')\n",
       "    nav_element.attr('style', 'width: 100%');\n",
       "    this.root.append(nav_element);\n",
       "\n",
       "    // Define a callback function for later on.\n",
       "    function toolbar_event(event) {\n",
       "        return fig.toolbar_button_onclick(event['data']);\n",
       "    }\n",
       "    function toolbar_mouse_event(event) {\n",
       "        return fig.toolbar_button_onmouseover(event['data']);\n",
       "    }\n",
       "\n",
       "    for(var toolbar_ind in mpl.toolbar_items){\n",
       "        var name = mpl.toolbar_items[toolbar_ind][0];\n",
       "        var tooltip = mpl.toolbar_items[toolbar_ind][1];\n",
       "        var image = mpl.toolbar_items[toolbar_ind][2];\n",
       "        var method_name = mpl.toolbar_items[toolbar_ind][3];\n",
       "\n",
       "        if (!name) { continue; };\n",
       "\n",
       "        var button = $('<button class=\"btn btn-default\" href=\"#\" title=\"' + name + '\"><i class=\"fa ' + image + ' fa-lg\"></i></button>');\n",
       "        button.click(method_name, toolbar_event);\n",
       "        button.mouseover(tooltip, toolbar_mouse_event);\n",
       "        nav_element.append(button);\n",
       "    }\n",
       "\n",
       "    // Add the status bar.\n",
       "    var status_bar = $('<span class=\"mpl-message\" style=\"text-align:right; float: right;\"/>');\n",
       "    nav_element.append(status_bar);\n",
       "    this.message = status_bar[0];\n",
       "\n",
       "    // Add the close button to the window.\n",
       "    var buttongrp = $('<div class=\"btn-group inline pull-right\"></div>');\n",
       "    var button = $('<button class=\"btn btn-mini btn-primary\" href=\"#\" title=\"Stop Interaction\"><i class=\"fa fa-power-off icon-remove icon-large\"></i></button>');\n",
       "    button.click(function (evt) { fig.handle_close(fig, {}); } );\n",
       "    button.mouseover('Stop Interaction', toolbar_mouse_event);\n",
       "    buttongrp.append(button);\n",
       "    var titlebar = this.root.find($('.ui-dialog-titlebar'));\n",
       "    titlebar.prepend(buttongrp);\n",
       "}\n",
       "\n",
       "mpl.figure.prototype._root_extra_style = function(el){\n",
       "    var fig = this\n",
       "    el.on(\"remove\", function(){\n",
       "\tfig.close_ws(fig, {});\n",
       "    });\n",
       "}\n",
       "\n",
       "mpl.figure.prototype._canvas_extra_style = function(el){\n",
       "    // this is important to make the div 'focusable\n",
       "    el.attr('tabindex', 0)\n",
       "    // reach out to IPython and tell the keyboard manager to turn it's self\n",
       "    // off when our div gets focus\n",
       "\n",
       "    // location in version 3\n",
       "    if (IPython.notebook.keyboard_manager) {\n",
       "        IPython.notebook.keyboard_manager.register_events(el);\n",
       "    }\n",
       "    else {\n",
       "        // location in version 2\n",
       "        IPython.keyboard_manager.register_events(el);\n",
       "    }\n",
       "\n",
       "}\n",
       "\n",
       "mpl.figure.prototype._key_event_extra = function(event, name) {\n",
       "    var manager = IPython.notebook.keyboard_manager;\n",
       "    if (!manager)\n",
       "        manager = IPython.keyboard_manager;\n",
       "\n",
       "    // Check for shift+enter\n",
       "    if (event.shiftKey && event.which == 13) {\n",
       "        this.canvas_div.blur();\n",
       "        event.shiftKey = false;\n",
       "        // Send a \"J\" for go to next cell\n",
       "        event.which = 74;\n",
       "        event.keyCode = 74;\n",
       "        manager.command_mode();\n",
       "        manager.handle_keydown(event);\n",
       "    }\n",
       "}\n",
       "\n",
       "mpl.figure.prototype.handle_save = function(fig, msg) {\n",
       "    fig.ondownload(fig, null);\n",
       "}\n",
       "\n",
       "\n",
       "mpl.find_output_cell = function(html_output) {\n",
       "    // Return the cell and output element which can be found *uniquely* in the notebook.\n",
       "    // Note - this is a bit hacky, but it is done because the \"notebook_saving.Notebook\"\n",
       "    // IPython event is triggered only after the cells have been serialised, which for\n",
       "    // our purposes (turning an active figure into a static one), is too late.\n",
       "    var cells = IPython.notebook.get_cells();\n",
       "    var ncells = cells.length;\n",
       "    for (var i=0; i<ncells; i++) {\n",
       "        var cell = cells[i];\n",
       "        if (cell.cell_type === 'code'){\n",
       "            for (var j=0; j<cell.output_area.outputs.length; j++) {\n",
       "                var data = cell.output_area.outputs[j];\n",
       "                if (data.data) {\n",
       "                    // IPython >= 3 moved mimebundle to data attribute of output\n",
       "                    data = data.data;\n",
       "                }\n",
       "                if (data['text/html'] == html_output) {\n",
       "                    return [cell, data, j];\n",
       "                }\n",
       "            }\n",
       "        }\n",
       "    }\n",
       "}\n",
       "\n",
       "// Register the function which deals with the matplotlib target/channel.\n",
       "// The kernel may be null if the page has been refreshed.\n",
       "if (IPython.notebook.kernel != null) {\n",
       "    IPython.notebook.kernel.comm_manager.register_target('matplotlib', mpl.mpl_figure_comm);\n",
       "}\n"
      ],
      "text/plain": [
       "<IPython.core.display.Javascript object>"
      ]
     },
     "metadata": {},
     "output_type": "display_data"
    },
    {
     "data": {
      "text/html": [
       "<img src=\"data:image/png;base64,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\">"
      ],
      "text/plain": [
       "<IPython.core.display.HTML object>"
      ]
     },
     "metadata": {},
     "output_type": "display_data"
    },
    {
     "data": {
      "text/plain": [
       "<matplotlib.axes._subplots.AxesSubplot at 0x1148afe90>"
      ]
     },
     "execution_count": 6,
     "metadata": {},
     "output_type": "execute_result"
    }
   ],
   "source": [
    "# create important feature dataframe and plot\n",
    "fea_importance = pd.DataFrame(clf.feature_importances_)\n",
    "fea_importance.index = df_train.columns\n",
    "fea_importance.columns=[\"feature_importance\"]\n",
    "fea_importance_new = fea_importance[fea_importance.feature_importance >0.005]\n",
    "fea_importance_new.plot(kind=\"bar\")"
   ]
  },
  {
   "cell_type": "code",
   "execution_count": 7,
   "metadata": {
    "collapsed": false
   },
   "outputs": [
    {
     "name": "stdout",
     "output_type": "stream",
     "text": [
      "[  89  805  939 1018 1019 1029 1056 1156 1157 1158 1166 1167 1168 1169 1171\n",
      " 1177 1178 1180 1188 1190 1194 1201 1208 1209 1215 1221 1231 1234 1237 1245\n",
      " 1248 1259 1272 1274 1283 1290 1305 1476 1477 1502 1516 1520 1529 1537 1538\n",
      " 1540 1549 1550 1843 1847 1879 1881 1882 1883 1887 1889 1892 1897 1898 1899\n",
      " 1900 1911 1912 1914 1932 1934 1938 1942 1944 1955 1974 1982 1984 1985 1988\n",
      " 1990 1992 1995 2004 2006 2007 2010 2022]\n"
     ]
    }
   ],
   "source": [
    "# threshold for a manageable number of features\n",
    "plt.hist(clf.feature_importances_[clf.feature_importances_>0])\n",
    "important_indices = np.where(clf.feature_importances_>0.005)[0]\n",
    "print(important_indices)"
   ]
  },
  {
   "cell_type": "code",
   "execution_count": 8,
   "metadata": {
    "collapsed": true
   },
   "outputs": [],
   "source": [
    "# load entire dataset for these features. \n",
    "# note where the feature indices are split so we can load the correct ones straight from read_csv\n",
    "n_date_features = 1156\n",
    "X = np.concatenate([\n",
    "    pd.read_csv(\"../data/train_date.csv\", index_col=0, dtype=np.float32,\n",
    "                usecols=np.concatenate([[0], important_indices[important_indices < n_date_features] + 1])).values,\n",
    "    pd.read_csv(\"../data/train_numeric.csv\", index_col=0, dtype=np.float32,\n",
    "                usecols=np.concatenate([[0], important_indices[important_indices >= n_date_features] + 1 - 1156])).values\n",
    "], axis=1)\n",
    "\n",
    "y = pd.read_csv(\"../data/train_numeric.csv\", index_col=0, dtype=np.float32, usecols=[0,969]).values.ravel()"
   ]
  },
  {
   "cell_type": "code",
   "execution_count": 12,
   "metadata": {
    "collapsed": false
   },
   "outputs": [],
   "source": [
    "train_feature = pd.DataFrame(X)"
   ]
  },
  {
   "cell_type": "code",
   "execution_count": 17,
   "metadata": {
    "collapsed": false
   },
   "outputs": [],
   "source": [
    "# put important feature in the dataframe \n",
    "train_feature.columns = fea_importance_new.index"
   ]
  },
  {
   "cell_type": "code",
   "execution_count": 19,
   "metadata": {
    "collapsed": true
   },
   "outputs": [],
   "source": [
    "# self-defined xgb model wrapper including data processing, model fit, predict and result \n",
    "def modelfit(alg, dtrain, labels,useTrainCV=True, model_fit=True,cv_folds=5, early_stopping_rounds=20):\n",
    "    # trainCV with early stop so we don't need to use sciki-learn GridsearchCV , the later can't run in my computer\n",
    "    best_threshold = 0.5\n",
    "    if useTrainCV:\n",
    "        xgb_param = alg.get_xgb_params()\n",
    "        xgtrain = xgb.DMatrix(dtrain.values, label=labels)\n",
    "        cvresult = xgb.cv(xgb_param, xgtrain, num_boost_round=alg.get_params()['n_estimators'], nfold=cv_folds,\n",
    "            metrics='auc', early_stopping_rounds=early_stopping_rounds, verbose_eval=True)\n",
    "        alg.set_params(n_estimators=cvresult.shape[0])\n",
    "    if model_fit:\n",
    "    #Fit the algorithm on the data\n",
    "        alg.fit(dtrain.values, labels,eval_metric='auc')\n",
    "    if model_predict:\n",
    "    #Predict training set:\n",
    "    #dtrain_predictions = alg.predict(dtrain[predictors])\n",
    "        dtrain_predprob = alg.predict_proba(dtrain.values)[:,1]\n",
    "        thresholds = np.linspace(0.01, 0.99, 50)\n",
    "        mcc = np.array([matthews_corrcoef(labels, dtrain_predprob>thr) for thr in thresholds])\n",
    "        plt.plot(thresholds, mcc)\n",
    "        best_threshold = thresholds[mcc.argmax()]\n",
    "        print(mcc.max())\n",
    "    return best_threshold\n",
    "    #Print model report:\n",
    "#     print (\"\\nModel Report\")\n",
    "#     print (\"Accuracy : %.4g\" % metrics.accuracy_score(dtrain[target].values, dtrain_predictions))\n",
    "#     print (\"AUC Score (Train): %f\" % metrics.roc_auc_score(dtrain[target], dtrain_predprob))\n",
    "                    \n",
    "#     feat_imp = pd.Series(alg.booster().get_fscore()).sort_values(ascending=False)\n",
    "#     feat_imp.plot(kind='bar', title='Feature Importances')\n",
    "#     plt.ylabel('Feature Importance Score')"
   ]
  },
  {
   "cell_type": "code",
   "execution_count": 23,
   "metadata": {
    "collapsed": false,
    "scrolled": true
   },
   "outputs": [
    {
     "name": "stdout",
     "output_type": "stream",
     "text": [
      "[0]\ttrain-auc:0.729094+0.00516515\ttest-auc:0.703705+0.00288857\n",
      "[1]\ttrain-auc:0.74359+0.00531968\ttest-auc:0.711382+0.00484402\n",
      "[2]\ttrain-auc:0.752263+0.00750208\ttest-auc:0.715367+0.00430993\n",
      "[3]\ttrain-auc:0.754169+0.00513682\ttest-auc:0.716727+0.00494699\n",
      "[4]\ttrain-auc:0.755574+0.00512948\ttest-auc:0.716828+0.00497721\n",
      "[5]\ttrain-auc:0.75878+0.00555511\ttest-auc:0.717819+0.00394725\n",
      "[6]\ttrain-auc:0.760993+0.00576527\ttest-auc:0.719072+0.00277429\n",
      "[7]\ttrain-auc:0.760618+0.00567729\ttest-auc:0.719432+0.00262863\n",
      "[8]\ttrain-auc:0.761932+0.00433893\ttest-auc:0.720622+0.00385647\n",
      "[9]\ttrain-auc:0.763049+0.00316093\ttest-auc:0.721285+0.00434939\n",
      "[10]\ttrain-auc:0.763419+0.00303603\ttest-auc:0.721411+0.00470625\n",
      "[11]\ttrain-auc:0.763284+0.00306904\ttest-auc:0.721658+0.00473947\n",
      "[12]\ttrain-auc:0.763503+0.00317988\ttest-auc:0.721514+0.00469445\n",
      "[13]\ttrain-auc:0.764484+0.00246828\ttest-auc:0.722043+0.00470585\n",
      "[14]\ttrain-auc:0.765886+0.00204681\ttest-auc:0.722771+0.00493523\n",
      "[15]\ttrain-auc:0.766841+0.00180546\ttest-auc:0.723002+0.00528813\n",
      "[16]\ttrain-auc:0.767419+0.00223264\ttest-auc:0.723011+0.00579263\n",
      "[17]\ttrain-auc:0.76824+0.00201762\ttest-auc:0.723175+0.0057523\n",
      "[18]\ttrain-auc:0.769274+0.00249894\ttest-auc:0.723423+0.00568895\n",
      "[19]\ttrain-auc:0.770452+0.00232428\ttest-auc:0.723632+0.00536895\n",
      "[20]\ttrain-auc:0.770827+0.00227453\ttest-auc:0.723691+0.00558609\n",
      "[21]\ttrain-auc:0.772102+0.00241372\ttest-auc:0.72444+0.00514081\n",
      "[22]\ttrain-auc:0.773011+0.00286115\ttest-auc:0.724642+0.00462954\n",
      "[23]\ttrain-auc:0.773322+0.00291965\ttest-auc:0.724758+0.0046031\n",
      "[24]\ttrain-auc:0.774358+0.00369674\ttest-auc:0.724831+0.00431901\n",
      "[25]\ttrain-auc:0.774953+0.00426631\ttest-auc:0.725085+0.0039508\n",
      "[26]\ttrain-auc:0.775825+0.00441123\ttest-auc:0.725331+0.00388523\n"
     ]
    },
    {
     "ename": "KeyboardInterrupt",
     "evalue": "",
     "output_type": "error",
     "traceback": [
      "\u001b[0;31m---------------------------------------------------------------------------\u001b[0m",
      "\u001b[0;31mKeyboardInterrupt\u001b[0m                         Traceback (most recent call last)",
      "\u001b[0;32m<ipython-input-23-b8494518480c>\u001b[0m in \u001b[0;36m<module>\u001b[0;34m()\u001b[0m\n\u001b[1;32m     12\u001b[0m  \u001b[0mseed\u001b[0m\u001b[0;34m=\u001b[0m\u001b[0;36m27\u001b[0m\u001b[0;34m,\u001b[0m\u001b[0;34m\u001b[0m\u001b[0m\n\u001b[1;32m     13\u001b[0m  base_score=0.005)\n\u001b[0;32m---> 14\u001b[0;31m \u001b[0mmodelfit\u001b[0m\u001b[0;34m(\u001b[0m\u001b[0mxgb_starter\u001b[0m\u001b[0;34m,\u001b[0m \u001b[0mtrain_feature\u001b[0m\u001b[0;34m,\u001b[0m \u001b[0my\u001b[0m\u001b[0;34m)\u001b[0m\u001b[0;34m\u001b[0m\u001b[0m\n\u001b[0m",
      "\u001b[0;32m<ipython-input-19-8489d11d880b>\u001b[0m in \u001b[0;36mmodelfit\u001b[0;34m(alg, dtrain, labels, useTrainCV, cv_folds, early_stopping_rounds)\u001b[0m\n\u001b[1;32m      6\u001b[0m         \u001b[0mxgtrain\u001b[0m \u001b[0;34m=\u001b[0m \u001b[0mxgb\u001b[0m\u001b[0;34m.\u001b[0m\u001b[0mDMatrix\u001b[0m\u001b[0;34m(\u001b[0m\u001b[0mdtrain\u001b[0m\u001b[0;34m.\u001b[0m\u001b[0mvalues\u001b[0m\u001b[0;34m,\u001b[0m \u001b[0mlabel\u001b[0m\u001b[0;34m=\u001b[0m\u001b[0mlabels\u001b[0m\u001b[0;34m)\u001b[0m\u001b[0;34m\u001b[0m\u001b[0m\n\u001b[1;32m      7\u001b[0m         cvresult = xgb.cv(xgb_param, xgtrain, num_boost_round=alg.get_params()['n_estimators'], nfold=cv_folds,\n\u001b[0;32m----> 8\u001b[0;31m             metrics='auc', early_stopping_rounds=early_stopping_rounds, verbose_eval=True)\n\u001b[0m\u001b[1;32m      9\u001b[0m         \u001b[0malg\u001b[0m\u001b[0;34m.\u001b[0m\u001b[0mset_params\u001b[0m\u001b[0;34m(\u001b[0m\u001b[0mn_estimators\u001b[0m\u001b[0;34m=\u001b[0m\u001b[0mcvresult\u001b[0m\u001b[0;34m.\u001b[0m\u001b[0mshape\u001b[0m\u001b[0;34m[\u001b[0m\u001b[0;36m0\u001b[0m\u001b[0;34m]\u001b[0m\u001b[0;34m)\u001b[0m\u001b[0;34m\u001b[0m\u001b[0m\n\u001b[1;32m     10\u001b[0m \u001b[0;34m\u001b[0m\u001b[0m\n",
      "\u001b[0;32m//anaconda/lib/python2.7/site-packages/xgboost-0.6-py2.7.egg/xgboost/training.pyc\u001b[0m in \u001b[0;36mcv\u001b[0;34m(params, dtrain, num_boost_round, nfold, stratified, folds, metrics, obj, feval, maximize, early_stopping_rounds, fpreproc, as_pandas, verbose_eval, show_stdv, seed, callbacks)\u001b[0m\n\u001b[1;32m    394\u001b[0m                            evaluation_result_list=None))\n\u001b[1;32m    395\u001b[0m         \u001b[0;32mfor\u001b[0m \u001b[0mfold\u001b[0m \u001b[0;32min\u001b[0m \u001b[0mcvfolds\u001b[0m\u001b[0;34m:\u001b[0m\u001b[0;34m\u001b[0m\u001b[0m\n\u001b[0;32m--> 396\u001b[0;31m             \u001b[0mfold\u001b[0m\u001b[0;34m.\u001b[0m\u001b[0mupdate\u001b[0m\u001b[0;34m(\u001b[0m\u001b[0mi\u001b[0m\u001b[0;34m,\u001b[0m \u001b[0mobj\u001b[0m\u001b[0;34m)\u001b[0m\u001b[0;34m\u001b[0m\u001b[0m\n\u001b[0m\u001b[1;32m    397\u001b[0m         \u001b[0mres\u001b[0m \u001b[0;34m=\u001b[0m \u001b[0maggcv\u001b[0m\u001b[0;34m(\u001b[0m\u001b[0;34m[\u001b[0m\u001b[0mf\u001b[0m\u001b[0;34m.\u001b[0m\u001b[0meval\u001b[0m\u001b[0;34m(\u001b[0m\u001b[0mi\u001b[0m\u001b[0;34m,\u001b[0m \u001b[0mfeval\u001b[0m\u001b[0;34m)\u001b[0m \u001b[0;32mfor\u001b[0m \u001b[0mf\u001b[0m \u001b[0;32min\u001b[0m \u001b[0mcvfolds\u001b[0m\u001b[0;34m]\u001b[0m\u001b[0;34m)\u001b[0m\u001b[0;34m\u001b[0m\u001b[0m\n\u001b[1;32m    398\u001b[0m \u001b[0;34m\u001b[0m\u001b[0m\n",
      "\u001b[0;32m//anaconda/lib/python2.7/site-packages/xgboost-0.6-py2.7.egg/xgboost/training.pyc\u001b[0m in \u001b[0;36mupdate\u001b[0;34m(self, iteration, fobj)\u001b[0m\n\u001b[1;32m    215\u001b[0m     \u001b[0;32mdef\u001b[0m \u001b[0mupdate\u001b[0m\u001b[0;34m(\u001b[0m\u001b[0mself\u001b[0m\u001b[0;34m,\u001b[0m \u001b[0miteration\u001b[0m\u001b[0;34m,\u001b[0m \u001b[0mfobj\u001b[0m\u001b[0;34m)\u001b[0m\u001b[0;34m:\u001b[0m\u001b[0;34m\u001b[0m\u001b[0m\n\u001b[1;32m    216\u001b[0m         \u001b[0;34m\"\"\"\"Update the boosters for one iteration\"\"\"\u001b[0m\u001b[0;34m\u001b[0m\u001b[0m\n\u001b[0;32m--> 217\u001b[0;31m         \u001b[0mself\u001b[0m\u001b[0;34m.\u001b[0m\u001b[0mbst\u001b[0m\u001b[0;34m.\u001b[0m\u001b[0mupdate\u001b[0m\u001b[0;34m(\u001b[0m\u001b[0mself\u001b[0m\u001b[0;34m.\u001b[0m\u001b[0mdtrain\u001b[0m\u001b[0;34m,\u001b[0m \u001b[0miteration\u001b[0m\u001b[0;34m,\u001b[0m \u001b[0mfobj\u001b[0m\u001b[0;34m)\u001b[0m\u001b[0;34m\u001b[0m\u001b[0m\n\u001b[0m\u001b[1;32m    218\u001b[0m \u001b[0;34m\u001b[0m\u001b[0m\n\u001b[1;32m    219\u001b[0m     \u001b[0;32mdef\u001b[0m \u001b[0meval\u001b[0m\u001b[0;34m(\u001b[0m\u001b[0mself\u001b[0m\u001b[0;34m,\u001b[0m \u001b[0miteration\u001b[0m\u001b[0;34m,\u001b[0m \u001b[0mfeval\u001b[0m\u001b[0;34m)\u001b[0m\u001b[0;34m:\u001b[0m\u001b[0;34m\u001b[0m\u001b[0m\n",
      "\u001b[0;32m//anaconda/lib/python2.7/site-packages/xgboost-0.6-py2.7.egg/xgboost/core.pyc\u001b[0m in \u001b[0;36mupdate\u001b[0;34m(self, dtrain, iteration, fobj)\u001b[0m\n\u001b[1;32m    817\u001b[0m \u001b[0;34m\u001b[0m\u001b[0m\n\u001b[1;32m    818\u001b[0m         \u001b[0;32mif\u001b[0m \u001b[0mfobj\u001b[0m \u001b[0;32mis\u001b[0m \u001b[0mNone\u001b[0m\u001b[0;34m:\u001b[0m\u001b[0;34m\u001b[0m\u001b[0m\n\u001b[0;32m--> 819\u001b[0;31m             \u001b[0m_check_call\u001b[0m\u001b[0;34m(\u001b[0m\u001b[0m_LIB\u001b[0m\u001b[0;34m.\u001b[0m\u001b[0mXGBoosterUpdateOneIter\u001b[0m\u001b[0;34m(\u001b[0m\u001b[0mself\u001b[0m\u001b[0;34m.\u001b[0m\u001b[0mhandle\u001b[0m\u001b[0;34m,\u001b[0m \u001b[0miteration\u001b[0m\u001b[0;34m,\u001b[0m \u001b[0mdtrain\u001b[0m\u001b[0;34m.\u001b[0m\u001b[0mhandle\u001b[0m\u001b[0;34m)\u001b[0m\u001b[0;34m)\u001b[0m\u001b[0;34m\u001b[0m\u001b[0m\n\u001b[0m\u001b[1;32m    820\u001b[0m         \u001b[0;32melse\u001b[0m\u001b[0;34m:\u001b[0m\u001b[0;34m\u001b[0m\u001b[0m\n\u001b[1;32m    821\u001b[0m             \u001b[0mpred\u001b[0m \u001b[0;34m=\u001b[0m \u001b[0mself\u001b[0m\u001b[0;34m.\u001b[0m\u001b[0mpredict\u001b[0m\u001b[0;34m(\u001b[0m\u001b[0mdtrain\u001b[0m\u001b[0;34m)\u001b[0m\u001b[0;34m\u001b[0m\u001b[0m\n",
      "\u001b[0;31mKeyboardInterrupt\u001b[0m: "
     ]
    }
   ],
   "source": [
    "xgb_starter = XGBClassifier(\n",
    " learning_rate =0.01,\n",
    " n_estimators=10,\n",
    " max_depth=10,\n",
    " min_child_weight=1,\n",
    " gamma=0,\n",
    " subsample=1,\n",
    " colsample_bytree=0.8,\n",
    " objective= 'binary:logistic',\n",
    " nthread=4,\n",
    " scale_pos_weight=1,\n",
    " seed=27,\n",
    " base_score=0.005)\n",
    "\n",
    "best_threshold = modelfit(xgb_starter, train_feature, y)\n"
   ]
  },
  {
   "cell_type": "code",
   "execution_count": null,
   "metadata": {
    "collapsed": true
   },
   "outputs": [],
   "source": [
    "# load test data\n",
    "X = np.concatenate([\n",
    "    pd.read_csv(\"../data/test_date.csv\", index_col=0, dtype=np.float32,\n",
    "                usecols=np.concatenate([[0], important_indices[important_indices<1156]+1])).values,\n",
    "    pd.read_csv(\"../data/test_numeric.csv\", index_col=0, dtype=np.float32,\n",
    "                usecols=np.concatenate([[0], important_indices[important_indices>=1156] +1 - 1156])).values\n",
    "], axis=1)"
   ]
  },
  {
   "cell_type": "code",
   "execution_count": null,
   "metadata": {
    "collapsed": true
   },
   "outputs": [],
   "source": [
    "# generate predictions at the chosen threshold\n",
    "preds = (xgb_starter.predict_proba(X)[:,1] > best_threshold).astype(np.int8)"
   ]
  },
  {
   "cell_type": "code",
   "execution_count": null,
   "metadata": {
    "collapsed": true
   },
   "outputs": [],
   "source": [
    "# and submit\n",
    "sub = pd.read_csv(\"../data/sample_submission.csv\", index_col=0)\n",
    "sub[\"Response\"] = preds\n",
    "sub.to_csv(\"submission.csv.gz\", compression=\"gzip\")"
   ]
  },
  {
   "cell_type": "markdown",
   "metadata": {},
   "source": [
    "# Model Development "
   ]
  },
  {
   "cell_type": "markdown",
   "metadata": {},
   "source": [
    "## Model 1 : XGBoost"
   ]
  },
  {
   "cell_type": "markdown",
   "metadata": {},
   "source": [
    "### Model Hyper-Parameter Tuning Part"
   ]
  },
  {
   "cell_type": "code",
   "execution_count": null,
   "metadata": {
    "collapsed": true
   },
   "outputs": [],
   "source": [
    "#import additional library\n",
    "from xgboost.sklearn import XGBClassifier"
   ]
  },
  {
   "cell_type": "code",
   "execution_count": null,
   "metadata": {
    "collapsed": true
   },
   "outputs": [],
   "source": [
    "#load data nearly same as previous section\n",
    "#TODO: need refractor so that all code is consistent\n",
    "# define Idcol and Response Column\n",
    "IDcol = \"Id\"\n",
    "target = \"Response\"\n",
    "# Sample the data to decide some important features\n",
    "start_time = datetime.datetime.now()\n",
    "date_chunks = pd.read_csv(\"../data/train_date.csv\", index_col=0, chunksize=chunksize, dtype=np.float32)\n",
    "num_chunks = pd.read_csv(\"../data/train_numeric.csv\", index_col=0, chunksize=chunksize, dtype=np.float32)\n",
    "train_value = pd.concat([pd.concat([dchunk, nchunk], axis=1).sample(frac=0.001)\n",
    "               for dchunk, nchunk in zip(date_chunks, num_chunks)])\n",
    "end_time = datetime.datetime.now()\n",
    "print (end_time - start_time)"
   ]
  },
  {
   "cell_type": "code",
   "execution_count": null,
   "metadata": {
    "collapsed": true
   },
   "outputs": [],
   "source": [
    "# self-defined xgb model wrapper including data processing, model fit, predict and result \n",
    "def modelfit(alg, dtrain, predictors,useTrainCV=True, cv_folds=5, early_stopping_rounds=20):\n",
    "    # trainCV with early stop so we don't need to use sciki-learn GridsearchCV , the later can't run in my computer\n",
    "    if useTrainCV:\n",
    "        xgb_param = alg.get_xgb_params()\n",
    "        xgtrain = xgb.DMatrix(dtrain[predictors].values, label=dtrain[target].values)\n",
    "        cvresult = xgb.cv(xgb_param, xgtrain, num_boost_round=alg.get_params()['n_estimators'], nfold=cv_folds,\n",
    "            metrics='auc', early_stopping_rounds=early_stopping_rounds, verbose_eval=True)\n",
    "        alg.set_params(n_estimators=cvresult.shape[0])\n",
    "    \n",
    "    #Fit the algorithm on the data\n",
    "    alg.fit(dtrain[predictors], dtrain[target],eval_metric='auc')\n",
    "        \n",
    "    #Predict training set:\n",
    "    dtrain_predictions = alg.predict(dtrain[predictors])\n",
    "    dtrain_predprob = alg.predict_proba(dtrain[predictors])[:,1]\n",
    "    \n",
    "    #Print model report:\n",
    "    print (\"\\nModel Report\")\n",
    "    print (\"Accuracy : %.4g\" % metrics.accuracy_score(dtrain[target].values, dtrain_predictions))\n",
    "    print (\"AUC Score (Train): %f\" % metrics.roc_auc_score(dtrain[target], dtrain_predprob))\n",
    "                    \n",
    "    feat_imp = pd.Series(alg.booster().get_fscore()).sort_values(ascending=False)\n",
    "    feat_imp.plot(kind='bar', title='Feature Importances')\n",
    "    plt.ylabel('Feature Importance Score')"
   ]
  },
  {
   "cell_type": "code",
   "execution_count": null,
   "metadata": {
    "collapsed": true
   },
   "outputs": [],
   "source": [
    "#Choose all predictors except target & IDcols\n",
    "predictors = [x for x in train_value.columns if x not in [target, IDcol]]\n",
    "xgb_starter = XGBClassifier(\n",
    " learning_rate =0.01,\n",
    " n_estimators=2000,\n",
    " max_depth=10,\n",
    " min_child_weight=1,\n",
    " gamma=0,\n",
    " subsample=1,\n",
    " colsample_bytree=0.8,\n",
    " objective= 'binary:logistic',\n",
    " nthread=4,\n",
    " scale_pos_weight=1,\n",
    " seed=27,\n",
    " base_score=0.005)\n",
    "modelfit(xgb_starter, train_value, predictors)"
   ]
  },
  {
   "cell_type": "code",
   "execution_count": null,
   "metadata": {
    "collapsed": true
   },
   "outputs": [],
   "source": [
    "### Train and prediction part"
   ]
  },
  {
   "cell_type": "code",
   "execution_count": null,
   "metadata": {
    "collapsed": true
   },
   "outputs": [],
   "source": [
    "clf = XGBClassifier(max_depth=5, base_score=0.005)\n",
    "cv = StratifiedKFold(y, n_folds=3)\n",
    "preds = np.ones(y.shape[0])\n",
    "for i, (train, test) in enumerate(cv):\n",
    "    preds[test] = clf.fit(X[train], y[train]).predict_proba(X[test])[:,1]\n",
    "    print(\"fold {}, ROC AUC: {:.3f}\".format(i, roc_auc_score(y[test], preds[test])))\n",
    "print(roc_auc_score(y, preds))"
   ]
  },
  {
   "cell_type": "code",
   "execution_count": null,
   "metadata": {
    "collapsed": true
   },
   "outputs": [],
   "source": [
    "# pick the best threshold by MCC\n",
    "thresholds = np.linspace(0.01, 0.99, 50)\n",
    "mcc = np.array([matthews_corrcoef(y, preds>thr) for thr in thresholds])\n",
    "plt.plot(thresholds, mcc)\n",
    "best_threshold = thresholds[mcc.argmax()]\n",
    "print(mcc.max())"
   ]
  },
  {
   "cell_type": "code",
   "execution_count": null,
   "metadata": {
    "collapsed": true
   },
   "outputs": [],
   "source": [
    "# load test data\n",
    "X = np.concatenate([\n",
    "    pd.read_csv(\"../data/test_date.csv\", index_col=0, dtype=np.float32,\n",
    "                usecols=np.concatenate([[0], important_indices[important_indices<1156]+1])).values,\n",
    "    pd.read_csv(\"../data/test_numeric.csv\", index_col=0, dtype=np.float32,\n",
    "                usecols=np.concatenate([[0], important_indices[important_indices>=1156] +1 - 1156])).values\n",
    "], axis=1)"
   ]
  },
  {
   "cell_type": "code",
   "execution_count": null,
   "metadata": {
    "collapsed": true
   },
   "outputs": [],
   "source": [
    "# generate predictions at the chosen threshold\n",
    "preds = (clf.predict_proba(X)[:,1] > best_threshold).astype(np.int8)"
   ]
  },
  {
   "cell_type": "code",
   "execution_count": null,
   "metadata": {
    "collapsed": true
   },
   "outputs": [],
   "source": [
    "# and submit\n",
    "sub = pd.read_csv(\"../data/sample_submission.csv\", index_col=0)\n",
    "sub[\"Response\"] = preds\n",
    "sub.to_csv(\"submission.csv.gz\", compression=\"gzip\")"
   ]
  }
 ],
 "metadata": {
  "anaconda-cloud": {},
  "kernelspec": {
   "display_name": "Python [Root]",
   "language": "python",
   "name": "Python [Root]"
  },
  "language_info": {
   "codemirror_mode": {
    "name": "ipython",
    "version": 2
   },
   "file_extension": ".py",
   "mimetype": "text/x-python",
   "name": "python",
   "nbconvert_exporter": "python",
   "pygments_lexer": "ipython2",
   "version": "2.7.12"
  }
 },
 "nbformat": 4,
 "nbformat_minor": 0
}
