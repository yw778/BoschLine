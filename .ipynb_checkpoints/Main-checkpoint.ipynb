{
 "cells": [
  {
   "cell_type": "code",
   "execution_count": 1,
   "metadata": {
    "collapsed": true
   },
   "outputs": [],
   "source": [
    "# Imports\n",
    "%matplotlib notebook\n",
    "# numpy, matplotlib, seaborn and matplotlib\n",
    "import matplotlib\n",
    "import numpy as np\n",
    "import pandas as pd\n",
    "import matplotlib.pyplot as plt\n",
    "import seaborn as sns\n",
    "sns.set_style('whitegrid')\n",
    "# define data path\n",
    "INPUT_PATH = \"../data/%s.csv\"\n",
    "# define small samples to quickly explore data\n",
    "read_rows = 300;"
   ]
  },
  {
   "cell_type": "markdown",
   "metadata": {},
   "source": [
    "# Dataset Visualization Part"
   ]
  },
  {
   "cell_type": "markdown",
   "metadata": {},
   "source": [
    "## Overview Part\n",
    "This part is to overview the first N rows of the sample to get initial feeling of the dataset"
   ]
  },
  {
   "cell_type": "code",
   "execution_count": null,
   "metadata": {
    "collapsed": false,
    "scrolled": true
   },
   "outputs": [],
   "source": [
    "# load data head for overview\n",
    "train_date_overview = pd.read_csv('../data/train_date.csv',nrows = read_rows)\n",
    "train_categorical_overview = pd.read_csv('../data/train_categorical.csv',nrows = read_rows)\n",
    "train_numeric_overview = pd.read_csv('../data/train_numeric.csv',nrows = read_rows)\n",
    "test_categorical_overview = pd.read_csv('../data/test_categorical.csv', nrows = read_rows)\n",
    "test_date_overview = pd.read_csv('../data/test_date.csv', nrows = read_rows)\n",
    "test_numeric_overview = pd.read_csv('../data/test_numeric.csv', nrows = read_rows)"
   ]
  },
  {
   "cell_type": "code",
   "execution_count": null,
   "metadata": {
    "collapsed": false
   },
   "outputs": [],
   "source": [
    "#train_numeric_overview\n",
    "#train_categorical_overview\n",
    "train_date_overview\n",
    "#test_numeric_overview\n",
    "#test_categorical_overview\n",
    "test_date_overview "
   ]
  },
  {
   "cell_type": "markdown",
   "metadata": {},
   "source": [
    "## General Feature Exploration Part\n",
    "This part is to explore the common feature"
   ]
  },
  {
   "cell_type": "code",
   "execution_count": null,
   "metadata": {
    "collapsed": true
   },
   "outputs": [],
   "source": [
    "# function to calculate failure rate\n",
    "def get_failure_rate(file_name):\n",
    "    # will calculate the error rate from data on the file based on response col\n",
    "    # Respons: 1 = Failed QC , 0 = Passed QC\n",
    "    rows = pd.read_csv(INPUT_PATH % file_name, usecols=[\"Response\"])\n",
    "    failure_rate = rows[rows.Response == 1].size / float(rows[rows.Response == 0].size)\n",
    "    return failure_rate"
   ]
  },
  {
   "cell_type": "code",
   "execution_count": null,
   "metadata": {
    "collapsed": true
   },
   "outputs": [],
   "source": [
    "# function to calculate data size in 6 dataset\n",
    "def explore_data_size():\n",
    "    # explore the size (rows, cols) of each file\n",
    "    data_files = ['train_numeric', 'train_date', 'train_categorical', 'test_numeric',\n",
    "                  'test_date', 'test_categorical']\n",
    "    stats = []\n",
    "    for file_name in data_files:\n",
    "        cols = pd.read_csv(INPUT_PATH % file_name, nrows=1)\n",
    "        rows = pd.read_csv(INPUT_PATH % file_name, usecols=[\"Id\"])\n",
    "        stats.append({'File': file_name, 'Rows': rows.shape[0], 'Columns': cols.shape[1]})\n",
    "    # convert the result into a DataFrame so we can do plotting.\n",
    "    df = pd.DataFrame(stats, columns=[\"File\", \"Rows\", \"Columns\"])\n",
    "    failure_rate = get_failure_rate('train_numeric')\n",
    "    df[\"Error\"] = 0\n",
    "    df.loc[df.File == 'train_numeric', 'Error'] = failure_rate\n",
    "    return df"
   ]
  },
  {
   "cell_type": "code",
   "execution_count": null,
   "metadata": {
    "collapsed": false
   },
   "outputs": [],
   "source": [
    "# Get data size\n",
    "explore_data_size()"
   ]
  },
  {
   "cell_type": "markdown",
   "metadata": {
    "collapsed": true
   },
   "source": [
    "## Numerical Feature Exploration Part"
   ]
  },
  {
   "cell_type": "code",
   "execution_count": null,
   "metadata": {
    "collapsed": false
   },
   "outputs": [],
   "source": [
    "def get_number_features(station_features):\n",
    "    total_features = 0\n",
    "    for key in station_features.keys():\n",
    "        total_features += len(station_features[key]) \n",
    "    return total_features\n",
    "\n",
    "def get_features(feature_list):\n",
    "    # function to group features by station or line of production the convention is:\n",
    "    # L1_S15_F232 means Line 1, Station 15, Feature 232\n",
    "    line_features = {}\n",
    "    station_features = {}\n",
    "    lines = set([item.split('_')[0] for item in feature_list])\n",
    "    stations = set([item.split('_')[1] for item in feature_list])\n",
    "\n",
    "    for l in lines:\n",
    "        line_features[l] = [item for item in feature_list if '%s_' % l in item]\n",
    "\n",
    "    for s in stations:\n",
    "        station_features[s] = [item for item in feature_list if '%s_' % s in item]\n",
    "    \n",
    "    print 'No. of lines: '+ str(len(lines))\n",
    "    print 'No. of stations: '+ str(len(stations))\n",
    "    print 'No. of features: '+ str(int(get_number_features(station_features)))\n",
    "    \n",
    "\n",
    "    return (line_features, station_features)"
   ]
  },
  {
   "cell_type": "code",
   "execution_count": null,
   "metadata": {
    "collapsed": true
   },
   "outputs": [],
   "source": [
    "def explore_features(data_set_name,is_response):\n",
    "    # how many units processed in each station\n",
    "    # also percentage of failed/passed QS in each station\n",
    "    if is_response :\n",
    "        features = pd.read_csv(INPUT_PATH % data_set_name, nrows=1).drop([\"Response\", \"Id\"], axis=1).columns.values\n",
    "    else:\n",
    "        features = pd.read_csv(INPUT_PATH % data_set_name, nrows=1).drop([\"Id\"], axis=1).columns.values\n",
    "    \n",
    "    line_features, station_features = get_features(features)\n",
    "    # create a dataframe cols: station, features_count\n",
    "    sdf = pd.DataFrame(list({int(key[1:]): len(station_features[key]) for\n",
    "                             key in station_features.keys()}.items()),\n",
    "                       columns=[\"Station\", \"FeatureCount\"])\n",
    "    ldf = pd.DataFrame(list({int(key[1:]): len(line_features[key]) for\n",
    "                             key in line_features.keys()}.items()),\n",
    "                       columns=[\"Line\", \"FeatureCount\"])\n",
    "    \n",
    "    stations_plot = sdf.plot(x=\"Station\", y=\"FeatureCount\", kind=\"bar\",\n",
    "                             title=\"Fig.1 - Features by Station\",\n",
    "                             figsize=(13,6), fontsize=12)\n",
    "    \n",
    "    line_features_plot = ldf.plot(x=\"Line\",y=\"FeatureCount\", kind=\"bar\",\n",
    "                             title=\"Fig.2 - Features by line\",\n",
    "                             figsize=(13,6), fontsize=12)\n",
    "    \n",
    "    #print 'No. of features:'+ str(int(get_number_features(station_features)))\n",
    "    \n",
    "    return line_features, station_features"
   ]
  },
  {
   "cell_type": "code",
   "execution_count": null,
   "metadata": {
    "collapsed": false,
    "scrolled": true
   },
   "outputs": [],
   "source": [
    "lf, sf = explore_features(\"train_numeric\"\"train_numeric\",True)"
   ]
  },
  {
   "cell_type": "markdown",
   "metadata": {},
   "source": [
    "This part is to see how many parts per station, how many success and failure parts per station"
   ]
  },
  {
   "cell_type": "code",
   "execution_count": null,
   "metadata": {
    "collapsed": true
   },
   "outputs": [],
   "source": [
    "def explore_product_by_station(data_set_name,read_rows):\n",
    "    # need to see how many product per station\n",
    "    # features = pd.read_csv(INPUT_PATH % data_set_name, nrows=1).drop([\"Response\", \"Id\"], axis=1).columns.values\n",
    "    # line_features, station_features = get_features(features)\n",
    "    station_features = sf\n",
    "    dwb_result = []\n",
    "    ppbs_result = []\n",
    "    rows = 0\n",
    "    # inside this loop we will try to calculate different data sets, this way we only read the\n",
    "    # files once since it takes a while and produce multiple results\n",
    "    for station in station_features:\n",
    "        station_data = pd.read_csv(\n",
    "            INPUT_PATH % data_set_name,\n",
    "            usecols=station_features[station] + ['Id', 'Response'],nrows = read_rows)\n",
    "        \n",
    "        # need to get how many rows in the sample row\n",
    "        if not rows:\n",
    "            rows = station_data.shape[0]\n",
    "        # need to store how many processed units in each station\n",
    "        # only if all features in that station has value we conside unit processed in this station\n",
    "        ppbs_result.append(\n",
    "            {'Station': int(station[1:]),\n",
    "             'Processed': station_data[station_features[station]].notnull().all(axis=1).sum()})\n",
    "        \n",
    "        # data without blanks (dwb): take all rows and drop any row that has any blank\n",
    "        # in any station column\n",
    "        dwb = station_data.dropna(how=\"any\")\n",
    "        dwb_result.append([int(station[1:]), dwb.shape[0],\n",
    "                       dwb[dwb[\"Response\"] == 1].shape[0],\n",
    "                       dwb[dwb[\"Response\"] == 0].shape[0]])\n",
    "        \n",
    "    # convert list to a dataframe and prepare for the plot\n",
    "    dwb_df = pd.DataFrame(\n",
    "        dwb_result, columns=[\"Station\", \"Count\", \"Failed\", \"Passed\"]).sort_values(by=[\"Station\"])\n",
    "    # calculate the error rate for each station\n",
    "    dwb_df[\"Error\"] = dwb_df.apply(lambda row: float(row[\"Failed\"]) / (row[\"Count\"] + 1), axis=1)\n",
    "    \n",
    "    # plot the stacked bar tot product/ station\n",
    "    my_plot = dwb_df[[\"Station\", \"Failed\", \"Passed\"]].plot(kind=\"bar\", stacked=True, x=\"Station\",\n",
    "        title=\"Fig:3 - Products by station\", figsize=(13,6), fontsize=12)\n",
    "    my_plot.set_xlabel(\"Stations\")\n",
    "    my_plot.set_ylabel(\"Record Count\")\n",
    "    \n",
    "    # plot error rate per station\n",
    "    my_plot = dwb_df[[\"Station\", \"Error\"]].plot(\n",
    "        kind=\"bar\", x=\"Station\",\n",
    "        title=\"Fig:4 - Error by station\", figsize=(13,6), fontsize=12)\n",
    "    my_plot.set_xlabel(\"Stations\")\n",
    "    my_plot.set_ylabel(\"Error %\")\n",
    "    \n",
    "    # process the ppbs result to see how many products has been process by each station.\n",
    "    ppbs_df = pd.DataFrame(\n",
    "        ppbs_result, columns=['Station', 'Processed']).sort(columns=['Station'])\n",
    "    # calculate the missed product for each station: all count - processed count\n",
    "    ppbs_df[\"Missed\"] = ppbs_df[\"Processed\"].apply(lambda x: rows - x)\n",
    "    # the plot\n",
    "    ppbs_df.plot(x=\"Station\", kind=\"bar\", stacked=True,\n",
    "            title=\"Fig: 5 - Products processed by each station\",\n",
    "            figsize=(13,6), fontsize=12)\n",
    "    \n",
    "\n"
   ]
  },
  {
   "cell_type": "code",
   "execution_count": null,
   "metadata": {
    "collapsed": false,
    "scrolled": true
   },
   "outputs": [],
   "source": [
    "explore_product_by_station(\"train_numeric\",300)"
   ]
  },
  {
   "cell_type": "markdown",
   "metadata": {
    "collapsed": true
   },
   "source": [
    "## Categorial Data Exploration Part"
   ]
  },
  {
   "cell_type": "code",
   "execution_count": null,
   "metadata": {
    "collapsed": false,
    "scrolled": true
   },
   "outputs": [],
   "source": [
    "lf, sf = explore_features(\"train_categorical\",False)"
   ]
  },
  {
   "cell_type": "code",
   "execution_count": null,
   "metadata": {
    "collapsed": false
   },
   "outputs": [],
   "source": [
    "# this function is to explore sparsity rate per row\n",
    "def explore_sparse_rate(data_set_name, read_rows):\n",
    "    train_categorical = pd.read_csv(INPUT_PATH % data_set_name,nrows = read_rows).drop([\"Id\"], axis=1)\n",
    "    sparse_rate_each_part = []\n",
    "    sparse_rate_series = train_categorical.isnull().sum(axis = 1)/train_categorical.shape[1]\n",
    "    sparse_rate_df = pd.DataFrame(\n",
    "        sparse_rate_series, columns=['sparse_rate'])\n",
    "    return sparse_rate_df"
   ]
  },
  {
   "cell_type": "code",
   "execution_count": null,
   "metadata": {
    "collapsed": false
   },
   "outputs": [],
   "source": [
    "explore_sparse_rate('train_categorical', 100)"
   ]
  },
  {
   "cell_type": "code",
   "execution_count": null,
   "metadata": {
    "collapsed": true
   },
   "outputs": [],
   "source": [
    "# This function is to get feeling of the TX value in the dataset\n",
    "def explore_dintinct_Tx_value(data_set_name, read_rows):\n",
    "    train_categorical = pd.read_csv(INPUT_PATH % 'train_categorical',nrows = read_rows)\n",
    "    del train_categorical['Id']\n",
    "    train_categorical_zeroes = train_categorical.fillna(0)\n",
    "    train_categorical_zeroes = train_categorical_zeroes.values \n",
    "    return np.unique(train_categorical_zeroes[train_categorical_zeroes!=0.0])"
   ]
  },
  {
   "cell_type": "code",
   "execution_count": null,
   "metadata": {
    "collapsed": false
   },
   "outputs": [],
   "source": [
    "explore_dintinct_Tx_value('train_categorical', 30)"
   ]
  },
  {
   "cell_type": "markdown",
   "metadata": {},
   "source": [
    "# Feature Enginnering Part"
   ]
  },
  {
   "cell_type": "markdown",
   "metadata": {
    "collapsed": true
   },
   "source": [
    "## Method 1 : Applying PCA for Dimension Reduction\n",
    "Preliminary work to search for appropriate n component\n",
    "benchmark: how many variance is explained or we maintain how much variance"
   ]
  },
  {
   "cell_type": "code",
   "execution_count": null,
   "metadata": {
    "collapsed": false
   },
   "outputs": [],
   "source": [
    "# import additional pakage\n",
    "import math\n",
    "from sklearn.decomposition import PCA, IncrementalPCA\n",
    "from sklearn import preprocessing\n",
    "# define chunksize how many rows load one time\n",
    "chunksize  = 50000"
   ]
  },
  {
   "cell_type": "code",
   "execution_count": null,
   "metadata": {
    "collapsed": false
   },
   "outputs": [],
   "source": [
    "# Getting the column headers from first rows\n",
    "# Reading as float32 to save Memory \n",
    "data = pd.read_csv(INPUT_PATH % 'train_numeric',nrows=1)\n",
    "float_cols = [c for c in data]\n",
    "float32_cols = {c: np.float32 for c in float_cols}"
   ]
  },
  {
   "cell_type": "code",
   "execution_count": null,
   "metadata": {
    "collapsed": false
   },
   "outputs": [],
   "source": [
    "# define the number of pc for preliminary decomposition\n",
    "n_components = 968\n",
    "predictors = [x for x in data.keys() if (x != 'Response' and x != 'Id')]"
   ]
  },
  {
   "cell_type": "code",
   "execution_count": null,
   "metadata": {
    "collapsed": true
   },
   "outputs": [],
   "source": [
    "def standard_feature_scaling(df):\n",
    "    std_scale = preprocessing.StandardScaler().fit(df)\n",
    "    df_std = pd.DataFrame(std_scale.transform(df))\n",
    "    df_std.columns = df.columns\n",
    "    df_std.index = df.index\n",
    "    return df_std"
   ]
  },
  {
   "cell_type": "code",
   "execution_count": null,
   "metadata": {
    "collapsed": false
   },
   "outputs": [],
   "source": [
    "def mean_imputer(DF):\n",
    "    fill_NaN = preprocessing.Imputer(missing_values=np.nan, strategy='mean')\n",
    "    imputed_DF = pd.DataFrame(fill_NaN.fit_transform(DF))\n",
    "    imputed_DF.columns = DF.columns\n",
    "    imputed_DF.index = DF.index\n",
    "    return imputed_DF"
   ]
  },
  {
   "cell_type": "code",
   "execution_count": null,
   "metadata": {
    "collapsed": false,
    "scrolled": true
   },
   "outputs": [],
   "source": [
    "ipca = IncrementalPCA(n_components=968)\n",
    "# Due to the large dataset read data seperately in chunks and perform IncrementalPCA \n",
    "counter = 0\n",
    "for chunk in pd.read_csv(INPUT_PATH % 'train_numeric', chunksize=chunksize,dtype=float32_cols):\n",
    "    counter += chunksize\n",
    "    print ('processed',counter,'samples')\n",
    "# To do: what value to fill NA \n",
    "    imputed_chunk = chunk[predictors].fillna(0.09)\n",
    "    #imputed_chunk = mean_imputer(chunk[predictors])\n",
    "    scailed_chunk = standard_feature_scaling(imputed_chunk)\n",
    "#    chunk  = scailed_chunk.fillna(0)\n",
    "    ipca.partial_fit(scailed_chunk)\n",
    "print ('Number of Samples Seen:',ipca.n_samples_seen_ )\n"
   ]
  },
  {
   "cell_type": "code",
   "execution_count": null,
   "metadata": {
    "collapsed": false
   },
   "outputs": [],
   "source": [
    "def get_explained_variance(pca_components):\n",
    "    #print ('Explained variance by %d PCs:' %pca_components, np.sum(ipca.explained_variance_ratio_[:pca_components]))\n",
    "    return np.sum(ipca.explained_variance_ratio_[:pca_components])"
   ]
  },
  {
   "cell_type": "code",
   "execution_count": null,
   "metadata": {
    "collapsed": false,
    "scrolled": true
   },
   "outputs": [],
   "source": [
    "# plot how many variance is explained based on how many n_components\n",
    "n_components_value = range(968)\n",
    "n_components_explained_variance = [get_explained_variance(x) for x in n_components_value]\n",
    "explained_variance_pd = pd.DataFrame(n_components_explained_variance, columns=['explained_variance_rate'])\n",
    "my_plot = explained_variance_pd.plot(title=\"explained_variance_rate\", figsize=(10,6), fontsize=12)\n",
    "my_plot.set_ylabel(\"Explained Variance Rate\")\n",
    "my_plot.set_xlabel(\"Number of Component\")\n",
    "n_components_explained_variance"
   ]
  },
  {
   "cell_type": "code",
   "execution_count": null,
   "metadata": {
    "collapsed": false,
    "scrolled": true
   },
   "outputs": [],
   "source": [
    "# Make Train DataFrame only with n PC \n",
    "PC_n = ['f'+str(x) for x in range(0,n_components)]\n",
    "date_final = pd.DataFrame(columns=PC_n)\n",
    "for cat in pd.read_csv(INPUT_PATH % 'train_numeric', chunksize=chunksize,dtype=float32_cols):\n",
    "        cat  = cat.fillna(999)\n",
    "        y=ipca.transform(cat[predictors])\n",
    "        temp = cat['Id'].to_frame()\n",
    "        for i in PC_n:\n",
    "            temp[i]=0\n",
    "        temp[PC_n]=y\n",
    "        date_final = date_final.merge(temp, how='outer')\n",
    "print (date_final)\n",
    "date_final['Id'] = date_final['Id'].astype(np.int32)\n",
    "# save new dataset to CSV file \n",
    "train_filename = 'train_numeric_SVD_%s.csv' % n_components\n",
    "#date_final.to_csv(INPUT_PATH % train_filename,index=0)"
   ]
  },
  {
   "cell_type": "code",
   "execution_count": null,
   "metadata": {
    "collapsed": true
   },
   "outputs": [],
   "source": [
    "# Make Test DataFrame only with n PC \n",
    "PC_n = ['f'+str(x) for x in range(0,n_components)]\n",
    "date_final = pd.DataFrame(columns=PC_n)\n",
    "for cat in pd.read_csv('../input/test_numeric.csv', chunksize=chunksize,dtype=float32_cols):\n",
    "        cat  = cat.fillna(999)\n",
    "        y=ipca.transform(cat[predictors])\n",
    "        temp = cat['Id'].to_frame()\n",
    "        for i in PC_n:\n",
    "            temp[i]=0\n",
    "        temp[PC_n]=y\n",
    "        date_final = date_final.merge(temp, how='outer')\n",
    "date_final['Id'] = date_final['Id'].astype(np.int32)\n",
    "test_filename = 'test_numeric_SVD_%s.csv' % n_components\n",
    "# Save dataset to CSV file\n",
    "#date_final.to_csv(INPUT_PATH % test_filename,index=0)"
   ]
  },
  {
   "cell_type": "markdown",
   "metadata": {},
   "source": [
    "## Method 2 : XGBoost to select important features\n",
    "\n",
    "choose 25 top date and numerical features reported by initial xgboost"
   ]
  },
  {
   "cell_type": "code",
   "execution_count": 9,
   "metadata": {
    "collapsed": true
   },
   "outputs": [],
   "source": [
    "# import additional package\n",
    "from xgboost import XGBClassifier\n",
    "import xgboost as xgb\n",
    "from sklearn.metrics import matthews_corrcoef, roc_auc_score\n",
    "from sklearn.cross_validation import cross_val_score, StratifiedKFold"
   ]
  },
  {
   "cell_type": "code",
   "execution_count": 10,
   "metadata": {
    "collapsed": false
   },
   "outputs": [],
   "source": [
    "# Sample the data in a roundabout way to get 5 percent sample\n",
    "date_chunks = pd.read_csv(\"../data/train_date.csv\", index_col=0, chunksize=10000, dtype=np.float32)\n",
    "num_chunks = pd.read_csv(\"../data/train_numeric.csv\", index_col=0,\n",
    "                         usecols=list(range(969)), chunksize=10000, dtype=np.float32)\n",
    "df_train = pd.concat([pd.concat([dchunk, nchunk], axis=1).sample(frac=0.05)\n",
    "               for dchunk, nchunk in zip(date_chunks, num_chunks)])\n",
    "y_sample = pd.read_csv(\"../data/train_numeric.csv\", index_col=0, usecols=[0,969], dtype=np.float32).loc[df_train.index].values.ravel()\n",
    "x_sample = df_train.values"
   ]
  },
  {
   "cell_type": "code",
   "execution_count": 11,
   "metadata": {
    "collapsed": false
   },
   "outputs": [],
   "source": [
    "# # now just numerical feature to see the result\n",
    "# num_chunks = pd.read_csv(\"../data/train_numeric.csv\", index_col=0,\n",
    "#                          usecols=list(range(969)), chunksize=10000, dtype=np.float32)\n",
    "# df_train = pd.concat([nchunk for nchunk in num_chunks])"
   ]
  },
  {
   "cell_type": "code",
   "execution_count": 12,
   "metadata": {
    "collapsed": false
   },
   "outputs": [
    {
     "data": {
      "text/plain": [
       "XGBClassifier(base_score=0.005, colsample_bylevel=1, colsample_bytree=1,\n",
       "       gamma=0, learning_rate=0.1, max_delta_step=0, max_depth=3,\n",
       "       min_child_weight=1, missing=None, n_estimators=100, nthread=-1,\n",
       "       objective='binary:logistic', reg_alpha=0, reg_lambda=1,\n",
       "       scale_pos_weight=1, seed=0, silent=True, subsample=1)"
      ]
     },
     "execution_count": 12,
     "metadata": {},
     "output_type": "execute_result"
    }
   ],
   "source": [
    "#TODO fit y ravel or not?\n",
    "clf = XGBClassifier(base_score=0.005)\n",
    "clf.fit(x_sample, y_sample)"
   ]
  },
  {
   "cell_type": "code",
   "execution_count": 13,
   "metadata": {
    "collapsed": false
   },
   "outputs": [
    {
     "name": "stderr",
     "output_type": "stream",
     "text": [
      "/anaconda/lib/python2.7/site-packages/ipykernel/__main__.py:5: FutureWarning: sort(columns=....) is deprecated, use sort_values(by=.....)\n"
     ]
    },
    {
     "data": {
      "application/javascript": [
       "/* Put everything inside the global mpl namespace */\n",
       "window.mpl = {};\n",
       "\n",
       "mpl.get_websocket_type = function() {\n",
       "    if (typeof(WebSocket) !== 'undefined') {\n",
       "        return WebSocket;\n",
       "    } else if (typeof(MozWebSocket) !== 'undefined') {\n",
       "        return MozWebSocket;\n",
       "    } else {\n",
       "        alert('Your browser does not have WebSocket support.' +\n",
       "              'Please try Chrome, Safari or Firefox ≥ 6. ' +\n",
       "              'Firefox 4 and 5 are also supported but you ' +\n",
       "              'have to enable WebSockets in about:config.');\n",
       "    };\n",
       "}\n",
       "\n",
       "mpl.figure = function(figure_id, websocket, ondownload, parent_element) {\n",
       "    this.id = figure_id;\n",
       "\n",
       "    this.ws = websocket;\n",
       "\n",
       "    this.supports_binary = (this.ws.binaryType != undefined);\n",
       "\n",
       "    if (!this.supports_binary) {\n",
       "        var warnings = document.getElementById(\"mpl-warnings\");\n",
       "        if (warnings) {\n",
       "            warnings.style.display = 'block';\n",
       "            warnings.textContent = (\n",
       "                \"This browser does not support binary websocket messages. \" +\n",
       "                    \"Performance may be slow.\");\n",
       "        }\n",
       "    }\n",
       "\n",
       "    this.imageObj = new Image();\n",
       "\n",
       "    this.context = undefined;\n",
       "    this.message = undefined;\n",
       "    this.canvas = undefined;\n",
       "    this.rubberband_canvas = undefined;\n",
       "    this.rubberband_context = undefined;\n",
       "    this.format_dropdown = undefined;\n",
       "\n",
       "    this.image_mode = 'full';\n",
       "\n",
       "    this.root = $('<div/>');\n",
       "    this._root_extra_style(this.root)\n",
       "    this.root.attr('style', 'display: inline-block');\n",
       "\n",
       "    $(parent_element).append(this.root);\n",
       "\n",
       "    this._init_header(this);\n",
       "    this._init_canvas(this);\n",
       "    this._init_toolbar(this);\n",
       "\n",
       "    var fig = this;\n",
       "\n",
       "    this.waiting = false;\n",
       "\n",
       "    this.ws.onopen =  function () {\n",
       "            fig.send_message(\"supports_binary\", {value: fig.supports_binary});\n",
       "            fig.send_message(\"send_image_mode\", {});\n",
       "            fig.send_message(\"refresh\", {});\n",
       "        }\n",
       "\n",
       "    this.imageObj.onload = function() {\n",
       "            if (fig.image_mode == 'full') {\n",
       "                // Full images could contain transparency (where diff images\n",
       "                // almost always do), so we need to clear the canvas so that\n",
       "                // there is no ghosting.\n",
       "                fig.context.clearRect(0, 0, fig.canvas.width, fig.canvas.height);\n",
       "            }\n",
       "            fig.context.drawImage(fig.imageObj, 0, 0);\n",
       "        };\n",
       "\n",
       "    this.imageObj.onunload = function() {\n",
       "        this.ws.close();\n",
       "    }\n",
       "\n",
       "    this.ws.onmessage = this._make_on_message_function(this);\n",
       "\n",
       "    this.ondownload = ondownload;\n",
       "}\n",
       "\n",
       "mpl.figure.prototype._init_header = function() {\n",
       "    var titlebar = $(\n",
       "        '<div class=\"ui-dialog-titlebar ui-widget-header ui-corner-all ' +\n",
       "        'ui-helper-clearfix\"/>');\n",
       "    var titletext = $(\n",
       "        '<div class=\"ui-dialog-title\" style=\"width: 100%; ' +\n",
       "        'text-align: center; padding: 3px;\"/>');\n",
       "    titlebar.append(titletext)\n",
       "    this.root.append(titlebar);\n",
       "    this.header = titletext[0];\n",
       "}\n",
       "\n",
       "\n",
       "\n",
       "mpl.figure.prototype._canvas_extra_style = function(canvas_div) {\n",
       "\n",
       "}\n",
       "\n",
       "\n",
       "mpl.figure.prototype._root_extra_style = function(canvas_div) {\n",
       "\n",
       "}\n",
       "\n",
       "mpl.figure.prototype._init_canvas = function() {\n",
       "    var fig = this;\n",
       "\n",
       "    var canvas_div = $('<div/>');\n",
       "\n",
       "    canvas_div.attr('style', 'position: relative; clear: both; outline: 0');\n",
       "\n",
       "    function canvas_keyboard_event(event) {\n",
       "        return fig.key_event(event, event['data']);\n",
       "    }\n",
       "\n",
       "    canvas_div.keydown('key_press', canvas_keyboard_event);\n",
       "    canvas_div.keyup('key_release', canvas_keyboard_event);\n",
       "    this.canvas_div = canvas_div\n",
       "    this._canvas_extra_style(canvas_div)\n",
       "    this.root.append(canvas_div);\n",
       "\n",
       "    var canvas = $('<canvas/>');\n",
       "    canvas.addClass('mpl-canvas');\n",
       "    canvas.attr('style', \"left: 0; top: 0; z-index: 0; outline: 0\")\n",
       "\n",
       "    this.canvas = canvas[0];\n",
       "    this.context = canvas[0].getContext(\"2d\");\n",
       "\n",
       "    var rubberband = $('<canvas/>');\n",
       "    rubberband.attr('style', \"position: absolute; left: 0; top: 0; z-index: 1;\")\n",
       "\n",
       "    var pass_mouse_events = true;\n",
       "\n",
       "    canvas_div.resizable({\n",
       "        start: function(event, ui) {\n",
       "            pass_mouse_events = false;\n",
       "        },\n",
       "        resize: function(event, ui) {\n",
       "            fig.request_resize(ui.size.width, ui.size.height);\n",
       "        },\n",
       "        stop: function(event, ui) {\n",
       "            pass_mouse_events = true;\n",
       "            fig.request_resize(ui.size.width, ui.size.height);\n",
       "        },\n",
       "    });\n",
       "\n",
       "    function mouse_event_fn(event) {\n",
       "        if (pass_mouse_events)\n",
       "            return fig.mouse_event(event, event['data']);\n",
       "    }\n",
       "\n",
       "    rubberband.mousedown('button_press', mouse_event_fn);\n",
       "    rubberband.mouseup('button_release', mouse_event_fn);\n",
       "    // Throttle sequential mouse events to 1 every 20ms.\n",
       "    rubberband.mousemove('motion_notify', mouse_event_fn);\n",
       "\n",
       "    rubberband.mouseenter('figure_enter', mouse_event_fn);\n",
       "    rubberband.mouseleave('figure_leave', mouse_event_fn);\n",
       "\n",
       "    canvas_div.on(\"wheel\", function (event) {\n",
       "        event = event.originalEvent;\n",
       "        event['data'] = 'scroll'\n",
       "        if (event.deltaY < 0) {\n",
       "            event.step = 1;\n",
       "        } else {\n",
       "            event.step = -1;\n",
       "        }\n",
       "        mouse_event_fn(event);\n",
       "    });\n",
       "\n",
       "    canvas_div.append(canvas);\n",
       "    canvas_div.append(rubberband);\n",
       "\n",
       "    this.rubberband = rubberband;\n",
       "    this.rubberband_canvas = rubberband[0];\n",
       "    this.rubberband_context = rubberband[0].getContext(\"2d\");\n",
       "    this.rubberband_context.strokeStyle = \"#000000\";\n",
       "\n",
       "    this._resize_canvas = function(width, height) {\n",
       "        // Keep the size of the canvas, canvas container, and rubber band\n",
       "        // canvas in synch.\n",
       "        canvas_div.css('width', width)\n",
       "        canvas_div.css('height', height)\n",
       "\n",
       "        canvas.attr('width', width);\n",
       "        canvas.attr('height', height);\n",
       "\n",
       "        rubberband.attr('width', width);\n",
       "        rubberband.attr('height', height);\n",
       "    }\n",
       "\n",
       "    // Set the figure to an initial 600x600px, this will subsequently be updated\n",
       "    // upon first draw.\n",
       "    this._resize_canvas(600, 600);\n",
       "\n",
       "    // Disable right mouse context menu.\n",
       "    $(this.rubberband_canvas).bind(\"contextmenu\",function(e){\n",
       "        return false;\n",
       "    });\n",
       "\n",
       "    function set_focus () {\n",
       "        canvas.focus();\n",
       "        canvas_div.focus();\n",
       "    }\n",
       "\n",
       "    window.setTimeout(set_focus, 100);\n",
       "}\n",
       "\n",
       "mpl.figure.prototype._init_toolbar = function() {\n",
       "    var fig = this;\n",
       "\n",
       "    var nav_element = $('<div/>')\n",
       "    nav_element.attr('style', 'width: 100%');\n",
       "    this.root.append(nav_element);\n",
       "\n",
       "    // Define a callback function for later on.\n",
       "    function toolbar_event(event) {\n",
       "        return fig.toolbar_button_onclick(event['data']);\n",
       "    }\n",
       "    function toolbar_mouse_event(event) {\n",
       "        return fig.toolbar_button_onmouseover(event['data']);\n",
       "    }\n",
       "\n",
       "    for(var toolbar_ind in mpl.toolbar_items) {\n",
       "        var name = mpl.toolbar_items[toolbar_ind][0];\n",
       "        var tooltip = mpl.toolbar_items[toolbar_ind][1];\n",
       "        var image = mpl.toolbar_items[toolbar_ind][2];\n",
       "        var method_name = mpl.toolbar_items[toolbar_ind][3];\n",
       "\n",
       "        if (!name) {\n",
       "            // put a spacer in here.\n",
       "            continue;\n",
       "        }\n",
       "        var button = $('<button/>');\n",
       "        button.addClass('ui-button ui-widget ui-state-default ui-corner-all ' +\n",
       "                        'ui-button-icon-only');\n",
       "        button.attr('role', 'button');\n",
       "        button.attr('aria-disabled', 'false');\n",
       "        button.click(method_name, toolbar_event);\n",
       "        button.mouseover(tooltip, toolbar_mouse_event);\n",
       "\n",
       "        var icon_img = $('<span/>');\n",
       "        icon_img.addClass('ui-button-icon-primary ui-icon');\n",
       "        icon_img.addClass(image);\n",
       "        icon_img.addClass('ui-corner-all');\n",
       "\n",
       "        var tooltip_span = $('<span/>');\n",
       "        tooltip_span.addClass('ui-button-text');\n",
       "        tooltip_span.html(tooltip);\n",
       "\n",
       "        button.append(icon_img);\n",
       "        button.append(tooltip_span);\n",
       "\n",
       "        nav_element.append(button);\n",
       "    }\n",
       "\n",
       "    var fmt_picker_span = $('<span/>');\n",
       "\n",
       "    var fmt_picker = $('<select/>');\n",
       "    fmt_picker.addClass('mpl-toolbar-option ui-widget ui-widget-content');\n",
       "    fmt_picker_span.append(fmt_picker);\n",
       "    nav_element.append(fmt_picker_span);\n",
       "    this.format_dropdown = fmt_picker[0];\n",
       "\n",
       "    for (var ind in mpl.extensions) {\n",
       "        var fmt = mpl.extensions[ind];\n",
       "        var option = $(\n",
       "            '<option/>', {selected: fmt === mpl.default_extension}).html(fmt);\n",
       "        fmt_picker.append(option)\n",
       "    }\n",
       "\n",
       "    // Add hover states to the ui-buttons\n",
       "    $( \".ui-button\" ).hover(\n",
       "        function() { $(this).addClass(\"ui-state-hover\");},\n",
       "        function() { $(this).removeClass(\"ui-state-hover\");}\n",
       "    );\n",
       "\n",
       "    var status_bar = $('<span class=\"mpl-message\"/>');\n",
       "    nav_element.append(status_bar);\n",
       "    this.message = status_bar[0];\n",
       "}\n",
       "\n",
       "mpl.figure.prototype.request_resize = function(x_pixels, y_pixels) {\n",
       "    // Request matplotlib to resize the figure. Matplotlib will then trigger a resize in the client,\n",
       "    // which will in turn request a refresh of the image.\n",
       "    this.send_message('resize', {'width': x_pixels, 'height': y_pixels});\n",
       "}\n",
       "\n",
       "mpl.figure.prototype.send_message = function(type, properties) {\n",
       "    properties['type'] = type;\n",
       "    properties['figure_id'] = this.id;\n",
       "    this.ws.send(JSON.stringify(properties));\n",
       "}\n",
       "\n",
       "mpl.figure.prototype.send_draw_message = function() {\n",
       "    if (!this.waiting) {\n",
       "        this.waiting = true;\n",
       "        this.ws.send(JSON.stringify({type: \"draw\", figure_id: this.id}));\n",
       "    }\n",
       "}\n",
       "\n",
       "\n",
       "mpl.figure.prototype.handle_save = function(fig, msg) {\n",
       "    var format_dropdown = fig.format_dropdown;\n",
       "    var format = format_dropdown.options[format_dropdown.selectedIndex].value;\n",
       "    fig.ondownload(fig, format);\n",
       "}\n",
       "\n",
       "\n",
       "mpl.figure.prototype.handle_resize = function(fig, msg) {\n",
       "    var size = msg['size'];\n",
       "    if (size[0] != fig.canvas.width || size[1] != fig.canvas.height) {\n",
       "        fig._resize_canvas(size[0], size[1]);\n",
       "        fig.send_message(\"refresh\", {});\n",
       "    };\n",
       "}\n",
       "\n",
       "mpl.figure.prototype.handle_rubberband = function(fig, msg) {\n",
       "    var x0 = msg['x0'];\n",
       "    var y0 = fig.canvas.height - msg['y0'];\n",
       "    var x1 = msg['x1'];\n",
       "    var y1 = fig.canvas.height - msg['y1'];\n",
       "    x0 = Math.floor(x0) + 0.5;\n",
       "    y0 = Math.floor(y0) + 0.5;\n",
       "    x1 = Math.floor(x1) + 0.5;\n",
       "    y1 = Math.floor(y1) + 0.5;\n",
       "    var min_x = Math.min(x0, x1);\n",
       "    var min_y = Math.min(y0, y1);\n",
       "    var width = Math.abs(x1 - x0);\n",
       "    var height = Math.abs(y1 - y0);\n",
       "\n",
       "    fig.rubberband_context.clearRect(\n",
       "        0, 0, fig.canvas.width, fig.canvas.height);\n",
       "\n",
       "    fig.rubberband_context.strokeRect(min_x, min_y, width, height);\n",
       "}\n",
       "\n",
       "mpl.figure.prototype.handle_figure_label = function(fig, msg) {\n",
       "    // Updates the figure title.\n",
       "    fig.header.textContent = msg['label'];\n",
       "}\n",
       "\n",
       "mpl.figure.prototype.handle_cursor = function(fig, msg) {\n",
       "    var cursor = msg['cursor'];\n",
       "    switch(cursor)\n",
       "    {\n",
       "    case 0:\n",
       "        cursor = 'pointer';\n",
       "        break;\n",
       "    case 1:\n",
       "        cursor = 'default';\n",
       "        break;\n",
       "    case 2:\n",
       "        cursor = 'crosshair';\n",
       "        break;\n",
       "    case 3:\n",
       "        cursor = 'move';\n",
       "        break;\n",
       "    }\n",
       "    fig.rubberband_canvas.style.cursor = cursor;\n",
       "}\n",
       "\n",
       "mpl.figure.prototype.handle_message = function(fig, msg) {\n",
       "    fig.message.textContent = msg['message'];\n",
       "}\n",
       "\n",
       "mpl.figure.prototype.handle_draw = function(fig, msg) {\n",
       "    // Request the server to send over a new figure.\n",
       "    fig.send_draw_message();\n",
       "}\n",
       "\n",
       "mpl.figure.prototype.handle_image_mode = function(fig, msg) {\n",
       "    fig.image_mode = msg['mode'];\n",
       "}\n",
       "\n",
       "mpl.figure.prototype.updated_canvas_event = function() {\n",
       "    // Called whenever the canvas gets updated.\n",
       "    this.send_message(\"ack\", {});\n",
       "}\n",
       "\n",
       "// A function to construct a web socket function for onmessage handling.\n",
       "// Called in the figure constructor.\n",
       "mpl.figure.prototype._make_on_message_function = function(fig) {\n",
       "    return function socket_on_message(evt) {\n",
       "        if (evt.data instanceof Blob) {\n",
       "            /* FIXME: We get \"Resource interpreted as Image but\n",
       "             * transferred with MIME type text/plain:\" errors on\n",
       "             * Chrome.  But how to set the MIME type?  It doesn't seem\n",
       "             * to be part of the websocket stream */\n",
       "            evt.data.type = \"image/png\";\n",
       "\n",
       "            /* Free the memory for the previous frames */\n",
       "            if (fig.imageObj.src) {\n",
       "                (window.URL || window.webkitURL).revokeObjectURL(\n",
       "                    fig.imageObj.src);\n",
       "            }\n",
       "\n",
       "            fig.imageObj.src = (window.URL || window.webkitURL).createObjectURL(\n",
       "                evt.data);\n",
       "            fig.updated_canvas_event();\n",
       "            fig.waiting = false;\n",
       "            return;\n",
       "        }\n",
       "        else if (typeof evt.data === 'string' && evt.data.slice(0, 21) == \"data:image/png;base64\") {\n",
       "            fig.imageObj.src = evt.data;\n",
       "            fig.updated_canvas_event();\n",
       "            fig.waiting = false;\n",
       "            return;\n",
       "        }\n",
       "\n",
       "        var msg = JSON.parse(evt.data);\n",
       "        var msg_type = msg['type'];\n",
       "\n",
       "        // Call the  \"handle_{type}\" callback, which takes\n",
       "        // the figure and JSON message as its only arguments.\n",
       "        try {\n",
       "            var callback = fig[\"handle_\" + msg_type];\n",
       "        } catch (e) {\n",
       "            console.log(\"No handler for the '\" + msg_type + \"' message type: \", msg);\n",
       "            return;\n",
       "        }\n",
       "\n",
       "        if (callback) {\n",
       "            try {\n",
       "                // console.log(\"Handling '\" + msg_type + \"' message: \", msg);\n",
       "                callback(fig, msg);\n",
       "            } catch (e) {\n",
       "                console.log(\"Exception inside the 'handler_\" + msg_type + \"' callback:\", e, e.stack, msg);\n",
       "            }\n",
       "        }\n",
       "    };\n",
       "}\n",
       "\n",
       "// from http://stackoverflow.com/questions/1114465/getting-mouse-location-in-canvas\n",
       "mpl.findpos = function(e) {\n",
       "    //this section is from http://www.quirksmode.org/js/events_properties.html\n",
       "    var targ;\n",
       "    if (!e)\n",
       "        e = window.event;\n",
       "    if (e.target)\n",
       "        targ = e.target;\n",
       "    else if (e.srcElement)\n",
       "        targ = e.srcElement;\n",
       "    if (targ.nodeType == 3) // defeat Safari bug\n",
       "        targ = targ.parentNode;\n",
       "\n",
       "    // jQuery normalizes the pageX and pageY\n",
       "    // pageX,Y are the mouse positions relative to the document\n",
       "    // offset() returns the position of the element relative to the document\n",
       "    var x = e.pageX - $(targ).offset().left;\n",
       "    var y = e.pageY - $(targ).offset().top;\n",
       "\n",
       "    return {\"x\": x, \"y\": y};\n",
       "};\n",
       "\n",
       "/*\n",
       " * return a copy of an object with only non-object keys\n",
       " * we need this to avoid circular references\n",
       " * http://stackoverflow.com/a/24161582/3208463\n",
       " */\n",
       "function simpleKeys (original) {\n",
       "  return Object.keys(original).reduce(function (obj, key) {\n",
       "    if (typeof original[key] !== 'object')\n",
       "        obj[key] = original[key]\n",
       "    return obj;\n",
       "  }, {});\n",
       "}\n",
       "\n",
       "mpl.figure.prototype.mouse_event = function(event, name) {\n",
       "    var canvas_pos = mpl.findpos(event)\n",
       "\n",
       "    if (name === 'button_press')\n",
       "    {\n",
       "        this.canvas.focus();\n",
       "        this.canvas_div.focus();\n",
       "    }\n",
       "\n",
       "    var x = canvas_pos.x;\n",
       "    var y = canvas_pos.y;\n",
       "\n",
       "    this.send_message(name, {x: x, y: y, button: event.button,\n",
       "                             step: event.step,\n",
       "                             guiEvent: simpleKeys(event)});\n",
       "\n",
       "    /* This prevents the web browser from automatically changing to\n",
       "     * the text insertion cursor when the button is pressed.  We want\n",
       "     * to control all of the cursor setting manually through the\n",
       "     * 'cursor' event from matplotlib */\n",
       "    event.preventDefault();\n",
       "    return false;\n",
       "}\n",
       "\n",
       "mpl.figure.prototype._key_event_extra = function(event, name) {\n",
       "    // Handle any extra behaviour associated with a key event\n",
       "}\n",
       "\n",
       "mpl.figure.prototype.key_event = function(event, name) {\n",
       "\n",
       "    // Prevent repeat events\n",
       "    if (name == 'key_press')\n",
       "    {\n",
       "        if (event.which === this._key)\n",
       "            return;\n",
       "        else\n",
       "            this._key = event.which;\n",
       "    }\n",
       "    if (name == 'key_release')\n",
       "        this._key = null;\n",
       "\n",
       "    var value = '';\n",
       "    if (event.ctrlKey && event.which != 17)\n",
       "        value += \"ctrl+\";\n",
       "    if (event.altKey && event.which != 18)\n",
       "        value += \"alt+\";\n",
       "    if (event.shiftKey && event.which != 16)\n",
       "        value += \"shift+\";\n",
       "\n",
       "    value += 'k';\n",
       "    value += event.which.toString();\n",
       "\n",
       "    this._key_event_extra(event, name);\n",
       "\n",
       "    this.send_message(name, {key: value,\n",
       "                             guiEvent: simpleKeys(event)});\n",
       "    return false;\n",
       "}\n",
       "\n",
       "mpl.figure.prototype.toolbar_button_onclick = function(name) {\n",
       "    if (name == 'download') {\n",
       "        this.handle_save(this, null);\n",
       "    } else {\n",
       "        this.send_message(\"toolbar_button\", {name: name});\n",
       "    }\n",
       "};\n",
       "\n",
       "mpl.figure.prototype.toolbar_button_onmouseover = function(tooltip) {\n",
       "    this.message.textContent = tooltip;\n",
       "};\n",
       "mpl.toolbar_items = [[\"Home\", \"Reset original view\", \"fa fa-home icon-home\", \"home\"], [\"Back\", \"Back to  previous view\", \"fa fa-arrow-left icon-arrow-left\", \"back\"], [\"Forward\", \"Forward to next view\", \"fa fa-arrow-right icon-arrow-right\", \"forward\"], [\"\", \"\", \"\", \"\"], [\"Pan\", \"Pan axes with left mouse, zoom with right\", \"fa fa-arrows icon-move\", \"pan\"], [\"Zoom\", \"Zoom to rectangle\", \"fa fa-square-o icon-check-empty\", \"zoom\"], [\"\", \"\", \"\", \"\"], [\"Download\", \"Download plot\", \"fa fa-floppy-o icon-save\", \"download\"]];\n",
       "\n",
       "mpl.extensions = [\"eps\", \"jpeg\", \"pdf\", \"png\", \"ps\", \"raw\", \"svg\", \"tif\"];\n",
       "\n",
       "mpl.default_extension = \"png\";var comm_websocket_adapter = function(comm) {\n",
       "    // Create a \"websocket\"-like object which calls the given IPython comm\n",
       "    // object with the appropriate methods. Currently this is a non binary\n",
       "    // socket, so there is still some room for performance tuning.\n",
       "    var ws = {};\n",
       "\n",
       "    ws.close = function() {\n",
       "        comm.close()\n",
       "    };\n",
       "    ws.send = function(m) {\n",
       "        //console.log('sending', m);\n",
       "        comm.send(m);\n",
       "    };\n",
       "    // Register the callback with on_msg.\n",
       "    comm.on_msg(function(msg) {\n",
       "        //console.log('receiving', msg['content']['data'], msg);\n",
       "        // Pass the mpl event to the overriden (by mpl) onmessage function.\n",
       "        ws.onmessage(msg['content']['data'])\n",
       "    });\n",
       "    return ws;\n",
       "}\n",
       "\n",
       "mpl.mpl_figure_comm = function(comm, msg) {\n",
       "    // This is the function which gets called when the mpl process\n",
       "    // starts-up an IPython Comm through the \"matplotlib\" channel.\n",
       "\n",
       "    var id = msg.content.data.id;\n",
       "    // Get hold of the div created by the display call when the Comm\n",
       "    // socket was opened in Python.\n",
       "    var element = $(\"#\" + id);\n",
       "    var ws_proxy = comm_websocket_adapter(comm)\n",
       "\n",
       "    function ondownload(figure, format) {\n",
       "        window.open(figure.imageObj.src);\n",
       "    }\n",
       "\n",
       "    var fig = new mpl.figure(id, ws_proxy,\n",
       "                           ondownload,\n",
       "                           element.get(0));\n",
       "\n",
       "    // Call onopen now - mpl needs it, as it is assuming we've passed it a real\n",
       "    // web socket which is closed, not our websocket->open comm proxy.\n",
       "    ws_proxy.onopen();\n",
       "\n",
       "    fig.parent_element = element.get(0);\n",
       "    fig.cell_info = mpl.find_output_cell(\"<div id='\" + id + \"'></div>\");\n",
       "    if (!fig.cell_info) {\n",
       "        console.error(\"Failed to find cell for figure\", id, fig);\n",
       "        return;\n",
       "    }\n",
       "\n",
       "    var output_index = fig.cell_info[2]\n",
       "    var cell = fig.cell_info[0];\n",
       "\n",
       "};\n",
       "\n",
       "mpl.figure.prototype.handle_close = function(fig, msg) {\n",
       "    fig.root.unbind('remove')\n",
       "\n",
       "    // Update the output cell to use the data from the current canvas.\n",
       "    fig.push_to_output();\n",
       "    var dataURL = fig.canvas.toDataURL();\n",
       "    // Re-enable the keyboard manager in IPython - without this line, in FF,\n",
       "    // the notebook keyboard shortcuts fail.\n",
       "    IPython.keyboard_manager.enable()\n",
       "    $(fig.parent_element).html('<img src=\"' + dataURL + '\">');\n",
       "    fig.close_ws(fig, msg);\n",
       "}\n",
       "\n",
       "mpl.figure.prototype.close_ws = function(fig, msg){\n",
       "    fig.send_message('closing', msg);\n",
       "    // fig.ws.close()\n",
       "}\n",
       "\n",
       "mpl.figure.prototype.push_to_output = function(remove_interactive) {\n",
       "    // Turn the data on the canvas into data in the output cell.\n",
       "    var dataURL = this.canvas.toDataURL();\n",
       "    this.cell_info[1]['text/html'] = '<img src=\"' + dataURL + '\">';\n",
       "}\n",
       "\n",
       "mpl.figure.prototype.updated_canvas_event = function() {\n",
       "    // Tell IPython that the notebook contents must change.\n",
       "    IPython.notebook.set_dirty(true);\n",
       "    this.send_message(\"ack\", {});\n",
       "    var fig = this;\n",
       "    // Wait a second, then push the new image to the DOM so\n",
       "    // that it is saved nicely (might be nice to debounce this).\n",
       "    setTimeout(function () { fig.push_to_output() }, 1000);\n",
       "}\n",
       "\n",
       "mpl.figure.prototype._init_toolbar = function() {\n",
       "    var fig = this;\n",
       "\n",
       "    var nav_element = $('<div/>')\n",
       "    nav_element.attr('style', 'width: 100%');\n",
       "    this.root.append(nav_element);\n",
       "\n",
       "    // Define a callback function for later on.\n",
       "    function toolbar_event(event) {\n",
       "        return fig.toolbar_button_onclick(event['data']);\n",
       "    }\n",
       "    function toolbar_mouse_event(event) {\n",
       "        return fig.toolbar_button_onmouseover(event['data']);\n",
       "    }\n",
       "\n",
       "    for(var toolbar_ind in mpl.toolbar_items){\n",
       "        var name = mpl.toolbar_items[toolbar_ind][0];\n",
       "        var tooltip = mpl.toolbar_items[toolbar_ind][1];\n",
       "        var image = mpl.toolbar_items[toolbar_ind][2];\n",
       "        var method_name = mpl.toolbar_items[toolbar_ind][3];\n",
       "\n",
       "        if (!name) { continue; };\n",
       "\n",
       "        var button = $('<button class=\"btn btn-default\" href=\"#\" title=\"' + name + '\"><i class=\"fa ' + image + ' fa-lg\"></i></button>');\n",
       "        button.click(method_name, toolbar_event);\n",
       "        button.mouseover(tooltip, toolbar_mouse_event);\n",
       "        nav_element.append(button);\n",
       "    }\n",
       "\n",
       "    // Add the status bar.\n",
       "    var status_bar = $('<span class=\"mpl-message\" style=\"text-align:right; float: right;\"/>');\n",
       "    nav_element.append(status_bar);\n",
       "    this.message = status_bar[0];\n",
       "\n",
       "    // Add the close button to the window.\n",
       "    var buttongrp = $('<div class=\"btn-group inline pull-right\"></div>');\n",
       "    var button = $('<button class=\"btn btn-mini btn-primary\" href=\"#\" title=\"Stop Interaction\"><i class=\"fa fa-power-off icon-remove icon-large\"></i></button>');\n",
       "    button.click(function (evt) { fig.handle_close(fig, {}); } );\n",
       "    button.mouseover('Stop Interaction', toolbar_mouse_event);\n",
       "    buttongrp.append(button);\n",
       "    var titlebar = this.root.find($('.ui-dialog-titlebar'));\n",
       "    titlebar.prepend(buttongrp);\n",
       "}\n",
       "\n",
       "mpl.figure.prototype._root_extra_style = function(el){\n",
       "    var fig = this\n",
       "    el.on(\"remove\", function(){\n",
       "\tfig.close_ws(fig, {});\n",
       "    });\n",
       "}\n",
       "\n",
       "mpl.figure.prototype._canvas_extra_style = function(el){\n",
       "    // this is important to make the div 'focusable\n",
       "    el.attr('tabindex', 0)\n",
       "    // reach out to IPython and tell the keyboard manager to turn it's self\n",
       "    // off when our div gets focus\n",
       "\n",
       "    // location in version 3\n",
       "    if (IPython.notebook.keyboard_manager) {\n",
       "        IPython.notebook.keyboard_manager.register_events(el);\n",
       "    }\n",
       "    else {\n",
       "        // location in version 2\n",
       "        IPython.keyboard_manager.register_events(el);\n",
       "    }\n",
       "\n",
       "}\n",
       "\n",
       "mpl.figure.prototype._key_event_extra = function(event, name) {\n",
       "    var manager = IPython.notebook.keyboard_manager;\n",
       "    if (!manager)\n",
       "        manager = IPython.keyboard_manager;\n",
       "\n",
       "    // Check for shift+enter\n",
       "    if (event.shiftKey && event.which == 13) {\n",
       "        this.canvas_div.blur();\n",
       "        event.shiftKey = false;\n",
       "        // Send a \"J\" for go to next cell\n",
       "        event.which = 74;\n",
       "        event.keyCode = 74;\n",
       "        manager.command_mode();\n",
       "        manager.handle_keydown(event);\n",
       "    }\n",
       "}\n",
       "\n",
       "mpl.figure.prototype.handle_save = function(fig, msg) {\n",
       "    fig.ondownload(fig, null);\n",
       "}\n",
       "\n",
       "\n",
       "mpl.find_output_cell = function(html_output) {\n",
       "    // Return the cell and output element which can be found *uniquely* in the notebook.\n",
       "    // Note - this is a bit hacky, but it is done because the \"notebook_saving.Notebook\"\n",
       "    // IPython event is triggered only after the cells have been serialised, which for\n",
       "    // our purposes (turning an active figure into a static one), is too late.\n",
       "    var cells = IPython.notebook.get_cells();\n",
       "    var ncells = cells.length;\n",
       "    for (var i=0; i<ncells; i++) {\n",
       "        var cell = cells[i];\n",
       "        if (cell.cell_type === 'code'){\n",
       "            for (var j=0; j<cell.output_area.outputs.length; j++) {\n",
       "                var data = cell.output_area.outputs[j];\n",
       "                if (data.data) {\n",
       "                    // IPython >= 3 moved mimebundle to data attribute of output\n",
       "                    data = data.data;\n",
       "                }\n",
       "                if (data['text/html'] == html_output) {\n",
       "                    return [cell, data, j];\n",
       "                }\n",
       "            }\n",
       "        }\n",
       "    }\n",
       "}\n",
       "\n",
       "// Register the function which deals with the matplotlib target/channel.\n",
       "// The kernel may be null if the page has been refreshed.\n",
       "if (IPython.notebook.kernel != null) {\n",
       "    IPython.notebook.kernel.comm_manager.register_target('matplotlib', mpl.mpl_figure_comm);\n",
       "}\n"
      ],
      "text/plain": [
       "<IPython.core.display.Javascript object>"
      ]
     },
     "metadata": {},
     "output_type": "display_data"
    },
    {
     "data": {
      "text/html": [
       "<img src=\"data:image/png;base64,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\">"
      ],
      "text/plain": [
       "<IPython.core.display.HTML object>"
      ]
     },
     "metadata": {},
     "output_type": "display_data"
    },
    {
     "data": {
      "text/plain": [
       "<matplotlib.axes._subplots.AxesSubplot at 0x114da5990>"
      ]
     },
     "execution_count": 13,
     "metadata": {},
     "output_type": "execute_result"
    }
   ],
   "source": [
    "fea_importance = pd.DataFrame(clf.feature_importances_)\n",
    "fea_importance.index = df_train.columns\n",
    "fea_importance.columns=[\"feature_importance\"]\n",
    "# select 25 most important feature for xgboost\n",
    "fea_importance_sorted = fea_importance.sort(['feature_importance'], ascending=[0])\n",
    "important_feature_num_date = fea_importance_sorted.ix[0:25,0]\n",
    "important_feature_num_date.plot(kind='bar')"
   ]
  },
  {
   "cell_type": "code",
   "execution_count": 14,
   "metadata": {
    "collapsed": false
   },
   "outputs": [],
   "source": [
    "date_feature_value = pd.read_csv(INPUT_PATH % 'train_date',nrows=1).columns.drop(['Id']).values.tolist()\n",
    "important_feature_num_list = list(set(important_feature_num_date.index.values.tolist())-set(date_feature_value))\n",
    "important_feature_date_list = list(set(important_feature_num_date.index.values.tolist())-set(important_feature_num_list))"
   ]
  },
  {
   "cell_type": "code",
   "execution_count": 15,
   "metadata": {
    "collapsed": false
   },
   "outputs": [],
   "source": [
    "# load entire dataset for these features. \n",
    "X = np.concatenate([\n",
    "    pd.read_csv(\"../data/train_date.csv\", index_col=0, dtype=np.float32,\n",
    "                usecols=['Id']+important_feature_date_list).values,\n",
    "    pd.read_csv(\"../data/train_numeric.csv\", index_col=0, dtype=np.float32,\n",
    "                usecols=['Id']+important_feature_num_list).values\n",
    "], axis=1)\n",
    "\n",
    "y = pd.read_csv(\"../data/train_numeric.csv\", index_col=0, dtype=np.float32, usecols=[0,969]).values.ravel()"
   ]
  },
  {
   "cell_type": "code",
   "execution_count": null,
   "metadata": {
    "collapsed": false
   },
   "outputs": [],
   "source": []
  },
  {
   "cell_type": "code",
   "execution_count": null,
   "metadata": {
    "collapsed": false
   },
   "outputs": [],
   "source": [
    "# create important feature dataframe and plot\n",
    "# fea_importance = pd.DataFrame(clf.feature_importances_)\n",
    "# fea_importance.index = df_train.columns\n",
    "# fea_importance.columns=[\"feature_importance\"]\n",
    "\n",
    "# fea_importance_new = fea_importance[fea_importance.feature_importance >0.005]\n",
    "# fea_importance_new.plot(kind=\"bar\")"
   ]
  },
  {
   "cell_type": "code",
   "execution_count": null,
   "metadata": {
    "collapsed": false
   },
   "outputs": [],
   "source": [
    "# threshold for a manageable number of features\n",
    "# plt.hist(clf.feature_importances_[clf.feature_importances_>0])\n",
    "# important_indices = np.where(clf.feature_importances_>0.005)[0]\n",
    "# print(important_indices)"
   ]
  },
  {
   "cell_type": "code",
   "execution_count": null,
   "metadata": {
    "collapsed": true
   },
   "outputs": [],
   "source": [
    "# load entire dataset for these features. \n",
    "# note where the feature indices are split so we can load the correct ones straight from read_csv\n",
    "# n_date_features = 1156\n",
    "# X = np.concatenate([\n",
    "#     pd.read_csv(\"../data/train_date.csv\", index_col=0, dtype=np.float32,\n",
    "#                 usecols=np.concatenate([[0], important_indices[important_indices < n_date_features] + 1])).values,\n",
    "#     pd.read_csv(\"../data/train_numeric.csv\", index_col=0, dtype=np.float32,\n",
    "#                 usecols=np.concatenate([[0], important_indices[important_indices >= n_date_features] + 1 - n_date_features])).values\n",
    "# ], axis=1)\n",
    "\n",
    "# y = pd.read_csv(\"../data/train_numeric.csv\", index_col=0, dtype=np.float32, usecols=[0,969]).values.ravel()"
   ]
  },
  {
   "cell_type": "markdown",
   "metadata": {},
   "source": [
    "## Method 3 : Magic Feature \n",
    "Start time.   Component(part) production start time\n",
    "\n",
    "MF1.  difference of Id between current and previous rows \n",
    "\n",
    "MF2.  difference of Id between current and next rows \n",
    "\n",
    "MF3.  difference of Id between current and previous rows after sorting on increasing StartTime and Id\n",
    "\n",
    "\n",
    "MF4.  difference of Id between current and next rows after sorting on increasing StartTime and Id\n"
   ]
  },
  {
   "cell_type": "code",
   "execution_count": 2,
   "metadata": {
    "collapsed": false
   },
   "outputs": [],
   "source": [
    "ID_COLUMN = 'Id'\n",
    "TARGET_COLUMN = 'Response'\n",
    "train = pd.read_csv(INPUT_PATH %'train_numeric', usecols=[ID_COLUMN, TARGET_COLUMN])\n",
    "\n",
    "test = pd.read_csv(INPUT_PATH %'test_numeric', usecols=[ID_COLUMN])"
   ]
  },
  {
   "cell_type": "code",
   "execution_count": 3,
   "metadata": {
    "collapsed": true
   },
   "outputs": [],
   "source": [
    "# Start Time feature\n",
    "train[\"StartTime\"] = -1\n",
    "test[\"StartTime\"] = -1"
   ]
  },
  {
   "cell_type": "code",
   "execution_count": 4,
   "metadata": {
    "collapsed": false
   },
   "outputs": [],
   "source": [
    "# fill in start time\n",
    "for tr, te in zip(pd.read_csv(INPUT_PATH %'train_date', chunksize=50000), pd.read_csv(INPUT_PATH %'test_date', chunksize=50000)):\n",
    "    #pick all columns except ID\n",
    "    feats = np.setdiff1d(tr.columns, [ID_COLUMN])\n",
    "\n",
    "    stime_tr = tr[feats].min(axis=1).values\n",
    "    stime_te = te[feats].min(axis=1).values\n",
    "\n",
    "    train.loc[train.Id.isin(tr.Id), 'StartTime'] = stime_tr\n",
    "    test.loc[test.Id.isin(te.Id), 'StartTime'] = stime_te"
   ]
  },
  {
   "cell_type": "code",
   "execution_count": 5,
   "metadata": {
    "collapsed": false
   },
   "outputs": [],
   "source": [
    "ntrain = train.shape[0]\n",
    "train_test = pd.concat((train, test)).reset_index(drop=True).reset_index(drop=False)\n",
    "# Begin to create MF1 & MF2\n",
    "train_test['MF1'] = train_test[ID_COLUMN].diff().fillna(9999999).astype(int)\n",
    "train_test['MF2'] = train_test[ID_COLUMN].iloc[::-1].diff().fillna(9999999).astype(int)\n",
    "\n",
    "train_test = train_test.sort_values(by=['StartTime', 'Id'], ascending=True)\n",
    "# Begin to create MF3 & MF4\n",
    "train_test['MF3'] = train_test[ID_COLUMN].diff().fillna(9999999).astype(int)\n",
    "train_test['MF4'] = train_test[ID_COLUMN].iloc[::-1].diff().fillna(9999999).astype(int)\n",
    "\n",
    "train_test = train_test.sort_values(by=['index']).drop(['index'], axis=1)\n",
    "train = train_test.iloc[:ntrain, :]\n",
    "test = train_test.iloc[ntrain:, :]\n",
    "\n",
    "features = np.setdiff1d(list(train.columns), [TARGET_COLUMN, ID_COLUMN])"
   ]
  },
  {
   "cell_type": "code",
   "execution_count": 6,
   "metadata": {
    "collapsed": false,
    "scrolled": true
   },
   "outputs": [],
   "source": [
    "df_magic_feature_train = train[features]\n",
    "df_magic_feature_test = test[features]"
   ]
  },
  {
   "cell_type": "code",
   "execution_count": null,
   "metadata": {
    "collapsed": true
   },
   "outputs": [],
   "source": [
    "# ntrain = train.shape[0]\n",
    "# train_test = pd.concat((train, test)).reset_index(drop=True).reset_index(drop=False)\n",
    "# # Begin to create MF1 & MF2\n",
    "# train_test['MF1'] = train_test[ID_COLUMN].diff().fillna(9999999).astype(int)\n",
    "# train_test['MF2'] = train_test[ID_COLUMN].iloc[::-1].diff().fillna(9999999).astype(int)\n",
    "\n",
    "# train_test = train_test.sort_values(by=['StartTime', 'Id'], ascending=True)\n",
    "# # Begin to create MF3 & MF4\n",
    "# train_test['MF3'] = train_test[ID_COLUMN].diff().fillna(9999999).astype(int)\n",
    "# train_test['MF4'] = train_test[ID_COLUMN].iloc[::-1].diff().fillna(9999999).astype(int)\n",
    "\n",
    "# train_test = train_test.sort_values(by=['index']).drop(['index'], axis=1)\n",
    "# train = train_test.iloc[:ntrain, :]\n",
    "\n",
    "# features = np.setdiff1d(list(train.columns), [TARGET_COLUMN, ID_COLUMN])\n",
    "\n",
    "# y = train.Response.ravel()\n",
    "# train = np.array(train[features])\n",
    "\n",
    "# print('train: {0}'.format(train.shape))\n",
    "# prior = np.sum(y) / (1.*len(y))"
   ]
  },
  {
   "cell_type": "code",
   "execution_count": null,
   "metadata": {
    "collapsed": true
   },
   "outputs": [],
   "source": []
  },
  {
   "cell_type": "code",
   "execution_count": null,
   "metadata": {
    "collapsed": true
   },
   "outputs": [],
   "source": []
  },
  {
   "cell_type": "markdown",
   "metadata": {},
   "source": [
    "## Combine all features and Finish feature engineering"
   ]
  },
  {
   "cell_type": "code",
   "execution_count": 18,
   "metadata": {
    "collapsed": false
   },
   "outputs": [],
   "source": [
    "# train_feature will be the ensembled feature afterwards\n",
    "train_feature = pd.DataFrame(X)\n"
   ]
  },
  {
   "cell_type": "code",
   "execution_count": 19,
   "metadata": {
    "collapsed": false
   },
   "outputs": [],
   "source": [
    "# put important feature in the dataframe \n",
    "train_feature.columns = important_feature_num_date.index\n",
    "train_feature = pd.concat([train_feature,df_magic_feature_train],axis=1)\n",
    "#end of feature selection"
   ]
  },
  {
   "cell_type": "code",
   "execution_count": 20,
   "metadata": {
    "collapsed": false
   },
   "outputs": [
    {
     "data": {
      "text/plain": [
       "(1183747, 30)"
      ]
     },
     "execution_count": 20,
     "metadata": {},
     "output_type": "execute_result"
    }
   ],
   "source": [
    "train_feature.shape"
   ]
  },
  {
   "cell_type": "markdown",
   "metadata": {},
   "source": [
    "# Model Development "
   ]
  },
  {
   "cell_type": "markdown",
   "metadata": {},
   "source": [
    "## Model 1 : XGBoost"
   ]
  },
  {
   "cell_type": "code",
   "execution_count": 16,
   "metadata": {
    "collapsed": true
   },
   "outputs": [],
   "source": [
    "# self-defined xgb model wrapper including data processing, model fit, predict and result \n",
    "def modelfit(alg, dtrain, labels,useTrainCV=True, model_fit=True,model_predict=True,cv_folds=5, early_stopping_rounds=20):\n",
    "    # trainCV with early stop so we don't need to use sciki-learn GridsearchCV , the later can't run in my computer\n",
    "    best_threshold = 0.5\n",
    "    if useTrainCV:\n",
    "        xgb_param = alg.get_xgb_params()\n",
    "        xgtrain = xgb.DMatrix(dtrain.values, label=labels)\n",
    "        cvresult = xgb.cv(xgb_param, xgtrain, num_boost_round=alg.get_params()['n_estimators'], nfold=cv_folds,\n",
    "            metrics='auc', early_stopping_rounds=early_stopping_rounds, verbose_eval=True)\n",
    "        alg.set_params(n_estimators=cvresult.shape[0])\n",
    "    if model_fit:\n",
    "        #Fit the algorithm on the data\n",
    "        alg.fit(dtrain.values, labels,eval_metric='auc')\n",
    "        print (\"fit done\")\n",
    "    if model_predict:\n",
    "    #Predict training set:\n",
    "        dtrain_predprob = alg.predict_proba(dtrain.values)[:,1]\n",
    "        thresholds = np.linspace(0.01, 0.99, 50)\n",
    "        mcc = np.array([matthews_corrcoef(labels, dtrain_predprob>thr) for thr in thresholds])\n",
    "        plt.plot(thresholds, mcc)\n",
    "        best_threshold = thresholds[mcc.argmax()]\n",
    "        print(mcc.max())\n",
    "    return best_threshold\n",
    "    #Print model report:\n",
    "#     print (\"\\nModel Report\")\n",
    "#     print (\"Accuracy : %.4g\" % metrics.accuracy_score(dtrain[target].values, dtrain_predictions))\n",
    "#     print (\"AUC Score (Train): %f\" % metrics.roc_auc_score(dtrain[target], dtrain_predprob))\n",
    "                    \n",
    "#     feat_imp = pd.Series(alg.booster().get_fscore()).sort_values(ascending=False)\n",
    "#     feat_imp.plot(kind='bar', title='Feature Importances')\n",
    "#     plt.ylabel('Feature Importance Score')"
   ]
  },
  {
   "cell_type": "markdown",
   "metadata": {},
   "source": [
    "### Model Hyper-Parameter Tuning Part"
   ]
  },
  {
   "cell_type": "code",
   "execution_count": null,
   "metadata": {
    "collapsed": true
   },
   "outputs": [],
   "source": [
    "from sklearn.grid_search import GridSearchCV"
   ]
  },
  {
   "cell_type": "code",
   "execution_count": null,
   "metadata": {
    "collapsed": false
   },
   "outputs": [],
   "source": [
    "# this part is for hyper-parameter tuning, but limited by my computer, \n",
    "# I can't run out of the result with gridsearchCV so instead i'm using cv\n",
    "# provided by xgboost\n",
    "\n",
    "# tunning 1 \n",
    "# max_depth and min_child_weight\n",
    "\n",
    "param_test1 = {\n",
    " 'max_depth':range(3,10,2),\n",
    " 'min_child_weight':range(1,6,2)\n",
    "}\n",
    "gsearch1 = GridSearchCV(estimator = XGBClassifier( learning_rate =0.1, n_estimators=10, max_depth=5,\n",
    " min_child_weight=1, gamma=0, subsample=0.8, colsample_bytree=0.8,\n",
    " objective= 'binary:logistic', nthread=4, scale_pos_weight=1, seed=27), \n",
    " param_grid = param_test1, scoring='roc_auc',n_jobs=4,iid=False, cv=5)\n",
    "gsearch1.fit(train_feature,y)\n",
    "gsearch1.grid_scores_, gsearch1.best_params_, gsearch1.best_score_\n",
    "\n"
   ]
  },
  {
   "cell_type": "code",
   "execution_count": 21,
   "metadata": {
    "collapsed": false,
    "scrolled": true
   },
   "outputs": [
    {
     "name": "stdout",
     "output_type": "stream",
     "text": [
      "[0]\ttrain-auc:0.907679+0.00139272\ttest-auc:0.889968+0.00332124\n",
      "[1]\ttrain-auc:0.914998+0.00326179\ttest-auc:0.891902+0.00174294\n",
      "[2]\ttrain-auc:0.922998+0.00281463\ttest-auc:0.895662+0.00236263\n",
      "[3]\ttrain-auc:0.927724+0.00280427\ttest-auc:0.897111+0.00300906\n",
      "[4]\ttrain-auc:0.930132+0.00218957\ttest-auc:0.898208+0.00311176\n",
      "[5]\ttrain-auc:0.932193+0.00176589\ttest-auc:0.898371+0.0029275\n",
      "[6]\ttrain-auc:0.934274+0.00216794\ttest-auc:0.899311+0.0033748\n",
      "[7]\ttrain-auc:0.936934+0.00183053\ttest-auc:0.90017+0.00322523\n",
      "[8]\ttrain-auc:0.938646+0.00181624\ttest-auc:0.900547+0.00320517\n",
      "[9]\ttrain-auc:0.939909+0.00140456\ttest-auc:0.90085+0.0032643\n",
      "fit done\n",
      "0.385736130606\n"
     ]
    }
   ],
   "source": [
    "xgb_starter = XGBClassifier(\n",
    " learning_rate =0.1,\n",
    " n_estimators=10,\n",
    " max_depth=10,\n",
    " min_child_weight=1,\n",
    " gamma=0,\n",
    " subsample=0.7,\n",
    " colsample_bytree=0.7,\n",
    " objective= 'binary:logistic',\n",
    " nthread=4,\n",
    " scale_pos_weight=1,\n",
    " seed=0,\n",
    " base_score=0.005)\n",
    "\n",
    "best_threshold = modelfit(xgb_starter, train_feature, y)\n"
   ]
  },
  {
   "cell_type": "markdown",
   "metadata": {},
   "source": [
    "# load test data, predict labels and submit"
   ]
  },
  {
   "cell_type": "code",
   "execution_count": 26,
   "metadata": {
    "collapsed": false
   },
   "outputs": [
    {
     "data": {
      "text/plain": [
       "['L3_S33_D3856', 'L3_S32_D3852']"
      ]
     },
     "execution_count": 26,
     "metadata": {},
     "output_type": "execute_result"
    }
   ],
   "source": [
    "important_feature_date_list"
   ]
  },
  {
   "cell_type": "code",
   "execution_count": 43,
   "metadata": {
    "collapsed": false
   },
   "outputs": [],
   "source": [
    "# load test data\n",
    "test_feature = np.concatenate([\n",
    "    pd.read_csv(\"../data/test_date.csv\", index_col=0, dtype=np.float32,\n",
    "                usecols=['Id']+important_feature_date_list).values,\n",
    "    pd.read_csv(\"../data/test_numeric.csv\", index_col=0, dtype=np.float32,\n",
    "                usecols=['Id']+important_feature_num_list).values,\n",
    "], axis=1)\n",
    "test_feature = np.concatenate([test_feature,df_magic_feature_test.values],axis=1)"
   ]
  },
  {
   "cell_type": "code",
   "execution_count": 44,
   "metadata": {
    "collapsed": false
   },
   "outputs": [
    {
     "data": {
      "text/plain": [
       "(1183748, 30)"
      ]
     },
     "execution_count": 44,
     "metadata": {},
     "output_type": "execute_result"
    }
   ],
   "source": [
    "test_feature.shape"
   ]
  },
  {
   "cell_type": "code",
   "execution_count": 45,
   "metadata": {
    "collapsed": true
   },
   "outputs": [],
   "source": [
    "# generate predictions at the chosen threshold\n",
    "preds = (xgb_starter.predict_proba(test_feature)[:,1] > best_threshold).astype(np.int8)"
   ]
  },
  {
   "cell_type": "code",
   "execution_count": 46,
   "metadata": {
    "collapsed": true
   },
   "outputs": [],
   "source": [
    "# and submit\n",
    "sub = pd.read_csv(\"../data/sample_submission.csv\", index_col=0)\n",
    "sub[\"Response\"] = preds\n",
    "sub.to_csv(\"submission.csv.gz\", compression=\"gzip\")"
   ]
  },
  {
   "cell_type": "code",
   "execution_count": null,
   "metadata": {
    "collapsed": true
   },
   "outputs": [],
   "source": []
  }
 ],
 "metadata": {
  "anaconda-cloud": {},
  "kernelspec": {
   "display_name": "Python [Root]",
   "language": "python",
   "name": "Python [Root]"
  },
  "language_info": {
   "codemirror_mode": {
    "name": "ipython",
    "version": 2
   },
   "file_extension": ".py",
   "mimetype": "text/x-python",
   "name": "python",
   "nbconvert_exporter": "python",
   "pygments_lexer": "ipython2",
   "version": "2.7.12"
  }
 },
 "nbformat": 4,
 "nbformat_minor": 0
}
