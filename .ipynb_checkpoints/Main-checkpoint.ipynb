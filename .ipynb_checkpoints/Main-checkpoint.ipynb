{
 "cells": [
  {
   "cell_type": "code",
   "execution_count": 1,
   "metadata": {
    "collapsed": true
   },
   "outputs": [],
   "source": [
    "# Imports\n",
    "%matplotlib notebook\n",
    "# numpy, matplotlib, seaborn and matplotlib\n",
    "import matplotlib\n",
    "import numpy as np\n",
    "import pandas as pd\n",
    "import matplotlib.pyplot as plt\n",
    "import seaborn as sns\n",
    "# missing data visualization library\n",
    "import missingno as msno\n",
    "sns.set_style('whitegrid')\n",
    "# define data path\n",
    "INPUT_PATH = \"../data/%s.csv\"\n",
    "# define small samples to quickly explore data\n",
    "read_rows = 300;"
   ]
  },
  {
   "cell_type": "markdown",
   "metadata": {},
   "source": [
    "# Dataset Visualization Part"
   ]
  },
  {
   "cell_type": "markdown",
   "metadata": {},
   "source": [
    "## Overview Part\n",
    "This part is to overview the first N rows of the sample to get initial feeling of the dataset"
   ]
  },
  {
   "cell_type": "code",
   "execution_count": null,
   "metadata": {
    "collapsed": false,
    "scrolled": true
   },
   "outputs": [],
   "source": [
    "# load data head for overview\n",
    "train_date_overview = pd.read_csv('../data/train_date.csv',nrows = read_rows)\n",
    "#train_categorical_overview = pd.read_csv('../data/train_categorical.csv',nrows = read_rows)\n",
    "#train_numeric_overview = pd.read_csv('../data/train_numeric.csv',nrows = read_rows)\n",
    "#test_categorical_overview = pd.read_csv('../data/test_categorical.csv', nrows = read_rows)\n",
    "#test_date_overview = pd.read_csv('../data/test_date.csv', nrows = read_rows)\n",
    "#test_numeric_overview = pd.read_csv('../data/test_numeric.csv', nrows = read_rows)"
   ]
  },
  {
   "cell_type": "code",
   "execution_count": null,
   "metadata": {
    "collapsed": false,
    "scrolled": true
   },
   "outputs": [],
   "source": [
    "#train_numeric_overview\n",
    "#train_categorical_overview\n",
    "#train_date_overview\n",
    "#test_numeric_overview\n",
    "#test_categorical_overview\n",
    "#test_date_overview "
   ]
  },
  {
   "cell_type": "markdown",
   "metadata": {},
   "source": [
    "## General Feature Exploration Part\n",
    "This part is to explore the common feature"
   ]
  },
  {
   "cell_type": "code",
   "execution_count": null,
   "metadata": {
    "collapsed": true
   },
   "outputs": [],
   "source": [
    "# function to calculate failure rate\n",
    "def get_failure_rate(file_name):\n",
    "    # will calculate the error rate from data on the file based on response col\n",
    "    # Respons: 1 = Failed QC , 0 = Passed QC\n",
    "    rows = pd.read_csv(INPUT_PATH % file_name, usecols=[\"Response\"])\n",
    "    failure_rate = rows[rows.Response == 1].size / float(rows[rows.Response == 0].size)\n",
    "    return failure_rate"
   ]
  },
  {
   "cell_type": "code",
   "execution_count": null,
   "metadata": {
    "collapsed": true
   },
   "outputs": [],
   "source": [
    "# function to calculate data size in 6 dataset\n",
    "def explore_data_size():\n",
    "    # explore the size (rows, cols) of each file\n",
    "    data_files = ['train_numeric', 'train_date', 'train_categorical', 'test_numeric',\n",
    "                  'test_date', 'test_categorical']\n",
    "    stats = []\n",
    "    for file_name in data_files:\n",
    "        cols = pd.read_csv(INPUT_PATH % file_name, nrows=1)\n",
    "        rows = pd.read_csv(INPUT_PATH % file_name, usecols=[\"Id\"])\n",
    "        stats.append({'File': file_name, 'Rows': rows.shape[0], 'Columns': cols.shape[1]})\n",
    "    # convert the result into a DataFrame so we can do plotting.\n",
    "    df = pd.DataFrame(stats, columns=[\"File\", \"Rows\", \"Columns\"])\n",
    "    failure_rate = get_failure_rate('train_numeric')\n",
    "    df[\"Error\"] = 0\n",
    "    df.loc[df.File == 'train_numeric', 'Error'] = failure_rate\n",
    "    return df"
   ]
  },
  {
   "cell_type": "code",
   "execution_count": null,
   "metadata": {
    "collapsed": false
   },
   "outputs": [],
   "source": [
    "# Get data size\n",
    "explore_data_size()"
   ]
  },
  {
   "cell_type": "markdown",
   "metadata": {
    "collapsed": true
   },
   "source": [
    "### Failure Rate for each station"
   ]
  },
  {
   "cell_type": "code",
   "execution_count": 4,
   "metadata": {
    "collapsed": false
   },
   "outputs": [
    {
     "name": "stdout",
     "output_type": "stream",
     "text": [
      "No. of lines: 4\n",
      "No. of stations: 50\n",
      "No. of features: 968\n"
     ]
    }
   ],
   "source": [
    "# this part will use function in the belowing part\n",
    "features = pd.read_csv('../data/train_numeric.csv', nrows=1).drop(['Response', 'Id'], axis=1).columns.values\n",
    "line_features, station_features = get_features(features)"
   ]
  },
  {
   "cell_type": "code",
   "execution_count": 14,
   "metadata": {
    "collapsed": false,
    "scrolled": true
   },
   "outputs": [
    {
     "data": {
      "text/html": [
       "<div>\n",
       "<table border=\"1\" class=\"dataframe\">\n",
       "  <thead>\n",
       "    <tr style=\"text-align: right;\">\n",
       "      <th></th>\n",
       "      <th>Features</th>\n",
       "      <th>Samples</th>\n",
       "      <th>Error_Rate</th>\n",
       "    </tr>\n",
       "  </thead>\n",
       "  <tbody>\n",
       "    <tr>\n",
       "      <th>S0</th>\n",
       "      <td>12</td>\n",
       "      <td>673862</td>\n",
       "      <td>0.005383</td>\n",
       "    </tr>\n",
       "    <tr>\n",
       "      <th>S1</th>\n",
       "      <td>2</td>\n",
       "      <td>673904</td>\n",
       "      <td>0.005380</td>\n",
       "    </tr>\n",
       "    <tr>\n",
       "      <th>S10</th>\n",
       "      <td>12</td>\n",
       "      <td>224540</td>\n",
       "      <td>0.005477</td>\n",
       "    </tr>\n",
       "    <tr>\n",
       "      <th>S11</th>\n",
       "      <td>12</td>\n",
       "      <td>225452</td>\n",
       "      <td>0.005320</td>\n",
       "    </tr>\n",
       "    <tr>\n",
       "      <th>S12</th>\n",
       "      <td>12</td>\n",
       "      <td>242061</td>\n",
       "      <td>0.005496</td>\n",
       "    </tr>\n",
       "    <tr>\n",
       "      <th>S13</th>\n",
       "      <td>2</td>\n",
       "      <td>242065</td>\n",
       "      <td>0.005496</td>\n",
       "    </tr>\n",
       "    <tr>\n",
       "      <th>S14</th>\n",
       "      <td>9</td>\n",
       "      <td>120625</td>\n",
       "      <td>0.005678</td>\n",
       "    </tr>\n",
       "    <tr>\n",
       "      <th>S15</th>\n",
       "      <td>9</td>\n",
       "      <td>121445</td>\n",
       "      <td>0.005298</td>\n",
       "    </tr>\n",
       "    <tr>\n",
       "      <th>S16</th>\n",
       "      <td>2</td>\n",
       "      <td>119139</td>\n",
       "      <td>0.005579</td>\n",
       "    </tr>\n",
       "    <tr>\n",
       "      <th>S17</th>\n",
       "      <td>2</td>\n",
       "      <td>123027</td>\n",
       "      <td>0.005410</td>\n",
       "    </tr>\n",
       "    <tr>\n",
       "      <th>S18</th>\n",
       "      <td>3</td>\n",
       "      <td>121081</td>\n",
       "      <td>0.005431</td>\n",
       "    </tr>\n",
       "    <tr>\n",
       "      <th>S19</th>\n",
       "      <td>3</td>\n",
       "      <td>121027</td>\n",
       "      <td>0.005558</td>\n",
       "    </tr>\n",
       "    <tr>\n",
       "      <th>S2</th>\n",
       "      <td>9</td>\n",
       "      <td>339774</td>\n",
       "      <td>0.005376</td>\n",
       "    </tr>\n",
       "    <tr>\n",
       "      <th>S20</th>\n",
       "      <td>3</td>\n",
       "      <td>242111</td>\n",
       "      <td>0.005494</td>\n",
       "    </tr>\n",
       "    <tr>\n",
       "      <th>S21</th>\n",
       "      <td>14</td>\n",
       "      <td>81409</td>\n",
       "      <td>0.005695</td>\n",
       "    </tr>\n",
       "    <tr>\n",
       "      <th>S22</th>\n",
       "      <td>14</td>\n",
       "      <td>80599</td>\n",
       "      <td>0.005339</td>\n",
       "    </tr>\n",
       "    <tr>\n",
       "      <th>S23</th>\n",
       "      <td>14</td>\n",
       "      <td>80290</td>\n",
       "      <td>0.005435</td>\n",
       "    </tr>\n",
       "    <tr>\n",
       "      <th>S24</th>\n",
       "      <td>229</td>\n",
       "      <td>183727</td>\n",
       "      <td>0.008348</td>\n",
       "    </tr>\n",
       "    <tr>\n",
       "      <th>S25</th>\n",
       "      <td>284</td>\n",
       "      <td>83658</td>\n",
       "      <td>0.005094</td>\n",
       "    </tr>\n",
       "    <tr>\n",
       "      <th>S26</th>\n",
       "      <td>14</td>\n",
       "      <td>227011</td>\n",
       "      <td>0.007523</td>\n",
       "    </tr>\n",
       "    <tr>\n",
       "      <th>S27</th>\n",
       "      <td>14</td>\n",
       "      <td>120729</td>\n",
       "      <td>0.006855</td>\n",
       "    </tr>\n",
       "    <tr>\n",
       "      <th>S28</th>\n",
       "      <td>14</td>\n",
       "      <td>9583</td>\n",
       "      <td>0.007041</td>\n",
       "    </tr>\n",
       "    <tr>\n",
       "      <th>S29</th>\n",
       "      <td>53</td>\n",
       "      <td>1119629</td>\n",
       "      <td>0.005881</td>\n",
       "    </tr>\n",
       "    <tr>\n",
       "      <th>S3</th>\n",
       "      <td>9</td>\n",
       "      <td>334708</td>\n",
       "      <td>0.005383</td>\n",
       "    </tr>\n",
       "    <tr>\n",
       "      <th>S30</th>\n",
       "      <td>68</td>\n",
       "      <td>1119811</td>\n",
       "      <td>0.005885</td>\n",
       "    </tr>\n",
       "    <tr>\n",
       "      <th>S31</th>\n",
       "      <td>4</td>\n",
       "      <td>39003</td>\n",
       "      <td>0.002725</td>\n",
       "    </tr>\n",
       "    <tr>\n",
       "      <th>S32</th>\n",
       "      <td>1</td>\n",
       "      <td>24543</td>\n",
       "      <td>0.047190</td>\n",
       "    </tr>\n",
       "    <tr>\n",
       "      <th>S33</th>\n",
       "      <td>10</td>\n",
       "      <td>1114695</td>\n",
       "      <td>0.005000</td>\n",
       "    </tr>\n",
       "    <tr>\n",
       "      <th>S34</th>\n",
       "      <td>4</td>\n",
       "      <td>1115118</td>\n",
       "      <td>0.005154</td>\n",
       "    </tr>\n",
       "    <tr>\n",
       "      <th>S35</th>\n",
       "      <td>8</td>\n",
       "      <td>552108</td>\n",
       "      <td>0.005788</td>\n",
       "    </tr>\n",
       "    <tr>\n",
       "      <th>S36</th>\n",
       "      <td>8</td>\n",
       "      <td>569032</td>\n",
       "      <td>0.005995</td>\n",
       "    </tr>\n",
       "    <tr>\n",
       "      <th>S37</th>\n",
       "      <td>4</td>\n",
       "      <td>1120394</td>\n",
       "      <td>0.005886</td>\n",
       "    </tr>\n",
       "    <tr>\n",
       "      <th>S38</th>\n",
       "      <td>3</td>\n",
       "      <td>27142</td>\n",
       "      <td>0.007872</td>\n",
       "    </tr>\n",
       "    <tr>\n",
       "      <th>S39</th>\n",
       "      <td>4</td>\n",
       "      <td>59908</td>\n",
       "      <td>0.005083</td>\n",
       "    </tr>\n",
       "    <tr>\n",
       "      <th>S4</th>\n",
       "      <td>2</td>\n",
       "      <td>335295</td>\n",
       "      <td>0.005397</td>\n",
       "    </tr>\n",
       "    <tr>\n",
       "      <th>S40</th>\n",
       "      <td>8</td>\n",
       "      <td>59914</td>\n",
       "      <td>0.005100</td>\n",
       "    </tr>\n",
       "    <tr>\n",
       "      <th>S41</th>\n",
       "      <td>14</td>\n",
       "      <td>59913</td>\n",
       "      <td>0.005100</td>\n",
       "    </tr>\n",
       "    <tr>\n",
       "      <th>S43</th>\n",
       "      <td>8</td>\n",
       "      <td>30551</td>\n",
       "      <td>0.005232</td>\n",
       "    </tr>\n",
       "    <tr>\n",
       "      <th>S44</th>\n",
       "      <td>8</td>\n",
       "      <td>29804</td>\n",
       "      <td>0.004923</td>\n",
       "    </tr>\n",
       "    <tr>\n",
       "      <th>S45</th>\n",
       "      <td>5</td>\n",
       "      <td>59932</td>\n",
       "      <td>0.005098</td>\n",
       "    </tr>\n",
       "    <tr>\n",
       "      <th>S47</th>\n",
       "      <td>11</td>\n",
       "      <td>59955</td>\n",
       "      <td>0.005096</td>\n",
       "    </tr>\n",
       "    <tr>\n",
       "      <th>S48</th>\n",
       "      <td>6</td>\n",
       "      <td>59923</td>\n",
       "      <td>0.005082</td>\n",
       "    </tr>\n",
       "    <tr>\n",
       "      <th>S49</th>\n",
       "      <td>7</td>\n",
       "      <td>29673</td>\n",
       "      <td>0.005183</td>\n",
       "    </tr>\n",
       "    <tr>\n",
       "      <th>S5</th>\n",
       "      <td>2</td>\n",
       "      <td>339512</td>\n",
       "      <td>0.005363</td>\n",
       "    </tr>\n",
       "    <tr>\n",
       "      <th>S50</th>\n",
       "      <td>7</td>\n",
       "      <td>30359</td>\n",
       "      <td>0.005232</td>\n",
       "    </tr>\n",
       "    <tr>\n",
       "      <th>S51</th>\n",
       "      <td>4</td>\n",
       "      <td>59853</td>\n",
       "      <td>0.005071</td>\n",
       "    </tr>\n",
       "    <tr>\n",
       "      <th>S6</th>\n",
       "      <td>3</td>\n",
       "      <td>338988</td>\n",
       "      <td>0.005353</td>\n",
       "    </tr>\n",
       "    <tr>\n",
       "      <th>S7</th>\n",
       "      <td>3</td>\n",
       "      <td>335698</td>\n",
       "      <td>0.005406</td>\n",
       "    </tr>\n",
       "    <tr>\n",
       "      <th>S8</th>\n",
       "      <td>3</td>\n",
       "      <td>673881</td>\n",
       "      <td>0.005380</td>\n",
       "    </tr>\n",
       "    <tr>\n",
       "      <th>S9</th>\n",
       "      <td>12</td>\n",
       "      <td>225678</td>\n",
       "      <td>0.005328</td>\n",
       "    </tr>\n",
       "  </tbody>\n",
       "</table>\n",
       "</div>"
      ],
      "text/plain": [
       "     Features  Samples  Error_Rate\n",
       "S0         12   673862    0.005383\n",
       "S1          2   673904    0.005380\n",
       "S10        12   224540    0.005477\n",
       "S11        12   225452    0.005320\n",
       "S12        12   242061    0.005496\n",
       "S13         2   242065    0.005496\n",
       "S14         9   120625    0.005678\n",
       "S15         9   121445    0.005298\n",
       "S16         2   119139    0.005579\n",
       "S17         2   123027    0.005410\n",
       "S18         3   121081    0.005431\n",
       "S19         3   121027    0.005558\n",
       "S2          9   339774    0.005376\n",
       "S20         3   242111    0.005494\n",
       "S21        14    81409    0.005695\n",
       "S22        14    80599    0.005339\n",
       "S23        14    80290    0.005435\n",
       "S24       229   183727    0.008348\n",
       "S25       284    83658    0.005094\n",
       "S26        14   227011    0.007523\n",
       "S27        14   120729    0.006855\n",
       "S28        14     9583    0.007041\n",
       "S29        53  1119629    0.005881\n",
       "S3          9   334708    0.005383\n",
       "S30        68  1119811    0.005885\n",
       "S31         4    39003    0.002725\n",
       "S32         1    24543    0.047190\n",
       "S33        10  1114695    0.005000\n",
       "S34         4  1115118    0.005154\n",
       "S35         8   552108    0.005788\n",
       "S36         8   569032    0.005995\n",
       "S37         4  1120394    0.005886\n",
       "S38         3    27142    0.007872\n",
       "S39         4    59908    0.005083\n",
       "S4          2   335295    0.005397\n",
       "S40         8    59914    0.005100\n",
       "S41        14    59913    0.005100\n",
       "S43         8    30551    0.005232\n",
       "S44         8    29804    0.004923\n",
       "S45         5    59932    0.005098\n",
       "S47        11    59955    0.005096\n",
       "S48         6    59923    0.005082\n",
       "S49         7    29673    0.005183\n",
       "S5          2   339512    0.005363\n",
       "S50         7    30359    0.005232\n",
       "S51         4    59853    0.005071\n",
       "S6          3   338988    0.005353\n",
       "S7          3   335698    0.005406\n",
       "S8          3   673881    0.005380\n",
       "S9         12   225678    0.005328"
      ]
     },
     "execution_count": 14,
     "metadata": {},
     "output_type": "execute_result"
    }
   ],
   "source": [
    "station_error = []\n",
    "for s in station_features:\n",
    "    cols = ['Id', 'Response']\n",
    "    cols.extend(station_features[s])\n",
    "    df = pd.read_csv('../data/train_numeric.csv', usecols=cols).dropna(subset=station_features[s], how='all')\n",
    "    error_rate = df[df.Response == 1].size / float(df[df.Response == 0].size)\n",
    "    station_error.append([df.shape[1]-2, df.shape[0], error_rate]) \n",
    "    \n",
    "station_data = pd.DataFrame(station_error, \n",
    "                         columns=['Features', 'Samples', 'Error_Rate'], \n",
    "                         index=station_features).sort_index()\n",
    "station_data"
   ]
  },
  {
   "cell_type": "code",
   "execution_count": 15,
   "metadata": {
    "collapsed": false,
    "scrolled": true
   },
   "outputs": [
    {
     "data": {
      "application/javascript": [
       "/* Put everything inside the global mpl namespace */\n",
       "window.mpl = {};\n",
       "\n",
       "mpl.get_websocket_type = function() {\n",
       "    if (typeof(WebSocket) !== 'undefined') {\n",
       "        return WebSocket;\n",
       "    } else if (typeof(MozWebSocket) !== 'undefined') {\n",
       "        return MozWebSocket;\n",
       "    } else {\n",
       "        alert('Your browser does not have WebSocket support.' +\n",
       "              'Please try Chrome, Safari or Firefox ≥ 6. ' +\n",
       "              'Firefox 4 and 5 are also supported but you ' +\n",
       "              'have to enable WebSockets in about:config.');\n",
       "    };\n",
       "}\n",
       "\n",
       "mpl.figure = function(figure_id, websocket, ondownload, parent_element) {\n",
       "    this.id = figure_id;\n",
       "\n",
       "    this.ws = websocket;\n",
       "\n",
       "    this.supports_binary = (this.ws.binaryType != undefined);\n",
       "\n",
       "    if (!this.supports_binary) {\n",
       "        var warnings = document.getElementById(\"mpl-warnings\");\n",
       "        if (warnings) {\n",
       "            warnings.style.display = 'block';\n",
       "            warnings.textContent = (\n",
       "                \"This browser does not support binary websocket messages. \" +\n",
       "                    \"Performance may be slow.\");\n",
       "        }\n",
       "    }\n",
       "\n",
       "    this.imageObj = new Image();\n",
       "\n",
       "    this.context = undefined;\n",
       "    this.message = undefined;\n",
       "    this.canvas = undefined;\n",
       "    this.rubberband_canvas = undefined;\n",
       "    this.rubberband_context = undefined;\n",
       "    this.format_dropdown = undefined;\n",
       "\n",
       "    this.image_mode = 'full';\n",
       "\n",
       "    this.root = $('<div/>');\n",
       "    this._root_extra_style(this.root)\n",
       "    this.root.attr('style', 'display: inline-block');\n",
       "\n",
       "    $(parent_element).append(this.root);\n",
       "\n",
       "    this._init_header(this);\n",
       "    this._init_canvas(this);\n",
       "    this._init_toolbar(this);\n",
       "\n",
       "    var fig = this;\n",
       "\n",
       "    this.waiting = false;\n",
       "\n",
       "    this.ws.onopen =  function () {\n",
       "            fig.send_message(\"supports_binary\", {value: fig.supports_binary});\n",
       "            fig.send_message(\"send_image_mode\", {});\n",
       "            fig.send_message(\"refresh\", {});\n",
       "        }\n",
       "\n",
       "    this.imageObj.onload = function() {\n",
       "            if (fig.image_mode == 'full') {\n",
       "                // Full images could contain transparency (where diff images\n",
       "                // almost always do), so we need to clear the canvas so that\n",
       "                // there is no ghosting.\n",
       "                fig.context.clearRect(0, 0, fig.canvas.width, fig.canvas.height);\n",
       "            }\n",
       "            fig.context.drawImage(fig.imageObj, 0, 0);\n",
       "        };\n",
       "\n",
       "    this.imageObj.onunload = function() {\n",
       "        this.ws.close();\n",
       "    }\n",
       "\n",
       "    this.ws.onmessage = this._make_on_message_function(this);\n",
       "\n",
       "    this.ondownload = ondownload;\n",
       "}\n",
       "\n",
       "mpl.figure.prototype._init_header = function() {\n",
       "    var titlebar = $(\n",
       "        '<div class=\"ui-dialog-titlebar ui-widget-header ui-corner-all ' +\n",
       "        'ui-helper-clearfix\"/>');\n",
       "    var titletext = $(\n",
       "        '<div class=\"ui-dialog-title\" style=\"width: 100%; ' +\n",
       "        'text-align: center; padding: 3px;\"/>');\n",
       "    titlebar.append(titletext)\n",
       "    this.root.append(titlebar);\n",
       "    this.header = titletext[0];\n",
       "}\n",
       "\n",
       "\n",
       "\n",
       "mpl.figure.prototype._canvas_extra_style = function(canvas_div) {\n",
       "\n",
       "}\n",
       "\n",
       "\n",
       "mpl.figure.prototype._root_extra_style = function(canvas_div) {\n",
       "\n",
       "}\n",
       "\n",
       "mpl.figure.prototype._init_canvas = function() {\n",
       "    var fig = this;\n",
       "\n",
       "    var canvas_div = $('<div/>');\n",
       "\n",
       "    canvas_div.attr('style', 'position: relative; clear: both; outline: 0');\n",
       "\n",
       "    function canvas_keyboard_event(event) {\n",
       "        return fig.key_event(event, event['data']);\n",
       "    }\n",
       "\n",
       "    canvas_div.keydown('key_press', canvas_keyboard_event);\n",
       "    canvas_div.keyup('key_release', canvas_keyboard_event);\n",
       "    this.canvas_div = canvas_div\n",
       "    this._canvas_extra_style(canvas_div)\n",
       "    this.root.append(canvas_div);\n",
       "\n",
       "    var canvas = $('<canvas/>');\n",
       "    canvas.addClass('mpl-canvas');\n",
       "    canvas.attr('style', \"left: 0; top: 0; z-index: 0; outline: 0\")\n",
       "\n",
       "    this.canvas = canvas[0];\n",
       "    this.context = canvas[0].getContext(\"2d\");\n",
       "\n",
       "    var rubberband = $('<canvas/>');\n",
       "    rubberband.attr('style', \"position: absolute; left: 0; top: 0; z-index: 1;\")\n",
       "\n",
       "    var pass_mouse_events = true;\n",
       "\n",
       "    canvas_div.resizable({\n",
       "        start: function(event, ui) {\n",
       "            pass_mouse_events = false;\n",
       "        },\n",
       "        resize: function(event, ui) {\n",
       "            fig.request_resize(ui.size.width, ui.size.height);\n",
       "        },\n",
       "        stop: function(event, ui) {\n",
       "            pass_mouse_events = true;\n",
       "            fig.request_resize(ui.size.width, ui.size.height);\n",
       "        },\n",
       "    });\n",
       "\n",
       "    function mouse_event_fn(event) {\n",
       "        if (pass_mouse_events)\n",
       "            return fig.mouse_event(event, event['data']);\n",
       "    }\n",
       "\n",
       "    rubberband.mousedown('button_press', mouse_event_fn);\n",
       "    rubberband.mouseup('button_release', mouse_event_fn);\n",
       "    // Throttle sequential mouse events to 1 every 20ms.\n",
       "    rubberband.mousemove('motion_notify', mouse_event_fn);\n",
       "\n",
       "    rubberband.mouseenter('figure_enter', mouse_event_fn);\n",
       "    rubberband.mouseleave('figure_leave', mouse_event_fn);\n",
       "\n",
       "    canvas_div.on(\"wheel\", function (event) {\n",
       "        event = event.originalEvent;\n",
       "        event['data'] = 'scroll'\n",
       "        if (event.deltaY < 0) {\n",
       "            event.step = 1;\n",
       "        } else {\n",
       "            event.step = -1;\n",
       "        }\n",
       "        mouse_event_fn(event);\n",
       "    });\n",
       "\n",
       "    canvas_div.append(canvas);\n",
       "    canvas_div.append(rubberband);\n",
       "\n",
       "    this.rubberband = rubberband;\n",
       "    this.rubberband_canvas = rubberband[0];\n",
       "    this.rubberband_context = rubberband[0].getContext(\"2d\");\n",
       "    this.rubberband_context.strokeStyle = \"#000000\";\n",
       "\n",
       "    this._resize_canvas = function(width, height) {\n",
       "        // Keep the size of the canvas, canvas container, and rubber band\n",
       "        // canvas in synch.\n",
       "        canvas_div.css('width', width)\n",
       "        canvas_div.css('height', height)\n",
       "\n",
       "        canvas.attr('width', width);\n",
       "        canvas.attr('height', height);\n",
       "\n",
       "        rubberband.attr('width', width);\n",
       "        rubberband.attr('height', height);\n",
       "    }\n",
       "\n",
       "    // Set the figure to an initial 600x600px, this will subsequently be updated\n",
       "    // upon first draw.\n",
       "    this._resize_canvas(600, 600);\n",
       "\n",
       "    // Disable right mouse context menu.\n",
       "    $(this.rubberband_canvas).bind(\"contextmenu\",function(e){\n",
       "        return false;\n",
       "    });\n",
       "\n",
       "    function set_focus () {\n",
       "        canvas.focus();\n",
       "        canvas_div.focus();\n",
       "    }\n",
       "\n",
       "    window.setTimeout(set_focus, 100);\n",
       "}\n",
       "\n",
       "mpl.figure.prototype._init_toolbar = function() {\n",
       "    var fig = this;\n",
       "\n",
       "    var nav_element = $('<div/>')\n",
       "    nav_element.attr('style', 'width: 100%');\n",
       "    this.root.append(nav_element);\n",
       "\n",
       "    // Define a callback function for later on.\n",
       "    function toolbar_event(event) {\n",
       "        return fig.toolbar_button_onclick(event['data']);\n",
       "    }\n",
       "    function toolbar_mouse_event(event) {\n",
       "        return fig.toolbar_button_onmouseover(event['data']);\n",
       "    }\n",
       "\n",
       "    for(var toolbar_ind in mpl.toolbar_items) {\n",
       "        var name = mpl.toolbar_items[toolbar_ind][0];\n",
       "        var tooltip = mpl.toolbar_items[toolbar_ind][1];\n",
       "        var image = mpl.toolbar_items[toolbar_ind][2];\n",
       "        var method_name = mpl.toolbar_items[toolbar_ind][3];\n",
       "\n",
       "        if (!name) {\n",
       "            // put a spacer in here.\n",
       "            continue;\n",
       "        }\n",
       "        var button = $('<button/>');\n",
       "        button.addClass('ui-button ui-widget ui-state-default ui-corner-all ' +\n",
       "                        'ui-button-icon-only');\n",
       "        button.attr('role', 'button');\n",
       "        button.attr('aria-disabled', 'false');\n",
       "        button.click(method_name, toolbar_event);\n",
       "        button.mouseover(tooltip, toolbar_mouse_event);\n",
       "\n",
       "        var icon_img = $('<span/>');\n",
       "        icon_img.addClass('ui-button-icon-primary ui-icon');\n",
       "        icon_img.addClass(image);\n",
       "        icon_img.addClass('ui-corner-all');\n",
       "\n",
       "        var tooltip_span = $('<span/>');\n",
       "        tooltip_span.addClass('ui-button-text');\n",
       "        tooltip_span.html(tooltip);\n",
       "\n",
       "        button.append(icon_img);\n",
       "        button.append(tooltip_span);\n",
       "\n",
       "        nav_element.append(button);\n",
       "    }\n",
       "\n",
       "    var fmt_picker_span = $('<span/>');\n",
       "\n",
       "    var fmt_picker = $('<select/>');\n",
       "    fmt_picker.addClass('mpl-toolbar-option ui-widget ui-widget-content');\n",
       "    fmt_picker_span.append(fmt_picker);\n",
       "    nav_element.append(fmt_picker_span);\n",
       "    this.format_dropdown = fmt_picker[0];\n",
       "\n",
       "    for (var ind in mpl.extensions) {\n",
       "        var fmt = mpl.extensions[ind];\n",
       "        var option = $(\n",
       "            '<option/>', {selected: fmt === mpl.default_extension}).html(fmt);\n",
       "        fmt_picker.append(option)\n",
       "    }\n",
       "\n",
       "    // Add hover states to the ui-buttons\n",
       "    $( \".ui-button\" ).hover(\n",
       "        function() { $(this).addClass(\"ui-state-hover\");},\n",
       "        function() { $(this).removeClass(\"ui-state-hover\");}\n",
       "    );\n",
       "\n",
       "    var status_bar = $('<span class=\"mpl-message\"/>');\n",
       "    nav_element.append(status_bar);\n",
       "    this.message = status_bar[0];\n",
       "}\n",
       "\n",
       "mpl.figure.prototype.request_resize = function(x_pixels, y_pixels) {\n",
       "    // Request matplotlib to resize the figure. Matplotlib will then trigger a resize in the client,\n",
       "    // which will in turn request a refresh of the image.\n",
       "    this.send_message('resize', {'width': x_pixels, 'height': y_pixels});\n",
       "}\n",
       "\n",
       "mpl.figure.prototype.send_message = function(type, properties) {\n",
       "    properties['type'] = type;\n",
       "    properties['figure_id'] = this.id;\n",
       "    this.ws.send(JSON.stringify(properties));\n",
       "}\n",
       "\n",
       "mpl.figure.prototype.send_draw_message = function() {\n",
       "    if (!this.waiting) {\n",
       "        this.waiting = true;\n",
       "        this.ws.send(JSON.stringify({type: \"draw\", figure_id: this.id}));\n",
       "    }\n",
       "}\n",
       "\n",
       "\n",
       "mpl.figure.prototype.handle_save = function(fig, msg) {\n",
       "    var format_dropdown = fig.format_dropdown;\n",
       "    var format = format_dropdown.options[format_dropdown.selectedIndex].value;\n",
       "    fig.ondownload(fig, format);\n",
       "}\n",
       "\n",
       "\n",
       "mpl.figure.prototype.handle_resize = function(fig, msg) {\n",
       "    var size = msg['size'];\n",
       "    if (size[0] != fig.canvas.width || size[1] != fig.canvas.height) {\n",
       "        fig._resize_canvas(size[0], size[1]);\n",
       "        fig.send_message(\"refresh\", {});\n",
       "    };\n",
       "}\n",
       "\n",
       "mpl.figure.prototype.handle_rubberband = function(fig, msg) {\n",
       "    var x0 = msg['x0'];\n",
       "    var y0 = fig.canvas.height - msg['y0'];\n",
       "    var x1 = msg['x1'];\n",
       "    var y1 = fig.canvas.height - msg['y1'];\n",
       "    x0 = Math.floor(x0) + 0.5;\n",
       "    y0 = Math.floor(y0) + 0.5;\n",
       "    x1 = Math.floor(x1) + 0.5;\n",
       "    y1 = Math.floor(y1) + 0.5;\n",
       "    var min_x = Math.min(x0, x1);\n",
       "    var min_y = Math.min(y0, y1);\n",
       "    var width = Math.abs(x1 - x0);\n",
       "    var height = Math.abs(y1 - y0);\n",
       "\n",
       "    fig.rubberband_context.clearRect(\n",
       "        0, 0, fig.canvas.width, fig.canvas.height);\n",
       "\n",
       "    fig.rubberband_context.strokeRect(min_x, min_y, width, height);\n",
       "}\n",
       "\n",
       "mpl.figure.prototype.handle_figure_label = function(fig, msg) {\n",
       "    // Updates the figure title.\n",
       "    fig.header.textContent = msg['label'];\n",
       "}\n",
       "\n",
       "mpl.figure.prototype.handle_cursor = function(fig, msg) {\n",
       "    var cursor = msg['cursor'];\n",
       "    switch(cursor)\n",
       "    {\n",
       "    case 0:\n",
       "        cursor = 'pointer';\n",
       "        break;\n",
       "    case 1:\n",
       "        cursor = 'default';\n",
       "        break;\n",
       "    case 2:\n",
       "        cursor = 'crosshair';\n",
       "        break;\n",
       "    case 3:\n",
       "        cursor = 'move';\n",
       "        break;\n",
       "    }\n",
       "    fig.rubberband_canvas.style.cursor = cursor;\n",
       "}\n",
       "\n",
       "mpl.figure.prototype.handle_message = function(fig, msg) {\n",
       "    fig.message.textContent = msg['message'];\n",
       "}\n",
       "\n",
       "mpl.figure.prototype.handle_draw = function(fig, msg) {\n",
       "    // Request the server to send over a new figure.\n",
       "    fig.send_draw_message();\n",
       "}\n",
       "\n",
       "mpl.figure.prototype.handle_image_mode = function(fig, msg) {\n",
       "    fig.image_mode = msg['mode'];\n",
       "}\n",
       "\n",
       "mpl.figure.prototype.updated_canvas_event = function() {\n",
       "    // Called whenever the canvas gets updated.\n",
       "    this.send_message(\"ack\", {});\n",
       "}\n",
       "\n",
       "// A function to construct a web socket function for onmessage handling.\n",
       "// Called in the figure constructor.\n",
       "mpl.figure.prototype._make_on_message_function = function(fig) {\n",
       "    return function socket_on_message(evt) {\n",
       "        if (evt.data instanceof Blob) {\n",
       "            /* FIXME: We get \"Resource interpreted as Image but\n",
       "             * transferred with MIME type text/plain:\" errors on\n",
       "             * Chrome.  But how to set the MIME type?  It doesn't seem\n",
       "             * to be part of the websocket stream */\n",
       "            evt.data.type = \"image/png\";\n",
       "\n",
       "            /* Free the memory for the previous frames */\n",
       "            if (fig.imageObj.src) {\n",
       "                (window.URL || window.webkitURL).revokeObjectURL(\n",
       "                    fig.imageObj.src);\n",
       "            }\n",
       "\n",
       "            fig.imageObj.src = (window.URL || window.webkitURL).createObjectURL(\n",
       "                evt.data);\n",
       "            fig.updated_canvas_event();\n",
       "            fig.waiting = false;\n",
       "            return;\n",
       "        }\n",
       "        else if (typeof evt.data === 'string' && evt.data.slice(0, 21) == \"data:image/png;base64\") {\n",
       "            fig.imageObj.src = evt.data;\n",
       "            fig.updated_canvas_event();\n",
       "            fig.waiting = false;\n",
       "            return;\n",
       "        }\n",
       "\n",
       "        var msg = JSON.parse(evt.data);\n",
       "        var msg_type = msg['type'];\n",
       "\n",
       "        // Call the  \"handle_{type}\" callback, which takes\n",
       "        // the figure and JSON message as its only arguments.\n",
       "        try {\n",
       "            var callback = fig[\"handle_\" + msg_type];\n",
       "        } catch (e) {\n",
       "            console.log(\"No handler for the '\" + msg_type + \"' message type: \", msg);\n",
       "            return;\n",
       "        }\n",
       "\n",
       "        if (callback) {\n",
       "            try {\n",
       "                // console.log(\"Handling '\" + msg_type + \"' message: \", msg);\n",
       "                callback(fig, msg);\n",
       "            } catch (e) {\n",
       "                console.log(\"Exception inside the 'handler_\" + msg_type + \"' callback:\", e, e.stack, msg);\n",
       "            }\n",
       "        }\n",
       "    };\n",
       "}\n",
       "\n",
       "// from http://stackoverflow.com/questions/1114465/getting-mouse-location-in-canvas\n",
       "mpl.findpos = function(e) {\n",
       "    //this section is from http://www.quirksmode.org/js/events_properties.html\n",
       "    var targ;\n",
       "    if (!e)\n",
       "        e = window.event;\n",
       "    if (e.target)\n",
       "        targ = e.target;\n",
       "    else if (e.srcElement)\n",
       "        targ = e.srcElement;\n",
       "    if (targ.nodeType == 3) // defeat Safari bug\n",
       "        targ = targ.parentNode;\n",
       "\n",
       "    // jQuery normalizes the pageX and pageY\n",
       "    // pageX,Y are the mouse positions relative to the document\n",
       "    // offset() returns the position of the element relative to the document\n",
       "    var x = e.pageX - $(targ).offset().left;\n",
       "    var y = e.pageY - $(targ).offset().top;\n",
       "\n",
       "    return {\"x\": x, \"y\": y};\n",
       "};\n",
       "\n",
       "/*\n",
       " * return a copy of an object with only non-object keys\n",
       " * we need this to avoid circular references\n",
       " * http://stackoverflow.com/a/24161582/3208463\n",
       " */\n",
       "function simpleKeys (original) {\n",
       "  return Object.keys(original).reduce(function (obj, key) {\n",
       "    if (typeof original[key] !== 'object')\n",
       "        obj[key] = original[key]\n",
       "    return obj;\n",
       "  }, {});\n",
       "}\n",
       "\n",
       "mpl.figure.prototype.mouse_event = function(event, name) {\n",
       "    var canvas_pos = mpl.findpos(event)\n",
       "\n",
       "    if (name === 'button_press')\n",
       "    {\n",
       "        this.canvas.focus();\n",
       "        this.canvas_div.focus();\n",
       "    }\n",
       "\n",
       "    var x = canvas_pos.x;\n",
       "    var y = canvas_pos.y;\n",
       "\n",
       "    this.send_message(name, {x: x, y: y, button: event.button,\n",
       "                             step: event.step,\n",
       "                             guiEvent: simpleKeys(event)});\n",
       "\n",
       "    /* This prevents the web browser from automatically changing to\n",
       "     * the text insertion cursor when the button is pressed.  We want\n",
       "     * to control all of the cursor setting manually through the\n",
       "     * 'cursor' event from matplotlib */\n",
       "    event.preventDefault();\n",
       "    return false;\n",
       "}\n",
       "\n",
       "mpl.figure.prototype._key_event_extra = function(event, name) {\n",
       "    // Handle any extra behaviour associated with a key event\n",
       "}\n",
       "\n",
       "mpl.figure.prototype.key_event = function(event, name) {\n",
       "\n",
       "    // Prevent repeat events\n",
       "    if (name == 'key_press')\n",
       "    {\n",
       "        if (event.which === this._key)\n",
       "            return;\n",
       "        else\n",
       "            this._key = event.which;\n",
       "    }\n",
       "    if (name == 'key_release')\n",
       "        this._key = null;\n",
       "\n",
       "    var value = '';\n",
       "    if (event.ctrlKey && event.which != 17)\n",
       "        value += \"ctrl+\";\n",
       "    if (event.altKey && event.which != 18)\n",
       "        value += \"alt+\";\n",
       "    if (event.shiftKey && event.which != 16)\n",
       "        value += \"shift+\";\n",
       "\n",
       "    value += 'k';\n",
       "    value += event.which.toString();\n",
       "\n",
       "    this._key_event_extra(event, name);\n",
       "\n",
       "    this.send_message(name, {key: value,\n",
       "                             guiEvent: simpleKeys(event)});\n",
       "    return false;\n",
       "}\n",
       "\n",
       "mpl.figure.prototype.toolbar_button_onclick = function(name) {\n",
       "    if (name == 'download') {\n",
       "        this.handle_save(this, null);\n",
       "    } else {\n",
       "        this.send_message(\"toolbar_button\", {name: name});\n",
       "    }\n",
       "};\n",
       "\n",
       "mpl.figure.prototype.toolbar_button_onmouseover = function(tooltip) {\n",
       "    this.message.textContent = tooltip;\n",
       "};\n",
       "mpl.toolbar_items = [[\"Home\", \"Reset original view\", \"fa fa-home icon-home\", \"home\"], [\"Back\", \"Back to  previous view\", \"fa fa-arrow-left icon-arrow-left\", \"back\"], [\"Forward\", \"Forward to next view\", \"fa fa-arrow-right icon-arrow-right\", \"forward\"], [\"\", \"\", \"\", \"\"], [\"Pan\", \"Pan axes with left mouse, zoom with right\", \"fa fa-arrows icon-move\", \"pan\"], [\"Zoom\", \"Zoom to rectangle\", \"fa fa-square-o icon-check-empty\", \"zoom\"], [\"\", \"\", \"\", \"\"], [\"Download\", \"Download plot\", \"fa fa-floppy-o icon-save\", \"download\"]];\n",
       "\n",
       "mpl.extensions = [\"eps\", \"jpeg\", \"pdf\", \"png\", \"ps\", \"raw\", \"svg\", \"tif\"];\n",
       "\n",
       "mpl.default_extension = \"png\";var comm_websocket_adapter = function(comm) {\n",
       "    // Create a \"websocket\"-like object which calls the given IPython comm\n",
       "    // object with the appropriate methods. Currently this is a non binary\n",
       "    // socket, so there is still some room for performance tuning.\n",
       "    var ws = {};\n",
       "\n",
       "    ws.close = function() {\n",
       "        comm.close()\n",
       "    };\n",
       "    ws.send = function(m) {\n",
       "        //console.log('sending', m);\n",
       "        comm.send(m);\n",
       "    };\n",
       "    // Register the callback with on_msg.\n",
       "    comm.on_msg(function(msg) {\n",
       "        //console.log('receiving', msg['content']['data'], msg);\n",
       "        // Pass the mpl event to the overriden (by mpl) onmessage function.\n",
       "        ws.onmessage(msg['content']['data'])\n",
       "    });\n",
       "    return ws;\n",
       "}\n",
       "\n",
       "mpl.mpl_figure_comm = function(comm, msg) {\n",
       "    // This is the function which gets called when the mpl process\n",
       "    // starts-up an IPython Comm through the \"matplotlib\" channel.\n",
       "\n",
       "    var id = msg.content.data.id;\n",
       "    // Get hold of the div created by the display call when the Comm\n",
       "    // socket was opened in Python.\n",
       "    var element = $(\"#\" + id);\n",
       "    var ws_proxy = comm_websocket_adapter(comm)\n",
       "\n",
       "    function ondownload(figure, format) {\n",
       "        window.open(figure.imageObj.src);\n",
       "    }\n",
       "\n",
       "    var fig = new mpl.figure(id, ws_proxy,\n",
       "                           ondownload,\n",
       "                           element.get(0));\n",
       "\n",
       "    // Call onopen now - mpl needs it, as it is assuming we've passed it a real\n",
       "    // web socket which is closed, not our websocket->open comm proxy.\n",
       "    ws_proxy.onopen();\n",
       "\n",
       "    fig.parent_element = element.get(0);\n",
       "    fig.cell_info = mpl.find_output_cell(\"<div id='\" + id + \"'></div>\");\n",
       "    if (!fig.cell_info) {\n",
       "        console.error(\"Failed to find cell for figure\", id, fig);\n",
       "        return;\n",
       "    }\n",
       "\n",
       "    var output_index = fig.cell_info[2]\n",
       "    var cell = fig.cell_info[0];\n",
       "\n",
       "};\n",
       "\n",
       "mpl.figure.prototype.handle_close = function(fig, msg) {\n",
       "    fig.root.unbind('remove')\n",
       "\n",
       "    // Update the output cell to use the data from the current canvas.\n",
       "    fig.push_to_output();\n",
       "    var dataURL = fig.canvas.toDataURL();\n",
       "    // Re-enable the keyboard manager in IPython - without this line, in FF,\n",
       "    // the notebook keyboard shortcuts fail.\n",
       "    IPython.keyboard_manager.enable()\n",
       "    $(fig.parent_element).html('<img src=\"' + dataURL + '\">');\n",
       "    fig.close_ws(fig, msg);\n",
       "}\n",
       "\n",
       "mpl.figure.prototype.close_ws = function(fig, msg){\n",
       "    fig.send_message('closing', msg);\n",
       "    // fig.ws.close()\n",
       "}\n",
       "\n",
       "mpl.figure.prototype.push_to_output = function(remove_interactive) {\n",
       "    // Turn the data on the canvas into data in the output cell.\n",
       "    var dataURL = this.canvas.toDataURL();\n",
       "    this.cell_info[1]['text/html'] = '<img src=\"' + dataURL + '\">';\n",
       "}\n",
       "\n",
       "mpl.figure.prototype.updated_canvas_event = function() {\n",
       "    // Tell IPython that the notebook contents must change.\n",
       "    IPython.notebook.set_dirty(true);\n",
       "    this.send_message(\"ack\", {});\n",
       "    var fig = this;\n",
       "    // Wait a second, then push the new image to the DOM so\n",
       "    // that it is saved nicely (might be nice to debounce this).\n",
       "    setTimeout(function () { fig.push_to_output() }, 1000);\n",
       "}\n",
       "\n",
       "mpl.figure.prototype._init_toolbar = function() {\n",
       "    var fig = this;\n",
       "\n",
       "    var nav_element = $('<div/>')\n",
       "    nav_element.attr('style', 'width: 100%');\n",
       "    this.root.append(nav_element);\n",
       "\n",
       "    // Define a callback function for later on.\n",
       "    function toolbar_event(event) {\n",
       "        return fig.toolbar_button_onclick(event['data']);\n",
       "    }\n",
       "    function toolbar_mouse_event(event) {\n",
       "        return fig.toolbar_button_onmouseover(event['data']);\n",
       "    }\n",
       "\n",
       "    for(var toolbar_ind in mpl.toolbar_items){\n",
       "        var name = mpl.toolbar_items[toolbar_ind][0];\n",
       "        var tooltip = mpl.toolbar_items[toolbar_ind][1];\n",
       "        var image = mpl.toolbar_items[toolbar_ind][2];\n",
       "        var method_name = mpl.toolbar_items[toolbar_ind][3];\n",
       "\n",
       "        if (!name) { continue; };\n",
       "\n",
       "        var button = $('<button class=\"btn btn-default\" href=\"#\" title=\"' + name + '\"><i class=\"fa ' + image + ' fa-lg\"></i></button>');\n",
       "        button.click(method_name, toolbar_event);\n",
       "        button.mouseover(tooltip, toolbar_mouse_event);\n",
       "        nav_element.append(button);\n",
       "    }\n",
       "\n",
       "    // Add the status bar.\n",
       "    var status_bar = $('<span class=\"mpl-message\" style=\"text-align:right; float: right;\"/>');\n",
       "    nav_element.append(status_bar);\n",
       "    this.message = status_bar[0];\n",
       "\n",
       "    // Add the close button to the window.\n",
       "    var buttongrp = $('<div class=\"btn-group inline pull-right\"></div>');\n",
       "    var button = $('<button class=\"btn btn-mini btn-primary\" href=\"#\" title=\"Stop Interaction\"><i class=\"fa fa-power-off icon-remove icon-large\"></i></button>');\n",
       "    button.click(function (evt) { fig.handle_close(fig, {}); } );\n",
       "    button.mouseover('Stop Interaction', toolbar_mouse_event);\n",
       "    buttongrp.append(button);\n",
       "    var titlebar = this.root.find($('.ui-dialog-titlebar'));\n",
       "    titlebar.prepend(buttongrp);\n",
       "}\n",
       "\n",
       "mpl.figure.prototype._root_extra_style = function(el){\n",
       "    var fig = this\n",
       "    el.on(\"remove\", function(){\n",
       "\tfig.close_ws(fig, {});\n",
       "    });\n",
       "}\n",
       "\n",
       "mpl.figure.prototype._canvas_extra_style = function(el){\n",
       "    // this is important to make the div 'focusable\n",
       "    el.attr('tabindex', 0)\n",
       "    // reach out to IPython and tell the keyboard manager to turn it's self\n",
       "    // off when our div gets focus\n",
       "\n",
       "    // location in version 3\n",
       "    if (IPython.notebook.keyboard_manager) {\n",
       "        IPython.notebook.keyboard_manager.register_events(el);\n",
       "    }\n",
       "    else {\n",
       "        // location in version 2\n",
       "        IPython.keyboard_manager.register_events(el);\n",
       "    }\n",
       "\n",
       "}\n",
       "\n",
       "mpl.figure.prototype._key_event_extra = function(event, name) {\n",
       "    var manager = IPython.notebook.keyboard_manager;\n",
       "    if (!manager)\n",
       "        manager = IPython.keyboard_manager;\n",
       "\n",
       "    // Check for shift+enter\n",
       "    if (event.shiftKey && event.which == 13) {\n",
       "        this.canvas_div.blur();\n",
       "        event.shiftKey = false;\n",
       "        // Send a \"J\" for go to next cell\n",
       "        event.which = 74;\n",
       "        event.keyCode = 74;\n",
       "        manager.command_mode();\n",
       "        manager.handle_keydown(event);\n",
       "    }\n",
       "}\n",
       "\n",
       "mpl.figure.prototype.handle_save = function(fig, msg) {\n",
       "    fig.ondownload(fig, null);\n",
       "}\n",
       "\n",
       "\n",
       "mpl.find_output_cell = function(html_output) {\n",
       "    // Return the cell and output element which can be found *uniquely* in the notebook.\n",
       "    // Note - this is a bit hacky, but it is done because the \"notebook_saving.Notebook\"\n",
       "    // IPython event is triggered only after the cells have been serialised, which for\n",
       "    // our purposes (turning an active figure into a static one), is too late.\n",
       "    var cells = IPython.notebook.get_cells();\n",
       "    var ncells = cells.length;\n",
       "    for (var i=0; i<ncells; i++) {\n",
       "        var cell = cells[i];\n",
       "        if (cell.cell_type === 'code'){\n",
       "            for (var j=0; j<cell.output_area.outputs.length; j++) {\n",
       "                var data = cell.output_area.outputs[j];\n",
       "                if (data.data) {\n",
       "                    // IPython >= 3 moved mimebundle to data attribute of output\n",
       "                    data = data.data;\n",
       "                }\n",
       "                if (data['text/html'] == html_output) {\n",
       "                    return [cell, data, j];\n",
       "                }\n",
       "            }\n",
       "        }\n",
       "    }\n",
       "}\n",
       "\n",
       "// Register the function which deals with the matplotlib target/channel.\n",
       "// The kernel may be null if the page has been refreshed.\n",
       "if (IPython.notebook.kernel != null) {\n",
       "    IPython.notebook.kernel.comm_manager.register_target('matplotlib', mpl.mpl_figure_comm);\n",
       "}\n"
      ],
      "text/plain": [
       "<IPython.core.display.Javascript object>"
      ]
     },
     "metadata": {},
     "output_type": "display_data"
    },
    {
     "data": {
      "text/html": [
       "<img src=\"data:image/png;base64,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\">"
      ],
      "text/plain": [
       "<IPython.core.display.HTML object>"
      ]
     },
     "metadata": {},
     "output_type": "display_data"
    }
   ],
   "source": [
    "plt.figure(figsize=(8, 20))\n",
    "sns.barplot(x='Error_Rate', y=station_data.index.values, data=station_data, color=\"red\")\n",
    "plt.title('Error Rate between Production Stations')\n",
    "# of all the parts that pass through the station, counts the error rate for each station\n",
    "plt.xlabel('Station Error Rate')\n",
    "plt.show()\n",
    "# station 32 used for R&D ?"
   ]
  },
  {
   "cell_type": "code",
   "execution_count": 24,
   "metadata": {
    "collapsed": false
   },
   "outputs": [],
   "source": [
    "# explore failure rate with a combination of stations\n",
    "def explore_failure_rate_combine_station(STATIONS):\n",
    "    train_numeric_part = pd.read_csv('../data/train_numeric.csv', nrows=10000)\n",
    "    numeric_cols = train_numeric_part.drop(['Id','Response'], axis=1).count().reset_index().sort_values(by=0, ascending=False)\n",
    "    numeric_cols['station'] = numeric_cols['index'].apply(lambda s: s.split('_')[1])\n",
    "    numeric_cols = numeric_cols[numeric_cols['station'].isin(STATIONS)]\n",
    "    numeric_cols = numeric_cols.drop_duplicates('station', keep='first')['index'].tolist()\n",
    "    \n",
    "    # Load the first feature column\n",
    "    train_numeric = pd.read_csv('../data/train_numeric.csv', usecols=['Id'] + numeric_cols)\n",
    "    train_numeric.columns = ['Id'] + STATIONS\n",
    "    \n",
    "    # Has value ->1 no value ->0\n",
    "    for station in STATIONS:\n",
    "        train_numeric[station] = 1 * (train_numeric[station] >= 0)\n",
    "    # Group by station and output result\n",
    "    response = pd.read_csv('../data/train_numeric.csv', usecols=['Id', 'Response'])\n",
    "    train = response.merge(train_numeric, how='left', on='Id')\n",
    "    train['cnt'] = 1\n",
    "    failure_rate = train.groupby(STATIONS).sum()[['Response', 'cnt']]\n",
    "    failure_rate['failure_rate'] = failure_rate['Response'] / failure_rate['cnt']\n",
    "    return failure_rate\n",
    "    # failure_rate.head(20)"
   ]
  },
  {
   "cell_type": "code",
   "execution_count": 25,
   "metadata": {
    "collapsed": false
   },
   "outputs": [
    {
     "data": {
      "text/html": [
       "<div>\n",
       "<table border=\"1\" class=\"dataframe\">\n",
       "  <thead>\n",
       "    <tr style=\"text-align: right;\">\n",
       "      <th></th>\n",
       "      <th></th>\n",
       "      <th></th>\n",
       "      <th>Response</th>\n",
       "      <th>cnt</th>\n",
       "      <th>failure_rate</th>\n",
       "    </tr>\n",
       "    <tr>\n",
       "      <th>S33</th>\n",
       "      <th>S32</th>\n",
       "      <th>S31</th>\n",
       "      <th></th>\n",
       "      <th></th>\n",
       "      <th></th>\n",
       "    </tr>\n",
       "  </thead>\n",
       "  <tbody>\n",
       "    <tr>\n",
       "      <th rowspan=\"4\" valign=\"top\">0</th>\n",
       "      <th rowspan=\"2\" valign=\"top\">0</th>\n",
       "      <th>0</th>\n",
       "      <td>3514</td>\n",
       "      <td>590896</td>\n",
       "      <td>0.005947</td>\n",
       "    </tr>\n",
       "    <tr>\n",
       "      <th>1</th>\n",
       "      <td>2751</td>\n",
       "      <td>549509</td>\n",
       "      <td>0.005006</td>\n",
       "    </tr>\n",
       "    <tr>\n",
       "      <th rowspan=\"2\" valign=\"top\">1</th>\n",
       "      <th>0</th>\n",
       "      <td>505</td>\n",
       "      <td>8489</td>\n",
       "      <td>0.059489</td>\n",
       "    </tr>\n",
       "    <tr>\n",
       "      <th>1</th>\n",
       "      <td>26</td>\n",
       "      <td>3843</td>\n",
       "      <td>0.006766</td>\n",
       "    </tr>\n",
       "    <tr>\n",
       "      <th rowspan=\"4\" valign=\"top\">1</th>\n",
       "      <th rowspan=\"2\" valign=\"top\">0</th>\n",
       "      <th>0</th>\n",
       "      <td>42</td>\n",
       "      <td>10688</td>\n",
       "      <td>0.003930</td>\n",
       "    </tr>\n",
       "    <tr>\n",
       "      <th>1</th>\n",
       "      <td>37</td>\n",
       "      <td>20075</td>\n",
       "      <td>0.001843</td>\n",
       "    </tr>\n",
       "    <tr>\n",
       "      <th rowspan=\"2\" valign=\"top\">1</th>\n",
       "      <th>0</th>\n",
       "      <td>4</td>\n",
       "      <td>144</td>\n",
       "      <td>0.027778</td>\n",
       "    </tr>\n",
       "    <tr>\n",
       "      <th>1</th>\n",
       "      <td>0</td>\n",
       "      <td>103</td>\n",
       "      <td>0.000000</td>\n",
       "    </tr>\n",
       "  </tbody>\n",
       "</table>\n",
       "</div>"
      ],
      "text/plain": [
       "             Response     cnt  failure_rate\n",
       "S33 S32 S31                                \n",
       "0   0   0        3514  590896      0.005947\n",
       "        1        2751  549509      0.005006\n",
       "    1   0         505    8489      0.059489\n",
       "        1          26    3843      0.006766\n",
       "1   0   0          42   10688      0.003930\n",
       "        1          37   20075      0.001843\n",
       "    1   0           4     144      0.027778\n",
       "        1           0     103      0.000000"
      ]
     },
     "execution_count": 25,
     "metadata": {},
     "output_type": "execute_result"
    }
   ],
   "source": [
    "combined_failure_rate = explore_failure_rate_combine_station(['S33','S32','S31'])\n",
    "combined_failure_rate"
   ]
  },
  {
   "cell_type": "code",
   "execution_count": 20,
   "metadata": {
    "collapsed": false
   },
   "outputs": [
    {
     "data": {
      "text/plain": [
       "-1.0"
      ]
     },
     "execution_count": 20,
     "metadata": {},
     "output_type": "execute_result"
    }
   ],
   "source": [
    "# explore min and max value of each station\n",
    "# data = pd.read_csv('../data/train_numeric.csv', nrows=100)\n",
    "\n",
    "# def make_features(df):\n",
    "#     new_features = pd.DataFrame({})\n",
    "#     for s in station_features.keys():\n",
    "#         station_data = df[station_features[s]]\n",
    "#         col = s+'_max'\n",
    "#         new_features[col] = station_data.max(axis=1).fillna(-1.)\n",
    "#         col = s+'_min'\n",
    "#         new_features[col] = station_data.min(axis=1).fillna(-1.)\n",
    "#     return new_features\n",
    "\n",
    "# data = make_features(data)\n",
    "# data.max().max()\n",
    "# data.min().min()"
   ]
  },
  {
   "cell_type": "markdown",
   "metadata": {
    "collapsed": true
   },
   "source": [
    "## Numerical Feature Exploration Part"
   ]
  },
  {
   "cell_type": "code",
   "execution_count": 2,
   "metadata": {
    "collapsed": false
   },
   "outputs": [],
   "source": [
    "def get_number_features(station_features):\n",
    "    total_features = 0\n",
    "    for key in station_features.keys():\n",
    "        total_features += len(station_features[key]) \n",
    "    return total_features\n",
    "\n",
    "def get_features(feature_list):\n",
    "    # function to group features by station or line of production the convention is:\n",
    "    # L1_S15_F232 means Line 1, Station 15, Feature 232\n",
    "    line_features = {}\n",
    "    station_features = {}\n",
    "    lines = set([item.split('_')[0] for item in feature_list])\n",
    "    stations = set([item.split('_')[1] for item in feature_list])\n",
    "\n",
    "    for l in lines:\n",
    "        line_features[l] = [item for item in feature_list if '%s_' % l in item]\n",
    "\n",
    "    for s in stations:\n",
    "        station_features[s] = [item for item in feature_list if '%s_' % s in item]\n",
    "    \n",
    "    print 'No. of lines: '+ str(len(lines))\n",
    "    print 'No. of stations: '+ str(len(stations))\n",
    "    print 'No. of features: '+ str(int(get_number_features(station_features)))\n",
    "    \n",
    "\n",
    "    return (line_features, station_features)"
   ]
  },
  {
   "cell_type": "code",
   "execution_count": null,
   "metadata": {
    "collapsed": true
   },
   "outputs": [],
   "source": [
    "def explore_features(data_set_name,is_response):\n",
    "    # how many units processed in each station\n",
    "    # also percentage of failed/passed QS in each station\n",
    "    if is_response :\n",
    "        features = pd.read_csv(INPUT_PATH % data_set_name, nrows=1).drop([\"Response\", \"Id\"], axis=1).columns.values\n",
    "    else:\n",
    "        features = pd.read_csv(INPUT_PATH % data_set_name, nrows=1).drop([\"Id\"], axis=1).columns.values\n",
    "    \n",
    "    line_features, station_features = get_features(features)\n",
    "    # create a dataframe cols: station, features_count\n",
    "    sdf = pd.DataFrame(list({int(key[1:]): len(station_features[key]) for\n",
    "                             key in station_features.keys()}.items()),\n",
    "                       columns=[\"Station\", \"FeatureCount\"])\n",
    "    ldf = pd.DataFrame(list({int(key[1:]): len(line_features[key]) for\n",
    "                             key in line_features.keys()}.items()),\n",
    "                       columns=[\"Line\", \"FeatureCount\"])\n",
    "    \n",
    "    stations_plot = sdf.plot(x=\"Station\", y=\"FeatureCount\", kind=\"bar\",\n",
    "                             title=\"Fig.1 - Features by Station\",\n",
    "                             figsize=(13,6), fontsize=12)\n",
    "    \n",
    "    line_features_plot = ldf.plot(x=\"Line\",y=\"FeatureCount\", kind=\"bar\",\n",
    "                             title=\"Fig.2 - Features by line\",\n",
    "                             figsize=(13,6), fontsize=12)\n",
    "    \n",
    "    #print 'No. of features:'+ str(int(get_number_features(station_features)))\n",
    "    \n",
    "    return line_features, station_features"
   ]
  },
  {
   "cell_type": "code",
   "execution_count": null,
   "metadata": {
    "collapsed": false,
    "scrolled": true
   },
   "outputs": [],
   "source": [
    "lf, sf = explore_features(\"train_numeric\",True)"
   ]
  },
  {
   "cell_type": "markdown",
   "metadata": {},
   "source": [
    "This part is to see how many parts per station, how many success and failure parts per station"
   ]
  },
  {
   "cell_type": "code",
   "execution_count": null,
   "metadata": {
    "collapsed": true
   },
   "outputs": [],
   "source": [
    "def explore_product_by_station(data_set_name,read_rows):\n",
    "    # need to see how many product per station\n",
    "    # features = pd.read_csv(INPUT_PATH % data_set_name, nrows=1).drop([\"Response\", \"Id\"], axis=1).columns.values\n",
    "    # line_features, station_features = get_features(features)\n",
    "    station_features = sf\n",
    "    dwb_result = []\n",
    "    ppbs_result = []\n",
    "    rows = 0\n",
    "    # inside this loop we will try to calculate different data sets, this way we only read the\n",
    "    # files once since it takes a while and produce multiple results\n",
    "    for station in station_features:\n",
    "        station_data = pd.read_csv(\n",
    "            INPUT_PATH % data_set_name,\n",
    "            usecols=station_features[station] + ['Id', 'Response'],nrows = read_rows)\n",
    "        \n",
    "        # need to get how many rows in the sample row\n",
    "        if not rows:\n",
    "            rows = station_data.shape[0]\n",
    "        # need to store how many processed units in each station\n",
    "        # only if all features in that station has value we conside unit processed in this station\n",
    "        ppbs_result.append(\n",
    "            {'Station': int(station[1:]),\n",
    "             'Processed': station_data[station_features[station]].notnull().all(axis=1).sum()})\n",
    "        \n",
    "        # data without blanks (dwb): take all rows and drop any row that has any blank\n",
    "        # in any station column\n",
    "        dwb = station_data.dropna(how=\"any\")\n",
    "        dwb_result.append([int(station[1:]), dwb.shape[0],\n",
    "                       dwb[dwb[\"Response\"] == 1].shape[0],\n",
    "                       dwb[dwb[\"Response\"] == 0].shape[0]])\n",
    "        \n",
    "    # convert list to a dataframe and prepare for the plot\n",
    "    dwb_df = pd.DataFrame(\n",
    "        dwb_result, columns=[\"Station\", \"Count\", \"Failed\", \"Passed\"]).sort_values(by=[\"Station\"])\n",
    "    # calculate the error rate for each station\n",
    "    dwb_df[\"Error\"] = dwb_df.apply(lambda row: float(row[\"Failed\"]) / (row[\"Count\"] + 1), axis=1)\n",
    "    \n",
    "    # plot the stacked bar tot product/ station\n",
    "    my_plot = dwb_df[[\"Station\", \"Failed\", \"Passed\"]].plot(kind=\"bar\", stacked=True, x=\"Station\",\n",
    "        title=\"Fig:3 - Products by station\", figsize=(13,6), fontsize=12)\n",
    "    my_plot.set_xlabel(\"Stations\")\n",
    "    my_plot.set_ylabel(\"Record Count\")\n",
    "    \n",
    "    # plot error rate per station\n",
    "    my_plot = dwb_df[[\"Station\", \"Error\"]].plot(\n",
    "        kind=\"bar\", x=\"Station\",\n",
    "        title=\"Fig:4 - Error by station\", figsize=(13,6), fontsize=12)\n",
    "    my_plot.set_xlabel(\"Stations\")\n",
    "    my_plot.set_ylabel(\"Error %\")\n",
    "    \n",
    "    # process the ppbs result to see how many products has been process by each station.\n",
    "    ppbs_df = pd.DataFrame(\n",
    "        ppbs_result, columns=['Station', 'Processed']).sort(columns=['Station'])\n",
    "    # calculate the missed product for each station: all count - processed count\n",
    "    ppbs_df[\"Missed\"] = ppbs_df[\"Processed\"].apply(lambda x: rows - x)\n",
    "    # the plot\n",
    "    ppbs_df.plot(x=\"Station\", kind=\"bar\", stacked=True,\n",
    "            title=\"Fig: 5 - Products processed by each station\",\n",
    "            figsize=(13,6), fontsize=12)\n",
    "    \n",
    "\n"
   ]
  },
  {
   "cell_type": "code",
   "execution_count": null,
   "metadata": {
    "collapsed": false,
    "scrolled": true
   },
   "outputs": [],
   "source": [
    "explore_product_by_station(\"train_numeric\",300)"
   ]
  },
  {
   "cell_type": "code",
   "execution_count": null,
   "metadata": {
    "collapsed": true
   },
   "outputs": [],
   "source": [
    "# Value exploration by station part"
   ]
  },
  {
   "cell_type": "code",
   "execution_count": null,
   "metadata": {
    "collapsed": false
   },
   "outputs": [],
   "source": [
    "# overview again to compare with latter results\n",
    "train_overview = pd.read_csv(INPUT_PATH % 'train_numeric',nrows = read_rows)\n",
    "train_overview.head()"
   ]
  },
  {
   "cell_type": "code",
   "execution_count": null,
   "metadata": {
    "collapsed": false
   },
   "outputs": [],
   "source": [
    "# overview again with respect to a station\n",
    "def get_station(dataset, station, res = False, show_figure = True):\n",
    "    overview = pd.read_csv(INPUT_PATH % dataset,nrows = read_rows)\n",
    "#     print overview.head()\n",
    "    if res:\n",
    "        columns = overview.columns.drop([\"Response\", \"Id\"])\n",
    "    else:\n",
    "        columns = overview.columns.drop([\"Id\"])\n",
    "        \n",
    "    stations = set([item.split('_')[1] for item in list(columns)])\n",
    "    station_features = {}\n",
    "    for s in stations:\n",
    "        station_features[s] = [item for item in list(columns) if '%s_' % s in item]  \n",
    "    print overview[station_features[station]].head()\n",
    "    \n",
    "    overview_explore_nan = pd.DataFrame(columns = stations) \n",
    "    # prepare for dataset with one station\n",
    "    # if contain values not nan\n",
    "    # if no values nan\n",
    "    for s in stations:\n",
    "        overview_explore_nan[s] = overview[station_features[s][0]]\n",
    "    overview_explore_nan =overview_explore_nan[sorted(overview_explore_nan.columns, key=lambda item: int(item[1:]))]\n",
    "    # visualize result in flow path\n",
    "    msno.matrix(overview_explore_nan)\n",
    "    # visualize result in bar counting total number of non-nan value\n",
    "    # msno.bar(overview_explore_nan)\n",
    "    # visualize result in correlation coeficient\n",
    "    msno.heatmap(overview_explore_nan)"
   ]
  },
  {
   "cell_type": "code",
   "execution_count": null,
   "metadata": {
    "collapsed": false,
    "scrolled": false
   },
   "outputs": [],
   "source": [
    "# train_numeric\n",
    "# train_date\n",
    "# train_categorical\n",
    "get_station('train_numeric', 'S0', True)"
   ]
  },
  {
   "cell_type": "code",
   "execution_count": null,
   "metadata": {
    "collapsed": false
   },
   "outputs": [],
   "source": [
    "get_station('train_date', 'S1', False)"
   ]
  },
  {
   "cell_type": "code",
   "execution_count": null,
   "metadata": {
    "collapsed": false
   },
   "outputs": [],
   "source": [
    "get_station('train_categorical', 'S1', False)"
   ]
  },
  {
   "cell_type": "markdown",
   "metadata": {
    "collapsed": true
   },
   "source": [
    "## Categorial Data Exploration Part"
   ]
  },
  {
   "cell_type": "code",
   "execution_count": null,
   "metadata": {
    "collapsed": false,
    "scrolled": true
   },
   "outputs": [],
   "source": [
    "lf, sf = explore_features(\"train_categorical\",False)"
   ]
  },
  {
   "cell_type": "code",
   "execution_count": null,
   "metadata": {
    "collapsed": false
   },
   "outputs": [],
   "source": [
    "# this function is to explore sparsity rate per row\n",
    "def explore_sparse_rate(data_set_name, read_rows):\n",
    "    train_categorical = pd.read_csv(INPUT_PATH % data_set_name,nrows = read_rows).drop([\"Id\"], axis=1)\n",
    "    sparse_rate_each_part = []\n",
    "    sparse_rate_series = train_categorical.isnull().sum(axis = 1)/train_categorical.shape[1]\n",
    "    sparse_rate_df = pd.DataFrame(\n",
    "        sparse_rate_series, columns=['sparse_rate'])\n",
    "    return sparse_rate_df"
   ]
  },
  {
   "cell_type": "code",
   "execution_count": null,
   "metadata": {
    "collapsed": false
   },
   "outputs": [],
   "source": [
    "explore_sparse_rate('train_categorical', 100)"
   ]
  },
  {
   "cell_type": "code",
   "execution_count": null,
   "metadata": {
    "collapsed": true
   },
   "outputs": [],
   "source": [
    "# This function is to get feeling of the TX value in the dataset\n",
    "def explore_dintinct_Tx_value(data_set_name, read_rows):\n",
    "    train_categorical = pd.read_csv(INPUT_PATH % 'train_categorical',nrows = read_rows)\n",
    "    del train_categorical['Id']\n",
    "    train_categorical_zeroes = train_categorical.fillna(0)\n",
    "    train_categorical_zeroes = train_categorical_zeroes.values \n",
    "    return np.unique(train_categorical_zeroes[train_categorical_zeroes!=0.0])"
   ]
  },
  {
   "cell_type": "code",
   "execution_count": null,
   "metadata": {
    "collapsed": false
   },
   "outputs": [],
   "source": [
    "explore_dintinct_Tx_value('train_categorical', 30)"
   ]
  },
  {
   "cell_type": "markdown",
   "metadata": {},
   "source": [
    "# Feature Enginnering Part"
   ]
  },
  {
   "cell_type": "markdown",
   "metadata": {
    "collapsed": true
   },
   "source": [
    "## Method 1 : Applying PCA for Dimension Reduction\n",
    "Preliminary work to search for appropriate n component\n",
    "benchmark: how many variance is explained or we maintain how much variance"
   ]
  },
  {
   "cell_type": "code",
   "execution_count": null,
   "metadata": {
    "collapsed": false
   },
   "outputs": [],
   "source": [
    "# import additional pakage\n",
    "import math\n",
    "from sklearn.decomposition import PCA, IncrementalPCA\n",
    "from sklearn import preprocessing\n",
    "# define chunksize how many rows load one time\n",
    "chunksize  = 50000"
   ]
  },
  {
   "cell_type": "code",
   "execution_count": null,
   "metadata": {
    "collapsed": false
   },
   "outputs": [],
   "source": [
    "# Getting the column headers from first rows\n",
    "# Reading as float32 to save Memory \n",
    "data = pd.read_csv(INPUT_PATH % 'train_numeric',nrows=1)\n",
    "float_cols = [c for c in data]\n",
    "float32_cols = {c: np.float32 for c in float_cols}"
   ]
  },
  {
   "cell_type": "code",
   "execution_count": null,
   "metadata": {
    "collapsed": false
   },
   "outputs": [],
   "source": [
    "# define the number of pc for preliminary decomposition\n",
    "n_components = 968\n",
    "predictors = [x for x in data.keys() if (x != 'Response' and x != 'Id')]"
   ]
  },
  {
   "cell_type": "code",
   "execution_count": null,
   "metadata": {
    "collapsed": true
   },
   "outputs": [],
   "source": [
    "def standard_feature_scaling(df):\n",
    "    std_scale = preprocessing.StandardScaler().fit(df)\n",
    "    df_std = pd.DataFrame(std_scale.transform(df))\n",
    "    df_std.columns = df.columns\n",
    "    df_std.index = df.index\n",
    "    return df_std"
   ]
  },
  {
   "cell_type": "code",
   "execution_count": null,
   "metadata": {
    "collapsed": false
   },
   "outputs": [],
   "source": [
    "def mean_imputer(DF):\n",
    "    fill_NaN = preprocessing.Imputer(missing_values=np.nan, strategy='mean')\n",
    "    imputed_DF = pd.DataFrame(fill_NaN.fit_transform(DF))\n",
    "    imputed_DF.columns = DF.columns\n",
    "    imputed_DF.index = DF.index\n",
    "    return imputed_DF"
   ]
  },
  {
   "cell_type": "code",
   "execution_count": null,
   "metadata": {
    "collapsed": false,
    "scrolled": true
   },
   "outputs": [],
   "source": [
    "ipca = IncrementalPCA(n_components=968)\n",
    "# Due to the large dataset read data seperately in chunks and perform IncrementalPCA \n",
    "counter = 0\n",
    "for chunk in pd.read_csv(INPUT_PATH % 'train_numeric', chunksize=chunksize,dtype=float32_cols):\n",
    "    counter += chunksize\n",
    "    print ('processed',counter,'samples')\n",
    "# To do: what value to fill NA \n",
    "    imputed_chunk = chunk[predictors].fillna(0.09)\n",
    "    #imputed_chunk = mean_imputer(chunk[predictors])\n",
    "    scailed_chunk = standard_feature_scaling(imputed_chunk)\n",
    "#    chunk  = scailed_chunk.fillna(0)\n",
    "    ipca.partial_fit(scailed_chunk)\n",
    "print ('Number of Samples Seen:',ipca.n_samples_seen_ )\n"
   ]
  },
  {
   "cell_type": "code",
   "execution_count": null,
   "metadata": {
    "collapsed": false
   },
   "outputs": [],
   "source": [
    "def get_explained_variance(pca_components):\n",
    "    #print ('Explained variance by %d PCs:' %pca_components, np.sum(ipca.explained_variance_ratio_[:pca_components]))\n",
    "    return np.sum(ipca.explained_variance_ratio_[:pca_components])"
   ]
  },
  {
   "cell_type": "code",
   "execution_count": null,
   "metadata": {
    "collapsed": false,
    "scrolled": true
   },
   "outputs": [],
   "source": [
    "# plot how many variance is explained based on how many n_components\n",
    "n_components_value = range(968)\n",
    "n_components_explained_variance = [get_explained_variance(x) for x in n_components_value]\n",
    "explained_variance_pd = pd.DataFrame(n_components_explained_variance, columns=['explained_variance_rate'])\n",
    "my_plot = explained_variance_pd.plot(title=\"explained_variance_rate\", figsize=(10,6), fontsize=12)\n",
    "my_plot.set_ylabel(\"Explained Variance Rate\")\n",
    "my_plot.set_xlabel(\"Number of Component\")\n",
    "n_components_explained_variance"
   ]
  },
  {
   "cell_type": "code",
   "execution_count": null,
   "metadata": {
    "collapsed": false,
    "scrolled": true
   },
   "outputs": [],
   "source": [
    "# Make Train DataFrame only with n PC \n",
    "PC_n = ['f'+str(x) for x in range(0,n_components)]\n",
    "date_final = pd.DataFrame(columns=PC_n)\n",
    "for cat in pd.read_csv(INPUT_PATH % 'train_numeric', chunksize=chunksize,dtype=float32_cols):\n",
    "        cat  = cat.fillna(999)\n",
    "        y=ipca.transform(cat[predictors])\n",
    "        temp = cat['Id'].to_frame()\n",
    "        for i in PC_n:\n",
    "            temp[i]=0\n",
    "        temp[PC_n]=y\n",
    "        date_final = date_final.merge(temp, how='outer')\n",
    "print (date_final)\n",
    "date_final['Id'] = date_final['Id'].astype(np.int32)\n",
    "# save new dataset to CSV file \n",
    "train_filename = 'train_numeric_SVD_%s.csv' % n_components\n",
    "#date_final.to_csv(INPUT_PATH % train_filename,index=0)"
   ]
  },
  {
   "cell_type": "code",
   "execution_count": null,
   "metadata": {
    "collapsed": true
   },
   "outputs": [],
   "source": [
    "# Make Test DataFrame only with n PC \n",
    "PC_n = ['f'+str(x) for x in range(0,n_components)]\n",
    "date_final = pd.DataFrame(columns=PC_n)\n",
    "for cat in pd.read_csv('../input/test_numeric.csv', chunksize=chunksize,dtype=float32_cols):\n",
    "        cat  = cat.fillna(999)\n",
    "        y=ipca.transform(cat[predictors])\n",
    "        temp = cat['Id'].to_frame()\n",
    "        for i in PC_n:\n",
    "            temp[i]=0\n",
    "        temp[PC_n]=y\n",
    "        date_final = date_final.merge(temp, how='outer')\n",
    "date_final['Id'] = date_final['Id'].astype(np.int32)\n",
    "test_filename = 'test_numeric_SVD_%s.csv' % n_components\n",
    "# Save dataset to CSV file\n",
    "#date_final.to_csv(INPUT_PATH % test_filename,index=0)"
   ]
  },
  {
   "cell_type": "markdown",
   "metadata": {},
   "source": [
    "## Method 2 : XGBoost to select important features\n",
    "\n",
    "choose 25 top date and numerical features reported by initial xgboost"
   ]
  },
  {
   "cell_type": "code",
   "execution_count": null,
   "metadata": {
    "collapsed": true
   },
   "outputs": [],
   "source": [
    "# import additional package\n",
    "from xgboost import XGBClassifier\n",
    "import xgboost as xgb\n",
    "from sklearn.metrics import matthews_corrcoef, roc_auc_score\n",
    "from sklearn.cross_validation import cross_val_score, StratifiedKFold"
   ]
  },
  {
   "cell_type": "code",
   "execution_count": null,
   "metadata": {
    "collapsed": false
   },
   "outputs": [],
   "source": [
    "# Sample the data in a roundabout way to get 5 percent sample\n",
    "date_chunks = pd.read_csv(\"../data/train_date.csv\", index_col=0, chunksize=10000, dtype=np.float32)\n",
    "num_chunks = pd.read_csv(\"../data/train_numeric.csv\", index_col=0,\n",
    "                         usecols=list(range(969)), chunksize=10000, dtype=np.float32)\n",
    "df_train = pd.concat([pd.concat([dchunk, nchunk], axis=1).sample(frac=0.05)\n",
    "               for dchunk, nchunk in zip(date_chunks, num_chunks)])\n",
    "y_sample = pd.read_csv(\"../data/train_numeric.csv\", index_col=0, usecols=[0,969], dtype=np.float32).loc[df_train.index].values.ravel()\n",
    "x_sample = df_train.values"
   ]
  },
  {
   "cell_type": "code",
   "execution_count": null,
   "metadata": {
    "collapsed": false
   },
   "outputs": [],
   "source": [
    "# # now just numerical feature to see the result\n",
    "# num_chunks = pd.read_csv(\"../data/train_numeric.csv\", index_col=0,\n",
    "#                          usecols=list(range(969)), chunksize=10000, dtype=np.float32)\n",
    "# df_train = pd.concat([nchunk for nchunk in num_chunks])"
   ]
  },
  {
   "cell_type": "code",
   "execution_count": null,
   "metadata": {
    "collapsed": false
   },
   "outputs": [],
   "source": [
    "#TODO fit y ravel or not?\n",
    "clf = XGBClassifier(base_score=0.005)\n",
    "clf.fit(x_sample, y_sample)"
   ]
  },
  {
   "cell_type": "code",
   "execution_count": null,
   "metadata": {
    "collapsed": false
   },
   "outputs": [],
   "source": [
    "fea_importance = pd.DataFrame(clf.feature_importances_)\n",
    "fea_importance.index = df_train.columns\n",
    "fea_importance.columns=[\"feature_importance\"]\n",
    "# select 25 most important feature for xgboost\n",
    "fea_importance_sorted = fea_importance.sort(['feature_importance'], ascending=[0])\n",
    "important_feature_num_date = fea_importance_sorted.ix[0:25,0]\n",
    "important_feature_num_date.plot(kind='bar')"
   ]
  },
  {
   "cell_type": "code",
   "execution_count": null,
   "metadata": {
    "collapsed": false
   },
   "outputs": [],
   "source": [
    "date_feature_value = pd.read_csv(INPUT_PATH % 'train_date',nrows=1).columns.drop(['Id']).values.tolist()\n",
    "important_feature_num_list = list(set(important_feature_num_date.index.values.tolist())-set(date_feature_value))\n",
    "important_feature_date_list = list(set(important_feature_num_date.index.values.tolist())-set(important_feature_num_list))"
   ]
  },
  {
   "cell_type": "code",
   "execution_count": null,
   "metadata": {
    "collapsed": false
   },
   "outputs": [],
   "source": [
    "# load entire dataset for these features. \n",
    "X = np.concatenate([\n",
    "    pd.read_csv(\"../data/train_date.csv\", index_col=0, dtype=np.float32,\n",
    "                usecols=['Id']+important_feature_date_list).values,\n",
    "    pd.read_csv(\"../data/train_numeric.csv\", index_col=0, dtype=np.float32,\n",
    "                usecols=['Id']+important_feature_num_list).values\n",
    "], axis=1)\n",
    "\n",
    "y = pd.read_csv(\"../data/train_numeric.csv\", index_col=0, dtype=np.float32, usecols=[0,969]).values.ravel()"
   ]
  },
  {
   "cell_type": "code",
   "execution_count": null,
   "metadata": {
    "collapsed": false
   },
   "outputs": [],
   "source": []
  },
  {
   "cell_type": "code",
   "execution_count": null,
   "metadata": {
    "collapsed": false
   },
   "outputs": [],
   "source": [
    "# create important feature dataframe and plot\n",
    "# fea_importance = pd.DataFrame(clf.feature_importances_)\n",
    "# fea_importance.index = df_train.columns\n",
    "# fea_importance.columns=[\"feature_importance\"]\n",
    "\n",
    "# fea_importance_new = fea_importance[fea_importance.feature_importance >0.005]\n",
    "# fea_importance_new.plot(kind=\"bar\")"
   ]
  },
  {
   "cell_type": "code",
   "execution_count": null,
   "metadata": {
    "collapsed": false
   },
   "outputs": [],
   "source": [
    "# threshold for a manageable number of features\n",
    "# plt.hist(clf.feature_importances_[clf.feature_importances_>0])\n",
    "# important_indices = np.where(clf.feature_importances_>0.005)[0]\n",
    "# print(important_indices)"
   ]
  },
  {
   "cell_type": "code",
   "execution_count": null,
   "metadata": {
    "collapsed": true
   },
   "outputs": [],
   "source": [
    "# load entire dataset for these features. \n",
    "# note where the feature indices are split so we can load the correct ones straight from read_csv\n",
    "# n_date_features = 1156\n",
    "# X = np.concatenate([\n",
    "#     pd.read_csv(\"../data/train_date.csv\", index_col=0, dtype=np.float32,\n",
    "#                 usecols=np.concatenate([[0], important_indices[important_indices < n_date_features] + 1])).values,\n",
    "#     pd.read_csv(\"../data/train_numeric.csv\", index_col=0, dtype=np.float32,\n",
    "#                 usecols=np.concatenate([[0], important_indices[important_indices >= n_date_features] + 1 - n_date_features])).values\n",
    "# ], axis=1)\n",
    "\n",
    "# y = pd.read_csv(\"../data/train_numeric.csv\", index_col=0, dtype=np.float32, usecols=[0,969]).values.ravel()"
   ]
  },
  {
   "cell_type": "markdown",
   "metadata": {},
   "source": [
    "## Method 3 : Magic Feature \n",
    "Start time.   Component(part) production start time\n",
    "\n",
    "MF1.  difference of Id between current and previous rows \n",
    "\n",
    "MF2.  difference of Id between current and next rows \n",
    "\n",
    "MF3.  difference of Id between current and previous rows after sorting on increasing StartTime and Id\n",
    "\n",
    "\n",
    "MF4.  difference of Id between current and next rows after sorting on increasing StartTime and Id\n"
   ]
  },
  {
   "cell_type": "code",
   "execution_count": null,
   "metadata": {
    "collapsed": false
   },
   "outputs": [],
   "source": [
    "ID_COLUMN = 'Id'\n",
    "TARGET_COLUMN = 'Response'\n",
    "train = pd.read_csv(INPUT_PATH %'train_numeric', usecols=[ID_COLUMN, TARGET_COLUMN])\n",
    "\n",
    "test = pd.read_csv(INPUT_PATH %'test_numeric', usecols=[ID_COLUMN])"
   ]
  },
  {
   "cell_type": "code",
   "execution_count": null,
   "metadata": {
    "collapsed": true
   },
   "outputs": [],
   "source": [
    "# Start Time feature\n",
    "train[\"StartTime\"] = -1\n",
    "test[\"StartTime\"] = -1\n",
    "# Duration time feature\n",
    "train[\"Duration\"] = -1\n",
    "test[\"Duration\"] = -1"
   ]
  },
  {
   "cell_type": "code",
   "execution_count": null,
   "metadata": {
    "collapsed": false
   },
   "outputs": [],
   "source": [
    "# fill in start time\n",
    "for tr, te in zip(pd.read_csv(INPUT_PATH %'train_date', chunksize=50000), pd.read_csv(INPUT_PATH %'test_date', chunksize=50000)):\n",
    "    #pick all columns except ID\n",
    "    feats = np.setdiff1d(tr.columns, [ID_COLUMN])\n",
    "\n",
    "    stime_tr = tr[feats].min(axis=1).values\n",
    "    stime_te = te[feats].min(axis=1).values\n",
    "    \n",
    "    etime_tr = tr[feats].max(axis=1).values\n",
    "    etime_te = te[feats].max(axis=1).values\n",
    "\n",
    "    train.loc[train.Id.isin(tr.Id), 'StartTime'] = stime_tr\n",
    "    test.loc[test.Id.isin(te.Id), 'StartTime'] = stime_te\n",
    "    \n",
    "    train.loc[train.Id.isin(tr.Id), 'Duration'] = etime_tr - stime_tr\n",
    "    test.loc[test.Id.isin(te.Id), 'Duration'] = etime_te - stime_te"
   ]
  },
  {
   "cell_type": "code",
   "execution_count": null,
   "metadata": {
    "collapsed": false
   },
   "outputs": [],
   "source": [
    "ntrain = train.shape[0]\n",
    "train_test = pd.concat((train, test)).reset_index(drop=True).reset_index(drop=False)\n",
    "# Begin to create MF1 & MF2\n",
    "train_test['MF1'] = train_test[ID_COLUMN].diff().fillna(9999999).astype(int)\n",
    "train_test['MF2'] = train_test[ID_COLUMN].iloc[::-1].diff().fillna(9999999).astype(int)\n",
    "\n",
    "train_test = train_test.sort_values(by=['StartTime', 'Id'], ascending=True)\n",
    "# Begin to create MF3 & MF4\n",
    "train_test['MF3'] = train_test[ID_COLUMN].diff().fillna(9999999).astype(int)\n",
    "train_test['MF4'] = train_test[ID_COLUMN].iloc[::-1].diff().fillna(9999999).astype(int)\n",
    "\n",
    "train_test = train_test.sort_values(by=['index']).drop(['index'], axis=1)\n",
    "train = train_test.iloc[:ntrain, :]\n",
    "test = train_test.iloc[ntrain:, :]\n",
    "\n",
    "features = np.setdiff1d(list(train.columns), [TARGET_COLUMN, ID_COLUMN])"
   ]
  },
  {
   "cell_type": "code",
   "execution_count": null,
   "metadata": {
    "collapsed": false,
    "scrolled": true
   },
   "outputs": [],
   "source": [
    "df_magic_feature_train = train[features]\n",
    "df_magic_feature_test = test[features]"
   ]
  },
  {
   "cell_type": "code",
   "execution_count": null,
   "metadata": {
    "collapsed": false
   },
   "outputs": [],
   "source": [
    "df_magic_feature_train.head()"
   ]
  },
  {
   "cell_type": "code",
   "execution_count": null,
   "metadata": {
    "collapsed": true
   },
   "outputs": [],
   "source": [
    "# ntrain = train.shape[0]\n",
    "# train_test = pd.concat((train, test)).reset_index(drop=True).reset_index(drop=False)\n",
    "# # Begin to create MF1 & MF2\n",
    "# train_test['MF1'] = train_test[ID_COLUMN].diff().fillna(9999999).astype(int)\n",
    "# train_test['MF2'] = train_test[ID_COLUMN].iloc[::-1].diff().fillna(9999999).astype(int)\n",
    "\n",
    "# train_test = train_test.sort_values(by=['StartTime', 'Id'], ascending=True)\n",
    "# # Begin to create MF3 & MF4\n",
    "# train_test['MF3'] = train_test[ID_COLUMN].diff().fillna(9999999).astype(int)\n",
    "# train_test['MF4'] = train_test[ID_COLUMN].iloc[::-1].diff().fillna(9999999).astype(int)\n",
    "\n",
    "# train_test = train_test.sort_values(by=['index']).drop(['index'], axis=1)\n",
    "# train = train_test.iloc[:ntrain, :]\n",
    "\n",
    "# features = np.setdiff1d(list(train.columns), [TARGET_COLUMN, ID_COLUMN])\n",
    "\n",
    "# y = train.Response.ravel()\n",
    "# train = np.array(train[features])\n",
    "\n",
    "# print('train: {0}'.format(train.shape))\n",
    "# prior = np.sum(y) / (1.*len(y))"
   ]
  },
  {
   "cell_type": "code",
   "execution_count": null,
   "metadata": {
    "collapsed": true
   },
   "outputs": [],
   "source": []
  },
  {
   "cell_type": "code",
   "execution_count": null,
   "metadata": {
    "collapsed": true
   },
   "outputs": [],
   "source": []
  },
  {
   "cell_type": "markdown",
   "metadata": {},
   "source": [
    "## Combine all features and Finish feature engineering"
   ]
  },
  {
   "cell_type": "code",
   "execution_count": null,
   "metadata": {
    "collapsed": false
   },
   "outputs": [],
   "source": [
    "# train_feature will be the ensembled feature afterwards\n",
    "train_feature = pd.DataFrame(X)\n"
   ]
  },
  {
   "cell_type": "code",
   "execution_count": null,
   "metadata": {
    "collapsed": false
   },
   "outputs": [],
   "source": [
    "# put important feature in the dataframe \n",
    "train_feature.columns = important_feature_num_date.index\n",
    "train_feature = pd.concat([train_feature,df_magic_feature_train],axis=1)\n",
    "#end of feature selection"
   ]
  },
  {
   "cell_type": "code",
   "execution_count": null,
   "metadata": {
    "collapsed": false
   },
   "outputs": [],
   "source": [
    "train_feature.shape"
   ]
  },
  {
   "cell_type": "markdown",
   "metadata": {},
   "source": [
    "# Model Development "
   ]
  },
  {
   "cell_type": "markdown",
   "metadata": {},
   "source": [
    "## Model 1 : XGBoost"
   ]
  },
  {
   "cell_type": "code",
   "execution_count": null,
   "metadata": {
    "collapsed": false
   },
   "outputs": [],
   "source": [
    "# self-defined xgb model wrapper including data processing, model fit, predict and result \n",
    "def modelfit(alg, dtrain, labels,useTrainCV=True, model_fit=True,model_predict=True,cv_folds=5, early_stopping_rounds=20):\n",
    "    # trainCV with early stop so we don't need to use sciki-learn GridsearchCV , the later can't run in my computer\n",
    "    best_threshold = 0.5\n",
    "    if useTrainCV:\n",
    "        xgb_param = alg.get_xgb_params()\n",
    "        xgtrain = xgb.DMatrix(dtrain.values, label=labels)\n",
    "        cvresult = xgb.cv(xgb_param, xgtrain, num_boost_round=alg.get_params()['n_estimators'], nfold=cv_folds,\n",
    "            metrics='auc', early_stopping_rounds=early_stopping_rounds, verbose_eval=True)\n",
    "        alg.set_params(n_estimators=cvresult.shape[0])\n",
    "    if model_fit:\n",
    "        #Fit the algorithm on the data\n",
    "        alg.fit(dtrain.values, labels, eval_metric='auc')\n",
    "        print (\"fit done\")\n",
    "    if model_predict:\n",
    "    #Predict training set:\n",
    "        dtrain_predprob = alg.predict_proba(dtrain.values)[:,1]\n",
    "        thresholds = np.linspace(0.01, 0.99, 50)\n",
    "        mcc = np.array([matthews_corrcoef(labels, dtrain_predprob>thr) for thr in thresholds])    \n",
    "        fig2 = plt.figure(2)\n",
    "        plt.plot(thresholds, mcc)\n",
    "        best_threshold = thresholds[mcc.argmax()]\n",
    "        print('MCC is' + str(mcc.max()))\n",
    "        print('best threshold is'+ str(best_threshold))\n",
    "    return best_threshold\n",
    "    #Print model report:\n",
    "#     print (\"\\nModel Report\")\n",
    "#     print (\"Accuracy : %.4g\" % metrics.accuracy_score(dtrain[target].values, dtrain_predictions))\n",
    "#     print (\"AUC Score (Train): %f\" % metrics.roc_auc_score(dtrain[target], dtrain_predprob))\n",
    "                    \n",
    "#     feat_imp = pd.Series(alg.booster().get_fscore()).sort_values(ascending=False)\n",
    "#     feat_imp.plot(kind='bar', title='Feature Importances')\n",
    "#     plt.ylabel('Feature Importance Score')"
   ]
  },
  {
   "cell_type": "markdown",
   "metadata": {},
   "source": [
    "### Model Hyper-Parameter Tuning Part"
   ]
  },
  {
   "cell_type": "code",
   "execution_count": null,
   "metadata": {
    "collapsed": true
   },
   "outputs": [],
   "source": [
    "from sklearn.grid_search import GridSearchCV"
   ]
  },
  {
   "cell_type": "code",
   "execution_count": null,
   "metadata": {
    "collapsed": false
   },
   "outputs": [],
   "source": [
    "# this part is for hyper-parameter tuning, but limited by my computer, \n",
    "# I can't run out of the result with gridsearchCV so instead i'm using cv\n",
    "# provided by xgboost\n",
    "\n",
    "# tunning 1 \n",
    "# max_depth and min_child_weight\n",
    "\n",
    "param_test1 = {\n",
    " 'max_depth':range(3,10,2),\n",
    " 'min_child_weight':range(1,6,2)\n",
    "}\n",
    "gsearch1 = GridSearchCV(estimator = XGBClassifier( learning_rate =0.1, n_estimators=10, max_depth=5,\n",
    " min_child_weight=1, gamma=0, subsample=0.8, colsample_bytree=0.8,\n",
    " objective= 'binary:logistic', nthread=4, scale_pos_weight=1, seed=27), \n",
    " param_grid = param_test1, scoring='roc_auc',n_jobs=4,iid=False, cv=5)\n",
    "gsearch1.fit(train_feature,y)\n",
    "gsearch1.grid_scores_, gsearch1.best_params_, gsearch1.best_score_\n",
    "\n"
   ]
  },
  {
   "cell_type": "code",
   "execution_count": null,
   "metadata": {
    "collapsed": true
   },
   "outputs": [],
   "source": [
    "### Training and Cross Validation Part"
   ]
  },
  {
   "cell_type": "code",
   "execution_count": null,
   "metadata": {
    "collapsed": false,
    "scrolled": true
   },
   "outputs": [],
   "source": [
    "xgb_starter = XGBClassifier(\n",
    " learning_rate =0.1,\n",
    " n_estimators=10,\n",
    " max_depth=10,\n",
    " min_child_weight=1,\n",
    " gamma=0,\n",
    " subsample=0.7,\n",
    " colsample_bytree=0.7,\n",
    " objective= 'binary:logistic',\n",
    " nthread=4,\n",
    " scale_pos_weight=1,\n",
    " seed=0,\n",
    " base_score=0.005)\n",
    "\n",
    "best_threshold = modelfit(xgb_starter, train_feature, y)\n"
   ]
  },
  {
   "cell_type": "markdown",
   "metadata": {},
   "source": [
    "# load test data, predict labels and submit"
   ]
  },
  {
   "cell_type": "code",
   "execution_count": null,
   "metadata": {
    "collapsed": false
   },
   "outputs": [],
   "source": [
    "important_feature_date_list"
   ]
  },
  {
   "cell_type": "code",
   "execution_count": null,
   "metadata": {
    "collapsed": false
   },
   "outputs": [],
   "source": [
    "# load test data\n",
    "test_feature = np.concatenate([\n",
    "    pd.read_csv(\"../data/test_date.csv\", index_col=0, dtype=np.float32,\n",
    "                usecols=['Id']+important_feature_date_list).values,\n",
    "    pd.read_csv(\"../data/test_numeric.csv\", index_col=0, dtype=np.float32,\n",
    "                usecols=['Id']+important_feature_num_list).values,\n",
    "], axis=1)\n",
    "test_feature = np.concatenate([test_feature,df_magic_feature_test.values],axis=1)"
   ]
  },
  {
   "cell_type": "code",
   "execution_count": null,
   "metadata": {
    "collapsed": false
   },
   "outputs": [],
   "source": [
    "test_feature.shape"
   ]
  },
  {
   "cell_type": "code",
   "execution_count": null,
   "metadata": {
    "collapsed": true
   },
   "outputs": [],
   "source": [
    "# generate predictions at the chosen threshold\n",
    "preds = (xgb_starter.predict_proba(test_feature)[:,1] > best_threshold).astype(np.int8)"
   ]
  },
  {
   "cell_type": "code",
   "execution_count": null,
   "metadata": {
    "collapsed": true
   },
   "outputs": [],
   "source": [
    "# and submit\n",
    "sub = pd.read_csv(\"../data/sample_submission.csv\", index_col=0)\n",
    "sub[\"Response\"] = preds\n",
    "sub.to_csv(\"submission.csv.gz\", compression=\"gzip\")"
   ]
  },
  {
   "cell_type": "code",
   "execution_count": null,
   "metadata": {
    "collapsed": true
   },
   "outputs": [],
   "source": []
  }
 ],
 "metadata": {
  "anaconda-cloud": {},
  "kernelspec": {
   "display_name": "Python [Root]",
   "language": "python",
   "name": "Python [Root]"
  },
  "language_info": {
   "codemirror_mode": {
    "name": "ipython",
    "version": 2
   },
   "file_extension": ".py",
   "mimetype": "text/x-python",
   "name": "python",
   "nbconvert_exporter": "python",
   "pygments_lexer": "ipython2",
   "version": "2.7.12"
  }
 },
 "nbformat": 4,
 "nbformat_minor": 0
}
