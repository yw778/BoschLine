{
 "cells": [
  {
   "cell_type": "code",
   "execution_count": 2,
   "metadata": {},
   "outputs": [],
   "source": [
    "# Imports\n",
    "%matplotlib notebook\n",
    "# numpy, matplotlib, seaborn and matplotlib\n",
    "import matplotlib\n",
    "from bigfloat import *\n",
    "import numpy as np\n",
    "import pandas as pd\n",
    "import matplotlib.pyplot as plt\n",
    "import seaborn as sns\n",
    "from scipy import special\n",
    "from sklearn.linear_model import LogisticRegression\n",
    "# missing data visualization library\n",
    "import missingno as msno\n",
    "sns.set_style('whitegrid')\n",
    "# define data path\n",
    "INPUT_PATH = \"../data/%s.csv\"\n",
    "# define small samples to quickly explore data\n",
    "read_rows = 300;"
   ]
  },
  {
   "cell_type": "code",
   "execution_count": 3,
   "metadata": {
    "collapsed": true
   },
   "outputs": [],
   "source": [
    "from sklearn.cross_validation import StratifiedKFold\n",
    "from sklearn.ensemble import RandomForestClassifier, ExtraTreesClassifier\n",
    "from sklearn.ensemble import GradientBoostingClassifier\n",
    "from xgboost import XGBClassifier\n",
    "import xgboost as xgb\n",
    "from sklearn.metrics import matthews_corrcoef, roc_auc_score\n",
    "from sklearn import preprocessing\n",
    "from pylightgbm.models import GBMClassifier\n",
    "from sklearn.grid_search import GridSearchCV\n",
    "from sklearn import metrics, grid_search\n",
    "from time import time"
   ]
  },
  {
   "cell_type": "markdown",
   "metadata": {},
   "source": [
    "# Dataset Visualization Part"
   ]
  },
  {
   "cell_type": "markdown",
   "metadata": {},
   "source": [
    "## Overview Part\n",
    "This part is to overview the first N rows of the sample to get initial feeling of the dataset"
   ]
  },
  {
   "cell_type": "code",
   "execution_count": null,
   "metadata": {
    "scrolled": true
   },
   "outputs": [],
   "source": [
    "# load data head for overview\n",
    "train_date_overview = pd.read_csv('../data/train_date.csv',nrows = read_rows)\n",
    "#train_categorical_overview = pd.read_csv('../data/train_categorical.csv',nrows = read_rows)\n",
    "#train_numeric_overview = pd.read_csv('../data/train_numeric.csv',nrows = read_rows)\n",
    "#test_categorical_overview = pd.read_csv('../data/test_categorical.csv', nrows = read_rows)\n",
    "#test_date_overview = pd.read_csv('../data/test_date.csv', nrows = read_rows)\n",
    "#test_numeric_overview = pd.read_csv('../data/test_numeric.csv', nrows = read_rows)"
   ]
  },
  {
   "cell_type": "code",
   "execution_count": null,
   "metadata": {
    "scrolled": true
   },
   "outputs": [],
   "source": [
    "#train_numeric_overview\n",
    "#train_categorical_overview\n",
    "#train_date_overview\n",
    "#test_numeric_overview\n",
    "#test_categorical_overview\n",
    "#test_date_overview "
   ]
  },
  {
   "cell_type": "markdown",
   "metadata": {},
   "source": [
    "## General Feature Exploration Part\n",
    "This part is to explore the common feature"
   ]
  },
  {
   "cell_type": "code",
   "execution_count": null,
   "metadata": {
    "collapsed": true
   },
   "outputs": [],
   "source": [
    "# function to calculate failure rate\n",
    "def get_failure_rate(file_name):\n",
    "    # will calculate the error rate from data on the file based on response col\n",
    "    # Respons: 1 = Failed QC , 0 = Passed QC\n",
    "    rows = pd.read_csv(INPUT_PATH % file_name, usecols=[\"Response\"])\n",
    "    failure_rate = rows[rows.Response == 1].size / float(rows[rows.Response == 0].size)\n",
    "    return failure_rate"
   ]
  },
  {
   "cell_type": "code",
   "execution_count": null,
   "metadata": {
    "collapsed": true
   },
   "outputs": [],
   "source": [
    "# function to calculate data size in 6 dataset\n",
    "def explore_data_size():\n",
    "    # explore the size (rows, cols) of each file\n",
    "    data_files = ['train_numeric', 'train_date', 'train_categorical', 'test_numeric',\n",
    "                  'test_date', 'test_categorical']\n",
    "    stats = []\n",
    "    for file_name in data_files:\n",
    "        cols = pd.read_csv(INPUT_PATH % file_name, nrows=1)\n",
    "        rows = pd.read_csv(INPUT_PATH % file_name, usecols=[\"Id\"])\n",
    "        stats.append({'File': file_name, 'Rows': rows.shape[0], 'Columns': cols.shape[1]})\n",
    "    # convert the result into a DataFrame so we can do plotting.\n",
    "    df = pd.DataFrame(stats, columns=[\"File\", \"Rows\", \"Columns\"])\n",
    "    failure_rate = get_failure_rate('train_numeric')\n",
    "    df[\"Error\"] = 0\n",
    "    df.loc[df.File == 'train_numeric', 'Error'] = failure_rate\n",
    "    return df"
   ]
  },
  {
   "cell_type": "code",
   "execution_count": null,
   "metadata": {},
   "outputs": [],
   "source": [
    "# Get data size\n",
    "explore_data_size()"
   ]
  },
  {
   "cell_type": "markdown",
   "metadata": {
    "collapsed": true
   },
   "source": [
    "### Failure Rate for each station"
   ]
  },
  {
   "cell_type": "code",
   "execution_count": null,
   "metadata": {},
   "outputs": [],
   "source": [
    "# this part will use function in the belowing part\n",
    "features = pd.read_csv('../data/train_numeric.csv', nrows=1).drop(['Response', 'Id'], axis=1).columns.values\n",
    "line_features, station_features = get_features(features)"
   ]
  },
  {
   "cell_type": "code",
   "execution_count": null,
   "metadata": {
    "scrolled": true
   },
   "outputs": [],
   "source": [
    "station_error = []\n",
    "for s in station_features:\n",
    "    cols = ['Id', 'Response']\n",
    "    cols.extend(station_features[s])\n",
    "    df = pd.read_csv('../data/train_numeric.csv', usecols=cols).dropna(subset=station_features[s], how='all')\n",
    "    error_rate = df[df.Response == 1].size / float(df[df.Response == 0].size)\n",
    "    station_error.append([df.shape[1]-2, df.shape[0], error_rate]) \n",
    "    \n",
    "station_data = pd.DataFrame(station_error, \n",
    "                         columns=['Features', 'Samples', 'Error_Rate'], \n",
    "                         index=station_features).sort_index()\n",
    "station_data"
   ]
  },
  {
   "cell_type": "code",
   "execution_count": null,
   "metadata": {
    "scrolled": true
   },
   "outputs": [],
   "source": [
    "plt.figure(figsize=(8, 20))\n",
    "sns.barplot(x='Error_Rate', y=station_data.index.values, data=station_data, color=\"red\")\n",
    "plt.title('Error Rate between Production Stations')\n",
    "# of all the parts that pass through the station, counts the error rate for each station\n",
    "plt.xlabel('Station Error Rate')\n",
    "plt.show()\n",
    "# station 32 used for R&D ?"
   ]
  },
  {
   "cell_type": "code",
   "execution_count": null,
   "metadata": {},
   "outputs": [],
   "source": [
    "# explore failure rate with a combination of stations\n",
    "def explore_failure_rate_combine_station(STATIONS):\n",
    "    train_numeric_part = pd.read_csv('../data/train_numeric.csv', nrows=10000)\n",
    "    numeric_cols = train_numeric_part.drop(['Id','Response'], axis=1).count().reset_index().sort_values(by=0, ascending=False)\n",
    "    numeric_cols['station'] = numeric_cols['index'].apply(lambda s: s.split('_')[1])\n",
    "    numeric_cols = numeric_cols[numeric_cols['station'].isin(STATIONS)]\n",
    "    numeric_cols = numeric_cols.drop_duplicates('station', keep='first')['index'].tolist()\n",
    "    \n",
    "    # Load the first feature column\n",
    "    train_numeric = pd.read_csv('../data/train_numeric.csv', usecols=['Id'] + numeric_cols)\n",
    "    train_numeric.columns = ['Id'] + STATIONS\n",
    "    \n",
    "    # Has value ->1 no value ->0\n",
    "    for station in STATIONS:\n",
    "        train_numeric[station] = 1 * (train_numeric[station] >= 0)\n",
    "    # Group by station and output result\n",
    "    response = pd.read_csv('../data/train_numeric.csv', usecols=['Id', 'Response'])\n",
    "    train = response.merge(train_numeric, how='left', on='Id')\n",
    "    train['cnt'] = 1\n",
    "    failure_rate = train.groupby(STATIONS).sum()[['Response', 'cnt']]\n",
    "    failure_rate['failure_rate'] = failure_rate['Response'] / failure_rate['cnt']\n",
    "    return failure_rate\n",
    "    # failure_rate.head(20)"
   ]
  },
  {
   "cell_type": "code",
   "execution_count": null,
   "metadata": {},
   "outputs": [],
   "source": [
    "combined_failure_rate = explore_failure_rate_combine_station(['S43','S44'])\n",
    "combined_failure_rate"
   ]
  },
  {
   "cell_type": "code",
   "execution_count": null,
   "metadata": {},
   "outputs": [],
   "source": [
    "# explore min and max value of each station\n",
    "# data = pd.read_csv('../data/train_numeric.csv', nrows=100)\n",
    "\n",
    "# def make_features(df):\n",
    "#     new_features = pd.DataFrame({})\n",
    "#     for s in station_features.keys():\n",
    "#         station_data = df[station_features[s]]\n",
    "#         col = s+'_max'\n",
    "#         new_features[col] = station_data.max(axis=1).fillna(-1.)\n",
    "#         col = s+'_min'\n",
    "#         new_features[col] = station_data.min(axis=1).fillna(-1.)\n",
    "#     return new_features\n",
    "\n",
    "# data = make_features(data)\n",
    "# data.max().max()\n",
    "# data.min().min()"
   ]
  },
  {
   "cell_type": "markdown",
   "metadata": {
    "collapsed": true
   },
   "source": [
    "## Numerical Feature Exploration Part"
   ]
  },
  {
   "cell_type": "code",
   "execution_count": 4,
   "metadata": {},
   "outputs": [],
   "source": [
    "def get_number_features(station_features):\n",
    "    total_features = 0\n",
    "    for key in station_features.keys():\n",
    "        total_features += len(station_features[key]) \n",
    "    return total_features\n",
    "\n",
    "def get_features(feature_list):\n",
    "    # function to group features by station or line of production the convention is:\n",
    "    # L1_S15_F232 means Line 1, Station 15, Feature 232\n",
    "    line_features = {}\n",
    "    station_features = {}\n",
    "    lines = set([item.split('_')[0] for item in feature_list])\n",
    "    stations = set([item.split('_')[1] for item in feature_list])\n",
    "\n",
    "    for l in lines:\n",
    "        line_features[l] = [item for item in feature_list if '%s_' % l in item]\n",
    "\n",
    "    for s in stations:\n",
    "        station_features[s] = [item for item in feature_list if '%s_' % s in item]\n",
    "    \n",
    "    print 'No. of lines: '+ str(len(lines))\n",
    "    print 'No. of stations: '+ str(len(stations))\n",
    "    print 'No. of features: '+ str(int(get_number_features(station_features)))\n",
    "    \n",
    "\n",
    "    return (line_features, station_features)"
   ]
  },
  {
   "cell_type": "code",
   "execution_count": 13,
   "metadata": {
    "collapsed": true
   },
   "outputs": [],
   "source": [
    "def explore_features(data_set_name,is_response):\n",
    "    # how many units processed in each station\n",
    "    # also percentage of failed/passed QS in each station\n",
    "    if is_response :\n",
    "        features = pd.read_csv(INPUT_PATH % data_set_name, nrows=1).drop([\"Response\", \"Id\"], axis=1).columns.values\n",
    "    else:\n",
    "        features = pd.read_csv(INPUT_PATH % data_set_name, nrows=1).drop([\"Id\"], axis=1).columns.values\n",
    "    \n",
    "    line_features, station_features = get_features(features)\n",
    "    # create a dataframe cols: station, features_count\n",
    "    sdf = pd.DataFrame(list({int(key[1:]): len(station_features[key]) for\n",
    "                             key in station_features.keys()}.items()),\n",
    "                       columns=[\"Station\", \"FeatureCount\"])\n",
    "    ldf = pd.DataFrame(list({int(key[1:]): len(line_features[key]) for\n",
    "                             key in line_features.keys()}.items()),\n",
    "                       columns=[\"Line\", \"FeatureCount\"])\n",
    "    \n",
    "    stations_plot = sdf.plot(x=\"Station\", y=\"FeatureCount\", kind=\"bar\",\n",
    "                             title=\"Features by Station\", \n",
    "                             figsize=(13,6), fontsize=12)\n",
    "    stations_plot.set_xlabel(\"Station ID\")\n",
    "    stations_plot.set_ylabel(\"Number of Feature\")\n",
    "    \n",
    "    \n",
    "    line_features_plot = ldf.plot(x=\"Line\",y=\"FeatureCount\", kind=\"bar\",\n",
    "                             title=\"Features by Line\",\n",
    "                             figsize=(13,6), fontsize=12)\n",
    "    line_features_plot.set_xlabel(\"Line ID\")\n",
    "    line_features_plot.set_ylabel(\"Number of Feature\")\n",
    "    \n",
    "    #print 'No. of features:'+ str(int(get_number_features(station_features)))\n",
    "    \n",
    "    return line_features, station_features"
   ]
  },
  {
   "cell_type": "code",
   "execution_count": 14,
   "metadata": {
    "scrolled": true
   },
   "outputs": [
    {
     "name": "stdout",
     "output_type": "stream",
     "text": [
      "No. of lines: 4\n",
      "No. of stations: 50\n",
      "No. of features: 968\n"
     ]
    },
    {
     "data": {
      "application/javascript": [
       "/* Put everything inside the global mpl namespace */\n",
       "window.mpl = {};\n",
       "\n",
       "mpl.get_websocket_type = function() {\n",
       "    if (typeof(WebSocket) !== 'undefined') {\n",
       "        return WebSocket;\n",
       "    } else if (typeof(MozWebSocket) !== 'undefined') {\n",
       "        return MozWebSocket;\n",
       "    } else {\n",
       "        alert('Your browser does not have WebSocket support.' +\n",
       "              'Please try Chrome, Safari or Firefox ≥ 6. ' +\n",
       "              'Firefox 4 and 5 are also supported but you ' +\n",
       "              'have to enable WebSockets in about:config.');\n",
       "    };\n",
       "}\n",
       "\n",
       "mpl.figure = function(figure_id, websocket, ondownload, parent_element) {\n",
       "    this.id = figure_id;\n",
       "\n",
       "    this.ws = websocket;\n",
       "\n",
       "    this.supports_binary = (this.ws.binaryType != undefined);\n",
       "\n",
       "    if (!this.supports_binary) {\n",
       "        var warnings = document.getElementById(\"mpl-warnings\");\n",
       "        if (warnings) {\n",
       "            warnings.style.display = 'block';\n",
       "            warnings.textContent = (\n",
       "                \"This browser does not support binary websocket messages. \" +\n",
       "                    \"Performance may be slow.\");\n",
       "        }\n",
       "    }\n",
       "\n",
       "    this.imageObj = new Image();\n",
       "\n",
       "    this.context = undefined;\n",
       "    this.message = undefined;\n",
       "    this.canvas = undefined;\n",
       "    this.rubberband_canvas = undefined;\n",
       "    this.rubberband_context = undefined;\n",
       "    this.format_dropdown = undefined;\n",
       "\n",
       "    this.image_mode = 'full';\n",
       "\n",
       "    this.root = $('<div/>');\n",
       "    this._root_extra_style(this.root)\n",
       "    this.root.attr('style', 'display: inline-block');\n",
       "\n",
       "    $(parent_element).append(this.root);\n",
       "\n",
       "    this._init_header(this);\n",
       "    this._init_canvas(this);\n",
       "    this._init_toolbar(this);\n",
       "\n",
       "    var fig = this;\n",
       "\n",
       "    this.waiting = false;\n",
       "\n",
       "    this.ws.onopen =  function () {\n",
       "            fig.send_message(\"supports_binary\", {value: fig.supports_binary});\n",
       "            fig.send_message(\"send_image_mode\", {});\n",
       "            fig.send_message(\"refresh\", {});\n",
       "        }\n",
       "\n",
       "    this.imageObj.onload = function() {\n",
       "            if (fig.image_mode == 'full') {\n",
       "                // Full images could contain transparency (where diff images\n",
       "                // almost always do), so we need to clear the canvas so that\n",
       "                // there is no ghosting.\n",
       "                fig.context.clearRect(0, 0, fig.canvas.width, fig.canvas.height);\n",
       "            }\n",
       "            fig.context.drawImage(fig.imageObj, 0, 0);\n",
       "        };\n",
       "\n",
       "    this.imageObj.onunload = function() {\n",
       "        this.ws.close();\n",
       "    }\n",
       "\n",
       "    this.ws.onmessage = this._make_on_message_function(this);\n",
       "\n",
       "    this.ondownload = ondownload;\n",
       "}\n",
       "\n",
       "mpl.figure.prototype._init_header = function() {\n",
       "    var titlebar = $(\n",
       "        '<div class=\"ui-dialog-titlebar ui-widget-header ui-corner-all ' +\n",
       "        'ui-helper-clearfix\"/>');\n",
       "    var titletext = $(\n",
       "        '<div class=\"ui-dialog-title\" style=\"width: 100%; ' +\n",
       "        'text-align: center; padding: 3px;\"/>');\n",
       "    titlebar.append(titletext)\n",
       "    this.root.append(titlebar);\n",
       "    this.header = titletext[0];\n",
       "}\n",
       "\n",
       "\n",
       "\n",
       "mpl.figure.prototype._canvas_extra_style = function(canvas_div) {\n",
       "\n",
       "}\n",
       "\n",
       "\n",
       "mpl.figure.prototype._root_extra_style = function(canvas_div) {\n",
       "\n",
       "}\n",
       "\n",
       "mpl.figure.prototype._init_canvas = function() {\n",
       "    var fig = this;\n",
       "\n",
       "    var canvas_div = $('<div/>');\n",
       "\n",
       "    canvas_div.attr('style', 'position: relative; clear: both; outline: 0');\n",
       "\n",
       "    function canvas_keyboard_event(event) {\n",
       "        return fig.key_event(event, event['data']);\n",
       "    }\n",
       "\n",
       "    canvas_div.keydown('key_press', canvas_keyboard_event);\n",
       "    canvas_div.keyup('key_release', canvas_keyboard_event);\n",
       "    this.canvas_div = canvas_div\n",
       "    this._canvas_extra_style(canvas_div)\n",
       "    this.root.append(canvas_div);\n",
       "\n",
       "    var canvas = $('<canvas/>');\n",
       "    canvas.addClass('mpl-canvas');\n",
       "    canvas.attr('style', \"left: 0; top: 0; z-index: 0; outline: 0\")\n",
       "\n",
       "    this.canvas = canvas[0];\n",
       "    this.context = canvas[0].getContext(\"2d\");\n",
       "\n",
       "    var rubberband = $('<canvas/>');\n",
       "    rubberband.attr('style', \"position: absolute; left: 0; top: 0; z-index: 1;\")\n",
       "\n",
       "    var pass_mouse_events = true;\n",
       "\n",
       "    canvas_div.resizable({\n",
       "        start: function(event, ui) {\n",
       "            pass_mouse_events = false;\n",
       "        },\n",
       "        resize: function(event, ui) {\n",
       "            fig.request_resize(ui.size.width, ui.size.height);\n",
       "        },\n",
       "        stop: function(event, ui) {\n",
       "            pass_mouse_events = true;\n",
       "            fig.request_resize(ui.size.width, ui.size.height);\n",
       "        },\n",
       "    });\n",
       "\n",
       "    function mouse_event_fn(event) {\n",
       "        if (pass_mouse_events)\n",
       "            return fig.mouse_event(event, event['data']);\n",
       "    }\n",
       "\n",
       "    rubberband.mousedown('button_press', mouse_event_fn);\n",
       "    rubberband.mouseup('button_release', mouse_event_fn);\n",
       "    // Throttle sequential mouse events to 1 every 20ms.\n",
       "    rubberband.mousemove('motion_notify', mouse_event_fn);\n",
       "\n",
       "    rubberband.mouseenter('figure_enter', mouse_event_fn);\n",
       "    rubberband.mouseleave('figure_leave', mouse_event_fn);\n",
       "\n",
       "    canvas_div.on(\"wheel\", function (event) {\n",
       "        event = event.originalEvent;\n",
       "        event['data'] = 'scroll'\n",
       "        if (event.deltaY < 0) {\n",
       "            event.step = 1;\n",
       "        } else {\n",
       "            event.step = -1;\n",
       "        }\n",
       "        mouse_event_fn(event);\n",
       "    });\n",
       "\n",
       "    canvas_div.append(canvas);\n",
       "    canvas_div.append(rubberband);\n",
       "\n",
       "    this.rubberband = rubberband;\n",
       "    this.rubberband_canvas = rubberband[0];\n",
       "    this.rubberband_context = rubberband[0].getContext(\"2d\");\n",
       "    this.rubberband_context.strokeStyle = \"#000000\";\n",
       "\n",
       "    this._resize_canvas = function(width, height) {\n",
       "        // Keep the size of the canvas, canvas container, and rubber band\n",
       "        // canvas in synch.\n",
       "        canvas_div.css('width', width)\n",
       "        canvas_div.css('height', height)\n",
       "\n",
       "        canvas.attr('width', width);\n",
       "        canvas.attr('height', height);\n",
       "\n",
       "        rubberband.attr('width', width);\n",
       "        rubberband.attr('height', height);\n",
       "    }\n",
       "\n",
       "    // Set the figure to an initial 600x600px, this will subsequently be updated\n",
       "    // upon first draw.\n",
       "    this._resize_canvas(600, 600);\n",
       "\n",
       "    // Disable right mouse context menu.\n",
       "    $(this.rubberband_canvas).bind(\"contextmenu\",function(e){\n",
       "        return false;\n",
       "    });\n",
       "\n",
       "    function set_focus () {\n",
       "        canvas.focus();\n",
       "        canvas_div.focus();\n",
       "    }\n",
       "\n",
       "    window.setTimeout(set_focus, 100);\n",
       "}\n",
       "\n",
       "mpl.figure.prototype._init_toolbar = function() {\n",
       "    var fig = this;\n",
       "\n",
       "    var nav_element = $('<div/>')\n",
       "    nav_element.attr('style', 'width: 100%');\n",
       "    this.root.append(nav_element);\n",
       "\n",
       "    // Define a callback function for later on.\n",
       "    function toolbar_event(event) {\n",
       "        return fig.toolbar_button_onclick(event['data']);\n",
       "    }\n",
       "    function toolbar_mouse_event(event) {\n",
       "        return fig.toolbar_button_onmouseover(event['data']);\n",
       "    }\n",
       "\n",
       "    for(var toolbar_ind in mpl.toolbar_items) {\n",
       "        var name = mpl.toolbar_items[toolbar_ind][0];\n",
       "        var tooltip = mpl.toolbar_items[toolbar_ind][1];\n",
       "        var image = mpl.toolbar_items[toolbar_ind][2];\n",
       "        var method_name = mpl.toolbar_items[toolbar_ind][3];\n",
       "\n",
       "        if (!name) {\n",
       "            // put a spacer in here.\n",
       "            continue;\n",
       "        }\n",
       "        var button = $('<button/>');\n",
       "        button.addClass('ui-button ui-widget ui-state-default ui-corner-all ' +\n",
       "                        'ui-button-icon-only');\n",
       "        button.attr('role', 'button');\n",
       "        button.attr('aria-disabled', 'false');\n",
       "        button.click(method_name, toolbar_event);\n",
       "        button.mouseover(tooltip, toolbar_mouse_event);\n",
       "\n",
       "        var icon_img = $('<span/>');\n",
       "        icon_img.addClass('ui-button-icon-primary ui-icon');\n",
       "        icon_img.addClass(image);\n",
       "        icon_img.addClass('ui-corner-all');\n",
       "\n",
       "        var tooltip_span = $('<span/>');\n",
       "        tooltip_span.addClass('ui-button-text');\n",
       "        tooltip_span.html(tooltip);\n",
       "\n",
       "        button.append(icon_img);\n",
       "        button.append(tooltip_span);\n",
       "\n",
       "        nav_element.append(button);\n",
       "    }\n",
       "\n",
       "    var fmt_picker_span = $('<span/>');\n",
       "\n",
       "    var fmt_picker = $('<select/>');\n",
       "    fmt_picker.addClass('mpl-toolbar-option ui-widget ui-widget-content');\n",
       "    fmt_picker_span.append(fmt_picker);\n",
       "    nav_element.append(fmt_picker_span);\n",
       "    this.format_dropdown = fmt_picker[0];\n",
       "\n",
       "    for (var ind in mpl.extensions) {\n",
       "        var fmt = mpl.extensions[ind];\n",
       "        var option = $(\n",
       "            '<option/>', {selected: fmt === mpl.default_extension}).html(fmt);\n",
       "        fmt_picker.append(option)\n",
       "    }\n",
       "\n",
       "    // Add hover states to the ui-buttons\n",
       "    $( \".ui-button\" ).hover(\n",
       "        function() { $(this).addClass(\"ui-state-hover\");},\n",
       "        function() { $(this).removeClass(\"ui-state-hover\");}\n",
       "    );\n",
       "\n",
       "    var status_bar = $('<span class=\"mpl-message\"/>');\n",
       "    nav_element.append(status_bar);\n",
       "    this.message = status_bar[0];\n",
       "}\n",
       "\n",
       "mpl.figure.prototype.request_resize = function(x_pixels, y_pixels) {\n",
       "    // Request matplotlib to resize the figure. Matplotlib will then trigger a resize in the client,\n",
       "    // which will in turn request a refresh of the image.\n",
       "    this.send_message('resize', {'width': x_pixels, 'height': y_pixels});\n",
       "}\n",
       "\n",
       "mpl.figure.prototype.send_message = function(type, properties) {\n",
       "    properties['type'] = type;\n",
       "    properties['figure_id'] = this.id;\n",
       "    this.ws.send(JSON.stringify(properties));\n",
       "}\n",
       "\n",
       "mpl.figure.prototype.send_draw_message = function() {\n",
       "    if (!this.waiting) {\n",
       "        this.waiting = true;\n",
       "        this.ws.send(JSON.stringify({type: \"draw\", figure_id: this.id}));\n",
       "    }\n",
       "}\n",
       "\n",
       "\n",
       "mpl.figure.prototype.handle_save = function(fig, msg) {\n",
       "    var format_dropdown = fig.format_dropdown;\n",
       "    var format = format_dropdown.options[format_dropdown.selectedIndex].value;\n",
       "    fig.ondownload(fig, format);\n",
       "}\n",
       "\n",
       "\n",
       "mpl.figure.prototype.handle_resize = function(fig, msg) {\n",
       "    var size = msg['size'];\n",
       "    if (size[0] != fig.canvas.width || size[1] != fig.canvas.height) {\n",
       "        fig._resize_canvas(size[0], size[1]);\n",
       "        fig.send_message(\"refresh\", {});\n",
       "    };\n",
       "}\n",
       "\n",
       "mpl.figure.prototype.handle_rubberband = function(fig, msg) {\n",
       "    var x0 = msg['x0'];\n",
       "    var y0 = fig.canvas.height - msg['y0'];\n",
       "    var x1 = msg['x1'];\n",
       "    var y1 = fig.canvas.height - msg['y1'];\n",
       "    x0 = Math.floor(x0) + 0.5;\n",
       "    y0 = Math.floor(y0) + 0.5;\n",
       "    x1 = Math.floor(x1) + 0.5;\n",
       "    y1 = Math.floor(y1) + 0.5;\n",
       "    var min_x = Math.min(x0, x1);\n",
       "    var min_y = Math.min(y0, y1);\n",
       "    var width = Math.abs(x1 - x0);\n",
       "    var height = Math.abs(y1 - y0);\n",
       "\n",
       "    fig.rubberband_context.clearRect(\n",
       "        0, 0, fig.canvas.width, fig.canvas.height);\n",
       "\n",
       "    fig.rubberband_context.strokeRect(min_x, min_y, width, height);\n",
       "}\n",
       "\n",
       "mpl.figure.prototype.handle_figure_label = function(fig, msg) {\n",
       "    // Updates the figure title.\n",
       "    fig.header.textContent = msg['label'];\n",
       "}\n",
       "\n",
       "mpl.figure.prototype.handle_cursor = function(fig, msg) {\n",
       "    var cursor = msg['cursor'];\n",
       "    switch(cursor)\n",
       "    {\n",
       "    case 0:\n",
       "        cursor = 'pointer';\n",
       "        break;\n",
       "    case 1:\n",
       "        cursor = 'default';\n",
       "        break;\n",
       "    case 2:\n",
       "        cursor = 'crosshair';\n",
       "        break;\n",
       "    case 3:\n",
       "        cursor = 'move';\n",
       "        break;\n",
       "    }\n",
       "    fig.rubberband_canvas.style.cursor = cursor;\n",
       "}\n",
       "\n",
       "mpl.figure.prototype.handle_message = function(fig, msg) {\n",
       "    fig.message.textContent = msg['message'];\n",
       "}\n",
       "\n",
       "mpl.figure.prototype.handle_draw = function(fig, msg) {\n",
       "    // Request the server to send over a new figure.\n",
       "    fig.send_draw_message();\n",
       "}\n",
       "\n",
       "mpl.figure.prototype.handle_image_mode = function(fig, msg) {\n",
       "    fig.image_mode = msg['mode'];\n",
       "}\n",
       "\n",
       "mpl.figure.prototype.updated_canvas_event = function() {\n",
       "    // Called whenever the canvas gets updated.\n",
       "    this.send_message(\"ack\", {});\n",
       "}\n",
       "\n",
       "// A function to construct a web socket function for onmessage handling.\n",
       "// Called in the figure constructor.\n",
       "mpl.figure.prototype._make_on_message_function = function(fig) {\n",
       "    return function socket_on_message(evt) {\n",
       "        if (evt.data instanceof Blob) {\n",
       "            /* FIXME: We get \"Resource interpreted as Image but\n",
       "             * transferred with MIME type text/plain:\" errors on\n",
       "             * Chrome.  But how to set the MIME type?  It doesn't seem\n",
       "             * to be part of the websocket stream */\n",
       "            evt.data.type = \"image/png\";\n",
       "\n",
       "            /* Free the memory for the previous frames */\n",
       "            if (fig.imageObj.src) {\n",
       "                (window.URL || window.webkitURL).revokeObjectURL(\n",
       "                    fig.imageObj.src);\n",
       "            }\n",
       "\n",
       "            fig.imageObj.src = (window.URL || window.webkitURL).createObjectURL(\n",
       "                evt.data);\n",
       "            fig.updated_canvas_event();\n",
       "            fig.waiting = false;\n",
       "            return;\n",
       "        }\n",
       "        else if (typeof evt.data === 'string' && evt.data.slice(0, 21) == \"data:image/png;base64\") {\n",
       "            fig.imageObj.src = evt.data;\n",
       "            fig.updated_canvas_event();\n",
       "            fig.waiting = false;\n",
       "            return;\n",
       "        }\n",
       "\n",
       "        var msg = JSON.parse(evt.data);\n",
       "        var msg_type = msg['type'];\n",
       "\n",
       "        // Call the  \"handle_{type}\" callback, which takes\n",
       "        // the figure and JSON message as its only arguments.\n",
       "        try {\n",
       "            var callback = fig[\"handle_\" + msg_type];\n",
       "        } catch (e) {\n",
       "            console.log(\"No handler for the '\" + msg_type + \"' message type: \", msg);\n",
       "            return;\n",
       "        }\n",
       "\n",
       "        if (callback) {\n",
       "            try {\n",
       "                // console.log(\"Handling '\" + msg_type + \"' message: \", msg);\n",
       "                callback(fig, msg);\n",
       "            } catch (e) {\n",
       "                console.log(\"Exception inside the 'handler_\" + msg_type + \"' callback:\", e, e.stack, msg);\n",
       "            }\n",
       "        }\n",
       "    };\n",
       "}\n",
       "\n",
       "// from http://stackoverflow.com/questions/1114465/getting-mouse-location-in-canvas\n",
       "mpl.findpos = function(e) {\n",
       "    //this section is from http://www.quirksmode.org/js/events_properties.html\n",
       "    var targ;\n",
       "    if (!e)\n",
       "        e = window.event;\n",
       "    if (e.target)\n",
       "        targ = e.target;\n",
       "    else if (e.srcElement)\n",
       "        targ = e.srcElement;\n",
       "    if (targ.nodeType == 3) // defeat Safari bug\n",
       "        targ = targ.parentNode;\n",
       "\n",
       "    // jQuery normalizes the pageX and pageY\n",
       "    // pageX,Y are the mouse positions relative to the document\n",
       "    // offset() returns the position of the element relative to the document\n",
       "    var x = e.pageX - $(targ).offset().left;\n",
       "    var y = e.pageY - $(targ).offset().top;\n",
       "\n",
       "    return {\"x\": x, \"y\": y};\n",
       "};\n",
       "\n",
       "/*\n",
       " * return a copy of an object with only non-object keys\n",
       " * we need this to avoid circular references\n",
       " * http://stackoverflow.com/a/24161582/3208463\n",
       " */\n",
       "function simpleKeys (original) {\n",
       "  return Object.keys(original).reduce(function (obj, key) {\n",
       "    if (typeof original[key] !== 'object')\n",
       "        obj[key] = original[key]\n",
       "    return obj;\n",
       "  }, {});\n",
       "}\n",
       "\n",
       "mpl.figure.prototype.mouse_event = function(event, name) {\n",
       "    var canvas_pos = mpl.findpos(event)\n",
       "\n",
       "    if (name === 'button_press')\n",
       "    {\n",
       "        this.canvas.focus();\n",
       "        this.canvas_div.focus();\n",
       "    }\n",
       "\n",
       "    var x = canvas_pos.x;\n",
       "    var y = canvas_pos.y;\n",
       "\n",
       "    this.send_message(name, {x: x, y: y, button: event.button,\n",
       "                             step: event.step,\n",
       "                             guiEvent: simpleKeys(event)});\n",
       "\n",
       "    /* This prevents the web browser from automatically changing to\n",
       "     * the text insertion cursor when the button is pressed.  We want\n",
       "     * to control all of the cursor setting manually through the\n",
       "     * 'cursor' event from matplotlib */\n",
       "    event.preventDefault();\n",
       "    return false;\n",
       "}\n",
       "\n",
       "mpl.figure.prototype._key_event_extra = function(event, name) {\n",
       "    // Handle any extra behaviour associated with a key event\n",
       "}\n",
       "\n",
       "mpl.figure.prototype.key_event = function(event, name) {\n",
       "\n",
       "    // Prevent repeat events\n",
       "    if (name == 'key_press')\n",
       "    {\n",
       "        if (event.which === this._key)\n",
       "            return;\n",
       "        else\n",
       "            this._key = event.which;\n",
       "    }\n",
       "    if (name == 'key_release')\n",
       "        this._key = null;\n",
       "\n",
       "    var value = '';\n",
       "    if (event.ctrlKey && event.which != 17)\n",
       "        value += \"ctrl+\";\n",
       "    if (event.altKey && event.which != 18)\n",
       "        value += \"alt+\";\n",
       "    if (event.shiftKey && event.which != 16)\n",
       "        value += \"shift+\";\n",
       "\n",
       "    value += 'k';\n",
       "    value += event.which.toString();\n",
       "\n",
       "    this._key_event_extra(event, name);\n",
       "\n",
       "    this.send_message(name, {key: value,\n",
       "                             guiEvent: simpleKeys(event)});\n",
       "    return false;\n",
       "}\n",
       "\n",
       "mpl.figure.prototype.toolbar_button_onclick = function(name) {\n",
       "    if (name == 'download') {\n",
       "        this.handle_save(this, null);\n",
       "    } else {\n",
       "        this.send_message(\"toolbar_button\", {name: name});\n",
       "    }\n",
       "};\n",
       "\n",
       "mpl.figure.prototype.toolbar_button_onmouseover = function(tooltip) {\n",
       "    this.message.textContent = tooltip;\n",
       "};\n",
       "mpl.toolbar_items = [[\"Home\", \"Reset original view\", \"fa fa-home icon-home\", \"home\"], [\"Back\", \"Back to  previous view\", \"fa fa-arrow-left icon-arrow-left\", \"back\"], [\"Forward\", \"Forward to next view\", \"fa fa-arrow-right icon-arrow-right\", \"forward\"], [\"\", \"\", \"\", \"\"], [\"Pan\", \"Pan axes with left mouse, zoom with right\", \"fa fa-arrows icon-move\", \"pan\"], [\"Zoom\", \"Zoom to rectangle\", \"fa fa-square-o icon-check-empty\", \"zoom\"], [\"\", \"\", \"\", \"\"], [\"Download\", \"Download plot\", \"fa fa-floppy-o icon-save\", \"download\"]];\n",
       "\n",
       "mpl.extensions = [\"eps\", \"jpeg\", \"pdf\", \"png\", \"ps\", \"raw\", \"svg\", \"tif\"];\n",
       "\n",
       "mpl.default_extension = \"png\";var comm_websocket_adapter = function(comm) {\n",
       "    // Create a \"websocket\"-like object which calls the given IPython comm\n",
       "    // object with the appropriate methods. Currently this is a non binary\n",
       "    // socket, so there is still some room for performance tuning.\n",
       "    var ws = {};\n",
       "\n",
       "    ws.close = function() {\n",
       "        comm.close()\n",
       "    };\n",
       "    ws.send = function(m) {\n",
       "        //console.log('sending', m);\n",
       "        comm.send(m);\n",
       "    };\n",
       "    // Register the callback with on_msg.\n",
       "    comm.on_msg(function(msg) {\n",
       "        //console.log('receiving', msg['content']['data'], msg);\n",
       "        // Pass the mpl event to the overriden (by mpl) onmessage function.\n",
       "        ws.onmessage(msg['content']['data'])\n",
       "    });\n",
       "    return ws;\n",
       "}\n",
       "\n",
       "mpl.mpl_figure_comm = function(comm, msg) {\n",
       "    // This is the function which gets called when the mpl process\n",
       "    // starts-up an IPython Comm through the \"matplotlib\" channel.\n",
       "\n",
       "    var id = msg.content.data.id;\n",
       "    // Get hold of the div created by the display call when the Comm\n",
       "    // socket was opened in Python.\n",
       "    var element = $(\"#\" + id);\n",
       "    var ws_proxy = comm_websocket_adapter(comm)\n",
       "\n",
       "    function ondownload(figure, format) {\n",
       "        window.open(figure.imageObj.src);\n",
       "    }\n",
       "\n",
       "    var fig = new mpl.figure(id, ws_proxy,\n",
       "                           ondownload,\n",
       "                           element.get(0));\n",
       "\n",
       "    // Call onopen now - mpl needs it, as it is assuming we've passed it a real\n",
       "    // web socket which is closed, not our websocket->open comm proxy.\n",
       "    ws_proxy.onopen();\n",
       "\n",
       "    fig.parent_element = element.get(0);\n",
       "    fig.cell_info = mpl.find_output_cell(\"<div id='\" + id + \"'></div>\");\n",
       "    if (!fig.cell_info) {\n",
       "        console.error(\"Failed to find cell for figure\", id, fig);\n",
       "        return;\n",
       "    }\n",
       "\n",
       "    var output_index = fig.cell_info[2]\n",
       "    var cell = fig.cell_info[0];\n",
       "\n",
       "};\n",
       "\n",
       "mpl.figure.prototype.handle_close = function(fig, msg) {\n",
       "    fig.root.unbind('remove')\n",
       "\n",
       "    // Update the output cell to use the data from the current canvas.\n",
       "    fig.push_to_output();\n",
       "    var dataURL = fig.canvas.toDataURL();\n",
       "    // Re-enable the keyboard manager in IPython - without this line, in FF,\n",
       "    // the notebook keyboard shortcuts fail.\n",
       "    IPython.keyboard_manager.enable()\n",
       "    $(fig.parent_element).html('<img src=\"' + dataURL + '\">');\n",
       "    fig.close_ws(fig, msg);\n",
       "}\n",
       "\n",
       "mpl.figure.prototype.close_ws = function(fig, msg){\n",
       "    fig.send_message('closing', msg);\n",
       "    // fig.ws.close()\n",
       "}\n",
       "\n",
       "mpl.figure.prototype.push_to_output = function(remove_interactive) {\n",
       "    // Turn the data on the canvas into data in the output cell.\n",
       "    var dataURL = this.canvas.toDataURL();\n",
       "    this.cell_info[1]['text/html'] = '<img src=\"' + dataURL + '\">';\n",
       "}\n",
       "\n",
       "mpl.figure.prototype.updated_canvas_event = function() {\n",
       "    // Tell IPython that the notebook contents must change.\n",
       "    IPython.notebook.set_dirty(true);\n",
       "    this.send_message(\"ack\", {});\n",
       "    var fig = this;\n",
       "    // Wait a second, then push the new image to the DOM so\n",
       "    // that it is saved nicely (might be nice to debounce this).\n",
       "    setTimeout(function () { fig.push_to_output() }, 1000);\n",
       "}\n",
       "\n",
       "mpl.figure.prototype._init_toolbar = function() {\n",
       "    var fig = this;\n",
       "\n",
       "    var nav_element = $('<div/>')\n",
       "    nav_element.attr('style', 'width: 100%');\n",
       "    this.root.append(nav_element);\n",
       "\n",
       "    // Define a callback function for later on.\n",
       "    function toolbar_event(event) {\n",
       "        return fig.toolbar_button_onclick(event['data']);\n",
       "    }\n",
       "    function toolbar_mouse_event(event) {\n",
       "        return fig.toolbar_button_onmouseover(event['data']);\n",
       "    }\n",
       "\n",
       "    for(var toolbar_ind in mpl.toolbar_items){\n",
       "        var name = mpl.toolbar_items[toolbar_ind][0];\n",
       "        var tooltip = mpl.toolbar_items[toolbar_ind][1];\n",
       "        var image = mpl.toolbar_items[toolbar_ind][2];\n",
       "        var method_name = mpl.toolbar_items[toolbar_ind][3];\n",
       "\n",
       "        if (!name) { continue; };\n",
       "\n",
       "        var button = $('<button class=\"btn btn-default\" href=\"#\" title=\"' + name + '\"><i class=\"fa ' + image + ' fa-lg\"></i></button>');\n",
       "        button.click(method_name, toolbar_event);\n",
       "        button.mouseover(tooltip, toolbar_mouse_event);\n",
       "        nav_element.append(button);\n",
       "    }\n",
       "\n",
       "    // Add the status bar.\n",
       "    var status_bar = $('<span class=\"mpl-message\" style=\"text-align:right; float: right;\"/>');\n",
       "    nav_element.append(status_bar);\n",
       "    this.message = status_bar[0];\n",
       "\n",
       "    // Add the close button to the window.\n",
       "    var buttongrp = $('<div class=\"btn-group inline pull-right\"></div>');\n",
       "    var button = $('<button class=\"btn btn-mini btn-primary\" href=\"#\" title=\"Stop Interaction\"><i class=\"fa fa-power-off icon-remove icon-large\"></i></button>');\n",
       "    button.click(function (evt) { fig.handle_close(fig, {}); } );\n",
       "    button.mouseover('Stop Interaction', toolbar_mouse_event);\n",
       "    buttongrp.append(button);\n",
       "    var titlebar = this.root.find($('.ui-dialog-titlebar'));\n",
       "    titlebar.prepend(buttongrp);\n",
       "}\n",
       "\n",
       "mpl.figure.prototype._root_extra_style = function(el){\n",
       "    var fig = this\n",
       "    el.on(\"remove\", function(){\n",
       "\tfig.close_ws(fig, {});\n",
       "    });\n",
       "}\n",
       "\n",
       "mpl.figure.prototype._canvas_extra_style = function(el){\n",
       "    // this is important to make the div 'focusable\n",
       "    el.attr('tabindex', 0)\n",
       "    // reach out to IPython and tell the keyboard manager to turn it's self\n",
       "    // off when our div gets focus\n",
       "\n",
       "    // location in version 3\n",
       "    if (IPython.notebook.keyboard_manager) {\n",
       "        IPython.notebook.keyboard_manager.register_events(el);\n",
       "    }\n",
       "    else {\n",
       "        // location in version 2\n",
       "        IPython.keyboard_manager.register_events(el);\n",
       "    }\n",
       "\n",
       "}\n",
       "\n",
       "mpl.figure.prototype._key_event_extra = function(event, name) {\n",
       "    var manager = IPython.notebook.keyboard_manager;\n",
       "    if (!manager)\n",
       "        manager = IPython.keyboard_manager;\n",
       "\n",
       "    // Check for shift+enter\n",
       "    if (event.shiftKey && event.which == 13) {\n",
       "        this.canvas_div.blur();\n",
       "        event.shiftKey = false;\n",
       "        // Send a \"J\" for go to next cell\n",
       "        event.which = 74;\n",
       "        event.keyCode = 74;\n",
       "        manager.command_mode();\n",
       "        manager.handle_keydown(event);\n",
       "    }\n",
       "}\n",
       "\n",
       "mpl.figure.prototype.handle_save = function(fig, msg) {\n",
       "    fig.ondownload(fig, null);\n",
       "}\n",
       "\n",
       "\n",
       "mpl.find_output_cell = function(html_output) {\n",
       "    // Return the cell and output element which can be found *uniquely* in the notebook.\n",
       "    // Note - this is a bit hacky, but it is done because the \"notebook_saving.Notebook\"\n",
       "    // IPython event is triggered only after the cells have been serialised, which for\n",
       "    // our purposes (turning an active figure into a static one), is too late.\n",
       "    var cells = IPython.notebook.get_cells();\n",
       "    var ncells = cells.length;\n",
       "    for (var i=0; i<ncells; i++) {\n",
       "        var cell = cells[i];\n",
       "        if (cell.cell_type === 'code'){\n",
       "            for (var j=0; j<cell.output_area.outputs.length; j++) {\n",
       "                var data = cell.output_area.outputs[j];\n",
       "                if (data.data) {\n",
       "                    // IPython >= 3 moved mimebundle to data attribute of output\n",
       "                    data = data.data;\n",
       "                }\n",
       "                if (data['text/html'] == html_output) {\n",
       "                    return [cell, data, j];\n",
       "                }\n",
       "            }\n",
       "        }\n",
       "    }\n",
       "}\n",
       "\n",
       "// Register the function which deals with the matplotlib target/channel.\n",
       "// The kernel may be null if the page has been refreshed.\n",
       "if (IPython.notebook.kernel != null) {\n",
       "    IPython.notebook.kernel.comm_manager.register_target('matplotlib', mpl.mpl_figure_comm);\n",
       "}\n"
      ],
      "text/plain": [
       "<IPython.core.display.Javascript object>"
      ]
     },
     "metadata": {},
     "output_type": "display_data"
    },
    {
     "data": {
      "text/html": [
       "<img src=\"data:image/png;base64,iVBORw0KGgoAAAANSUhEUgAABBAAAAHgCAYAAAAcz55OAAAgAElEQVR4nOy9fZiddX3nfycYBAo+bCeik4Gcue/v+yOlVsRN0SIGYRFEKQm4rSItblsR1K5QEDcINutVWHV9/GmFilZQ8VpHWRCWFS9ciBYbgqbI6EAQFSogoDxnStxxJn73D+6T33GYRzIn9+dz8npd1/cimTOvOe+55z1J5s2ZM0UBAAAAAAAAAAAAAAAAAAAAAAAAAAAAAAAAAAAAAAAAAAAAAAAAAAAAAAAAAAAAAAAAAAAAAAAAAAAAAAAAAAAAAAAAAAAAAAAAAAAAAAAAAAAAAAAAAAAAAAAAAAAAAAAAAAAAAAAAAAAAAAAAAAAAAAAAAAAAAAAAAAAAAAAAAAAAAAAAAAAAAAAAAAAAAAAAAAAAAAAAAAAAAAAAAAAAAAAAAAAAAAAAAAAAAAAAAAAAAAAAAAAAAAAAAAAAAAAAAAAAAAAAAAAAAAAAAAAAAAAAAAAAAAAAAAAAAAAAAAAAAAAAAAAAAAAAAAAAAAAAAAAAAAAAAAAAAAAAAAAAAAAAAAAAvcriqqr2aTrEjmT58uUvKIpi17m8bqvV2m1wcHDvLkcCAAAAAAAA2H7M7F8lbTGzzfUZNbPNKaW12/u2JX01pXTGQuR8uqSUDjWz0QV6Wwea2TWSHpX0uKTvSzq1fXtVVc8zs9GBgYF/N5e3Z2bfk3R8URSFpDdJ2rAQOQEAAAAAAAAWHDO7y8yO68bblrTOyYCweQHezrPM7JF6MFhSFEVRluUhZvZgSumviqIoWq1WS9LWeQwId7UHBAAAAAAAAADXzPZFrJktk3SZpF+a2Z2SzimKYlFRFEVK6ZkppU+a2Y/qRy7c1f5iOqX0SUkTkn6VUrpoqkcCSPqhmZ1U/3qdpM9JulfSTUVRFFVVHWxm/yzpUTMbTimtartVVR1WPwLgUUm3SXr3VPnr+/03M3ufmd0v6R4ze2v9vr1R0r2TMv13M/vi5LdTluUfmtn43nvv/TuTrs9J7fdZ0mOStprZZkkrW63Wc8zsi/V1e8LMNqWU/rh+3askbZX0hKRzzOzNkn7YkeP1km6p3+bNne97fZ3XSLpV0uNmdr2ZLZvuYwgAAAAAAACw3cwyICyWdLOkjxVFsWtZlvvWX9T+56IoivqL2PVlWT67/v1fStrS39+/R1H89iMQpnokwOQBwcx+1Gq1ntPX17dXSmnAzDZXVfWGoigWSVppZo+Y2QH169+dUjqxKIqiqqoXSXqsqqoXTX4HUkqHSvqNpI8XRbGrpJdJeryqqsNardZu9RfoKzsy3W1mR0xxLXatv2C/TdK5KaVXtd/PNoODg8slbd13332fW7+tf5D0P1ut1m5FUSw2s/8q6e7Oa99+9IeZvdnMflAURVGW5X+oB4cjiqJYVFXVayQ9kVJ6ecfH7OZWq/X8siyfLWmDpAum+RgCAAAAAAAAbD/1F7Gj9Rfnj9T/t/87RVEUkl5mZv9WFMUu7devquoNkkaKoijKsnz2smXLfrd48ovcferv49+aUhqo/fkOCB/puO3dkq6d9PoXppQ+Wef+kZl9LaV0VP0F+pTUA8KWouOJDSVdaGafqX/9j5IurN+3w+pHJCya6m0tXbp0T0nvNrPvSPq/kv6vmX2l1Wo9vyj+/wGh/S0M/f39ffW4ssvy5csHzexMSROd17493nQOCCmlz7fzdbzuZyX9Q4e37bkXUkprzOz/THcNAAAAAAAAALabmZ4DIaX0J5ImOoaF9n8fLoqiqB+R8L/M7GEz2yjpEklby7Lctyie1oBwZkeuT9VfoG8bNuqH619RFEVRDxYX19/ysEXSJUuXLt1zivfhUDP710n3e46kqztuf7Aoil3M7DOS/vscL92u9eBwo6RvF8VTBwQzO0DSt8zsIUnrzewrkrZ2XvupBgRJ3zCz90zObGZfn+zVvz/TzK6fY24AAAAAAACA+TPTtzBUVXWwpAc6X1aW5bPbA4GZfd3MPlUUxeL6Nk03IJRleYikX0267/s6B4TOJ1w0s/eY2dCk119WP+Jh185vMyjL8g8k3ZpS+tvJ70PHcy88o+PtfMbM/r7zGpjZa83s4am+DaLO93dTfZHe+dwOU3wLw20ppTUdb+PVcxkQ6ueMuGjS/X9O0ucme/XvGRAAAAAAAACgu8zyHAjPMLMfmNn7UkrPHBgY+HeSvtl+FICkG83so8WT38LwPDP7mqStVVWl+vZvmNn7iqIoli9f/gIzG5f0+uLJ5zQ4pX50w5QDQv2Q/0fqJx1clFLaX9I9kk4rimKJmT1oZn9d37ZU0g9TSu+Y/A60nwPBzD5QP+njofbkj6k8sP06ks6rn+vh5umuk6SX1M9LcHZ7IKiqKkm6OqX0+aIoilar9XxJW5cvXz5YX9v7Ukqn17e16ieE3FrUY4aZ3S7pL+pfbxsQ6iePHC3L8j8URbG44zkQXjXVx4wBAQAAAAAAALpO/RMCpv0pDFVV7WNmV+jJn8LwoJl9sf2kiWZ2kJkNm9nm+icD/K2kn1VVtbooiiKldKKkx9qPJJD0zvr/9j8s6QIzu6Y9IJjZ9ZN/5KOZvbL+FoFH6ydN/NuOXK8ws+9KelzSA/XzJyyenL8eDO6S9P/V3wKxqR4xtlGWpUn6TfuL/elIKb1c0v82s4fMbFTSTyWdl1J6Zkfmr5nZaFVVq6uqOlrSHfX9/iil9Df1t1u8pH57/6V+Ox/qHBDqa/X69rWtx5E/me5jxoAAAAAA7jCz4+rvV91c/4Oo8wmc1tqTPx7rMUmX9vX17dVx2/5mdoM9+SRdt7f/YQkAAOCBpUuX7ll/0f+8prMAAAAAhCelVOnJn1W9sii2PTHUlrIsV5jZW81sU1VV+/T19e0l6Soz+0KtLjGzO+v/q7RLSumo+mGZ1tx7AwAAUBTFk9968SJJHzezrzQdBgAAAKBn2HvvvX+n/uUiMzvCzDbXD/tcn1J6W/v1Wq3WfmY21t/fv0dK6ajJT8BlZl+WdN4ODQ8AADAF9aPnfth+4kcAAAAAWCD23Xff59ZPgrU1pXR+URRF/b2pKztebbGZjdePUjht8vdl1t/ucMUODQ4AAAAAAAAAO5RFRVE8oyzLFfUTar3ZzH5dluWKzleS9ET947+2/aztjtvOknTtDk0NAAAAAAAAAM1gZh+QdKWkR83slR03LZY0MTg4+OKU0ulmdl2nl1JaK+nyOdzFovXr1y/bsGHDszgcDofD4XA4HA6nqbN+/fplxZP/MxUAZkPS6yR9a9LLPibpEjP7ZzM7uf3y+qcujLVard1SSkdKurfTM7OhuTwHwvr165dt3LgxczgcDofD4XA4HE7Tpx4RAGA2qqp6Xv1zr08uimKRpJXtRx5IOsXMbk8pVWVZPlvSVZIurdUl9c8GX1MUxZKqql5jZqOtVmu/2e5zw4YNz9q4cWPesmVLHhsbe8rZsmVLnun22U5030MGfDqAH9v3kAGfDuDTAfzYvocM3fbbt2/YsOFZXf2iC6CXkPQySTfWT5p4S0rp2PqmRfVzHdxtZo9I+tLSpUv3bHuDg4MvlLRO0uP10LBqLvfXHhAmJibyVExMTOSZbp+N6L6HDPh0AD+27yEDPh3ApwP4sX0PGbrtt29nQABwDAOC/wz4dAA/tu8hAz4dwKcD+LF9DxkYEACAASFABnw6gB/b95ABnw7g0wH82L6HDAwIAMCAECADPh3Aj+17yIBPB/DpAH5s30MGBgQAYEAIkAGfDuDH9j1kwKcD+HQAP7bvIQMDAgAwIATIgE8H8GP7HjLg0wF8OoAf2/eQgQEBABgQAmTApwP4sX0PGfDpAD4dwI/te8jAgAAADAgBMuDTAfzYvocM+HQAnw7sbP74+HgeGRnZdoaHh/PQ0FAeHh7+rZfP9XT64+PjXc/fjbfh3WdAAAgAA4L/DPh0AD+27yEDPh3ApwM7mz8yMpJXHHt2PvSkTyzoWXHs2XlkZGROGe699978+7//+3n16tX52GOPza9+9avzqlWr8k9+8pN5ve+jo6P57W9/+4Jew4svvjivXr06r169Oh933HH58ssvn5c/F+655578nve8Z84+AwJAABgQ/GfApwP4sX0PGfDpAD4d2Nn8kZGRfOhJn8jHnPG1BT2HnvSJeQ0Ihx9++Ha///fcc08+/PDDF+wafuhDH8onn3xyHh0dzTnn/NBDD+Wjjz46f/Ob35yTP9f737BhQ/7zP//zOfsMCAABYEDwnwGfDuDH9j1kwKcD+HRgZ/M9DwhbtmzJZ599dj7uuOPyqlWr8le/+tWc85OPNHjnO9+Z3/CGN+TDDjssn3nmmTnnnN/61rfmF73oRfnUU0/N11xzTT7ssMO23cfll1+e16xZk3PO+bDDDsunnXZaPuqoo/IDDzyQr7zyynzcccfl1atX53e961158+bN+Tvf+U4+4IAD8n333fdbWTdt2pQ3bdqUc875+uuvz6tWrcrHHntsfsc73pEffvjhbW//G9/4Rp6YmMj33nvvthxr1qzJ559/fj7xxBPz4Ycfnj/96U/nnHN+3etelw888MC8du3aOX0MGRAAAsCA4D8DPh3Aj+17yIBPB/DpwM7mexkQOr+F4cgjj8wf//jH80c/+tF88cUX55xz3rJlSz7uuOPyj370o3z11VfnT33qUznnJ5/D4cgjj8y33nrrtiFiYmIiX3PNNdtGiZyfOiBcdtllOeecf/KTn+QTTjghj42N5ZxzvvDCC/P73//+/JWvfCUffPDB02Z++OGH8yGHHJLvvffenHPOn/3sZ/Npp5227e13DgjtHGvWrMnveMc7cs45//KXv8wveclL8ujoaL7pppt4BAJAr8GA4D8DPh3Aj+17yIBPB/DpwM7mexkQpnoEwvHHH59f+9rX5lWrVuVVq1blI444Il911VU555yHh4fzJZdckt/73vfmgw46KH/ve9+b14DQfn6FSy+9NL/iFa/Iq1evzqtWrcrHHHNMPvXUU/Nll12WX/7yl0+bed26ddvGgJyffFTEQQcdtO3tTzcgfPnLX97mHHbYYfm+++5jQADoRRgQ/GfApwP4sX0PGfDpAD4d2Nl8zwPC6tWr82233bbt9R5++OE8NjaWv/CFL+QTTzwxX3311fnHP/5xfuMb35i/+93v/taA8I1vfCO/6lWv2uYODQ391oDw85//POec8+c///l83nnnbXu9X/3qV/mRRx7J69evzwceeOC2Rxi0WbduXb7gggvyddddl9/+9rdve/njjz+eX/rSl+accz788MPzNddckycmJvJdd931WwPCFVdcsc1p52BAAOhBGBD8Z8CnA/ixfQ8Z8OkAPh3Y2XwvA0L7eQI683/gAx/I5557bs75yfFg5cqVedOmTfnUU0/NV199dc455zvuuCO/5CUvyTfeeGN+4IEH8sqVK/PExES+4YYb8ktf+tL84IMP5omJifxXf/VXUw4ImzZtyq961avyQw89lHPO+dxzz83nn39+3rjxySdRfMtb3rLtSRTvv//+fPTRR+drr702P/TQQ/mQQw7J99xzT84554suuiifeuqpOeecX//61+dPf/rTeWJiIl9wwQWzDggbN27MJ5xwwpw/hgwIAAFgQPCfAZ8O4Mf2PWTApwP4dGBn8738GMepHoEwOjqazzrrrHzMMcfko48+Og8NDeWcc77xxhvzUUcdlY8//vj8Z3/2Z/kv//Iv81e+8pW8devWfMIJJ+Q3velNeePGjfnCCy/Mhx12WH7DG96QP/ShD20bEA4//PBtA0LOOV922WX5mGOOycccc0x+5zvfmUdHR/PGjRvz+Ph4/vu///tt30axevXqfOWVV27z1q1bt+3bHt7ylrfkX/ziFznnnL/97W/nlStX5uOOOy5/+tOfnnZAaOd47LHH8h//8R/nM844Y04fQwYEgAAwIPjPgE8H8GP7HjLg0wF8OrCz+ePj43lkZGTbGR4ezkNDQ3l4ePi3Xj7X0+mPj493PX833oZ3nwEBIAAMCP4z4NMB/Ni+hwwe/+E+n3+AR3v/PWbApwP4sX0PGRgQAIABIUAGfDqAH9v3kGFH+7M9dHg+DwFuIv9C+x4y4NMB/Ni+hwwMCADAgBAgAz4dwI/te8jQxIAw05OXzedJyJrIv9C+hwz4dAA/tu8hAwMCADAgBMiATwfwY/seMjAg0AF8OoAf2/eQgQEBABgQAmTApwP4sX0PGRgQ6AA+HcCP7XvIwIAAAAwIATLg0wH82L6HDAwIdACfDuDH9j1kYEAAAAaEABnw6QB+bN9DBgYEOoBPB/Bj+x4yMCAAAANCgAz4dAA/tu8hAwMCHcCnA/ixfQ8ZGBAAgAEhQAZ8OoAf2/eQgQGBDuDTAfzYvocMDAgAwIAQIAM+HcCP7XvIwIBAB/DpAH5s30MGBgQAYEAIkAGfDuDH9j1kYECgA/h0AD+27yEDAwIAMCAEyIBPB/Bj+x4yMCDQAXw6gB/b95CBAQEAGBACZMCnA/ixfQ8ZGBDoAD4dwI/te8jAgAAADAgBMuDTAfzYvocMDAh0AJ8O4Mf2PWRgQAAABoQAGfDpAH5s30MGBgQ6gE8H8GP7HjIwIAAAA0KADPh0AD+27yEDAwIdwKcD+LF9DxkYEACAASFABnw6gB/b95CBAYEO4NMB/Ni+hwwMCADAgBAgAz4dwI/te8jAgEAH8OkAfmzfQwYGBABgQAiQAZ8O4Mf2PWRgQKAD+HQAP7bvIQMDAgAwIATIgE8H8GP7HjIwINABfDqAH9v3kIEBAQAYEAJkwKcD+LF9DxkYEOgAPh3Aj+17yMCAAAAMCAEy4NMB/Ni+hwwMCHQAnw7gx/Y9ZGBAAAAGhAAZ8OkAfmzfQwYGBDqATwfwY/seMjAgAAADQoAM+HQAP7bvIQMDAh3ApwP4sX0PGRgQAIABIUAGfDqAH9v3kIEBgQ7g0wH82L6HDAwIAMCAECADPh3Aj+17yMCAQAfw6QB+bN9DBgYEAGBACJABnw7gx/Y9ZGBAoAP4dAA/tu8hAwMCADAgBMiATwfwY/seMjAg0AF8OoAf2/eQgQEBABgQAmTApwP4sX0PGRgQ6AA+HcCP7XvIwIAAAAwIATLg0wH82L6HDAwIdACfDuDH9j1kYEAAAAaEABnw6QB+bN9DBgYEOoBPB/Bj+x4yMCAAAANCgAz4dAA/tu8hAwMCHcCnA/ixfQ8ZGBAAgAEhQAZ8OoAf2/eQgQGBDuDTAfzYvocMDAgAwIAQIAM+HcCP7XvIwIBAB/DpAH5s30MGBgQAYEAIkAGfDuDH9j1kYECgA/h0AD+27yEDAwIAMCAEyIBPB/Bj+x4yMCDQAXw6gB/b95CBAQEAGBACZMCnA/ixfQ8ZGBDoAD4dwI/te8jAgAAADAgBMuDTAfzYvocMDAh0AJ8O4Mf2PWRgQAAABoQAGfDpAH5s30MGBgQ6gE8H8GP7HjIwIAA4pCzLQyStl/SYmd0l6dz2bfXLRs1ss5mNSvpx+7aU0v5mdkN9++1VVa2ey/0xIPjPgE8H8GP7HjIwINABfDqAH9v3kIEBAcAZ/f39fWb2iJmdVBTForIsJemnkk5JKVWSflUUxS5TqEvM7M6U0hlFUeySUjrKzEbLsrTZ7pMBwX8GfDqAH9v3kIEBgQ7g0wH82L6HDAwIAM4oy3KFmX2h82UppQ9LujSl9KeSbprKSykdKemBzpeZ2ZclnTfbfTIg+M+ATwfwY/seMjAg0AF8OoAf2/eQgQEBwD+7SrpV0rvM7AOSfmhmGyX90sy+Pjg4+MKiKApJp5nZ9Z1iSmmtmV0x2x0wIPjPgE8H8GP7HjIwINABfDqAH9v3kIEBAcAxKaVnmtnXzGzjwMDA7mb2PjP7bFVVzxsYGNhd0gfN7K761+dIurrTl3SWpGtnux8GBP8Z8OkAfmzfQwYGBDqATwfwY/seMjAgADglpTQgaYOkda1W6znTvZ6kxyWtTCmdbmbXTXobayVdPtt9tQeEsbGxPDEx8ZQzNjaWZ7p9thPd95ABnw7gx/Y9ZNjR/vDw8KwDwvDwsNv8dACfDuB78z1k6Lbfvp0BAWAeVFX1783sfkkXFB1PmJhSWlOW5YqOV10i6QkzO6h+DoR7O9+OmQ3N5zkQOBwOh8NZqDM0NDTrgDA0NNR4Tg6Hw+H4OwwIAHMkpTRgZg9KOmfybZIukfRPKaWl/f39e5jZpyTdUhTFouLJn8JwV0ppTVEUS6qqeo2ZjbZarf1mu08egeA/Az4dwI/te8jAIxDoAD4dwI/te8jAIxAAnJFSOl/SVjPbbGaj9dlsZkNLly7d08w+I+kX9bcuXJlSGmi7g4ODL5S0TtLjZnZ7SmnVXO6T50DwnwGfDuDH9j1k2NE+z4HgLwM+HcCP7XvI0G2/fTsDAoBjGBD8Z8CnA/ixfQ8ZGBDoAD4dwI/te8jAgAAADAgBMuDTAfzYvocMDAh0AJ8O4Mf2PWRgQAAABoQAGfDpAH5s30MGBgQ6gE8H8GP7HjIwIAAAA0KADPh0AD+27yEDAwIdwKcD+LF9DxkYEACAASFABnw6gB/b95CBAYEO4NMB/Ni+hwwMCADAgBAgAz4dwI/te8jAgEAH8OkAfmzfQwYGBABgQAiQAZ8O4Mf2PWRgQKAD+HQAP7bvIQMDAgAwIATIgE8H8GP7HjIwINABfDqAH9v3kIEBAQAYEAJkwKcD+LF9DxkYEOgAPh3Aj+17yMCAAAAMCAEy4NMB/Ni+hwwMCHQAnw7gx/Y9ZGBAAAAGhAAZ8OkAfmzfQwYGBDqATwfwY/seMjAgAAADQoAM+HQAP7bvIQMDAh3ApwP4sX0PGRgQAIABIUAGfDqAH9v3kIEBgQ7g0wH82L6HDAwIAMCAECADPh3Aj+17yMCAQAfw6QB+bN9DBgYEAGBACJABnw7gx/Y9ZGBAoAP4dAA/tu8hAwMCADAgBMiATwfwY/seMjAg0AF8OoAf2/eQgQEBABgQAmTApwP4sX0PGRgQ6AA+HcCP7XvIwIAAAAwIATLg0wH82L6HDAwIdACfDuDH9j1kYEAAAAaEABnw6QB+bN9DBgYEOoBPB/Bj+x4yMCAAAANCgAz4dAA/tu8hAwMCHcCnA/ixfQ8ZGBAAgAEhQAZ8OoAf2/eQgQGBDuDTAfzYvocMDAgAwIAQIAM+HcCP7XvIwIBAB/DpAH5s30MGBgQAYEAIkAGfDuDH9j1kYECgA/h0AD+27yEDAwIAMCAEyIBPB/Bj+x4yzNcfHx/PIyMj287w8HAeGhrKw8PD2142Pj4+rc+A4C8DPh3Aj+17yMCAAAAMCAEy4NMB/Ni+hwzz9UdGRvKKY8/Oh570iSnPimPPnnEAYEDwlwGfDuDH9j1kYEAAAAaEABnw6QB+bN9DhqczIGzPAMCA4C8DPh3Aj+17yMCAAAAMCAEy4NMB/Ni+hwwMCHQAnw7gx/Y9ZGBAAAAGhAAZ8OkAfmzfQwYGBDqATwfwY/seMjAgAAADQoAM+HQAP7bvIQMDAh3ApwP4sX0PGRgQAIABIUAGfDqAH9v3kIEBgQ7g0wH82L6HDAwIAMCAECADPh3Aj+17yMCAQAfw6QB+bN9DBgYEAGBACJABnw7gx/Y9ZGBAoAP4dAA/tu8hAwMCADAgBMiATwfwY/seMjAg0AF8OoAf2/eQgQEBABgQAmTApwP4sX0PGRgQ6AA+HcCP7XvIwIAAAAwIATLg0wH82L6HDAwIdACfDuDH9j1kYEAAAAaEABnw6QB+bN9DBgYEOoBPB/Bj+x4yMCAAAANCgAz4dAA/tu8hAwMCHcCnA/ixfQ8ZGBAAgAEhQAZ8OoAf2/eQgQGBDuDTAfzYvocMDAgAwIAQIAM+HcCP7XvIwIBAB/DpAH5s30MGBgQAYEAIkAGfDuDH9j1kYECgA/h0AD+27yEDAwIAMCAEyIBPB/Bj+x4yMCDQAXw6gB/b95CBAQEAGBACZMCnA/ixfQ8ZGBDoAD4dwI/te8jAgAAADAgBMuDTAfzYvocMDAh0AJ8O4Mf2PWRgQAAABoQAGfDpAH5s30MGBgQ6gE8H8GP7HjIwIAAAA0KADPh0AD+27yEDAwIdwKcD+LF9DxkYEACAASFABnw6gB/b95CBAYEO4NMB/Ni+hwwMCADAgBAgAz4dwI/te8jAgEAH8OkAfmzfQwYGBABgQAiQAZ8O4Mf2PWRgQKAD+HQAP7bvIQMDAgAwIATIgE8H8GP7HjIwINABfDqAH9v3kIEBAQAYEAJkwKcD+LF9DxkYEOgAPh3Aj+17yMCAAAAMCAEy4NMB/Ni+hwwMCHQAnw7gx/Y9ZGBAAAAGhAAZ8OkAfmzfQwYGBDqATwfwY/seMjAgAAADQoAM+HQAP7bvIQMDAh3ApwP4sX0PGRgQAIABIUAGfDqAH9v3kIEBgQ7g0wH82L6HDAwIAMCAECADPh3Aj+17yMCAQAfw6QB+bN9DBgYEAIeUZXmIpPWSHjOzuySd274tpbTWzO6X9JikS/v6+vbquG1/M7vBzEbN7PaqqlbP5f4YEPxnwKcD+LF9DxkYEOgAPh3Aj+17yMCAAOCM/v7+PjN7xMxOKopiUVmWkvRTSaeY2clmtqmqqn36+vr2knSVmX2hVpeY2Z0ppTOKotglpXSUmY2WZWmz3ScDgv8M+HQAP7bvIQMDAh3ApwP4sX0PGRgQAJxRluWKjlGgKIqiSCl9WNKXJK1PKb2t/fJWq7WfmY319/fvkVI6StIDnZ6ZfVnSebPdJwOC/wz4dAA/tu8hAwMCHcCnA/ixfQ8ZGBAA/LOrpFslvUvSo5JWdty22MzGzewASaeZ2fWdYv3tDlfMdgcMCP4z4NMB/Ni+hwwMCHQAnw7gx/Y9ZGBAAHBMSumZZvY1M9s4MDCwu5mNl2W5ovN1JD1RVdXBks6RdPWk286SdO1s98OA4D8DPh3Aj+17yMCAQAfw6QB+bN9DBgYEAKeklAYkbZD0rbIsn10URVE/qTy5ToAAACAASURBVOIrO15tsaSJwcHBF6eUTjez6ya9jbWSLp/tvtoDwtjYWJ6YmHjKGRsbyzPdPtuJ7nvIgE8H8GP7HjLM1x8eHp51ABgeHu6a3/T7Twfw6QC+N99Dhm777dsZEADmQVVV/77+SQsXFEWxS/vlktab2cnt39c/dWGs1WrtllI6UtK9nW/HzIbm8xwIHA6Hw+G0z9DQ0KwDwNDQUNd8DofD4ey8hwEBYI6klAbM7EFJ50y+rf5JDLenlKqyLJ8t6SpJl9Y3LzGzu1JKa4qiWFJV1WvMbLTVau03233yCAT/GfDpAH5s30MGHoFAB/DpAH5s30MGHoEA4IyU0vmStprZZjMbrc9mMxsqiqKQdK6ku83sEUlfWrp06Z5td3Bw8IWS1kl6vB4aVs3lPnkOBP8Z8OkAfmzfQ4b5+jwHwsL6HjLg0wH82L6HDN3227czIAA4hgHBfwZ8OoAf2/eQgQGBDuDTAfzYvocMDAgAwIAQIAM+HcCP7XvIwIBAB/DpAH5s30MGBgQAYEAIkAGfDuDH9j1kYECgA/h0AD+27yEDAwIAMCAEyIBPB/Bj+x4yMCDQAXw6gB/b95CBAQEAGBACZMCnA/ixfQ8ZGBDoAD4dwI/te8jAgAAADAgBMuDTAfzYvocMDAh0AJ8O4Mf2PWRgQAAABoQAGfDpAH5s30MGBgQ6gE8H8GP7HjIwIAAAA0KADPh0AD+27yEDAwIdwKcD+LF9DxkYEACAASFABnw6gB/b95CBAYEO4NMB/Ni+hwwMCADAgBAgAz4dwI/te8jAgEAH8OkAfmzfQwYGBIAu0Wq1divL8g+Kolg0MDCwe9N5ZoIBwX8GfDqAH9v3kIEBgQ7g0wH82L6HDAwIAF3AzA4ys/sl3V1V1T5m9qCZHdR0rulgQPCfAZ8O4Mf2PWRgQKAD+HQAP7bvIQMDAkAXkPStlNKBkr5f//54STc1nWs6GBD8Z8CnA/ixfQ8ZGBDoAD4dwI/te8jAgADQBST9S/3f73e87JbmEs0MA4L/DPh0AD+27yEDAwIdwKcD+LF9DxkYEAC6gJl9r7+/fw9JNxdFUaSUBszsB03nmg4GBP8Z8OkAfmzfQwYGBDqATwfwY/seMjAgAHQBM3uzpPVmdp+kj5nZz83s5KZzTQcDgv8M+HQAP7bvIQMDAh3ApwP4sX0PGRgQALpEWZaHSPpgSunDZnZE03lmggHBfwZ8OoAf2/eQgQGBDuDTAfzYvocMDAgAXUDSVU1nmA8MCP4z4NMB/Ni+hwwMCHQAnw7gx/Y9ZGBAAOgC9RMmPqPpHHOFAcF/Bnw6gB/b95CBAYEO4NMB/Ni+hwwMCABdQNK1ku6QdGlK6aL2aTrXdDAg+M+ATwfwY/seMjAg0AF8OoAf2/eQgQEBoAuklNZOdZrONR0MCP4z4NMB/Ni+hwwMCHQAnw7gx/Y9ZGBAAAAGhAAZ8OkAfmzfQwYGBDqATwfwY/seMjAgAHQBM7vLzO6cfJrONR0MCP4z4NMB/Ni+hwwMCHQAnw7gx/Y9ZGBAAOgCVVW9ouMcJukTKaU1TeeaDgYE/xnw6QB+bN9DBgYEOoBPB/Bj+x4yMCAA7CAk3dh0hulgQPCfAZ8O4Mf2PWRgQKAD+HQAP7bvIQMDAsAOoKqq50n6WdM5poMBwX8GfDqAH9v3kIEBgQ7g0wH82L6HDAwIAF1A0o/rH+N4h6Qfm9m/Sfp407mmgwHBfwZ8OoAf2/eQgQGBDuDTAfzYvocMDAgAXSCldGj7SFop6feazjQTDAj+M+DTAfzYvocMDAh0AJ8O4Mf2PWRgQADoApL+x+SXmdk1TWSZCwwI/jPg0wH82L6HDAwIdACfDuDH9j1kYEAAWEAkfU7StZIer/97raRrzex6foxjXN9DBnw6gB/b95CBAYEO4NMB/Ni+hwwMCAALSFmWKyT9J0k/M7M3t09K6UQzK5vONx0MCP4z4NMB/Ni+hwwMCHQAnw7gx/Y9ZGBAAOgCnseCqWBA8J8Bnw7gx/Y9ZGBAoAP4dAA/tu8hAwMCQBeQ9DJJV5rZdWZ2vaRvS7qn6VzTwYDgPwM+HcCP7XvIwIBAB/DpAH5s30MGBgSALiDph5LOlXRzSult9XMhfKzpXNPBgOA/Az4dwI/te8jAgEAH8OkAfmzfQwYGBIAuIOnWoigKM/tISumP+vv795D0L03nmg4GBP8Z8OkAfmzfQwYGBDqATwfwY/seMjAgAHQBSeuLoihSSm9PKb2lftnNzaaaHgYE/xnw6QB+bN9DBgYEOoBPB/Bj+x4yMCAAdAFJ/yjpHwYHB19cfzvDuyWNNJ1rOhgQ/GfApwP4sX0PGRgQ6AA+HcCP7XvIwIAA0AVardZuKaVji6IoJJ1iZleklP6o6VzTwYDgPwM+HcCP7XvIwIBAB/DpAH5s30MGBgSALtFqtXYry/IPiqJYNDAwsHvTeWaCAcF/Bnw6gB/b95CBAYEO4NMB/Ni+hwwMCABdwMwOMrP7Jd1dVdU+ZvagmR3UdK7pYEDwnwGfDuDH9j1kYECgA/h0AD+27yEDAwJAF5D0rZTSgZK+X//+eEk3NZ1rOhgQ/GfApwP4sX0PGRgQ6AA+HcCP7XvIwIAA0AXaP7KxPSDUv76luUQzw4DgPwM+HcCP7XvIwIBAB/DpAH5s30MGBgSALmBm3+vv79+j/aMbU0oDZvaDpnNNBwOC/wz4dAA/tu8hAwMCHcCnA/ixfQ8ZGBAAuoCZnSRpvZndJ+ljZvZzMzu56VzTwYDgPwM+HcCP7XvIwIBAB/DpAH5s30MGBgSALmFmr5T0wZTSh83siKbzzAQDgv8M+HQAP7bvIQMDAh3ApwP4sX0PGRgQABaQqqpe03SGpwMDgv8M+HQAP7bvIQMDAh3ApwP4sX0PGRgQABaQ9nMeFEVRpJQ+2WSW+cCA4D8DPh3Aj+17yMCAQAfw6QB+bN9DBgYEgAVk0k9duHmm1/UEA4L/DPh0AD+27yEDAwIdwKcD+LF9DxkYEAAWkM7RoHNM8A4Dgv8M+HQAP7bvIQMDAh3ApwP4sX0PGRgQABaQSQMCj0DoEd9DBnw6gB/b95CBAYEO4NMB/Ni+hwwMCAALiJk9lFK6KKV0Ueev26fpfNPBgOA/Az4dwI/te8jAgEAH8OkAfmzfQwYGBIAFJKW0dqbTdL7pYEDwnwGfDuDH9j1kYECgA/h0AD+27yEDAwIAMCAEyIBPB/Bj+x4yMCDQAXw6gB/b95CBAQEAGBACZMCnA/ixfQ8ZGBDoAD4dwI/te8jAgAAADAgBMuDTAfzYvocMDAh0AJ8O4Mf2PWRgQABYQFJKJxZFUey7777PXYi3Z2YHmdlDnS+T9JiZjZrZZjMblfTjjvvf38xuqG+/vaqq1XO5HwYE/xnw6QB+bN9DBgYEOoBPB/Bj+x4yMCAALCCSRur/bvePcJR0Qj0WbG6/LKVUSfpVURS7TKEsMbM7U0pnFEWxS0rpKDMbLcvSZrsvBgT/GfDpAH5s30MGBgQ6gE8H8GP7HjIwIAAsIGZ2g6SfSfqVpDsmn3m8nfeb2fdSSn8zaUD4U0k3TeWklI6U9MCkt/NlSefNdn8MCP4z4NMB/Ni+hwwMCHQAnw7gx/Y9ZGBAAFhA+vr69pK0UtKPU0qHTj5zfTvLly9/QVEURUrp0M4Bwcw+IOmHZrZR0i/N7OuDg4MvLIqikHSamV3f+XZSSmvN7IrZ7o8BwX8GfDqAH9v3kIEBgQ7g0wH82L6HDAwIAF1A0u8VRVG0Wq3d9t577995um9nigHhfWb22aqqnjcwMLC7pA+a2V31r8+RdPWkHGdJuna2+2FA8J8Bnw7gx/Y9ZGBAoAP4dAA/tu8hAwMCQBcYHBzcW9I3JW2VtNXMvmNmy+b7diYPCFMh6XFJK1NKp5vZdZP8tZIun+1+2gPC2NhYnpiYeMoZGxvLM90+24nue8iATwfwY/seMszXHx4ennUAGB4e7prf9PtPB/DpAL4330OGbvvt2xkQYKeifu6Bv2u1Ws9ZtmzZ70o6by7fSjCZyQNCSmlNWZYrOl5liaQnzOyg+jkQ7p2UY2g+z4HA4XA4HE77DA0NzToADA0Ndc3ncDgczs57GBBgp8LMhie/TNJt8307kwcESZdI+qeU0tL+/v49zOxTkm4pimJR8eRPYbgrpbSmKIolVVW9xsxGW63WfrPdD49A8J8Bnw7gx/Y9ZOARCHQAnw7gx/Y9ZOARCABdQNKtRVE8o+NFu7Z/xON8mDwgLF26dM+U0kWSflF/68KVKaWB9u2Dg4MvlLRO0uNmdntKadVc7ofnQPCfAZ8O4Mf2PWSYr89zICys7yEDPh3Aj+17yNBtv307AwLsVJjZRyVdLel19bnazD7SdK7pYEDwnwGfDuDH9j1kYECgA/h0AD+27yEDAwJAd9ilfgLDDWb2XTN7X1EUuzYdajoYEPxnwKcD+LF9DxkYEOgAPh3Aj+17yMCAAAAMCAEy4NMB/Ni+hwwMCHQAnw7gx/Y9ZGBAAAAGhAAZ8OkAfmzfQwYGBDqATwfwY/seMjAgAAADQoAM+HQAP7bvIQMDAh3ApwP4sX0PGRgQALpAVVWHN51hPjAg+M+ATwfwY/seMjAg0AF8OoAf2/eQgQEBoAtIuq3pDPOBAcF/Bnw6gB/b95CBAYEO4NMB/Ni+hwwMCABdwMy+KOk/VVWV9tlnn/72aTrXdDAg+M+ATwfwY/seMjAg0AF8OoAf2/eQgQEBoAtI+s0UZ2vTuaaDAcF/Bnw6gB/b95CBAYEO4NMB/Ni+hwwMCADAgBAgAz4dwI/te8jAgEAH8OkAfmzfQwYGBIDusNjMzpR0SV9f316S3l0UxeKmQ00HA4L/DPh0AD+27yEDAwIdwKcD+LF9DxkYEAC6gKQPmtlXzGxTq9V6jqQbzewjTeeaDgYE/xnw6QB+bN9DBgYEOoBPB/Bj+x4yMCAAdAFJtxRF8QxJ3y+KohgYGNjdzDY1HGtaGBD8Z8CnA/ixfQ8ZGBDoAD4dwI/te8jAgADQBczse0VRFO0BoX7ZD5pLNDMMCP4z4NMB/Ni+hwwMCHQAnw7gx/Y9ZGBAAOgCkr4q6XhJN6eUniXp78zsiqZzTQcDgv8M+HQAP7bvIQMDAh3ApwP4sX0PGRgQALpAq9V6vqRvStpa/wjHf0opDTSdazoYEPxnwKcD+LF9DxkYEOgAPh3Aj+17yMCAANBF+vv79+jr69ur6RyzwYDgPwM+HcCP7XvIwIBAB/DpAH5s30MGBgSALtDf379HSum/mdlGSeslnVMUxZKmc00HA4L/DPh0AD+27yEDAwIdwKcD+LF9DxkYEAC6gKR/lPRVM3utpGMkXZVS+mTTuaaDAcF/Bnw6gB/b95CBAYEO4NMB/Ni+hwwMCABdQNIPi6JY1PGiJZJubSrPbDAg+M+ATwfwY/seMjAg0AF8OoAf2/eQgQEBoAtIWr/33nv/Tvv3AwMDu0va0GSmmWBA8J8Bnw7gx/Y9ZGBAoAP4dAA/tu8hAwMCwAJiZu8xs/dIulLS91NKZ0g6TdKGlNLnm843HQwI/jPg0wH82L6HDAwIdACfDuDH9j1kYEAAWEAkXTzTaTrfdDAg+M+ATwfwY/seMjAg0AF8OoAf2/eQgQEBABgQAmTApwP4sX0PGRgQ6AA+HcCP7XvIwIAA0AVSSqskfV/S3Z2n6VzTwYDgPwM+HcCP7XvIwIBAB/DpAH5s30MGBgSALmBmd0l6k6SXdZ6mc00HA4L/DPh0AD+27yEDAwIdwKcD+LF9DxkYEAC6gJnd0HSG+cCA4D8DPh3Aj+17yMCAQAfw6QB+bN9DBgYEgC4g6d2S/nNKqSrLct/2aTrXdDAg+M+ATwfwY/seMjAg0AF8OoAf2/eQgQEBoAtI+qCk35jZeMf5ddO5poMBwX8GfDqAH9v3kIEBgQ7g0wH82L6HDAwIAF1A0t2eH3EwGQYE/xnw6QB+bN9DBgYEOoBPB/Bj+x4yMCAAdAFJ/9J0hvnAgOA/Az4dwI/te8jAgEAH8OkAfmzfQwYGBIAuIOlDkv6XpL+ofxrDmyS9qelc08GA4D8DPh3Aj+17yMCAQAfw6QB+bN9DBgYEgC4gad3kY2bXN51rOhgQ/GfApwP4sX0PGRgQ6AA+HcCP7XvIwIAAAAwIATLg0wH82L6HDAwIdACfDuDH9j1kYEAA6AKSPjfVaTrXdDAg+M+ATwfwY/seMjAg0AF8OoAf2/eQgQEBoAtIOqd9zOx9kjaY2UeazjUdDAj+M+DTAfzYvocMDAh0AJ8O4Mf2PWRgQADYAfT39+8h6VtN55gOBgT/GfDpAH5s30MGBgQ6gE8H8GP7HjIwIADsGBZJ+nHTIaaDAcF/Bnw6gB/b95CBAYEO4NMB/Ni+hwwMCABdwMw+k1K6KKV0kZl9RtJNZvb1pnNNBwOC/wz4dAA/tu8hAwMCHcCnA/ixfQ8ZGBAAukBKaW3H+duU0ttSSm4/CRgQ/GfApwP4sX0PGRgQ6AA+HcCP7XvIwIAAAAwIATLg0wH82L6HDAwIdACfDuDH9j1kYEAAWEAkrTOz66c51zWdbzoYEPxnwKcD+LF9DxkYEOgAPh3Aj+17yMCAALCApJROnHzqH+f4K0nrm843HQwI/jPg0wH82L6HDAwIdACfDuDH9j1kYEAA6CIppT8xs4dTSv+tKIpdms4zHQwI/jPg0wH82L6HDAwIdACfDuDH9j1kYEAA6AKtVms3M/uMmf3czI5oOs9sMCD4z4BPB/Bj+x4yMCDQAXw6gB/b95CBAQFggSnL8g8k3Sbpf6eUljadZy4wIPjPgE8H8GP7HjIwINABfDqAH9v3kIEBAWABSSm9Q9JjKaXTm84yHxgQ/GfApwP4sX0PGRgQ6AA+HcCP7XvIwIAAsIBI+o2krWY2bma/7jjjZvbrpvNNBwOC/wz4dAA/tu8hAwMCHcCnA/ixfQ8ZGBAAFpDBwcHlM52m800HA4L/DPh0AD+27yEDAwIdwKcD+LF9DxkYEACAASFABnw6gB/b95CBAYEO4NMB/Ni+hwwMCADAgBAgAz4dwI/te8jAgEAH8OkAfmzfQwYGBABgQAiQAZ8O4Mf2PWRgQKAD+HQAP7bvIQMDAgAwIATIgE8H8GP7HjIwINABfDqAH9v3kIEBAQAYEAJkwKcD+LF9DxkYEOgAPh3Aj+17yMCAAAAMCAEy4NMB/Ni+hwwMCHQAnw7gx/Y9ZGBAAHCMmR1kZg91viyltNbM7pf0mKRL+/r69uq4bX8zu8HMRs3s9qqqVs/lfhgQ/GfApwP4sX0PGRgQ6AA+HcCP7XvIwIAA4BRJJ0h6zMw2t19mZm81s01VVe3T19e3l6SrzOwL9c1LzOzOlNIZRVHsklI6ysxGy7K02e6LAcF/Bnw6gB/b95CBAYEO4NMB/Ni+hwwMCAAOMbP3m9n3Ukp/0zkgSFqfUnpb+/etVms/Mxvr7+/fI6V0lKQHJr2dL0s6b7b7Y0DwnwGfDuDH9j1kYECgA/h0AD+27yEDAwKAQ5YvX/6CoiiKlNKhkwaERyWt7HjVxWY2bmYHSDrNzK7vfDv1tztcMdv9MSD4z4BPB/Bj+x4yMCDQAXw6gB/b95CBAQHAMZMHBDMbL8tyRefrSHqiqqqDJZ0j6epJt50l6drZ7ocBwX8GfDqAH9v3kIEBgQ7g0wH82L6HDAwIAI6Z4hEIj5nZKzteZbGkicHBwRenlE43s+sm+WslXT7b/bQHhLGxsTwxMfGUMzY2lme6fbYT3feQAZ8O4Mf2PWSYrz88PDzrADA8PNw1v+n3nw7g0wF8b76HDN3227czIAA8DaYYENab2ckdt+9vZmOtVmu3lNKRku7t9M1saD7PgcDhcDgcTvsMDQ3NOgAMDQ11zedwOBzOznsYEACeBlMMCKeY2e0ppaosy2dLukrSpfXNS8zsrpTSmqIollRV9RozG221WvvNdj88AsF/Bnw6gB/b95CBRyDQAXw6gB/b95CBRyAAOGbygFAUxaL6uQ7uNrNHJH1p6dKle7ZvHBwcfKGkdZIer4eGVXO5H54DwX8GfDqAH9v3kGG+Ps+BsLC+hwz4dAA/tu8hQ7f99u0MCACOYUDwnwGfDuDH9j1kYECgA/h0AD+27yEDAwIAMCAEyIBPB/Bj+x4yMCDQAXw6gB/b95CBAQEAGBACZMCnA/ixfQ8ZGBDoAD4dwI/te8jAgAAADAgBMuDTAfzYvocMDAh0AJ8O4Mf2PWRgQAAABoQAGfDpAH5s30MGBgQ6gE8H8GP7HjIwIAAAA0KADPh0AD+27yEDAwIdwKcD+LF9DxkYEACAASFABnw6gB/b95CBAYEO4NMB/Ni+hwwMCADAgBAgAz4dwI/te8jAgEAH8OkAfmzfQwYGBABgQAiQAZ8O4Mf2PWRgQKAD+HQAP7bvIQMDAgAwIATIgE8H8GP7HjIwINABfDqAH9v3kIEBAQAYEAJkwKcD+LF9DxkYEOgAPh3Aj+17yMCAAAAMCAEy4NMB/Ni+hwwMCHQAnw7gx/Y9ZGBAAAAGhAAZ8OkAfmzfQwYGBDqATwfwY/seMjAgAAADQoAM+HQAP7bvIQMDAh3ApwP4sX0PGRgQAIABIUAGfDqAH9v3kIEBgQ7g0wH82L6HDAwIAMCAECADPh3Aj+17yMCAQAfw6QB+bN9DBgYEAGBACJABnw7gx/Y9ZGBAoAP4dAA/tu8hAwMCADAgBMiATwfwY/seMjAg0AF8OoAf2/eQgQEBABgQAmTApwP4sX0PGRgQ6AA+HcCP7XvIwIAAAAwIATLg0wH82L6HDAwIdACfDuDH9j1kYEAAAAaEABnw6QB+bN9DBgYEOoBPB/Bj+x4yMCAAAANCgAz4dAA/tu8hAwMCHcCnA/ixfQ8ZGBAAgAEhQAZ8OoAf2/eQgQGBDuDTAfzYvocMDAgAwIAQIAM+HcCP7XvIwIBAB/DpAH5s30MGBgQAYEAIkAGfDuDH9j1kYECgA/h0AD+27yEDAwIAMCAEyIBPB/Bj+x4yMCDQAXw6gB/b95CBAQEAGBACZMCnA/ixfQ8ZGBDoAD4dwI/te8jAgAAADAgBMuDTAfzYvocMDAh0AJ8O4Mf2PWRgQAAABoQAGfDpAH5s30MGBgQ6gE8H8GP7HjIwIAAAA0KADPh0AD+27yEDAwIdwKcD+LF9DxkYEACAASFABnw6gB/b95CBAYEO4NMB/Ni+hwwMCADAgBAgAz4dwI/te8jAgEAH8OkAfmzfQwYGBABgQAiQAZ8O4Mf2PWRgQKAD+HQAP7bvIQMDAgAwIATIgE8H8GP7HjIwINABfDqAH9v3kIEBAQAYEAJkwKcD+LF9DxkYEOgAPh3Aj+17yMCAAAAMCAEy4NMB/Ni+hwwMCHQAnw7gx/Y9ZGBAAAAGhAAZ8OkAfmzfQwYGBDqATwfwY/seMjAgAAADQoAM+HQAP7bvIQMDQrwOjI+P55GRkW1neHg4Dw0N5eHh4W0vGx8f79r94y+s7yEDfmzfQwYGBABgQAiQAZ8O4Mf2PWRgQIjXgZGRkbzi2LPzoSd9Ysqz4tizd6prGN33kAE/tu8hAwMCADAgBMiATwfwY/seMjAgxOsA17C3fA8Z8GP7HjIwIAAAA0KADPh0AD+27yEDA0K8DnANe8v3kAE/tu8hAwMCADAgBMiATwfwY/seMjAgxOsA17C3fA8Z8GP7HjIwIAAAA0KADPh0AD+27yEDA0K8DnANe8v3kAE/tu8hAwMCADAgBMiATwfwY/seMjAgxOsA17C3fA8Z8GP7HjIwIAAAA0KADPh0AD+27yEDA0K8DnANe8v3kAE/tu8hAwMCADAgBMiATwfwY/seMjAgxOsA17C3fA8Z8GP7HjIwIAAAA0KADPh0AD+27yEDA0K8DnANe8v3kAE/tu8hAwMCADAgBMiATwfwY/seMjAgxOsA17C3fA8Z8GP7HjIwIAAAA0KADPh0AD+27yEDA0K8DnANe8v3kAE/tu8hAwMCADAgBMiATwfwY/seMjAgxOsA17C3fA8Z8GP7HjIwIAAAA0KADPh0AD+27yEDA0K8DnANe8v3kAE/tu8hAwMCADAgBMiATwfwY/seMjAgxOsA17C3fA8Z8GP7HjIwIAAAA0KADPh0AD+27yEDA0K8DnANe8v3kAE/tu8hAwMCADAgBMiATwfwY/seMjAgxOsA17C3fA8Z8GP7HjIwIAAAA0KADPh0AD+27yEDA0K8DnANe8v3kAE/tu8hAwMCQEBSSqeb2a/NbLOZjZrZZkl/Ud+21szul/SYpEv7+vr2mu3tMSD4z4BPB/Bj+x4yMCDE6wDXsLd8DxnwY/seMjAgAATEzL4o6dwpXv5WM9tUVdU+fX19e0m6ysy+MNvbY0DwnwGfDuDH9j1kYEDY8f74+HgeGRnZdoaHh/PQ0FAeHh7e9rLx8fFpfa5hb/keMuDH9j1kYEAACIik26qqOnqKl69PKb2t/ftWq7WfmY319/fvMdPbY0DwnwGfDuDH9j1kYEDY8f7IyEhecezZ+dCTPjHlWXHs2VzDncj3kAE/tu8hAwMCQDD6+/v3kDRhZl8zs/sk3SHprKIoCkmPSlrZ8eqL69c9YKa3yYDgPwM+HcCP7XvIwIDQzIDANcT3lAE/tu8hAwMCQDDMrJS0TtIxRVE8I6V0oJn9q5n9tZn9uizLFZ2vL+mJqqoOnultMiD4z4BPB/Bj+x4yMCAwIES8hr3ke8iAH9v3kIEBAaAHMLMz61HhUTN7ZcdNiyVNDA4Ovngmvz0gjI2N5YmJiaecsbGxPNPts53ovocM+HQAP7bvIcN8/eHh4Vm/eB0eHu6a3/T7vxA+1xDfWwb82L6HDN3227czIAAsECmll5rZezpfJukcM/u6mf2zmZ3c8br7m9lYq9Xabaa32R4QOBwOh8Npn6GhoVm/eB0aGuqa3wuHa8jhcDhPiVksFAAAHXNJREFU7zAgACwQZVmapF+Z2RuLolhUluUfSnpA0uslnWJmt6eUqrIsny3pKkmXzvY2eQSC/wz4dAA/tu8hA49A4BEIEa9hL/keMuDH9j1k4BEIAAGpqupoSTeb2aikn0o6pb5pkaRzJN1tZo9I+tLSpUv3nO3t8RwI/jPg0wH82L6HDPP1+f797fe5hvjeMuDH9j1k6Lbfvp0BAcAxDAj+M+DTAfzYvocMDAgMCBGvYS/5HjLgx/Y9ZGBAAAAGhAAZ8OkAfmzfQwYGBAaEiNewl3wPGfBj+x4yMCAAAANCgAz4dAA/tu8hAwMCA0LEa9hLvocM+LF9DxkYEACAASFABnw6gB/b95CBAYEBIeI17CXfQwb82L6HDAwIAMCAECADPh3Aj+17yMCAwIAQ8Rr2ku8hA35s30MGBgQAYEAIkAGfDuDH9j1kYEBgQIh4DXvJ95ABP7bvIQMDAgAwIATIgE8H8GP7HjIwIDAgRLyGveR7yIAf2/eQgQEBABgQAmTApwP4sX0PGRgQGBAiXsNe8j1kwI/te8jAgAAADAgBMuDTAfzYvocMDAgMCBGvYS/5HjLgx/Y9ZGBAAAAGhAAZ8OkAfmzfQwYGBAaEiNewl3wPGfBj+x4yMCAAAANCgAz4dAA/tu8hAwMCA0LEa9hLvocM+LF9DxkYEACAASFABnw6gB/b95CBAYEBIeI17CXfQwb82L6HDAwIAMCAECADPh3Aj+17yMCAwIAQ8Rr2ku8hA35s30MGBgQAYEAIkAGfDuDH9j1kYEBgQIh4DXvJ95ABP7bvIQMDAgAwIATIgE8H8GP7HjIwIDAgRLyGveR7yIAf2/eQgQEBABgQAmTApwP4sX0PGRgQGBAiXsNe8j1kwI/te8jAgAAADAgBMuDTAfzYvocMDAgMCBGvYS/5HjLgx/Y9ZGBAAAAGhAAZ8OkAfmzfQwYGBAaEiNewl3wPGfBj+x4yMCAAAANCgAz4dAA/tu8hAwMCA0LEa9hLvocM+LF9DxkYEACAASFABnw6gB/b95CBAYEBIeI17CXfQwb82L6HDAwIAMCAECADPh3Aj+17yMCAwIAQ8Rr2ku8hA35s30MGBgQAYEAIkAGfDuDH9j1kYEBgQIh4DXvJ95ABP7bvIQMDAgAwIATIgE8H8GP7HjIwIDAgRLyGveR7yIAf2/eQgQEBABgQAmTApwP4sX0PGRgQGBAiXsNe8j1kwI/te8jAgAAADAgBMuDTAfzYvocMDAgMCBGvYS/5HjLgx/Y9ZGBAAAAGhAAZ8OkAfmzfQwYGBAaEiNewl3wPGfBj+x4yMCAAAANCgAz4dAA/tu8hAwMCA0LEa9hLvocM+LF9DxkYEACAASFABnw6gB/b95CBAYEBIeI17CXfQwb82L6HDAwIAMCAECADPh3Aj+17yMCAwIAQ8Rr2ku8hA35s30MGBgQAYEAIkAGfDuDH9j1kYEBgQIh4DXvJ95ABP7bvIQMDAgAwIATIgE8H8GP7HjIwIDAgRLyGveR7yIAf2/eQgQEBABgQAmTApwP4sX0PGRgQGBAiXsNe8j1kwI/te8jAgAAADAgBMuDTAfzYvocMDAgMCBGvYS/5HjLgx/Y9ZGBAAAAGhAAZ8OkAfmzfQwYGBAaEiNewl3wPGfBj+x4yMCAAAANCgAz4dAA/tu8hAwMCA0LEa9hLvocM+LF9DxkYEACAASFABnw6gB/b95CBAYEBIeI17CXfQwb82L6HDAwIAMCAECADPh3Aj+17yMCAwIAQ8Rr2ku8hA35s30MGBgQAYEAIkAGfDuDH9j1kYEBgQIh4DXvJ95ABP7bvIQMDAgAwIATIgE8H8GP7HjIwIDAgRLyGveR7yIAf2/eQgQEBABgQAmTApwP4sX0PGRgQGBAiXsNe8j1kwI/te8jAgAAADAgBMuDTAfzYvocMDAgMCBGvYS/5HjLgx/Y9ZGBAAAAGhAAZ8OkAfmzfQwYGBAaEiNewl3wPGfBj+x4yMCAAAANCgAz4dAA/nj8+Pp5HRka2neHh4Tw0NJSHh4e3vWx8fNyt3/QXv02//9vre7iGk4n4edRLvocMO9pfiM+jJvN78z1kYEAAAAaEABnw6QB+PH9kZCSvOPbsfOhJn5jyrDj27Fm/eGzab/KLXw/v//b4Hq7hZCJ+HvWS7yHDjvYX4vOoyfzefA8ZGBAAgAEhQAZ8OoAfz2/6i0f85r9495Chk4ifR73ke8jQxIBAhxfO95CBAQEAnjIg8HAzfxmi+U0/dHihfT4P8BkQ8BkQ8Pn3BANC076HDAwIAPCUAYGHm/nLEM1v+qHD3fZ3xs8DfAYEfAYEfP49wYCwY/+HykJkiOYzIAAEYKoBYWf+w95jhmh+0/9o7ra/M34e4DMg4DMgNP3FU8Q/B7xliPbvgabzb6+/0P9T7ulkiOYzIAAEwNuA0PTD1xfifdjZ/ab/0dwLA4K3z4NoHfTge+8xPgPCfGn6i6eIfw54yxDt3wNN599ef6Hf/6eTIZrPgAAQAG8DQrcffs7a232/6X8098KA4O3zIFoHPfjee4zPgDBfmv7iKeKfA94y0IHY7//TyRDNZ0AACIDHAcHTP7iezvuws/tNfwx7ZUDw9HkQrYMe/KY/hvjNfw55yNBJtL8Ltvf+vT2S6+m8D03723sNtrcD3j6GTX8OPJ0M0XwGBIAAMCAs/Puws/tNfwwZEJr/PMZv/mOI3/znkIcMnUT7u2Ah7t/TI7mezvvQtL8Q13B7Pwc8fQyb/hx4OhmijTAMCAABYEBY+PdhZ/eb/hgyIDT/eYzf/McQv/nPIQ8ZOon2d0HT98+/J5q/hk37k2nic2AhHgUSaYRhQAAIAAPCwr8PO7vf9MeQAaH5z2P85j+G+M1/DnnI0Em0vwuavn/+PdH8NWzan0wTnwMLMQBEuoYMCAABYEBY+PdhZ/eb/hgyIDT/eYzf/McQv/nPIQ8ZOon2d0HT98+/J5q/hk37TT8HhIdrwIAA0OOklPY3sxvMbNTMbq+qavVsDgPCwr8PO7vf9MeQAaH5z2P85j+G+M1/DjWdIfoTyDX9xdtC52/iYxD9Gnrwm/y//16uwY78PGZAANixLDGzO1NKZxRFsUtK6SgzGy3L0maSGBAW/n3YXr/pJ7zhHxwMCNubf3v9pju8EF94Nf0xxG/+c6jpDNv7xc9kmvhzLPJDt2fLP5f3wcP3vzd9DXdm30OGHf15zIAAsANJKR0p6YHOl5nZlyWdN5O30ANC9C8+F+J98PAXftN+039ZNT0gRP884HNg+7/wavpjiN/83yVNZ1iI96GTaEOod3+ub4O/j3de30OGHe0zIADsQCSdZmbXd74spbTWzK6YyVvoASH6X3YL9T5Evgb4/KOPzwH+0YdPBybDgNDM3yWe3wd8/hxhQAAIjKRzJF096WVnSbp2Jq8bA0Jk30MGfN++hwz4vn0PGfDpwPb60R9J5d33kAHft+8hAwMCQA+TUjrdzK6b9LK1ki6fyWsPCFu2bMljY2P5lltuyYf8x/fmI9/yqSnPIf/xvfmWW27JY2NjU57ovocM+L59DxnwffseMuDTgYXwD3z1yfng49dMeQ589cnu83v2PWTA9+17yLCj/S1btjAgAOwo6udAuLfzZWY2NNtzIKxfv37Zxo0bM4fD4XA4HA6Hw+E0fdavX7+su185AUBRPPlTGO5KKa0pimJJVVWvMbPRVqu13yzeovXr1y/bsGHDszgcDofD4XA4HA6nqVOPB4t2wNdOADA4OPhCSeskPW5mt6eUVjWdCQAAAAAAAAAAAAAAAAAAAAAAAAAAAAAAAAAAAAAAAAAAAAAAAAAAAAAAAAAAAAAAAAAAAAAAAADAKWVZmqTzzOwKSddKulzSea1Wa78dcf+STpF0qZmdOTAwsHvnbWY2NJtfluWKsiytfv2TzOxrki4py/KQ7ch01Rxf7y86f59SeoeZXW9mX5d0/BzexOLaWVb7bzez68zs+pTSW+aSwcw2pZReNZfXnY6qql5RluWKoigKSceb2fWSrjWzk+biS/o9SR+sO/QNM/tySum/tFqt529PLgAAAAAAAHBCVVWrzWy0/oJvraSzUkprzWzIzEZTSqu6ef+SzpX005TShyXdamYbW63Wc9q3m9nmWfxTJW0xs80ppfPN7EEz+4Ckj0l6NKV07Ex+SumMqY6kJ9q/nsnvzCfp3ZJ+ZmZnSjpH0gOSTpkl/8ck3VpV1T6SzjWzO2v/3Wb2r5LeO5NfZxiX9MuU0tqiKHaZ7fWn8P/azEYlPWpm75H0QP3fd0n6WUrpHbO8D682s4ckXZBS+qSZPVh/PP+HmT1kZgfNNxNAE/T39+9hZgdUVXXw4ODgi1ut1m478O53qaoqFVN8DpvZAfN9W5Je0mq1WtsTqKqqg5+ONzAwsLuklfXn/qJ5qIuL+v1vtVq7mdkrJa0s5vDnWlVVb6j9hWKxpJX1NVgyV6mvr28vMzsgpfTyeoSfV6Ye6mBRxOwhHWy2g52E6w8dAICdAjO7PaV01FS3VVX1GjO7vcv3f1dZlqp/u2v96IF1Rf2XtZmNzuRLusPMDjCzIyRtbf9f9Pq2lZJumeX+N9VfgH9L0rr2qV+2zsyun8Xflk/SHSmlA9u/L8vyDyX9dJb8v1i+fPkL6rd1Z+ejPgYHB19oZvfN5Nfe5rIsZWbflXSHpBOKeQwJkn5aX8MDJG3t/IK/qqoXSbpjlvvfmFL6o/bvU0ovN7Ov1W/79Wb2z3PN0kP/eA73D59iO/7hXGcN+w+n2vmCmY1JmpD0hKSJ+veXLl26dM/teUdmI6X0+5LulvQbM3uk/hzexmxDaj1AXi3p4uXLlw/Wfw5MSNoq6dp99933uU8nl5k9MpfXk/Tj9q/rP7f+VdLj9XW8JaU0MIe38TIzuz+ldGBKaf/226gH7rtSSvvP4v/GzK5ZtmzZ784l82QGBweXS/qmpCvNbJmkm83s38xss5ltmu1zuf6cu9TMfl1n+bWZPWJmmyV9qJjl8yh6B4sifg/pYLMdjN6f+m3QAQDofeovgKf7A2WJpMfn8DYeqv9wm/ZM50p6rOj4Aiel9ExJGyRd0JFvpvtuv+1FZjZeFMUzOm5eJOnRmfz+/v49JP2jpG+XZblvx9ud0184ne9b/cX+b93/HAaQR4ui2LX+9T3tX9fsKumX88iwyMzeamZ3SnogpfTJlNKfVlX1ilkyPN7hz/sa1vff2aFnmNmD9a93mUuHmv5La2f/Am57/+Fcv42w/3CSdKmkqyYNDotTSvtLukrSl2a67+keydR5ZvIlfTOltHbp0qV7ppT+vH6f39i+fQ5/jlwu6XOSLqt7fGF/f/8e++6773MlfUnSxTP59cf5KX9u19dxxj/DJ+ezJ79964P1b5eY2ackXTmTX78PN6WUTi+KYrGZ/R8z+6/1TYsl/Z2kb8/iPyHpAkm/sCe/9Wo+j3woJF1tZp+V/l979x5jR1XHAfy0UEh5COJuVy53u/fO+X2/PlBECkWUgsZKaXgoEAgPpQqCKAjFghJaCQQJjxAgyMNSDaVFiAZjCMEYqLQUaMU25VFeglAhhQIFWuQlXZf4x5y7nb3u7sx97c6130+y6e6d/mZ+d+7vzp0598w5mAvg+fAZtHXI5zKk3NZG8nozu8V7P6FQKHSQnEfy1FKp9GnEtwZePlx8u9dgWEdb16FqcNRrsK3rJzwH1UADNSAibYLkA0O9oc3sPMS9AdLWMRnARjM728wOHOxnqFgAy1h1n72ZFUmuAzA77YAPYDXib0lduEjrP1iTPAXA8rT8wzaPDhfex4XYrA0ImwDM8d5PZ9x74tDEsmMBrErJ/w4ANzrntgbwCzO7JCwaZ2ZXMnyTn5JD9T7aynt/cPgAWp3h4mO5mZ0A4LsA+szshMqyMCbD31K2vwLAjxMx3ya50rn4G/Tkxe0wOTT0oQXgzLSflPgt+gKu0RPnsI62PXECsLGjo2PHwZZFUbRT2vEgvO59JB9AoicTNvdoSuvJ9JZLNHAw7lH1dhRF+4S/017/t5xz4wqFQgeAvuRYMqFxbt1w8Wb2fQBvm9klieP2VxnfGjbsMbw6PwCvJ7cfGmlTGxGT/4dxA2Sy18nWaeuo5GBmh5Ncw7h32Rlm1pm27RD/hnNuXOh901soFLarLDOzbbm5UXSo/F9L9pjq7OzcAaH3Vrlc7kp7Ddq9BhPraNs6VA3mogbbtn6S61AN1FcDItImwreNLyC+7/2+cBL/FwBrSa4pl8ufyrIeAMeRXFHr9qMo2p/xt4QLko977yeRXA+gb7h4kkcAeK+rq2v7qnyWML4vf98acpkI4P5wwbcxS4yZzSS5EMBTiL9xXhzyOh/AB9776cPFe+8nAFhO8s2Qc2+4YHyX8e0dE4eLD9tK/WYoJX5yaLDpA3AtyUsBPAzgEQDvA/jGcPHhA/odAI+QfJDkO1EUfb1cLu8B4AMzOzoth0Y/tELjTR/iBqkHqn8ALE2J36Iv4Bo9cU7m0I4nTiTXee+7B1tmZh7ASynpjwFwF4CLU/7fULmvLZfLXVXbPR3A2u7u7kKG+ltf2V8kr3KJnkylUumTzHArVOi5shLA1S68/mnvu8T2+3uykVzpvZ+QeB6dAF5LWweA5xIDuS41s90ry6Io+jxTbqer2kfjzOxkAMvDcfkpAPemxL9SKpV2Dvn2JeshvAYvp+T/arlc7kmsb7fKfg81nXYMa+sadK7961A1OLo12O71E+JUAw3UgIi0l3FmdhCAswDMNrOZZnaQq+G+Y+ecI3lp5X7+WhQKhY7k2AUVZlZMfCM/JDPz1Y8BOCR58K/BWDO7gOTTtQaG+/ejkNNelZkhsoiiaB8z+yHiwRfPAXCIG3g7w5AAHF9rroMYUywWd6n8DuDIUAepXded6298OS30WIiciy/ghvogqtaED62xAO7m5m/Oa7KlX8A1euIcttu2J04WDxz7dHgPHhBF0d4kp5A8heQzAOakPf/wOq9PvI8yI3kV4p5AB1U9p7mhgfffKfELAdzhqo4ZZvZNAKvM7MqMqYwLuTzqvf9c1voDsBHAB6HhcTXJXzsXz5ADYCnJeWnrIDmD8SC4s8xsJoB/hGPhbJIvAzgtJX7Q92hPT8+uAI4CcM5w8RYP/PpweA+uJTnPez897MNHSV6fEv9Lko+FBrSpoeHyht122+0TAP4QXp/h4tNqcPZw8c61tAbXpNVgWMegdei9/xaAVYhvJcqiJXVoZjel5D8DwOvNrsHu7u5Ck2rwupT4wWrwxtCw3Q412Nb1E55DHmvghnapARERkcya8aHV09OzK8n19Yw30OoLuLyf+DR64hzW0eoLuLpOnLJewDG+5WkZ4tlIesM+XYaUmVSSQu3V1PAajEM8le5VVY+PIXkZyQ+HCzazjwGY76rGeSC5KDTCbj1Y3DDrm8a4F8m7NcR4Mzsm5HtReOw8APOzjmFiZtMA3I34Nphexj2xVmSpPwBPZM11CGPN7EcArrV4TJQ9ST4OYCPJhWnPoVgsjg81uA7AawDmdnV1bR+mSZ4bRdFOaQmQPDVRg5vCvw+FGsx0S1CowUyNz1XSanBT2goy1GFN740m1OGF4bHMdRhu/0vW4DuMByge0RoMAxhXanADyQVD9dKrKBaL40leh3gGqNcB/KpQKGxXqcHkDFdDqarB3lD/I1KDeagf7701chxrUg2cPkQNLKyjBgYch+qogZE+DomIiGQ32IlL4gIu04dWoVDoMLNt69j8OIunAa3r5Pn/4QJukBPnzBdvzrX0xCnzBVz1iVPy5DntAg7ADxDfvnRO8hYQ55wj+bu05EP8rSRn1Rl/GoDfDhH/+4zxjWx/QP7e+wkWxkOpJb7e/ZdYx2i+Bk15DevNP4qivSs910Kj3p0A5pOckhY7SPyJjG/tmh9F0f6NxJOcUv186llHPfHhmPSfOp/DjAa3P+qvQYPbr/n5DwYp48/kOd57PyFL41ertt+sdQC4ayS2D+B7yb9JnoF47II/ATiq1ngzO53kfSH+yNqyFhERaWNZT56bKXkBJ60FYA6A50MviCdJrkw2OAzVu2K4+OQ3Pe0YP5LPv0k5zG7nfRAaH95nPO7JJYh7BF0G4GoAG8zs8FriGd8OMmLxLc7hmnbYB6EBajS331C8DTFqPoD3LMMI+lt6fB5yaDQ+eZwCcC7Jf5KcFY6vryKlR15V/E8BvFhLvIiIiEhbYDxgKcKf24Rv7Za4zeNKpE0nO1j84jaPX+LCjCit3n5KDqO9D0Zk+wCeJfkFxgO49iXHBQJwAIBH8xyfhxwU31g844FvewEswcCR83uRbRaFvMZvGont53wfZI3vP04BeNbMvlj5O4qifQA838p4ERGRzEi+wUGmMUz+KD6/8XnIoZF4xLOu9N8mY2bbAvgr4qkks1z8Kb6B+DzkMNrxifocQ7LXDbztaQyADXmOz0MOim8sPszY8xsA9ydngGLGsXjyGp+ldpux/VY+h5GKT35OMh6EeEAN1XAcqyteREQkM5KTAWw0s7Nt8zSGA34Un9/4POTQSDzi6T9PTD5mZkXGA+LNTmu8UHxj8XnIIQfxqwEc4Fz/AGT9jRGMB/hcnuf4POSg+MZfQ+ecM7OjGQ8efFyIzXwBrfh85FBvPOPeGnO899MZ96I6NLHsWACrWhkvIiJSEwDHkVyh+PaMz0MO9cZHUbQ/ybdILkg+7r2fRHI9gD7Fty4+DzmMdjzJIwC819XVtX3ycQBLSL4BYN88x+chB8U3/hpWhKmZ70c8KOjGrHGKz08O9cSb2UzGs0o9hXgK5sXOOUfyfAAfeO+ntzJeRESkZiQv7enp2VXx7RmfhxzqjS8UCh3Je4YrzKxo8Uwaim9hfB5yGO14M/PVjwE4xHs/IS02D/F5yEHxjb+GCWPN7AKST9cRq/h85FB3fKFQ2I5k5JxzZrZXZXaPkYoXERERERERERERERERERERERERERERERERERERERERERERERGRLQzJySQXAXiU5OPh9/5R2AHMNbMvpa3HzE4CcFb4/TAANzQrRzM7EMBziZw+ClPRrSL5GIAnAFzsnNuqWdsUERERERERkc22Ibk+2UBAciqADVEU7RT+XuO9/3LaigDcTPL8ViQZGhCeTWyrLzmDxsSJEz8OYBmAa1qxfREREREREZEtWqlU2plkL8mpycfNbFpnZ+cOAK4g+SHJv5vZgT09PWUAfyb5IMkXSC4qFou7mNkxJN8k+TLJWSRnALjXOec6Ojp2BHAzgCdIPm5mN1XmnwewGMDlYf75NQBud86Nrc5zkAaEj7q7uwtV/2c/kh92dnbu0JKdJSIiIiIiIrIlA3AmyXfDBfxtAE6r9D5wLu6BYGb7OeecmV1iZieFRWMA3GNmZ4f19PdACA0I91QeBzA3ETPfzG4KyxaT/KNz8VzgAF703h9cnWOWBoQQ/5H3flKz9o2IiIiIiIiIJBSLxfFmNg3AxWFMgbVmVnTuf25hGENyKslZAG4E8BKAnzs3bAPCq2b22cq2AOxJcl34fbGZnVxZRnKRmX2nOr8sDQjFYnF8GBvhM03bMSIiIiIiIiLinPf+K2b2s+rHASw1s584N7ABAcDtAO4keWy5XN6D5AIzuyAsG6oB4XUz2z2xzUkk14dliwEcn9juvSRPrM4n4y0MB5J8xzm3TUM7RUREREREREQGiqKIJP/lvf9a5THv/QQAT5Kc4pxzAJ4DcED4fQPJyc45VyqVSmHMg4ucc47kvEpjQrIBwcxuCbcwjHHObQVgPsmFYX1NaUDo7u4uAFheyUVEREREREREmozkFJL3kXwBwGqSK8zsmMpyAFcAeNHMDiN5CoDnSa4g+RCAWwHcFtZzBMlXSF6YbEAolUo7h3EQVpN8BsDNiRke7qtqQLgnYwNCX2Uax/DzCIBzW7mfRERERERERERERERERERERERERERERERERERERERERERERERERERERERERERERERERERERERERERERERERERERERERERERERERERERERERERERERERERERERERERERERERERERNrFfwFNApi6vZdcXgAAAABJRU5ErkJggg==\">"
      ],
      "text/plain": [
       "<IPython.core.display.HTML object>"
      ]
     },
     "metadata": {},
     "output_type": "display_data"
    },
    {
     "data": {
      "application/javascript": [
       "/* Put everything inside the global mpl namespace */\n",
       "window.mpl = {};\n",
       "\n",
       "mpl.get_websocket_type = function() {\n",
       "    if (typeof(WebSocket) !== 'undefined') {\n",
       "        return WebSocket;\n",
       "    } else if (typeof(MozWebSocket) !== 'undefined') {\n",
       "        return MozWebSocket;\n",
       "    } else {\n",
       "        alert('Your browser does not have WebSocket support.' +\n",
       "              'Please try Chrome, Safari or Firefox ≥ 6. ' +\n",
       "              'Firefox 4 and 5 are also supported but you ' +\n",
       "              'have to enable WebSockets in about:config.');\n",
       "    };\n",
       "}\n",
       "\n",
       "mpl.figure = function(figure_id, websocket, ondownload, parent_element) {\n",
       "    this.id = figure_id;\n",
       "\n",
       "    this.ws = websocket;\n",
       "\n",
       "    this.supports_binary = (this.ws.binaryType != undefined);\n",
       "\n",
       "    if (!this.supports_binary) {\n",
       "        var warnings = document.getElementById(\"mpl-warnings\");\n",
       "        if (warnings) {\n",
       "            warnings.style.display = 'block';\n",
       "            warnings.textContent = (\n",
       "                \"This browser does not support binary websocket messages. \" +\n",
       "                    \"Performance may be slow.\");\n",
       "        }\n",
       "    }\n",
       "\n",
       "    this.imageObj = new Image();\n",
       "\n",
       "    this.context = undefined;\n",
       "    this.message = undefined;\n",
       "    this.canvas = undefined;\n",
       "    this.rubberband_canvas = undefined;\n",
       "    this.rubberband_context = undefined;\n",
       "    this.format_dropdown = undefined;\n",
       "\n",
       "    this.image_mode = 'full';\n",
       "\n",
       "    this.root = $('<div/>');\n",
       "    this._root_extra_style(this.root)\n",
       "    this.root.attr('style', 'display: inline-block');\n",
       "\n",
       "    $(parent_element).append(this.root);\n",
       "\n",
       "    this._init_header(this);\n",
       "    this._init_canvas(this);\n",
       "    this._init_toolbar(this);\n",
       "\n",
       "    var fig = this;\n",
       "\n",
       "    this.waiting = false;\n",
       "\n",
       "    this.ws.onopen =  function () {\n",
       "            fig.send_message(\"supports_binary\", {value: fig.supports_binary});\n",
       "            fig.send_message(\"send_image_mode\", {});\n",
       "            fig.send_message(\"refresh\", {});\n",
       "        }\n",
       "\n",
       "    this.imageObj.onload = function() {\n",
       "            if (fig.image_mode == 'full') {\n",
       "                // Full images could contain transparency (where diff images\n",
       "                // almost always do), so we need to clear the canvas so that\n",
       "                // there is no ghosting.\n",
       "                fig.context.clearRect(0, 0, fig.canvas.width, fig.canvas.height);\n",
       "            }\n",
       "            fig.context.drawImage(fig.imageObj, 0, 0);\n",
       "        };\n",
       "\n",
       "    this.imageObj.onunload = function() {\n",
       "        this.ws.close();\n",
       "    }\n",
       "\n",
       "    this.ws.onmessage = this._make_on_message_function(this);\n",
       "\n",
       "    this.ondownload = ondownload;\n",
       "}\n",
       "\n",
       "mpl.figure.prototype._init_header = function() {\n",
       "    var titlebar = $(\n",
       "        '<div class=\"ui-dialog-titlebar ui-widget-header ui-corner-all ' +\n",
       "        'ui-helper-clearfix\"/>');\n",
       "    var titletext = $(\n",
       "        '<div class=\"ui-dialog-title\" style=\"width: 100%; ' +\n",
       "        'text-align: center; padding: 3px;\"/>');\n",
       "    titlebar.append(titletext)\n",
       "    this.root.append(titlebar);\n",
       "    this.header = titletext[0];\n",
       "}\n",
       "\n",
       "\n",
       "\n",
       "mpl.figure.prototype._canvas_extra_style = function(canvas_div) {\n",
       "\n",
       "}\n",
       "\n",
       "\n",
       "mpl.figure.prototype._root_extra_style = function(canvas_div) {\n",
       "\n",
       "}\n",
       "\n",
       "mpl.figure.prototype._init_canvas = function() {\n",
       "    var fig = this;\n",
       "\n",
       "    var canvas_div = $('<div/>');\n",
       "\n",
       "    canvas_div.attr('style', 'position: relative; clear: both; outline: 0');\n",
       "\n",
       "    function canvas_keyboard_event(event) {\n",
       "        return fig.key_event(event, event['data']);\n",
       "    }\n",
       "\n",
       "    canvas_div.keydown('key_press', canvas_keyboard_event);\n",
       "    canvas_div.keyup('key_release', canvas_keyboard_event);\n",
       "    this.canvas_div = canvas_div\n",
       "    this._canvas_extra_style(canvas_div)\n",
       "    this.root.append(canvas_div);\n",
       "\n",
       "    var canvas = $('<canvas/>');\n",
       "    canvas.addClass('mpl-canvas');\n",
       "    canvas.attr('style', \"left: 0; top: 0; z-index: 0; outline: 0\")\n",
       "\n",
       "    this.canvas = canvas[0];\n",
       "    this.context = canvas[0].getContext(\"2d\");\n",
       "\n",
       "    var rubberband = $('<canvas/>');\n",
       "    rubberband.attr('style', \"position: absolute; left: 0; top: 0; z-index: 1;\")\n",
       "\n",
       "    var pass_mouse_events = true;\n",
       "\n",
       "    canvas_div.resizable({\n",
       "        start: function(event, ui) {\n",
       "            pass_mouse_events = false;\n",
       "        },\n",
       "        resize: function(event, ui) {\n",
       "            fig.request_resize(ui.size.width, ui.size.height);\n",
       "        },\n",
       "        stop: function(event, ui) {\n",
       "            pass_mouse_events = true;\n",
       "            fig.request_resize(ui.size.width, ui.size.height);\n",
       "        },\n",
       "    });\n",
       "\n",
       "    function mouse_event_fn(event) {\n",
       "        if (pass_mouse_events)\n",
       "            return fig.mouse_event(event, event['data']);\n",
       "    }\n",
       "\n",
       "    rubberband.mousedown('button_press', mouse_event_fn);\n",
       "    rubberband.mouseup('button_release', mouse_event_fn);\n",
       "    // Throttle sequential mouse events to 1 every 20ms.\n",
       "    rubberband.mousemove('motion_notify', mouse_event_fn);\n",
       "\n",
       "    rubberband.mouseenter('figure_enter', mouse_event_fn);\n",
       "    rubberband.mouseleave('figure_leave', mouse_event_fn);\n",
       "\n",
       "    canvas_div.on(\"wheel\", function (event) {\n",
       "        event = event.originalEvent;\n",
       "        event['data'] = 'scroll'\n",
       "        if (event.deltaY < 0) {\n",
       "            event.step = 1;\n",
       "        } else {\n",
       "            event.step = -1;\n",
       "        }\n",
       "        mouse_event_fn(event);\n",
       "    });\n",
       "\n",
       "    canvas_div.append(canvas);\n",
       "    canvas_div.append(rubberband);\n",
       "\n",
       "    this.rubberband = rubberband;\n",
       "    this.rubberband_canvas = rubberband[0];\n",
       "    this.rubberband_context = rubberband[0].getContext(\"2d\");\n",
       "    this.rubberband_context.strokeStyle = \"#000000\";\n",
       "\n",
       "    this._resize_canvas = function(width, height) {\n",
       "        // Keep the size of the canvas, canvas container, and rubber band\n",
       "        // canvas in synch.\n",
       "        canvas_div.css('width', width)\n",
       "        canvas_div.css('height', height)\n",
       "\n",
       "        canvas.attr('width', width);\n",
       "        canvas.attr('height', height);\n",
       "\n",
       "        rubberband.attr('width', width);\n",
       "        rubberband.attr('height', height);\n",
       "    }\n",
       "\n",
       "    // Set the figure to an initial 600x600px, this will subsequently be updated\n",
       "    // upon first draw.\n",
       "    this._resize_canvas(600, 600);\n",
       "\n",
       "    // Disable right mouse context menu.\n",
       "    $(this.rubberband_canvas).bind(\"contextmenu\",function(e){\n",
       "        return false;\n",
       "    });\n",
       "\n",
       "    function set_focus () {\n",
       "        canvas.focus();\n",
       "        canvas_div.focus();\n",
       "    }\n",
       "\n",
       "    window.setTimeout(set_focus, 100);\n",
       "}\n",
       "\n",
       "mpl.figure.prototype._init_toolbar = function() {\n",
       "    var fig = this;\n",
       "\n",
       "    var nav_element = $('<div/>')\n",
       "    nav_element.attr('style', 'width: 100%');\n",
       "    this.root.append(nav_element);\n",
       "\n",
       "    // Define a callback function for later on.\n",
       "    function toolbar_event(event) {\n",
       "        return fig.toolbar_button_onclick(event['data']);\n",
       "    }\n",
       "    function toolbar_mouse_event(event) {\n",
       "        return fig.toolbar_button_onmouseover(event['data']);\n",
       "    }\n",
       "\n",
       "    for(var toolbar_ind in mpl.toolbar_items) {\n",
       "        var name = mpl.toolbar_items[toolbar_ind][0];\n",
       "        var tooltip = mpl.toolbar_items[toolbar_ind][1];\n",
       "        var image = mpl.toolbar_items[toolbar_ind][2];\n",
       "        var method_name = mpl.toolbar_items[toolbar_ind][3];\n",
       "\n",
       "        if (!name) {\n",
       "            // put a spacer in here.\n",
       "            continue;\n",
       "        }\n",
       "        var button = $('<button/>');\n",
       "        button.addClass('ui-button ui-widget ui-state-default ui-corner-all ' +\n",
       "                        'ui-button-icon-only');\n",
       "        button.attr('role', 'button');\n",
       "        button.attr('aria-disabled', 'false');\n",
       "        button.click(method_name, toolbar_event);\n",
       "        button.mouseover(tooltip, toolbar_mouse_event);\n",
       "\n",
       "        var icon_img = $('<span/>');\n",
       "        icon_img.addClass('ui-button-icon-primary ui-icon');\n",
       "        icon_img.addClass(image);\n",
       "        icon_img.addClass('ui-corner-all');\n",
       "\n",
       "        var tooltip_span = $('<span/>');\n",
       "        tooltip_span.addClass('ui-button-text');\n",
       "        tooltip_span.html(tooltip);\n",
       "\n",
       "        button.append(icon_img);\n",
       "        button.append(tooltip_span);\n",
       "\n",
       "        nav_element.append(button);\n",
       "    }\n",
       "\n",
       "    var fmt_picker_span = $('<span/>');\n",
       "\n",
       "    var fmt_picker = $('<select/>');\n",
       "    fmt_picker.addClass('mpl-toolbar-option ui-widget ui-widget-content');\n",
       "    fmt_picker_span.append(fmt_picker);\n",
       "    nav_element.append(fmt_picker_span);\n",
       "    this.format_dropdown = fmt_picker[0];\n",
       "\n",
       "    for (var ind in mpl.extensions) {\n",
       "        var fmt = mpl.extensions[ind];\n",
       "        var option = $(\n",
       "            '<option/>', {selected: fmt === mpl.default_extension}).html(fmt);\n",
       "        fmt_picker.append(option)\n",
       "    }\n",
       "\n",
       "    // Add hover states to the ui-buttons\n",
       "    $( \".ui-button\" ).hover(\n",
       "        function() { $(this).addClass(\"ui-state-hover\");},\n",
       "        function() { $(this).removeClass(\"ui-state-hover\");}\n",
       "    );\n",
       "\n",
       "    var status_bar = $('<span class=\"mpl-message\"/>');\n",
       "    nav_element.append(status_bar);\n",
       "    this.message = status_bar[0];\n",
       "}\n",
       "\n",
       "mpl.figure.prototype.request_resize = function(x_pixels, y_pixels) {\n",
       "    // Request matplotlib to resize the figure. Matplotlib will then trigger a resize in the client,\n",
       "    // which will in turn request a refresh of the image.\n",
       "    this.send_message('resize', {'width': x_pixels, 'height': y_pixels});\n",
       "}\n",
       "\n",
       "mpl.figure.prototype.send_message = function(type, properties) {\n",
       "    properties['type'] = type;\n",
       "    properties['figure_id'] = this.id;\n",
       "    this.ws.send(JSON.stringify(properties));\n",
       "}\n",
       "\n",
       "mpl.figure.prototype.send_draw_message = function() {\n",
       "    if (!this.waiting) {\n",
       "        this.waiting = true;\n",
       "        this.ws.send(JSON.stringify({type: \"draw\", figure_id: this.id}));\n",
       "    }\n",
       "}\n",
       "\n",
       "\n",
       "mpl.figure.prototype.handle_save = function(fig, msg) {\n",
       "    var format_dropdown = fig.format_dropdown;\n",
       "    var format = format_dropdown.options[format_dropdown.selectedIndex].value;\n",
       "    fig.ondownload(fig, format);\n",
       "}\n",
       "\n",
       "\n",
       "mpl.figure.prototype.handle_resize = function(fig, msg) {\n",
       "    var size = msg['size'];\n",
       "    if (size[0] != fig.canvas.width || size[1] != fig.canvas.height) {\n",
       "        fig._resize_canvas(size[0], size[1]);\n",
       "        fig.send_message(\"refresh\", {});\n",
       "    };\n",
       "}\n",
       "\n",
       "mpl.figure.prototype.handle_rubberband = function(fig, msg) {\n",
       "    var x0 = msg['x0'];\n",
       "    var y0 = fig.canvas.height - msg['y0'];\n",
       "    var x1 = msg['x1'];\n",
       "    var y1 = fig.canvas.height - msg['y1'];\n",
       "    x0 = Math.floor(x0) + 0.5;\n",
       "    y0 = Math.floor(y0) + 0.5;\n",
       "    x1 = Math.floor(x1) + 0.5;\n",
       "    y1 = Math.floor(y1) + 0.5;\n",
       "    var min_x = Math.min(x0, x1);\n",
       "    var min_y = Math.min(y0, y1);\n",
       "    var width = Math.abs(x1 - x0);\n",
       "    var height = Math.abs(y1 - y0);\n",
       "\n",
       "    fig.rubberband_context.clearRect(\n",
       "        0, 0, fig.canvas.width, fig.canvas.height);\n",
       "\n",
       "    fig.rubberband_context.strokeRect(min_x, min_y, width, height);\n",
       "}\n",
       "\n",
       "mpl.figure.prototype.handle_figure_label = function(fig, msg) {\n",
       "    // Updates the figure title.\n",
       "    fig.header.textContent = msg['label'];\n",
       "}\n",
       "\n",
       "mpl.figure.prototype.handle_cursor = function(fig, msg) {\n",
       "    var cursor = msg['cursor'];\n",
       "    switch(cursor)\n",
       "    {\n",
       "    case 0:\n",
       "        cursor = 'pointer';\n",
       "        break;\n",
       "    case 1:\n",
       "        cursor = 'default';\n",
       "        break;\n",
       "    case 2:\n",
       "        cursor = 'crosshair';\n",
       "        break;\n",
       "    case 3:\n",
       "        cursor = 'move';\n",
       "        break;\n",
       "    }\n",
       "    fig.rubberband_canvas.style.cursor = cursor;\n",
       "}\n",
       "\n",
       "mpl.figure.prototype.handle_message = function(fig, msg) {\n",
       "    fig.message.textContent = msg['message'];\n",
       "}\n",
       "\n",
       "mpl.figure.prototype.handle_draw = function(fig, msg) {\n",
       "    // Request the server to send over a new figure.\n",
       "    fig.send_draw_message();\n",
       "}\n",
       "\n",
       "mpl.figure.prototype.handle_image_mode = function(fig, msg) {\n",
       "    fig.image_mode = msg['mode'];\n",
       "}\n",
       "\n",
       "mpl.figure.prototype.updated_canvas_event = function() {\n",
       "    // Called whenever the canvas gets updated.\n",
       "    this.send_message(\"ack\", {});\n",
       "}\n",
       "\n",
       "// A function to construct a web socket function for onmessage handling.\n",
       "// Called in the figure constructor.\n",
       "mpl.figure.prototype._make_on_message_function = function(fig) {\n",
       "    return function socket_on_message(evt) {\n",
       "        if (evt.data instanceof Blob) {\n",
       "            /* FIXME: We get \"Resource interpreted as Image but\n",
       "             * transferred with MIME type text/plain:\" errors on\n",
       "             * Chrome.  But how to set the MIME type?  It doesn't seem\n",
       "             * to be part of the websocket stream */\n",
       "            evt.data.type = \"image/png\";\n",
       "\n",
       "            /* Free the memory for the previous frames */\n",
       "            if (fig.imageObj.src) {\n",
       "                (window.URL || window.webkitURL).revokeObjectURL(\n",
       "                    fig.imageObj.src);\n",
       "            }\n",
       "\n",
       "            fig.imageObj.src = (window.URL || window.webkitURL).createObjectURL(\n",
       "                evt.data);\n",
       "            fig.updated_canvas_event();\n",
       "            fig.waiting = false;\n",
       "            return;\n",
       "        }\n",
       "        else if (typeof evt.data === 'string' && evt.data.slice(0, 21) == \"data:image/png;base64\") {\n",
       "            fig.imageObj.src = evt.data;\n",
       "            fig.updated_canvas_event();\n",
       "            fig.waiting = false;\n",
       "            return;\n",
       "        }\n",
       "\n",
       "        var msg = JSON.parse(evt.data);\n",
       "        var msg_type = msg['type'];\n",
       "\n",
       "        // Call the  \"handle_{type}\" callback, which takes\n",
       "        // the figure and JSON message as its only arguments.\n",
       "        try {\n",
       "            var callback = fig[\"handle_\" + msg_type];\n",
       "        } catch (e) {\n",
       "            console.log(\"No handler for the '\" + msg_type + \"' message type: \", msg);\n",
       "            return;\n",
       "        }\n",
       "\n",
       "        if (callback) {\n",
       "            try {\n",
       "                // console.log(\"Handling '\" + msg_type + \"' message: \", msg);\n",
       "                callback(fig, msg);\n",
       "            } catch (e) {\n",
       "                console.log(\"Exception inside the 'handler_\" + msg_type + \"' callback:\", e, e.stack, msg);\n",
       "            }\n",
       "        }\n",
       "    };\n",
       "}\n",
       "\n",
       "// from http://stackoverflow.com/questions/1114465/getting-mouse-location-in-canvas\n",
       "mpl.findpos = function(e) {\n",
       "    //this section is from http://www.quirksmode.org/js/events_properties.html\n",
       "    var targ;\n",
       "    if (!e)\n",
       "        e = window.event;\n",
       "    if (e.target)\n",
       "        targ = e.target;\n",
       "    else if (e.srcElement)\n",
       "        targ = e.srcElement;\n",
       "    if (targ.nodeType == 3) // defeat Safari bug\n",
       "        targ = targ.parentNode;\n",
       "\n",
       "    // jQuery normalizes the pageX and pageY\n",
       "    // pageX,Y are the mouse positions relative to the document\n",
       "    // offset() returns the position of the element relative to the document\n",
       "    var x = e.pageX - $(targ).offset().left;\n",
       "    var y = e.pageY - $(targ).offset().top;\n",
       "\n",
       "    return {\"x\": x, \"y\": y};\n",
       "};\n",
       "\n",
       "/*\n",
       " * return a copy of an object with only non-object keys\n",
       " * we need this to avoid circular references\n",
       " * http://stackoverflow.com/a/24161582/3208463\n",
       " */\n",
       "function simpleKeys (original) {\n",
       "  return Object.keys(original).reduce(function (obj, key) {\n",
       "    if (typeof original[key] !== 'object')\n",
       "        obj[key] = original[key]\n",
       "    return obj;\n",
       "  }, {});\n",
       "}\n",
       "\n",
       "mpl.figure.prototype.mouse_event = function(event, name) {\n",
       "    var canvas_pos = mpl.findpos(event)\n",
       "\n",
       "    if (name === 'button_press')\n",
       "    {\n",
       "        this.canvas.focus();\n",
       "        this.canvas_div.focus();\n",
       "    }\n",
       "\n",
       "    var x = canvas_pos.x;\n",
       "    var y = canvas_pos.y;\n",
       "\n",
       "    this.send_message(name, {x: x, y: y, button: event.button,\n",
       "                             step: event.step,\n",
       "                             guiEvent: simpleKeys(event)});\n",
       "\n",
       "    /* This prevents the web browser from automatically changing to\n",
       "     * the text insertion cursor when the button is pressed.  We want\n",
       "     * to control all of the cursor setting manually through the\n",
       "     * 'cursor' event from matplotlib */\n",
       "    event.preventDefault();\n",
       "    return false;\n",
       "}\n",
       "\n",
       "mpl.figure.prototype._key_event_extra = function(event, name) {\n",
       "    // Handle any extra behaviour associated with a key event\n",
       "}\n",
       "\n",
       "mpl.figure.prototype.key_event = function(event, name) {\n",
       "\n",
       "    // Prevent repeat events\n",
       "    if (name == 'key_press')\n",
       "    {\n",
       "        if (event.which === this._key)\n",
       "            return;\n",
       "        else\n",
       "            this._key = event.which;\n",
       "    }\n",
       "    if (name == 'key_release')\n",
       "        this._key = null;\n",
       "\n",
       "    var value = '';\n",
       "    if (event.ctrlKey && event.which != 17)\n",
       "        value += \"ctrl+\";\n",
       "    if (event.altKey && event.which != 18)\n",
       "        value += \"alt+\";\n",
       "    if (event.shiftKey && event.which != 16)\n",
       "        value += \"shift+\";\n",
       "\n",
       "    value += 'k';\n",
       "    value += event.which.toString();\n",
       "\n",
       "    this._key_event_extra(event, name);\n",
       "\n",
       "    this.send_message(name, {key: value,\n",
       "                             guiEvent: simpleKeys(event)});\n",
       "    return false;\n",
       "}\n",
       "\n",
       "mpl.figure.prototype.toolbar_button_onclick = function(name) {\n",
       "    if (name == 'download') {\n",
       "        this.handle_save(this, null);\n",
       "    } else {\n",
       "        this.send_message(\"toolbar_button\", {name: name});\n",
       "    }\n",
       "};\n",
       "\n",
       "mpl.figure.prototype.toolbar_button_onmouseover = function(tooltip) {\n",
       "    this.message.textContent = tooltip;\n",
       "};\n",
       "mpl.toolbar_items = [[\"Home\", \"Reset original view\", \"fa fa-home icon-home\", \"home\"], [\"Back\", \"Back to  previous view\", \"fa fa-arrow-left icon-arrow-left\", \"back\"], [\"Forward\", \"Forward to next view\", \"fa fa-arrow-right icon-arrow-right\", \"forward\"], [\"\", \"\", \"\", \"\"], [\"Pan\", \"Pan axes with left mouse, zoom with right\", \"fa fa-arrows icon-move\", \"pan\"], [\"Zoom\", \"Zoom to rectangle\", \"fa fa-square-o icon-check-empty\", \"zoom\"], [\"\", \"\", \"\", \"\"], [\"Download\", \"Download plot\", \"fa fa-floppy-o icon-save\", \"download\"]];\n",
       "\n",
       "mpl.extensions = [\"eps\", \"jpeg\", \"pdf\", \"png\", \"ps\", \"raw\", \"svg\", \"tif\"];\n",
       "\n",
       "mpl.default_extension = \"png\";var comm_websocket_adapter = function(comm) {\n",
       "    // Create a \"websocket\"-like object which calls the given IPython comm\n",
       "    // object with the appropriate methods. Currently this is a non binary\n",
       "    // socket, so there is still some room for performance tuning.\n",
       "    var ws = {};\n",
       "\n",
       "    ws.close = function() {\n",
       "        comm.close()\n",
       "    };\n",
       "    ws.send = function(m) {\n",
       "        //console.log('sending', m);\n",
       "        comm.send(m);\n",
       "    };\n",
       "    // Register the callback with on_msg.\n",
       "    comm.on_msg(function(msg) {\n",
       "        //console.log('receiving', msg['content']['data'], msg);\n",
       "        // Pass the mpl event to the overriden (by mpl) onmessage function.\n",
       "        ws.onmessage(msg['content']['data'])\n",
       "    });\n",
       "    return ws;\n",
       "}\n",
       "\n",
       "mpl.mpl_figure_comm = function(comm, msg) {\n",
       "    // This is the function which gets called when the mpl process\n",
       "    // starts-up an IPython Comm through the \"matplotlib\" channel.\n",
       "\n",
       "    var id = msg.content.data.id;\n",
       "    // Get hold of the div created by the display call when the Comm\n",
       "    // socket was opened in Python.\n",
       "    var element = $(\"#\" + id);\n",
       "    var ws_proxy = comm_websocket_adapter(comm)\n",
       "\n",
       "    function ondownload(figure, format) {\n",
       "        window.open(figure.imageObj.src);\n",
       "    }\n",
       "\n",
       "    var fig = new mpl.figure(id, ws_proxy,\n",
       "                           ondownload,\n",
       "                           element.get(0));\n",
       "\n",
       "    // Call onopen now - mpl needs it, as it is assuming we've passed it a real\n",
       "    // web socket which is closed, not our websocket->open comm proxy.\n",
       "    ws_proxy.onopen();\n",
       "\n",
       "    fig.parent_element = element.get(0);\n",
       "    fig.cell_info = mpl.find_output_cell(\"<div id='\" + id + \"'></div>\");\n",
       "    if (!fig.cell_info) {\n",
       "        console.error(\"Failed to find cell for figure\", id, fig);\n",
       "        return;\n",
       "    }\n",
       "\n",
       "    var output_index = fig.cell_info[2]\n",
       "    var cell = fig.cell_info[0];\n",
       "\n",
       "};\n",
       "\n",
       "mpl.figure.prototype.handle_close = function(fig, msg) {\n",
       "    fig.root.unbind('remove')\n",
       "\n",
       "    // Update the output cell to use the data from the current canvas.\n",
       "    fig.push_to_output();\n",
       "    var dataURL = fig.canvas.toDataURL();\n",
       "    // Re-enable the keyboard manager in IPython - without this line, in FF,\n",
       "    // the notebook keyboard shortcuts fail.\n",
       "    IPython.keyboard_manager.enable()\n",
       "    $(fig.parent_element).html('<img src=\"' + dataURL + '\">');\n",
       "    fig.close_ws(fig, msg);\n",
       "}\n",
       "\n",
       "mpl.figure.prototype.close_ws = function(fig, msg){\n",
       "    fig.send_message('closing', msg);\n",
       "    // fig.ws.close()\n",
       "}\n",
       "\n",
       "mpl.figure.prototype.push_to_output = function(remove_interactive) {\n",
       "    // Turn the data on the canvas into data in the output cell.\n",
       "    var dataURL = this.canvas.toDataURL();\n",
       "    this.cell_info[1]['text/html'] = '<img src=\"' + dataURL + '\">';\n",
       "}\n",
       "\n",
       "mpl.figure.prototype.updated_canvas_event = function() {\n",
       "    // Tell IPython that the notebook contents must change.\n",
       "    IPython.notebook.set_dirty(true);\n",
       "    this.send_message(\"ack\", {});\n",
       "    var fig = this;\n",
       "    // Wait a second, then push the new image to the DOM so\n",
       "    // that it is saved nicely (might be nice to debounce this).\n",
       "    setTimeout(function () { fig.push_to_output() }, 1000);\n",
       "}\n",
       "\n",
       "mpl.figure.prototype._init_toolbar = function() {\n",
       "    var fig = this;\n",
       "\n",
       "    var nav_element = $('<div/>')\n",
       "    nav_element.attr('style', 'width: 100%');\n",
       "    this.root.append(nav_element);\n",
       "\n",
       "    // Define a callback function for later on.\n",
       "    function toolbar_event(event) {\n",
       "        return fig.toolbar_button_onclick(event['data']);\n",
       "    }\n",
       "    function toolbar_mouse_event(event) {\n",
       "        return fig.toolbar_button_onmouseover(event['data']);\n",
       "    }\n",
       "\n",
       "    for(var toolbar_ind in mpl.toolbar_items){\n",
       "        var name = mpl.toolbar_items[toolbar_ind][0];\n",
       "        var tooltip = mpl.toolbar_items[toolbar_ind][1];\n",
       "        var image = mpl.toolbar_items[toolbar_ind][2];\n",
       "        var method_name = mpl.toolbar_items[toolbar_ind][3];\n",
       "\n",
       "        if (!name) { continue; };\n",
       "\n",
       "        var button = $('<button class=\"btn btn-default\" href=\"#\" title=\"' + name + '\"><i class=\"fa ' + image + ' fa-lg\"></i></button>');\n",
       "        button.click(method_name, toolbar_event);\n",
       "        button.mouseover(tooltip, toolbar_mouse_event);\n",
       "        nav_element.append(button);\n",
       "    }\n",
       "\n",
       "    // Add the status bar.\n",
       "    var status_bar = $('<span class=\"mpl-message\" style=\"text-align:right; float: right;\"/>');\n",
       "    nav_element.append(status_bar);\n",
       "    this.message = status_bar[0];\n",
       "\n",
       "    // Add the close button to the window.\n",
       "    var buttongrp = $('<div class=\"btn-group inline pull-right\"></div>');\n",
       "    var button = $('<button class=\"btn btn-mini btn-primary\" href=\"#\" title=\"Stop Interaction\"><i class=\"fa fa-power-off icon-remove icon-large\"></i></button>');\n",
       "    button.click(function (evt) { fig.handle_close(fig, {}); } );\n",
       "    button.mouseover('Stop Interaction', toolbar_mouse_event);\n",
       "    buttongrp.append(button);\n",
       "    var titlebar = this.root.find($('.ui-dialog-titlebar'));\n",
       "    titlebar.prepend(buttongrp);\n",
       "}\n",
       "\n",
       "mpl.figure.prototype._root_extra_style = function(el){\n",
       "    var fig = this\n",
       "    el.on(\"remove\", function(){\n",
       "\tfig.close_ws(fig, {});\n",
       "    });\n",
       "}\n",
       "\n",
       "mpl.figure.prototype._canvas_extra_style = function(el){\n",
       "    // this is important to make the div 'focusable\n",
       "    el.attr('tabindex', 0)\n",
       "    // reach out to IPython and tell the keyboard manager to turn it's self\n",
       "    // off when our div gets focus\n",
       "\n",
       "    // location in version 3\n",
       "    if (IPython.notebook.keyboard_manager) {\n",
       "        IPython.notebook.keyboard_manager.register_events(el);\n",
       "    }\n",
       "    else {\n",
       "        // location in version 2\n",
       "        IPython.keyboard_manager.register_events(el);\n",
       "    }\n",
       "\n",
       "}\n",
       "\n",
       "mpl.figure.prototype._key_event_extra = function(event, name) {\n",
       "    var manager = IPython.notebook.keyboard_manager;\n",
       "    if (!manager)\n",
       "        manager = IPython.keyboard_manager;\n",
       "\n",
       "    // Check for shift+enter\n",
       "    if (event.shiftKey && event.which == 13) {\n",
       "        this.canvas_div.blur();\n",
       "        event.shiftKey = false;\n",
       "        // Send a \"J\" for go to next cell\n",
       "        event.which = 74;\n",
       "        event.keyCode = 74;\n",
       "        manager.command_mode();\n",
       "        manager.handle_keydown(event);\n",
       "    }\n",
       "}\n",
       "\n",
       "mpl.figure.prototype.handle_save = function(fig, msg) {\n",
       "    fig.ondownload(fig, null);\n",
       "}\n",
       "\n",
       "\n",
       "mpl.find_output_cell = function(html_output) {\n",
       "    // Return the cell and output element which can be found *uniquely* in the notebook.\n",
       "    // Note - this is a bit hacky, but it is done because the \"notebook_saving.Notebook\"\n",
       "    // IPython event is triggered only after the cells have been serialised, which for\n",
       "    // our purposes (turning an active figure into a static one), is too late.\n",
       "    var cells = IPython.notebook.get_cells();\n",
       "    var ncells = cells.length;\n",
       "    for (var i=0; i<ncells; i++) {\n",
       "        var cell = cells[i];\n",
       "        if (cell.cell_type === 'code'){\n",
       "            for (var j=0; j<cell.output_area.outputs.length; j++) {\n",
       "                var data = cell.output_area.outputs[j];\n",
       "                if (data.data) {\n",
       "                    // IPython >= 3 moved mimebundle to data attribute of output\n",
       "                    data = data.data;\n",
       "                }\n",
       "                if (data['text/html'] == html_output) {\n",
       "                    return [cell, data, j];\n",
       "                }\n",
       "            }\n",
       "        }\n",
       "    }\n",
       "}\n",
       "\n",
       "// Register the function which deals with the matplotlib target/channel.\n",
       "// The kernel may be null if the page has been refreshed.\n",
       "if (IPython.notebook.kernel != null) {\n",
       "    IPython.notebook.kernel.comm_manager.register_target('matplotlib', mpl.mpl_figure_comm);\n",
       "}\n"
      ],
      "text/plain": [
       "<IPython.core.display.Javascript object>"
      ]
     },
     "metadata": {},
     "output_type": "display_data"
    },
    {
     "data": {
      "text/html": [
       "<img src=\"data:image/png;base64,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\">"
      ],
      "text/plain": [
       "<IPython.core.display.HTML object>"
      ]
     },
     "metadata": {},
     "output_type": "display_data"
    }
   ],
   "source": [
    "lf, sf = explore_features(\"train_numeric\",True)"
   ]
  },
  {
   "cell_type": "markdown",
   "metadata": {},
   "source": [
    "This part is to see how many parts per station, how many success and failure parts per station"
   ]
  },
  {
   "cell_type": "code",
   "execution_count": 19,
   "metadata": {},
   "outputs": [],
   "source": [
    "def explore_product_by_station(data_set_name,read_rows):\n",
    "    # need to see how many product per station\n",
    "    # features = pd.read_csv(INPUT_PATH % data_set_name, nrows=1).drop([\"Response\", \"Id\"], axis=1).columns.values\n",
    "    # line_features, station_features = get_features(features)\n",
    "    station_features = sf\n",
    "    dwb_result = []\n",
    "    ppbs_result = []\n",
    "    rows = 0\n",
    "    # inside this loop we will try to calculate different data sets, this way we only read the\n",
    "    # files once since it takes a while and produce multiple results\n",
    "    for station in station_features:\n",
    "        station_data = pd.read_csv(\n",
    "            INPUT_PATH % data_set_name,\n",
    "            usecols=station_features[station] + ['Id', 'Response'],nrows = read_rows)\n",
    "        \n",
    "        # need to get how many rows in the sample row\n",
    "        if not rows:\n",
    "            rows = station_data.shape[0]\n",
    "        # need to store how many processed units in each station\n",
    "        # only if all features in that station has value we conside unit processed in this station\n",
    "        ppbs_result.append(\n",
    "            {'Station': int(station[1:]),\n",
    "             'Processed': station_data[station_features[station]]\n",
    "             .all(axis=1).sum()})\n",
    "        \n",
    "        # data without blanks (dwb): take all rows and drop any row that has any blank\n",
    "        # in any station column\n",
    "        dwb = station_data.dropna(how=\"any\")\n",
    "        dwb_result.append([int(station[1:]), dwb.shape[0],\n",
    "                       dwb[dwb[\"Response\"] == 1].shape[0],\n",
    "                       dwb[dwb[\"Response\"] == 0].shape[0]])\n",
    "        \n",
    "    # convert list to a dataframe and prepare for the plot\n",
    "    dwb_df = pd.DataFrame(\n",
    "        dwb_result, columns=[\"Station\", \"Count\", \"Failed\", \"Passed\"]).sort_values(by=[\"Station\"])\n",
    "    # calculate the error rate for each station\n",
    "    dwb_df[\"Error\"] = dwb_df.apply(lambda row: float(row[\"Failed\"]) / (row[\"Count\"] + 1), axis=1)\n",
    "    \n",
    "    # plot the stacked bar tot product/ station\n",
    "    my_plot = dwb_df[[\"Station\", \"Failed\", \"Passed\"]].plot(kind=\"bar\", stacked=True, x=\"Station\",\n",
    "        title=\"Products by station\", figsize=(13,6), fontsize=12)\n",
    "    my_plot.set_xlabel(\"Station ID\")\n",
    "    my_plot.set_ylabel(\"Number of Products\")\n",
    "    \n",
    "    # plot error rate per station\n",
    "    my_plot = dwb_df[[\"Station\", \"Error\"]].plot(\n",
    "        kind=\"bar\", x=\"Station\",\n",
    "        title=\"Error by station\", figsize=(13,6), fontsize=12)\n",
    "    my_plot.set_xlabel(\"Station ID\")\n",
    "    my_plot.set_ylabel(\"Error Percentage\")\n",
    "    \n",
    "    # process the ppbs result to see how many products has been process by each station.\n",
    "#     ppbs_df = pd.DataFrame(\n",
    "#         ppbs_result, columns=['Station', 'Processed']).sort(columns=['Station'])\n",
    "#     # calculate the missed product for each station: all count - processed count\n",
    "#     ppbs_df[\"Missed\"] = ppbs_df[\"Processed\"].apply(lambda x: rows - x)\n",
    "#     # the plot\n",
    "#     ppbs_df.plot(x=\"Station\", kind=\"bar\", stacked=True,\n",
    "#             title=\"Fig: 5 - Products processed by each station\",\n",
    "#             figsize=(13,6), fontsize=12)\n",
    "    \n",
    "\n"
   ]
  },
  {
   "cell_type": "code",
   "execution_count": 20,
   "metadata": {
    "scrolled": true
   },
   "outputs": [
    {
     "ename": "KeyboardInterrupt",
     "evalue": "",
     "output_type": "error",
     "traceback": [
      "\u001b[0;31m---------------------------------------------------------------------------\u001b[0m",
      "\u001b[0;31mKeyboardInterrupt\u001b[0m                         Traceback (most recent call last)",
      "\u001b[0;32m<ipython-input-20-e1cee6d7c691>\u001b[0m in \u001b[0;36m<module>\u001b[0;34m()\u001b[0m\n\u001b[0;32m----> 1\u001b[0;31m \u001b[0mexplore_product_by_station\u001b[0m\u001b[0;34m(\u001b[0m\u001b[0;34m\"train_numeric\"\u001b[0m\u001b[0;34m,\u001b[0m \u001b[0;36m1184687\u001b[0m\u001b[0;34m)\u001b[0m\u001b[0;34m\u001b[0m\u001b[0m\n\u001b[0m",
      "\u001b[0;32m<ipython-input-19-58cf73fb1ac1>\u001b[0m in \u001b[0;36mexplore_product_by_station\u001b[0;34m(data_set_name, read_rows)\u001b[0m\n\u001b[1;32m     12\u001b[0m         station_data = pd.read_csv(\n\u001b[1;32m     13\u001b[0m             \u001b[0mINPUT_PATH\u001b[0m \u001b[0;34m%\u001b[0m \u001b[0mdata_set_name\u001b[0m\u001b[0;34m,\u001b[0m\u001b[0;34m\u001b[0m\u001b[0m\n\u001b[0;32m---> 14\u001b[0;31m             usecols=station_features[station] + ['Id', 'Response'],nrows = read_rows)\n\u001b[0m\u001b[1;32m     15\u001b[0m \u001b[0;34m\u001b[0m\u001b[0m\n\u001b[1;32m     16\u001b[0m         \u001b[0;31m# need to get how many rows in the sample row\u001b[0m\u001b[0;34m\u001b[0m\u001b[0;34m\u001b[0m\u001b[0m\n",
      "\u001b[0;32m//anaconda/lib/python2.7/site-packages/pandas/io/parsers.pyc\u001b[0m in \u001b[0;36mparser_f\u001b[0;34m(filepath_or_buffer, sep, delimiter, header, names, index_col, usecols, squeeze, prefix, mangle_dupe_cols, dtype, engine, converters, true_values, false_values, skipinitialspace, skiprows, skipfooter, nrows, na_values, keep_default_na, na_filter, verbose, skip_blank_lines, parse_dates, infer_datetime_format, keep_date_col, date_parser, dayfirst, iterator, chunksize, compression, thousands, decimal, lineterminator, quotechar, quoting, escapechar, comment, encoding, dialect, tupleize_cols, error_bad_lines, warn_bad_lines, skip_footer, doublequote, delim_whitespace, as_recarray, compact_ints, use_unsigned, low_memory, buffer_lines, memory_map, float_precision)\u001b[0m\n\u001b[1;32m    560\u001b[0m                     skip_blank_lines=skip_blank_lines)\n\u001b[1;32m    561\u001b[0m \u001b[0;34m\u001b[0m\u001b[0m\n\u001b[0;32m--> 562\u001b[0;31m         \u001b[0;32mreturn\u001b[0m \u001b[0m_read\u001b[0m\u001b[0;34m(\u001b[0m\u001b[0mfilepath_or_buffer\u001b[0m\u001b[0;34m,\u001b[0m \u001b[0mkwds\u001b[0m\u001b[0;34m)\u001b[0m\u001b[0;34m\u001b[0m\u001b[0m\n\u001b[0m\u001b[1;32m    563\u001b[0m \u001b[0;34m\u001b[0m\u001b[0m\n\u001b[1;32m    564\u001b[0m     \u001b[0mparser_f\u001b[0m\u001b[0;34m.\u001b[0m\u001b[0m__name__\u001b[0m \u001b[0;34m=\u001b[0m \u001b[0mname\u001b[0m\u001b[0;34m\u001b[0m\u001b[0m\n",
      "\u001b[0;32m//anaconda/lib/python2.7/site-packages/pandas/io/parsers.pyc\u001b[0m in \u001b[0;36m_read\u001b[0;34m(filepath_or_buffer, kwds)\u001b[0m\n\u001b[1;32m    319\u001b[0m                                   \" together yet.\")\n\u001b[1;32m    320\u001b[0m     \u001b[0;32melif\u001b[0m \u001b[0mnrows\u001b[0m \u001b[0;32mis\u001b[0m \u001b[0;32mnot\u001b[0m \u001b[0mNone\u001b[0m\u001b[0;34m:\u001b[0m\u001b[0;34m\u001b[0m\u001b[0m\n\u001b[0;32m--> 321\u001b[0;31m         \u001b[0;32mreturn\u001b[0m \u001b[0mparser\u001b[0m\u001b[0;34m.\u001b[0m\u001b[0mread\u001b[0m\u001b[0;34m(\u001b[0m\u001b[0mnrows\u001b[0m\u001b[0;34m)\u001b[0m\u001b[0;34m\u001b[0m\u001b[0m\n\u001b[0m\u001b[1;32m    322\u001b[0m     \u001b[0;32melif\u001b[0m \u001b[0mchunksize\u001b[0m \u001b[0;32mor\u001b[0m \u001b[0miterator\u001b[0m\u001b[0;34m:\u001b[0m\u001b[0;34m\u001b[0m\u001b[0m\n\u001b[1;32m    323\u001b[0m         \u001b[0;32mreturn\u001b[0m \u001b[0mparser\u001b[0m\u001b[0;34m\u001b[0m\u001b[0m\n",
      "\u001b[0;32m//anaconda/lib/python2.7/site-packages/pandas/io/parsers.pyc\u001b[0m in \u001b[0;36mread\u001b[0;34m(self, nrows)\u001b[0m\n\u001b[1;32m    813\u001b[0m                 \u001b[0;32mraise\u001b[0m \u001b[0mValueError\u001b[0m\u001b[0;34m(\u001b[0m\u001b[0;34m'skip_footer not supported for iteration'\u001b[0m\u001b[0;34m)\u001b[0m\u001b[0;34m\u001b[0m\u001b[0m\n\u001b[1;32m    814\u001b[0m \u001b[0;34m\u001b[0m\u001b[0m\n\u001b[0;32m--> 815\u001b[0;31m         \u001b[0mret\u001b[0m \u001b[0;34m=\u001b[0m \u001b[0mself\u001b[0m\u001b[0;34m.\u001b[0m\u001b[0m_engine\u001b[0m\u001b[0;34m.\u001b[0m\u001b[0mread\u001b[0m\u001b[0;34m(\u001b[0m\u001b[0mnrows\u001b[0m\u001b[0;34m)\u001b[0m\u001b[0;34m\u001b[0m\u001b[0m\n\u001b[0m\u001b[1;32m    816\u001b[0m \u001b[0;34m\u001b[0m\u001b[0m\n\u001b[1;32m    817\u001b[0m         \u001b[0;32mif\u001b[0m \u001b[0mself\u001b[0m\u001b[0;34m.\u001b[0m\u001b[0moptions\u001b[0m\u001b[0;34m.\u001b[0m\u001b[0mget\u001b[0m\u001b[0;34m(\u001b[0m\u001b[0;34m'as_recarray'\u001b[0m\u001b[0;34m)\u001b[0m\u001b[0;34m:\u001b[0m\u001b[0;34m\u001b[0m\u001b[0m\n",
      "\u001b[0;32m//anaconda/lib/python2.7/site-packages/pandas/io/parsers.pyc\u001b[0m in \u001b[0;36mread\u001b[0;34m(self, nrows)\u001b[0m\n\u001b[1;32m   1312\u001b[0m     \u001b[0;32mdef\u001b[0m \u001b[0mread\u001b[0m\u001b[0;34m(\u001b[0m\u001b[0mself\u001b[0m\u001b[0;34m,\u001b[0m \u001b[0mnrows\u001b[0m\u001b[0;34m=\u001b[0m\u001b[0mNone\u001b[0m\u001b[0;34m)\u001b[0m\u001b[0;34m:\u001b[0m\u001b[0;34m\u001b[0m\u001b[0m\n\u001b[1;32m   1313\u001b[0m         \u001b[0;32mtry\u001b[0m\u001b[0;34m:\u001b[0m\u001b[0;34m\u001b[0m\u001b[0m\n\u001b[0;32m-> 1314\u001b[0;31m             \u001b[0mdata\u001b[0m \u001b[0;34m=\u001b[0m \u001b[0mself\u001b[0m\u001b[0;34m.\u001b[0m\u001b[0m_reader\u001b[0m\u001b[0;34m.\u001b[0m\u001b[0mread\u001b[0m\u001b[0;34m(\u001b[0m\u001b[0mnrows\u001b[0m\u001b[0;34m)\u001b[0m\u001b[0;34m\u001b[0m\u001b[0m\n\u001b[0m\u001b[1;32m   1315\u001b[0m         \u001b[0;32mexcept\u001b[0m \u001b[0mStopIteration\u001b[0m\u001b[0;34m:\u001b[0m\u001b[0;34m\u001b[0m\u001b[0m\n\u001b[1;32m   1316\u001b[0m             \u001b[0;32mif\u001b[0m \u001b[0mself\u001b[0m\u001b[0;34m.\u001b[0m\u001b[0m_first_chunk\u001b[0m\u001b[0;34m:\u001b[0m\u001b[0;34m\u001b[0m\u001b[0m\n",
      "\u001b[0;32mpandas/parser.pyx\u001b[0m in \u001b[0;36mpandas.parser.TextReader.read (pandas/parser.c:8748)\u001b[0;34m()\u001b[0m\n",
      "\u001b[0;32mpandas/parser.pyx\u001b[0m in \u001b[0;36mpandas.parser.TextReader._read_low_memory (pandas/parser.c:9428)\u001b[0;34m()\u001b[0m\n",
      "\u001b[0;32mpandas/parser.pyx\u001b[0m in \u001b[0;36mpandas.parser._concatenate_chunks (pandas/parser.c:25050)\u001b[0;34m()\u001b[0m\n",
      "\u001b[0;32m//anaconda/lib/python2.7/site-packages/numpy/core/numerictypes.pyc\u001b[0m in \u001b[0;36mfind_common_type\u001b[0;34m(array_types, scalar_types)\u001b[0m\n\u001b[1;32m    962\u001b[0m \u001b[0m_register_types\u001b[0m\u001b[0;34m(\u001b[0m\u001b[0;34m)\u001b[0m\u001b[0;34m\u001b[0m\u001b[0m\n\u001b[1;32m    963\u001b[0m \u001b[0;34m\u001b[0m\u001b[0m\n\u001b[0;32m--> 964\u001b[0;31m \u001b[0;32mdef\u001b[0m \u001b[0mfind_common_type\u001b[0m\u001b[0;34m(\u001b[0m\u001b[0marray_types\u001b[0m\u001b[0;34m,\u001b[0m \u001b[0mscalar_types\u001b[0m\u001b[0;34m)\u001b[0m\u001b[0;34m:\u001b[0m\u001b[0;34m\u001b[0m\u001b[0m\n\u001b[0m\u001b[1;32m    965\u001b[0m     \"\"\"\n\u001b[1;32m    966\u001b[0m     \u001b[0mDetermine\u001b[0m \u001b[0mcommon\u001b[0m \u001b[0mtype\u001b[0m \u001b[0mfollowing\u001b[0m \u001b[0mstandard\u001b[0m \u001b[0mcoercion\u001b[0m \u001b[0mrules\u001b[0m\u001b[0;34m.\u001b[0m\u001b[0;34m\u001b[0m\u001b[0m\n",
      "\u001b[0;31mKeyboardInterrupt\u001b[0m: "
     ]
    }
   ],
   "source": [
    "explore_product_by_station(\"train_numeric\", 1184687)"
   ]
  },
  {
   "cell_type": "code",
   "execution_count": null,
   "metadata": {
    "collapsed": true
   },
   "outputs": [],
   "source": [
    "# Value exploration by station part"
   ]
  },
  {
   "cell_type": "code",
   "execution_count": null,
   "metadata": {},
   "outputs": [],
   "source": [
    "# overview again to compare with latter results\n",
    "train_overview = pd.read_csv(INPUT_PATH % 'train_numeric',nrows = read_rows)\n",
    "train_overview.head()"
   ]
  },
  {
   "cell_type": "code",
   "execution_count": null,
   "metadata": {},
   "outputs": [],
   "source": [
    "# overview again with respect to a station\n",
    "def get_station(dataset, station, res = False, show_figure = True):\n",
    "    overview = pd.read_csv(INPUT_PATH % dataset,nrows = read_rows)\n",
    "#     print overview.head()\n",
    "    if res:\n",
    "        columns = overview.columns.drop([\"Response\", \"Id\"])\n",
    "    else:\n",
    "        columns = overview.columns.drop([\"Id\"])\n",
    "        \n",
    "    stations = set([item.split('_')[1] for item in list(columns)])\n",
    "    station_features = {}\n",
    "    for s in stations:\n",
    "        station_features[s] = [item for item in list(columns) if '%s_' % s in item]  \n",
    "#     print overview[station_features[station]].head()\n",
    "    print np.unique(overview[station_features[station]].values)\n",
    "    \n",
    "    overview_explore_nan = pd.DataFrame(columns = stations) \n",
    "    # prepare for dataset with one station\n",
    "    # if contain values not nan\n",
    "    # if no values nan\n",
    "    for s in stations:\n",
    "        overview_explore_nan[s] = overview[station_features[s][0]]\n",
    "    overview_explore_nan =overview_explore_nan[sorted(overview_explore_nan.columns, key=lambda item: int(item[1:]))]\n",
    "    # visualize result in flow path\n",
    "    msno.matrix(overview_explore_nan)\n",
    "    # visualize result in bar counting total number of non-nan value\n",
    "    # msno.bar(overview_explore_nan)\n",
    "    # visualize result in correlation coeficient\n",
    "    msno.heatmap(overview_explore_nan)"
   ]
  },
  {
   "cell_type": "code",
   "execution_count": null,
   "metadata": {
    "scrolled": false
   },
   "outputs": [],
   "source": [
    "# train_numeric\n",
    "# train_date\n",
    "# train_categorical\n",
    "get_station('train_numeric', 'S0', True)"
   ]
  },
  {
   "cell_type": "code",
   "execution_count": null,
   "metadata": {},
   "outputs": [],
   "source": [
    "get_station('train_date', 'S1', False)"
   ]
  },
  {
   "cell_type": "code",
   "execution_count": null,
   "metadata": {
    "collapsed": true
   },
   "outputs": [],
   "source": [
    "get_station('train_categorical', 'S32', False)"
   ]
  },
  {
   "cell_type": "markdown",
   "metadata": {
    "collapsed": true
   },
   "source": [
    "## Categorial Data Exploration Part"
   ]
  },
  {
   "cell_type": "code",
   "execution_count": null,
   "metadata": {
    "scrolled": true
   },
   "outputs": [],
   "source": [
    "lf, sf = explore_features(\"train_categorical\",False)"
   ]
  },
  {
   "cell_type": "code",
   "execution_count": null,
   "metadata": {},
   "outputs": [],
   "source": [
    "# this function is to explore sparsity rate per row\n",
    "def explore_sparse_rate(data_set_name, read_rows):\n",
    "    train_categorical = pd.read_csv(INPUT_PATH % data_set_name,nrows = read_rows).drop([\"Id\"], axis=1)\n",
    "    sparse_rate_each_part = []\n",
    "    sparse_rate_series = train_categorical.isnull().sum(axis = 1)/train_categorical.shape[1]\n",
    "    sparse_rate_df = pd.DataFrame(\n",
    "        sparse_rate_series, columns=['sparse_rate'])\n",
    "    return sparse_rate_df"
   ]
  },
  {
   "cell_type": "code",
   "execution_count": null,
   "metadata": {},
   "outputs": [],
   "source": [
    "explore_sparse_rate('train_categorical', 100)"
   ]
  },
  {
   "cell_type": "code",
   "execution_count": null,
   "metadata": {
    "collapsed": true
   },
   "outputs": [],
   "source": [
    "# This function is to get feeling of the TX value in the dataset\n",
    "def explore_dintinct_Tx_value(data_set_name, read_rows):\n",
    "    train_categorical = pd.read_csv(INPUT_PATH % 'train_categorical',nrows = read_rows)\n",
    "    del train_categorical['Id']\n",
    "    train_categorical_zeroes = train_categorical.fillna(0)\n",
    "    train_categorical_zeroes = train_categorical_zeroes.values \n",
    "    return np.unique(train_categorical_zeroes[train_categorical_zeroes!=0.0])"
   ]
  },
  {
   "cell_type": "code",
   "execution_count": null,
   "metadata": {},
   "outputs": [],
   "source": [
    "explore_dintinct_Tx_value('train_categorical', 30)"
   ]
  },
  {
   "cell_type": "markdown",
   "metadata": {},
   "source": [
    "# Feature Enginnering Part"
   ]
  },
  {
   "cell_type": "markdown",
   "metadata": {
    "collapsed": true
   },
   "source": [
    "## Method 1 : Applying PCA for Dimension Reduction\n",
    "Preliminary work to search for appropriate n component\n",
    "benchmark: how many variance is explained or we maintain how much variance\n",
    "This model isn't added for feature engineeing by now"
   ]
  },
  {
   "cell_type": "code",
   "execution_count": 7,
   "metadata": {},
   "outputs": [],
   "source": [
    "# import additional pakage\n",
    "import math\n",
    "from sklearn.decomposition import PCA, IncrementalPCA\n",
    "from sklearn import preprocessing\n",
    "# define chunksize how many rows load one time\n",
    "chunksize  = 50000"
   ]
  },
  {
   "cell_type": "code",
   "execution_count": null,
   "metadata": {},
   "outputs": [],
   "source": [
    "# Getting the column headers from first rows\n",
    "# Reading as float32 to save Memory \n",
    "data = pd.read_csv(INPUT_PATH % 'train_numeric',nrows=1)\n",
    "float_cols = [c for c in data]\n",
    "float32_cols = {c: np.float32 for c in float_cols}"
   ]
  },
  {
   "cell_type": "code",
   "execution_count": null,
   "metadata": {},
   "outputs": [],
   "source": [
    "# define the number of pc for preliminary decomposition\n",
    "n_components = 968\n",
    "predictors = [x for x in data.keys() if (x != 'Response' and x != 'Id')]"
   ]
  },
  {
   "cell_type": "code",
   "execution_count": null,
   "metadata": {
    "collapsed": true
   },
   "outputs": [],
   "source": [
    "def standard_feature_scaling(df):\n",
    "    std_scale = preprocessing.StandardScaler().fit(df)\n",
    "    df_std = pd.DataFrame(std_scale.transform(df))\n",
    "    df_std.columns = df.columns\n",
    "    df_std.index = df.index\n",
    "    return df_std"
   ]
  },
  {
   "cell_type": "code",
   "execution_count": null,
   "metadata": {},
   "outputs": [],
   "source": [
    "def mean_imputer(DF):\n",
    "    fill_NaN = preprocessing.Imputer(missing_values=np.nan, strategy='median')\n",
    "    imputed_DF = pd.DataFrame(fill_NaN.fit_transform(DF))\n",
    "    imputed_DF.columns = DF.columns\n",
    "    imputed_DF.index = DF.index\n",
    "    return imputed_DF"
   ]
  },
  {
   "cell_type": "code",
   "execution_count": null,
   "metadata": {
    "scrolled": true
   },
   "outputs": [],
   "source": [
    "ipca = IncrementalPCA(n_components=968)\n",
    "# Due to the large dataset read data seperately in chunks and perform IncrementalPCA \n",
    "counter = 0\n",
    "for chunk in pd.read_csv(INPUT_PATH % 'train_numeric', chunksize=chunksize,dtype=float32_cols):\n",
    "    counter += chunksize\n",
    "    print ('processed',counter,'samples')\n",
    "# To do: what value to fill NA \n",
    "    imputed_chunk = chunk[predictors].fillna(0.09)\n",
    "    #imputed_chunk = mean_imputer(chunk[predictors])\n",
    "    scailed_chunk = standard_feature_scaling(imputed_chunk)\n",
    "#    chunk  = scailed_chunk.fillna(0)\n",
    "    ipca.partial_fit(scailed_chunk)\n",
    "print ('Number of Samples Seen:',ipca.n_samples_seen_ )\n"
   ]
  },
  {
   "cell_type": "code",
   "execution_count": null,
   "metadata": {},
   "outputs": [],
   "source": [
    "def get_explained_variance(pca_components):\n",
    "    #print ('Explained variance by %d PCs:' %pca_components, np.sum(ipca.explained_variance_ratio_[:pca_components]))\n",
    "    return np.sum(ipca.explained_variance_ratio_[:pca_components])"
   ]
  },
  {
   "cell_type": "code",
   "execution_count": null,
   "metadata": {
    "scrolled": true
   },
   "outputs": [],
   "source": [
    "# plot how many variance is explained based on how many n_components\n",
    "n_components_value = range(968)\n",
    "n_components_explained_variance = [get_explained_variance(x) for x in n_components_value]\n",
    "explained_variance_pd = pd.DataFrame(n_components_explained_variance, columns=['explained_variance_rate'])\n",
    "my_plot = explained_variance_pd.plot(title=\"explained_variance_rate\", figsize=(10,6), fontsize=12)\n",
    "my_plot.set_ylabel(\"Explained Variance Rate\")\n",
    "my_plot.set_xlabel(\"Number of Component\")\n",
    "n_components_explained_variance"
   ]
  },
  {
   "cell_type": "code",
   "execution_count": null,
   "metadata": {
    "scrolled": true
   },
   "outputs": [],
   "source": [
    "# Make Train DataFrame only with n PC \n",
    "PC_n = ['f'+str(x) for x in range(0,n_components)]\n",
    "date_final = pd.DataFrame(columns=PC_n)\n",
    "for cat in pd.read_csv(INPUT_PATH % 'train_numeric', chunksize=chunksize,dtype=float32_cols):\n",
    "        cat  = cat.fillna(999)\n",
    "        y=ipca.transform(cat[predictors])\n",
    "        temp = cat['Id'].to_frame()\n",
    "        for i in PC_n:\n",
    "            temp[i]=0\n",
    "        temp[PC_n]=y\n",
    "        date_final = date_final.merge(temp, how='outer')\n",
    "print (date_final)\n",
    "date_final['Id'] = date_final['Id'].astype(np.int32)\n",
    "# save new dataset to CSV file \n",
    "train_filename = 'train_numeric_SVD_%s.csv' % n_components\n",
    "#date_final.to_csv(INPUT_PATH % train_filename,index=0)"
   ]
  },
  {
   "cell_type": "code",
   "execution_count": null,
   "metadata": {
    "collapsed": true
   },
   "outputs": [],
   "source": [
    "# Make Test DataFrame only with n PC \n",
    "PC_n = ['f'+str(x) for x in range(0,n_components)]\n",
    "date_final = pd.DataFrame(columns=PC_n)\n",
    "for cat in pd.read_csv('../input/test_numeric.csv', chunksize=chunksize,dtype=float32_cols):\n",
    "        cat  = cat.fillna(999)\n",
    "        y=ipca.transform(cat[predictors])\n",
    "        temp = cat['Id'].to_frame()\n",
    "        for i in PC_n:\n",
    "            temp[i]=0\n",
    "        temp[PC_n]=y\n",
    "        date_final = date_final.merge(temp, how='outer')\n",
    "date_final['Id'] = date_final['Id'].astype(np.int32)\n",
    "test_filename = 'test_numeric_SVD_%s.csv' % n_components\n",
    "# Save dataset to CSV file\n",
    "#date_final.to_csv(INPUT_PATH % test_filename,index=0)"
   ]
  },
  {
   "cell_type": "markdown",
   "metadata": {},
   "source": [
    "## Method 2 : XGBoost to select important features\n",
    "\n",
    "choose 25 top date and numerical features reported by initial xgboost"
   ]
  },
  {
   "cell_type": "code",
   "execution_count": null,
   "metadata": {},
   "outputs": [],
   "source": [
    "# Sample the data in a roundabout way to get 5 percent sample\n",
    "date_chunks = pd.read_csv(\"../data/train_date.csv\", index_col=0, chunksize=10000, dtype=np.float32)\n",
    "num_chunks = pd.read_csv(\"../data/train_numeric.csv\", index_col=0,\n",
    "                         usecols=list(range(969)), chunksize=10000, dtype=np.float32)\n",
    "df_train = pd.concat([pd.concat([dchunk, nchunk], axis=1).sample(frac=0.05)\n",
    "               for dchunk, nchunk in zip(date_chunks, num_chunks)])\n",
    "y_sample = pd.read_csv(\"../data/train_numeric.csv\", index_col=0, usecols=[0,969], dtype=np.float32).loc[df_train.index].values.ravel()\n",
    "x_sample = df_train.values"
   ]
  },
  {
   "cell_type": "code",
   "execution_count": null,
   "metadata": {},
   "outputs": [],
   "source": [
    "# # now just numerical feature to see the result\n",
    "# num_chunks = pd.read_csv(\"../data/train_numeric.csv\", index_col=0,\n",
    "#                          usecols=list(range(969)), chunksize=10000, dtype=np.float32)\n",
    "# df_train = pd.concat([nchunk for nchunk in num_chunks])"
   ]
  },
  {
   "cell_type": "code",
   "execution_count": null,
   "metadata": {},
   "outputs": [],
   "source": [
    "#TODO fit y ravel or not?\n",
    "clf = XGBClassifier(base_score=0.005)\n",
    "clf.fit(x_sample, y_sample)"
   ]
  },
  {
   "cell_type": "code",
   "execution_count": null,
   "metadata": {},
   "outputs": [],
   "source": [
    "fea_importance = pd.DataFrame(clf.feature_importances_)\n",
    "fea_importance.index = df_train.columns\n",
    "fea_importance.columns=[\"feature_importance\"]\n",
    "# select 25 most important feature for xgboost\n",
    "fea_importance_sorted = fea_importance.sort(['feature_importance'], ascending=[0])\n",
    "important_feature_num_date = fea_importance_sorted.ix[0:25,0]\n",
    "important_feature_num_date.plot(kind='bar')"
   ]
  },
  {
   "cell_type": "code",
   "execution_count": null,
   "metadata": {},
   "outputs": [],
   "source": [
    "date_feature_value = pd.read_csv(INPUT_PATH % 'train_date',nrows=1).columns.drop(['Id']).values.tolist()\n",
    "important_feature_num_list = list(set(important_feature_num_date.index.values.tolist())-set(date_feature_value))\n",
    "important_feature_date_list = list(set(important_feature_num_date.index.values.tolist())-set(important_feature_num_list))"
   ]
  },
  {
   "cell_type": "code",
   "execution_count": null,
   "metadata": {},
   "outputs": [],
   "source": [
    "# load entire dataset for these features. \n",
    "X = np.concatenate([\n",
    "    pd.read_csv(\"../data/train_date.csv\", index_col=0, dtype=np.float32,\n",
    "                usecols=['Id']+important_feature_date_list).values,\n",
    "    pd.read_csv(\"../data/train_numeric.csv\", index_col=0, dtype=np.float32,\n",
    "                usecols=['Id']+important_feature_num_list).values\n",
    "], axis=1)\n",
    "\n",
    "y = pd.read_csv(\"../data/train_numeric.csv\", index_col=0, dtype=np.float32, usecols=[0,969]).values.ravel()"
   ]
  },
  {
   "cell_type": "code",
   "execution_count": null,
   "metadata": {},
   "outputs": [],
   "source": [
    "# create important feature dataframe and plot\n",
    "fea_importance = pd.DataFrame(clf.feature_importances_)\n",
    "fea_importance.index = df_train.columns\n",
    "fea_importance.columns=[\"feature_importance\"]\n",
    "\n",
    "fea_importance_new = fea_importance[fea_importance.feature_importance >0.005]\n",
    "fea_importance_new.plot(kind=\"bar\")"
   ]
  },
  {
   "cell_type": "code",
   "execution_count": null,
   "metadata": {},
   "outputs": [],
   "source": [
    "# threshold for a manageable number of features\n",
    "plt.hist(clf.feature_importances_[clf.feature_importances_>0])\n",
    "important_indices = np.where(clf.feature_importances_>0.005)[0]\n",
    "print(important_indices)"
   ]
  },
  {
   "cell_type": "code",
   "execution_count": null,
   "metadata": {
    "collapsed": true
   },
   "outputs": [],
   "source": [
    "# load entire dataset for these features. \n",
    "# note where the feature indices are split so we can load the correct ones straight from read_csv\n",
    "n_date_features = 1156\n",
    "X = np.concatenate([\n",
    "    pd.read_csv(\"../data/train_date.csv\", index_col=0, dtype=np.float32,\n",
    "                usecols=np.concatenate([[0], important_indices[important_indices < n_date_features] + 1])).values,\n",
    "    pd.read_csv(\"../data/train_numeric.csv\", index_col=0, dtype=np.float32,\n",
    "                usecols=np.concatenate([[0], important_indices[important_indices >= n_date_features] + 1 - n_date_features])).values\n",
    "], axis=1)\n",
    "\n",
    "y = pd.read_csv(\"../data/train_numeric.csv\", index_col=0, dtype=np.float32, usecols=[0,969]).values.ravel()"
   ]
  },
  {
   "cell_type": "code",
   "execution_count": null,
   "metadata": {
    "collapsed": true
   },
   "outputs": [],
   "source": [
    "# --------------------------------\n",
    "# select top 20 important numerical feature\n",
    "num_chunks = pd.read_csv(\"../data/train_numeric.csv\", index_col=0,\n",
    "                         usecols=list(range(969)), chunksize=10000, dtype=np.float32)"
   ]
  },
  {
   "cell_type": "markdown",
   "metadata": {},
   "source": [
    "## Method 3 : Magic Feature \n",
    "This features are reported by Faron in the forum\n",
    "\n",
    "Start time.   Component(part) production start time\n",
    "\n",
    "MF1.  difference of Id between current and previous rows \n",
    "\n",
    "MF2.  difference of Id between current and next rows \n",
    "\n",
    "MF3.  difference of Id between current and previous rows after sorting on increasing StartTime and Id\n",
    "\n",
    "MF4.  difference of Id between current and next rows after sorting on increasing StartTime and Id\n"
   ]
  },
  {
   "cell_type": "code",
   "execution_count": 14,
   "metadata": {},
   "outputs": [],
   "source": [
    "ID_COLUMN = 'Id'\n",
    "TARGET_COLUMN = 'Response'\n",
    "train = pd.read_csv(INPUT_PATH %'train_numeric', usecols=[ID_COLUMN, TARGET_COLUMN])\n",
    "\n",
    "test = pd.read_csv(INPUT_PATH %'test_numeric', usecols=[ID_COLUMN])"
   ]
  },
  {
   "cell_type": "code",
   "execution_count": 15,
   "metadata": {
    "collapsed": true
   },
   "outputs": [],
   "source": [
    "# Start Time feature\n",
    "train[\"StartTime\"] = -1\n",
    "test[\"StartTime\"] = -1\n",
    "# Duration time feature\n",
    "train[\"Duration\"] = -1\n",
    "test[\"Duration\"] = -1"
   ]
  },
  {
   "cell_type": "code",
   "execution_count": 16,
   "metadata": {},
   "outputs": [],
   "source": [
    "# fill in start time\n",
    "for tr, te in zip(pd.read_csv(INPUT_PATH %'train_date', chunksize=50000), pd.read_csv(INPUT_PATH %'test_date', chunksize=50000)):\n",
    "    #pick all columns except ID\n",
    "    feats = np.setdiff1d(tr.columns, [ID_COLUMN])\n",
    "\n",
    "    stime_tr = tr[feats].min(axis=1).values\n",
    "    stime_te = te[feats].min(axis=1).values\n",
    "    \n",
    "    etime_tr = tr[feats].max(axis=1).values\n",
    "    etime_te = te[feats].max(axis=1).values\n",
    "\n",
    "    train.loc[train.Id.isin(tr.Id), 'StartTime'] = stime_tr\n",
    "    test.loc[test.Id.isin(te.Id), 'StartTime'] = stime_te\n",
    "    \n",
    "    train.loc[train.Id.isin(tr.Id), 'Duration'] = etime_tr - stime_tr\n",
    "    test.loc[test.Id.isin(te.Id), 'Duration'] = etime_te - stime_te"
   ]
  },
  {
   "cell_type": "code",
   "execution_count": 17,
   "metadata": {},
   "outputs": [],
   "source": [
    "ntrain = train.shape[0]\n",
    "train_test = pd.concat((train, test)).reset_index(drop=True).reset_index(drop=False)\n",
    "# Begin to create MF1 & MF2\n",
    "train_test['MF1'] = train_test[ID_COLUMN].diff().fillna(9999999).astype(int)\n",
    "train_test['MF2'] = train_test[ID_COLUMN].iloc[::-1].diff().fillna(9999999).astype(int)\n",
    "\n",
    "train_test = train_test.sort_values(by=['StartTime', 'Id'], ascending=True)\n",
    "# Begin to create MF3 & MF4\n",
    "train_test['MF3'] = train_test[ID_COLUMN].diff().fillna(9999999).astype(int)\n",
    "train_test['MF4'] = train_test[ID_COLUMN].iloc[::-1].diff().fillna(9999999).astype(int)\n",
    "\n",
    "train_test = train_test.sort_values(by=['index']).drop(['index'], axis=1)\n",
    "train = train_test.iloc[:ntrain, :]\n",
    "test = train_test.iloc[ntrain:, :]\n",
    "\n",
    "features = np.setdiff1d(list(train.columns), [TARGET_COLUMN, ID_COLUMN])"
   ]
  },
  {
   "cell_type": "code",
   "execution_count": 18,
   "metadata": {
    "scrolled": true
   },
   "outputs": [],
   "source": [
    "df_magic_feature_train = train[features]\n",
    "df_magic_feature_test = test[features]"
   ]
  },
  {
   "cell_type": "code",
   "execution_count": 20,
   "metadata": {},
   "outputs": [
    {
     "data": {
      "text/plain": [
       "(1183747, 6)"
      ]
     },
     "execution_count": 20,
     "metadata": {},
     "output_type": "execute_result"
    }
   ],
   "source": [
    "df_magic_feature_train.shape"
   ]
  },
  {
   "cell_type": "code",
   "execution_count": null,
   "metadata": {
    "collapsed": true
   },
   "outputs": [],
   "source": [
    "# ntrain = train.shape[0]\n",
    "# train_test = pd.concat((train, test)).reset_index(drop=True).reset_index(drop=False)\n",
    "# # Begin to create MF1 & MF2\n",
    "# train_test['MF1'] = train_test[ID_COLUMN].diff().fillna(9999999).astype(int)\n",
    "# train_test['MF2'] = train_test[ID_COLUMN].iloc[::-1].diff().fillna(9999999).astype(int)\n",
    "\n",
    "# train_test = train_test.sort_values(by=['StartTime', 'Id'], ascending=True)\n",
    "# # Begin to create MF3 & MF4\n",
    "# train_test['MF3'] = train_test[ID_COLUMN].diff().fillna(9999999).astype(int)\n",
    "# train_test['MF4'] = train_test[ID_COLUMN].iloc[::-1].diff().fillna(9999999).astype(int)\n",
    "\n",
    "# train_test = train_test.sort_values(by=['index']).drop(['index'], axis=1)\n",
    "# train = train_test.iloc[:ntrain, :]\n",
    "\n",
    "# features = np.setdiff1d(list(train.columns), [TARGET_COLUMN, ID_COLUMN])\n",
    "\n",
    "# y = train.Response.ravel()\n",
    "# train = np.array(train[features])\n",
    "\n",
    "# print('train: {0}'.format(train.shape))\n",
    "# prior = np.sum(y) / (1.*len(y))"
   ]
  },
  {
   "cell_type": "markdown",
   "metadata": {
    "collapsed": true
   },
   "source": []
  },
  {
   "cell_type": "markdown",
   "metadata": {},
   "source": [
    "## Combine all features and Finish feature engineering"
   ]
  },
  {
   "cell_type": "code",
   "execution_count": null,
   "metadata": {},
   "outputs": [],
   "source": [
    "# train_feature will be the ensembled feature afterwards\n",
    "train_feature = pd.DataFrame(X)\n"
   ]
  },
  {
   "cell_type": "code",
   "execution_count": null,
   "metadata": {},
   "outputs": [],
   "source": [
    "# put important feature in the dataframe \n",
    "train_feature.columns = important_feature_num_date.index\n",
    "train_feature = pd.concat([train_feature,df_magic_feature_train],axis=1)\n",
    "#end of feature selection"
   ]
  },
  {
   "cell_type": "code",
   "execution_count": null,
   "metadata": {},
   "outputs": [],
   "source": [
    "train_feature.shape"
   ]
  },
  {
   "cell_type": "markdown",
   "metadata": {},
   "source": [
    "## Select Engineered features from R and feature tuning\n",
    "\n",
    "These are currently used feature from the R script\n",
    "see feature engineering R file in the same directory"
   ]
  },
  {
   "cell_type": "code",
   "execution_count": 3,
   "metadata": {
    "collapsed": true
   },
   "outputs": [],
   "source": [
    "def strategy_imputer(DF,strategy=\"median\"):\n",
    "    fill_NaN = preprocessing.Imputer(missing_values=np.nan, strategy=strategy)\n",
    "    imputed_DF = pd.DataFrame(fill_NaN.fit_transform(DF))\n",
    "    imputed_DF.columns = DF.columns\n",
    "    imputed_DF.index = DF.index\n",
    "    return imputed_DF"
   ]
  },
  {
   "cell_type": "code",
   "execution_count": 4,
   "metadata": {},
   "outputs": [],
   "source": [
    "tl_df = pd.read_csv(\"../input/engineered_feature.csv\", index_col=0, dtype=np.float32)\n",
    "train_index = tl_df[\"target\"].notnull()\n",
    "test_index = tl_df[\"target\"].isnull()"
   ]
  },
  {
   "cell_type": "code",
   "execution_count": 5,
   "metadata": {
    "collapsed": true
   },
   "outputs": [],
   "source": [
    "# a=pd.read_csv(\"../data/name1.csv\", index_col=0, dtype=np.float32)"
   ]
  },
  {
   "cell_type": "code",
   "execution_count": 6,
   "metadata": {},
   "outputs": [],
   "source": [
    "# fill in missing values before loading into the model\n",
    "# tl_imputed=strategy_imputer(tl_df)\n",
    "tl_imputed = tl_df.fillna(0)\n",
    "tl_train = tl_imputed[train_index]\n",
    "tl_test = tl_imputed[test_index]\n",
    "target_y = tl_train[\"target\"]\n",
    "del tl_train[\"target\"]\n",
    "del tl_test[\"target\"]\n",
    "# tl_test.columns = ['f0', 'f1', 'f2', 'f3', 'f4', \n",
    "#             'f5', 'f6', 'f7', 'f8', 'f9', 'f10', 'f11', \n",
    "#             'f12', 'f13', 'f14', 'f15', 'f16', 'f17', 'f18',\n",
    "#             'f19', 'f20', 'f21', 'f22', 'f23', 'f24', 'f25', 'f26', 'f27']"
   ]
  },
  {
   "cell_type": "code",
   "execution_count": 7,
   "metadata": {
    "scrolled": true
   },
   "outputs": [],
   "source": [
    "# convert into ndarray\n",
    "train_x = tl_train.values\n",
    "train_y = target_y.values\n",
    "test_x = tl_test.values"
   ]
  },
  {
   "cell_type": "markdown",
   "metadata": {},
   "source": [
    "# Model Development "
   ]
  },
  {
   "cell_type": "markdown",
   "metadata": {},
   "source": [
    "## Model 0: Decision Tree－starter"
   ]
  },
  {
   "cell_type": "code",
   "execution_count": 15,
   "metadata": {},
   "outputs": [],
   "source": [
    "from sklearn import tree\n",
    "clf_decisiontree = tree.DecisionTreeClassifier()\n",
    "# report_out_of_fold_score(clf_decisiontree,train_x)"
   ]
  },
  {
   "cell_type": "code",
   "execution_count": 12,
   "metadata": {},
   "outputs": [
    {
     "name": "stdout",
     "output_type": "stream",
     "text": [
      "0.142\n",
      "submission.csv.gz\n"
     ]
    }
   ],
   "source": [
    "clf_decisiontree.fit(train_x, train_y)\n",
    "make_submission(clf_decisiontree, best_threshold=0.142)"
   ]
  },
  {
   "cell_type": "markdown",
   "metadata": {},
   "source": [
    "## Model 1 : XGBoost"
   ]
  },
  {
   "cell_type": "code",
   "execution_count": 29,
   "metadata": {},
   "outputs": [],
   "source": [
    "# self-defined xgb model wrapper including data processing, model fit, predict and result \n",
    "def modelfit(alg, dtrain, labels,useTrainCV=True, model_fit=True, fea_impor=True, model_predict=True,cv_folds=5, early_stopping_rounds=30):\n",
    "    # trainCV with early stop so we don't need to use sciki-learn GridsearchCV , the later can't run in my computer\n",
    "    best_threshold = 0.5\n",
    "    if useTrainCV:\n",
    "        xgb_param = alg.get_xgb_params()\n",
    "        xgtrain = xgb.DMatrix(dtrain, label=labels)\n",
    "        cvresult = xgb.cv(xgb_param, xgtrain, num_boost_round=alg.get_params()['n_estimators'], nfold=cv_folds,\n",
    "                        metrics='auc', early_stopping_rounds=early_stopping_rounds, verbose_eval=True)\n",
    "#         print cvresult\n",
    "#         return\n",
    "        alg.set_params(n_estimators=cvresult.shape[0])\n",
    "        plt.figure(8)\n",
    "        plt.plot(range(alg.get_params()['n_estimators']), cvresult[\"train-auc-mean\"].values)\n",
    "        plt.plot(range(alg.get_params()['n_estimators']), cvresult[\"test-auc-mean\"].values)\n",
    "        plt.legend(['train', 'test'], loc='upper left')\n",
    "        plt.xlabel('training rounds')\n",
    "        plt.ylabel('Auc')\n",
    "        plt.show()\n",
    "    if model_fit:\n",
    "        #Fit the algorithm on the data\n",
    "        alg.fit(dtrain, labels, eval_metric='auc')\n",
    "        print (\"fit done\")\n",
    "    if fea_impor:\n",
    "        plt.figure(9)\n",
    "        feat_imp = pd.Series(alg.booster().get_fscore()).sort_values(ascending=False)\n",
    "        feat_imp.plot(kind='bar', title='Feature Importances')\n",
    "        plt.ylabel('Feature Importance Score')\n",
    "        plt.show()\n",
    "    if model_predict:\n",
    "    #Predict training set:\n",
    "        dtrain_predprob = alg.predict_proba(dtrain.values)[:,1]\n",
    "        thresholds = np.linspace(0.01, 0.99, 50)\n",
    "        mcc = np.array([matthews_corrcoef(labels, dtrain_predprob>thr) for thr in thresholds])    \n",
    "        plt.figure(10)\n",
    "        plt.plot(thresholds, mcc)\n",
    "        plt.show()\n",
    "        best_threshold = thresholds[mcc.argmax()]\n",
    "        print('MCC is' + str(mcc.max()))\n",
    "        print('best threshold is'+ str(best_threshold))\n",
    "    return best_threshold\n",
    "    \n",
    "        \n",
    "    #Print model report:\n",
    "#     print (\"\\nModel Report\")\n",
    "#     print (\"Accuracy : %.4g\" % metrics.accuracy_score(dtrain[target].values, dtrain_predictions))\n",
    "#     print (\"AUC Score (Train): %f\" % metrics.roc_auc_score(dtrain[target], dtrain_predprob))\n",
    "                    \n",
    "#     feat_imp = pd.Series(alg.booster().get_fscore()).sort_values(ascending=False)\n",
    "#     feat_imp.plot(kind='bar', title='Feature Importances')\n",
    "#     plt.ylabel('Feature Importance Score')"
   ]
  },
  {
   "cell_type": "code",
   "execution_count": null,
   "metadata": {
    "collapsed": true
   },
   "outputs": [],
   "source": []
  },
  {
   "cell_type": "code",
   "execution_count": 125,
   "metadata": {
    "collapsed": true
   },
   "outputs": [],
   "source": [
    "### Training and Cross Validation Part"
   ]
  },
  {
   "cell_type": "code",
   "execution_count": 304,
   "metadata": {
    "scrolled": true
   },
   "outputs": [],
   "source": [
    "xgb_starter = XGBClassifier(\n",
    " learning_rate =0.05,\n",
    " n_estimators=91,\n",
    " max_depth=10,\n",
    " min_child_weight=1,\n",
    " gamma=0,\n",
    " subsample=0.85,\n",
    " colsample_bytree=0.5,\n",
    " objective= 'reg:linear',\n",
    " nthread=4,\n",
    " scale_pos_weight=1,\n",
    " seed=0)\n",
    "\n",
    "# xgb_starter.fit(train_x,train_y)\n",
    "\n",
    "# train_x = tl_train.values\n",
    "# train_y = target_y.values\n",
    "\n",
    "# report_out_of_fold_score(xgb_starter)\n",
    "# best_threshold = modelfit(xgb_starter, train_x, train_y.ravel())\n",
    "# best_threshold = 0.318"
   ]
  },
  {
   "cell_type": "code",
   "execution_count": 87,
   "metadata": {},
   "outputs": [
    {
     "name": "stdout",
     "output_type": "stream",
     "text": [
      "submission.csv.gz\n"
     ]
    }
   ],
   "source": [
    "make_submission(xgb_starter,best_threshold=0.318)"
   ]
  },
  {
   "cell_type": "code",
   "execution_count": 89,
   "metadata": {},
   "outputs": [
    {
     "name": "stdout",
     "output_type": "stream",
     "text": [
      "Fold 0\n",
      "Fold 1\n",
      "Fold 2\n",
      "Fold 3\n",
      "Fold 4\n"
     ]
    }
   ],
   "source": [
    "get_out_of_fold_prediction(xgb_starter,\"XGBoost\",5,)"
   ]
  },
  {
   "cell_type": "code",
   "execution_count": 9,
   "metadata": {
    "collapsed": true
   },
   "outputs": [],
   "source": [
    "def report_out_of_fold_score(clf_test,train_x):\n",
    "    n_folds=5\n",
    "    skf = StratifiedKFold(target_y, n_folds)\n",
    "\n",
    "    \n",
    "    preds = np.ones(train_y.shape[0])\n",
    "    aucs=np.ones(n_folds)\n",
    "    mccs=np.ones(n_folds)\n",
    "    ths=np.ones(n_folds)\n",
    "    for i, (train, test) in enumerate(skf):\n",
    "        print \"Fold\", i\n",
    "        clf_test.fit(train_x[train], train_y[train])\n",
    "#         print(\"fold {}, best round: {}\".format(i, clf_test.best_round))\n",
    "        preds[test] =clf_test.predict_proba(train_x[test])[:,1]\n",
    "        print(\"fold {}, ROC AUC: {:.3f}\".format(i, roc_auc_score(train_y[test], preds[test])))\n",
    "        thresholds = np.linspace(0.01, 0.99, 50)\n",
    "        mcc = np.array([matthews_corrcoef(train_y[test], preds[test]>thr) for thr in thresholds])  \n",
    "        print(\"fold {}, TH: {:.3f}, MCC: MAX {:.3f}\".format(i,thresholds[mcc.argmax()],mcc.max()))\n",
    "        ths[i]=thresholds[mcc.argmax()]\n",
    "        aucs[i]=roc_auc_score(train_y[test], preds[test])\n",
    "        mccs[i]=mcc.max()\n",
    "    print(\"mean out of fold AUC \"+str(np.mean(aucs)))\n",
    "    print(\"mean out of fold MCC \"+str(np.mean(mccs)))\n",
    "    print(\"mean out of fold ths \"+str(np.mean(ths)))"
   ]
  },
  {
   "cell_type": "code",
   "execution_count": null,
   "metadata": {
    "collapsed": true
   },
   "outputs": [],
   "source": [
    "def report_out_of_fold_score_predict(clf_test):\n",
    "    n_folds=5\n",
    "    skf = StratifiedKFold(target_y, n_folds)\n",
    "\n",
    "\n",
    "    preds = np.ones(train_y.shape[0])\n",
    "    aucs=np.ones(n_folds)\n",
    "    mccs=np.ones(n_folds)\n",
    "    for i, (train, test) in enumerate(skf):\n",
    "        print \"Fold\", i\n",
    "        clf_test.fit(train_x[train], train_y[train])\n",
    "        preds[test] = clf_test.predict(train_x[test])\n",
    "        print(\"fold {}, ROC AUC: {:.3f}\".format(i, roc_auc_score(train_y[test], preds[test])))\n",
    "#         thresholds = np.linspace(0.01, 0.99, 50)\n",
    "        mcc = matthews_corrcoef(train_y[test], preds[test])\n",
    "        print(\"fold {}, MCC: MAX {:.3f}\".format(i,mcc))\n",
    "        aucs[i]=roc_auc_score(train_y[test], preds[test])\n",
    "        mccs[i]=mcc\n",
    "    print(\"mean out of fold AUC \"+str(np.mean(aucs)))\n",
    "    print(\"mean out of fold MCC \"+str(np.mean(mccs)))\n",
    "    "
   ]
  },
  {
   "cell_type": "markdown",
   "metadata": {},
   "source": [
    "## Model 2 random forest\n",
    "This model gived AUC  (91%), MCC (MCC 0.47)"
   ]
  },
  {
   "cell_type": "code",
   "execution_count": null,
   "metadata": {},
   "outputs": [],
   "source": [
    "n_folds=5\n",
    "skf = StratifiedKFold(target_y, n_folds)\n",
    "# clf = RandomForestClassifier(n_estimators=100, n_jobs=-1, criterion='entropy')\n",
    "clf_fold = RandomForestClassifier(n_estimators = 100, n_jobs = -1,random_state =1, \n",
    "                             max_features = \"auto\", min_samples_leaf =3 ,criterion='entropy' )\n",
    "preds = np.ones(train_y.shape[0])"
   ]
  },
  {
   "cell_type": "code",
   "execution_count": 3,
   "metadata": {},
   "outputs": [],
   "source": [
    "clf_rf_entropy = RandomForestClassifier(n_estimators = 100, oob_score = True, n_jobs = -1,random_state =1, \n",
    "                             max_features = \"auto\", min_samples_leaf = 3,criterion='entropy')\n",
    "\n",
    "# clf_rf_entropy.fit(train_x,train_y)\n",
    "# make_submission(clf_rf_entropy,best_threshold = 0.29)\n",
    "# report_out_of_fold_score(clf_rf_entropy,train_x)"
   ]
  },
  {
   "cell_type": "code",
   "execution_count": 11,
   "metadata": {},
   "outputs": [
    {
     "name": "stdout",
     "output_type": "stream",
     "text": [
      "Fold 0\n",
      "Fold 1\n",
      "Fold 2\n",
      "Fold 3\n",
      "Fold 4\n"
     ]
    }
   ],
   "source": [
    "get_out_of_fold_prediction(clf_rf_entropy,\"rf_entropy\",5)"
   ]
  },
  {
   "cell_type": "code",
   "execution_count": 14,
   "metadata": {},
   "outputs": [],
   "source": [
    "clf_rf_gini = RandomForestClassifier(n_estimators = 100, n_jobs = -1,random_state =1, \n",
    "                             max_features = \"auto\", min_samples_leaf = 3,criterion='gini')\n",
    "\n",
    "# report_out_of_fold_score(clf_rf_gini,train_x)\n",
    "clf_rf_gini.fit(train_x,train_y)\n",
    "make_submission(clf_rf_gini,best_threshold = 0.29 )"
   ]
  },
  {
   "cell_type": "code",
   "execution_count": 15,
   "metadata": {},
   "outputs": [
    {
     "name": "stdout",
     "output_type": "stream",
     "text": [
      "Fold 0\n",
      "Fold 1\n",
      "Fold 2\n",
      "Fold 3\n",
      "Fold 4\n"
     ]
    }
   ],
   "source": [
    "get_out_of_fold_prediction(clf_rf_gini,\"rf_gini\",5)"
   ]
  },
  {
   "cell_type": "markdown",
   "metadata": {},
   "source": [
    "## Model 3 Extra tree classifier "
   ]
  },
  {
   "cell_type": "code",
   "execution_count": null,
   "metadata": {
    "scrolled": true
   },
   "outputs": [],
   "source": [
    "clf_extr_entropy = ExtraTreesClassifier(n_estimators=150, n_jobs=-1, criterion='entropy',\n",
    "                               max_features=\"auto\", min_samples_leaf=3, random_state=0)\n",
    "\n",
    "report_out_of_fold_score(clf_extr_entropy,train_x)\n",
    "# clf_extr_entropy.fit(train_x,train_y)\n",
    "# make_submission(clf_extr_entropy,best_threshold = 0.298)\n"
   ]
  },
  {
   "cell_type": "code",
   "execution_count": 105,
   "metadata": {
    "scrolled": false
   },
   "outputs": [
    {
     "name": "stdout",
     "output_type": "stream",
     "text": [
      "Fold 0\n",
      "Fold 1\n",
      "Fold 2\n",
      "Fold 3\n",
      "Fold 4\n"
     ]
    }
   ],
   "source": [
    "get_out_of_fold_prediction(clf_extr_entropy,\"extr_entropy\",5)"
   ]
  },
  {
   "cell_type": "code",
   "execution_count": 24,
   "metadata": {},
   "outputs": [
    {
     "name": "stdout",
     "output_type": "stream",
     "text": [
      "0.306\n",
      "submission.csv.gz\n"
     ]
    }
   ],
   "source": [
    "clf_extr_gini = ExtraTreesClassifier(n_estimators=150, n_jobs=-1, criterion='gini',\n",
    "                               max_features=\"auto\", min_samples_leaf=3, random_state=0)\n",
    "# report_out_of_fold_score(clf_extr_gini,train_x)\n",
    "clf_extr_gini.fit(train_x,train_y)\n",
    "make_submission(clf_extr_gini,best_threshold = 0.306)"
   ]
  },
  {
   "cell_type": "code",
   "execution_count": 23,
   "metadata": {
    "scrolled": true
   },
   "outputs": [
    {
     "name": "stdout",
     "output_type": "stream",
     "text": [
      "Fold 0\n",
      "Fold 1\n",
      "Fold 2\n",
      "Fold 3\n",
      "Fold 4\n"
     ]
    }
   ],
   "source": [
    "get_out_of_fold_prediction(clf_extr_gini,\"extr_gini\",5)\n",
    "# clf_extr_gini.get_params().keys()"
   ]
  },
  {
   "cell_type": "markdown",
   "metadata": {},
   "source": [
    "## Model 4 LightGBM"
   ]
  },
  {
   "cell_type": "code",
   "execution_count": 42,
   "metadata": {},
   "outputs": [],
   "source": [
    "exec_path = \"~/Desktop/project/LightGBM/lightgbm\""
   ]
  },
  {
   "cell_type": "code",
   "execution_count": 76,
   "metadata": {},
   "outputs": [
    {
     "name": "stdout",
     "output_type": "stream",
     "text": [
      "pyLightGBM is looking for 'LIGHTGBM_EXEC' environment variable, cannot be found.\n",
      "exec_path will be deprecated in favor of environment variable\n"
     ]
    }
   ],
   "source": [
    "clf_lightgbm = GBMClassifier(exec_path=exec_path,early_stopping_round=10,verbose=True,\n",
    "                            learning_rate=0.15,num_iterations=100, min_data_in_leaf=3,metric=\"roc_auc\")"
   ]
  },
  {
   "cell_type": "code",
   "execution_count": null,
   "metadata": {
    "scrolled": true
   },
   "outputs": [],
   "source": [
    "report_out_of_fold_score(clf_lightgbm,train_x)"
   ]
  },
  {
   "cell_type": "code",
   "execution_count": null,
   "metadata": {
    "scrolled": true
   },
   "outputs": [],
   "source": [
    "clf_lightgbm.fit(train_x,train_y)"
   ]
  },
  {
   "cell_type": "code",
   "execution_count": 79,
   "metadata": {},
   "outputs": [
    {
     "name": "stdout",
     "output_type": "stream",
     "text": [
      "[LightGBM] [Info] Finished loading parameters\n",
      "[LightGBM] [Info] Finished loading 100 models\n",
      "[LightGBM] [Info] Finished initializing prediction\n",
      "[LightGBM] [Info] Finished prediction\n",
      "submission.csv.gz\n"
     ]
    }
   ],
   "source": [
    "make_submission(clf_lightgbm,best_threshold = 0.47)"
   ]
  },
  {
   "cell_type": "code",
   "execution_count": null,
   "metadata": {
    "scrolled": true
   },
   "outputs": [],
   "source": [
    "get_out_of_fold_prediction(clf_lightgbm,\"lightGBM\",5)"
   ]
  },
  {
   "cell_type": "code",
   "execution_count": 80,
   "metadata": {
    "collapsed": true
   },
   "outputs": [],
   "source": [
    "def get_threshold(clf):\n",
    "    pred = clf.predict_proba(train_x)[:,1]\n",
    "    thresholds = np.linspace(0.01, 0.99, 50)\n",
    "    mcc = np.array([matthews_corrcoef(train_y, pred>thr) for thr in thresholds])    \n",
    "    plt.figure(10)\n",
    "    plt.plot(thresholds, mcc)\n",
    "    plt.show()\n",
    "    best_threshold = thresholds[mcc.argmax()]\n",
    "    print('MCC is' + str(mcc.max()))\n",
    "    print('best threshold is'+ str(best_threshold))\n",
    "    return best_threshold"
   ]
  },
  {
   "cell_type": "markdown",
   "metadata": {},
   "source": [
    "## Model 5 KNN\n",
    "so slow, didn't include in first-round stacking"
   ]
  },
  {
   "cell_type": "code",
   "execution_count": 13,
   "metadata": {
    "collapsed": true
   },
   "outputs": [],
   "source": [
    "from sklearn import neighbors"
   ]
  },
  {
   "cell_type": "code",
   "execution_count": 14,
   "metadata": {
    "collapsed": true
   },
   "outputs": [],
   "source": [
    "def standard_feature_scaling(df):\n",
    "    std_scale = preprocessing.StandardScaler().fit(df)\n",
    "    df_std = pd.DataFrame(std_scale.transform(df))\n",
    "    df_std.columns = df.columns\n",
    "    df_std.index = df.index\n",
    "    return df_std"
   ]
  },
  {
   "cell_type": "code",
   "execution_count": 15,
   "metadata": {
    "collapsed": true
   },
   "outputs": [],
   "source": [
    "tl_df = pd.read_csv(\"../input/engineered_feature.csv\", index_col=0, dtype=np.float32)\n",
    "train_index = tl_df[\"target\"].notnull()\n",
    "test_index = tl_df[\"target\"].isnull()"
   ]
  },
  {
   "cell_type": "code",
   "execution_count": 23,
   "metadata": {},
   "outputs": [],
   "source": [
    "# fill in missing values before RF\n",
    "# tl_imputed=strategy_imputer(tl_df)\n",
    "tl_imputed = tl_df.fillna(0)\n",
    "tl_standarized = standard_feature_scaling(tl_imputed)\n",
    "tl_train = tl_standarized[train_index]\n",
    "tl_test = tl_standarized[test_index]\n",
    "target_y = tl_imputed[train_index][\"target\"]\n",
    "del tl_train[\"target\"]"
   ]
  },
  {
   "cell_type": "code",
   "execution_count": 24,
   "metadata": {
    "collapsed": true
   },
   "outputs": [],
   "source": [
    "# convert into ndarray\n",
    "train_x = tl_train.values\n",
    "train_y = target_y.values"
   ]
  },
  {
   "cell_type": "code",
   "execution_count": 26,
   "metadata": {},
   "outputs": [
    {
     "data": {
      "text/plain": [
       "ID\n",
       "4.0     0.0\n",
       "6.0     0.0\n",
       "7.0     0.0\n",
       "9.0     0.0\n",
       "11.0    0.0\n",
       "Name: target, dtype: float32"
      ]
     },
     "execution_count": 26,
     "metadata": {},
     "output_type": "execute_result"
    }
   ],
   "source": [
    "target_y.head()"
   ]
  },
  {
   "cell_type": "code",
   "execution_count": null,
   "metadata": {
    "collapsed": true
   },
   "outputs": [],
   "source": [
    "n_neighbors=5\n",
    "clf = neighbors.KNeighborsClassifier(n_neighbors)"
   ]
  },
  {
   "cell_type": "code",
   "execution_count": null,
   "metadata": {
    "collapsed": true
   },
   "outputs": [],
   "source": [
    "report_out_of_fold_score(clf)"
   ]
  },
  {
   "cell_type": "code",
   "execution_count": null,
   "metadata": {
    "collapsed": true
   },
   "outputs": [],
   "source": []
  },
  {
   "cell_type": "markdown",
   "metadata": {},
   "source": [
    "## Model 6 Kernel SVM\n",
    "So slow, didn't include in first-round stacking"
   ]
  },
  {
   "cell_type": "code",
   "execution_count": null,
   "metadata": {
    "collapsed": true
   },
   "outputs": [],
   "source": [
    "from sklearn.svm import SVC\n",
    "clf = SVC(kernel='rbf',probability=True,C=1,gamma='auto')\n",
    "report_out_of_fold_score(clf)"
   ]
  },
  {
   "cell_type": "markdown",
   "metadata": {},
   "source": [
    "## Model 7 Adaboost\n",
    "So slow, didn't include in first-round stacking"
   ]
  },
  {
   "cell_type": "code",
   "execution_count": 2,
   "metadata": {
    "collapsed": true
   },
   "outputs": [],
   "source": [
    "from sklearn.ensemble import AdaBoostClassifier"
   ]
  },
  {
   "cell_type": "code",
   "execution_count": null,
   "metadata": {
    "collapsed": true
   },
   "outputs": [],
   "source": [
    "bdt = AdaBoostClassifier(random_state=1,\n",
    "                         learning_rate=1,\n",
    "                         n_estimators=200)\n",
    "report_out_of_fold_score(bdt)"
   ]
  },
  {
   "cell_type": "markdown",
   "metadata": {},
   "source": [
    "## Model 8 GBM \n",
    "Slower than xgboost, didn't add now"
   ]
  },
  {
   "cell_type": "markdown",
   "metadata": {},
   "source": [
    "## Model Hyper-Parameter Tuning Part\n",
    "This place is using gridsearch cv for hyper-parameter tuning"
   ]
  },
  {
   "cell_type": "code",
   "execution_count": 16,
   "metadata": {
    "collapsed": true
   },
   "outputs": [],
   "source": [
    "from sklearn import tree\n",
    "clf_decisiontree = tree.DecisionTreeClassifier()\n",
    "# report_out_of_fold_score(clf_decisiontree,train_x)"
   ]
  },
  {
   "cell_type": "code",
   "execution_count": 19,
   "metadata": {},
   "outputs": [
    {
     "name": "stdout",
     "output_type": "stream",
     "text": [
      "Fitting 5 folds for each of 6 candidates, totalling 30 fits\n"
     ]
    },
    {
     "name": "stderr",
     "output_type": "stream",
     "text": [
      "[Parallel(n_jobs=1)]: Done  30 out of  30 | elapsed: 12.5min finished\n"
     ]
    },
    {
     "name": "stdout",
     "output_type": "stream",
     "text": [
      "('Grid score: ', [mean: 0.65871, std: 0.00740, params: {'criterion': 'entropy', 'min_samples_leaf': 1}, mean: 0.64745, std: 0.00434, params: {'criterion': 'entropy', 'min_samples_leaf': 2}, mean: 0.65457, std: 0.00453, params: {'criterion': 'entropy', 'min_samples_leaf': 3}, mean: 0.65817, std: 0.00603, params: {'criterion': 'gini', 'min_samples_leaf': 1}, mean: 0.64406, std: 0.00641, params: {'criterion': 'gini', 'min_samples_leaf': 2}, mean: 0.64625, std: 0.00724, params: {'criterion': 'gini', 'min_samples_leaf': 3}])\n",
      "('Best score: ', 0.65871215814035466)\n",
      "('Best params: ', {'criterion': 'entropy', 'min_samples_leaf': 1})\n"
     ]
    }
   ],
   "source": [
    "param_grid = {'min_samples_leaf': [1,2,3], 'criterion': ['entropy','gini']}\n",
    "# clf_decisiontree.fit(train_x, train_y)\n",
    "random_search_report(clf_decisiontree, param_grid, train_x, n_iter=6)\n",
    "# make_submission(clf_decisiontree, best_threshold=0.142)"
   ]
  },
  {
   "cell_type": "code",
   "execution_count": 39,
   "metadata": {
    "scrolled": true
   },
   "outputs": [
    {
     "name": "stdout",
     "output_type": "stream",
     "text": [
      "Fitting 5 folds for each of 6 candidates, totalling 30 fits\n"
     ]
    },
    {
     "name": "stderr",
     "output_type": "stream",
     "text": [
      "[Parallel(n_jobs=1)]: Done  30 out of  30 | elapsed: 41.1min finished\n"
     ]
    },
    {
     "name": "stdout",
     "output_type": "stream",
     "text": [
      "('Grid score: ', [mean: 0.44830, std: 0.01416, params: {'n_estimators': 50, 'subsample': 0.75, 'learning_rate': 0.05, 'colsample_bytree': 0.55}, mean: 0.45161, std: 0.01662, params: {'n_estimators': 60, 'subsample': 0.85, 'learning_rate': 0.05, 'colsample_bytree': 0.55}, mean: 0.44767, std: 0.01477, params: {'n_estimators': 50, 'subsample': 0.75, 'learning_rate': 0.05, 'colsample_bytree': 0.5}, mean: 0.44977, std: 0.01641, params: {'n_estimators': 60, 'subsample': 0.85, 'learning_rate': 0.05, 'colsample_bytree': 0.5}, mean: 0.45143, std: 0.01347, params: {'n_estimators': 60, 'subsample': 0.75, 'learning_rate': 0.05, 'colsample_bytree': 0.5}, mean: 0.45436, std: 0.01401, params: {'n_estimators': 70, 'subsample': 0.85, 'learning_rate': 0.05, 'colsample_bytree': 0.5}])\n",
      "('Best score: ', 0.45436296098171319)\n",
      "('Best params: ', {'n_estimators': 70, 'subsample': 0.85, 'learning_rate': 0.05, 'colsample_bytree': 0.5})\n"
     ]
    }
   ],
   "source": [
    "param_grid = {'learning_rate': [0.05], 'n_estimators': [50,60,70],\n",
    "              'subsample':[0.75,0.8,0.85],'colsample_bytree':[0.45,0.5,0.55]}\n",
    "\n",
    "xgb_starter = XGBClassifier(\n",
    " max_depth=10,\n",
    " min_child_weight=1,\n",
    " gamma=0,\n",
    " objective= 'reg:linear',\n",
    " nthread=4,\n",
    " scale_pos_weight=1,\n",
    " seed=0)\n",
    "\n",
    "random_search_report(xgb_starter,param_grid)"
   ]
  },
  {
   "cell_type": "code",
   "execution_count": 36,
   "metadata": {},
   "outputs": [
    {
     "name": "stdout",
     "output_type": "stream",
     "text": [
      "Fitting 5 folds for each of 6 candidates, totalling 30 fits\n"
     ]
    },
    {
     "name": "stderr",
     "output_type": "stream",
     "text": [
      "[Parallel(n_jobs=1)]: Done  30 out of  30 | elapsed: 86.1min finished\n"
     ]
    },
    {
     "name": "stdout",
     "output_type": "stream",
     "text": [
      "('Grid score: ', [mean: 0.64002, std: 0.00621, params: {'n_estimators': 30, 'min_samples_split': 5}, mean: 0.63618, std: 0.00667, params: {'n_estimators': 50, 'min_samples_split': 7}, mean: 0.64099, std: 0.00642, params: {'n_estimators': 30, 'min_samples_split': 3}, mean: 0.64253, std: 0.00663, params: {'n_estimators': 50, 'min_samples_split': 3}, mean: 0.63901, std: 0.00600, params: {'n_estimators': 50, 'min_samples_split': 5}, mean: 0.64268, std: 0.00650, params: {'n_estimators': 70, 'min_samples_split': 3}])\n",
      "('Best score: ', 0.64267958002964609)\n",
      "('Best params: ', {'n_estimators': 70, 'min_samples_split': 3})\n"
     ]
    }
   ],
   "source": [
    "# this part is for tune extraclass\n",
    "clf_extr_entropy = ExtraTreesClassifier(n_jobs=-1, criterion='entropy',\n",
    "                               max_features=None, random_state=0)\n",
    "param_grid = {'n_estimators': [30,50,70], \n",
    "              'min_samples_split':[3,5,7]}\n",
    "# estimator.get_params().keys()\n",
    "random_search_report(clf_extr_entropy,param_grid)"
   ]
  },
  {
   "cell_type": "code",
   "execution_count": null,
   "metadata": {
    "scrolled": true
   },
   "outputs": [],
   "source": [
    "#this part is for tune LightGBM using gridSearch CV\n",
    "import numpy as np\n",
    "from pylightgbm.models import GBMClassifier\n",
    "\n",
    "# full path to lightgbm executable (on Windows include .exe)\n",
    "exec_path = \"~/Desktop/project/LightGBM/lightgbm\"\n",
    "\n",
    "clf_gbm = GBMClassifier(exec_path=exec_path,early_stopping_round=10,verbose=True,application='binary')\n",
    "\n",
    "param_grid = {'learning_rate': [0.15], 'num_iterations': [80],\n",
    "              'min_data_in_leaf':[3]}\n",
    "\n",
    "# scorer = metrics.make_scorer(metrics.matthews_corrcoef, greater_is_better=True)\n",
    "# AUC score for robust determination\n",
    "# clf = grid_search.GridSearchCV(gbm, param_grid, scoring='roc_auc', cv=2,verbose=True)\n",
    "# MCC score for best prediction dermnation\n",
    "# grid_search_report(clf_gbm,param_grid) \n",
    "random_search_report(clf_gbm,param_grid)"
   ]
  },
  {
   "cell_type": "code",
   "execution_count": null,
   "metadata": {},
   "outputs": [],
   "source": [
    "# this part is for tune KNN\n",
    "clf_KNN = neighbors.KNeighborsClassifier()\n",
    "param_grid = {'n_neighbors': [5]}\n",
    "grid_search_report(clf_KNN,param_grid) "
   ]
  },
  {
   "cell_type": "code",
   "execution_count": null,
   "metadata": {},
   "outputs": [
    {
     "name": "stdout",
     "output_type": "stream",
     "text": [
      "Fitting 5 folds for each of 1 candidates, totalling 5 fits\n"
     ]
    }
   ],
   "source": [
    "# this part is for tune SVM\n",
    "from sklearn.svm import SVC\n",
    "clf_SVM = SVC(kernel='linear',probability=True)\n",
    "param_grid = {'C': [1],\n",
    "             'gamma': [\"auto\"]}\n",
    "grid_search_report(clf_SVM,param_grid)"
   ]
  },
  {
   "cell_type": "code",
   "execution_count": 16,
   "metadata": {},
   "outputs": [
    {
     "name": "stdout",
     "output_type": "stream",
     "text": [
      "Fitting 5 folds for each of 5 candidates, totalling 25 fits\n"
     ]
    },
    {
     "name": "stderr",
     "output_type": "stream",
     "text": [
      "[Parallel(n_jobs=1)]: Done  25 out of  25 | elapsed: 155.9min finished\n"
     ]
    },
    {
     "name": "stdout",
     "output_type": "stream",
     "text": [
      "('Grid score: ', [mean: 0.35109, std: 0.00884, params: {'n_estimators': 300, 'learning_rate': 0.2}, mean: 0.23069, std: 0.01868, params: {'n_estimators': 100, 'learning_rate': 0.2}, mean: 0.35500, std: 0.00981, params: {'n_estimators': 200, 'learning_rate': 0.4}, mean: 0.34404, std: 0.01205, params: {'n_estimators': 100, 'learning_rate': 0.4}, mean: 0.09892, std: 0.01370, params: {'n_estimators': 100, 'learning_rate': 0.1}])\n",
      "('Best score: ', 0.35499676770972161)\n",
      "('Best params: ', {'n_estimators': 200, 'learning_rate': 0.4})\n"
     ]
    }
   ],
   "source": [
    "#this part is for tune Adaboost\n",
    "from sklearn.ensemble import AdaBoostClassifier\n",
    "clf_ada = AdaBoostClassifier(random_state=1)\n",
    "param_grid = {'learning_rate': map(lambda x: x/10.0, range(1, 5, 1)),\n",
    "             'n_estimators': [100,200,300]}\n",
    "random_search_report(clf_ada,param_grid)"
   ]
  },
  {
   "cell_type": "code",
   "execution_count": 98,
   "metadata": {},
   "outputs": [],
   "source": [
    "from sklearn.grid_search import GridSearchCV\n",
    "\n",
    "# this function try to find the best paramter combination based \n",
    "# on n-fold cross validation score\n",
    "\n",
    "def grid_search_report(clf, param_grid, train_x,nfold=5):\n",
    "    scorer = metrics.make_scorer(metrics.matthews_corrcoef, greater_is_better=True)\n",
    "    cl_gd =grid_search.GridSearchCV(clf, param_grid,scoring=scorer,cv=nfold,verbose=True)\n",
    "    cl_gd.fit(train_x, train_y)\n",
    "    \n",
    "    print(\"Grid score: \",cl_gd.grid_scores_)\n",
    "    print(\"Best score: \", cl_gd.best_score_)\n",
    "    print(\"Best params: \", cl_gd.best_params_)\n",
    "   "
   ]
  },
  {
   "cell_type": "code",
   "execution_count": 18,
   "metadata": {
    "collapsed": true
   },
   "outputs": [],
   "source": [
    "def random_search_report(clf, param_grid, train_x, nfold=5,n_iter=6):\n",
    "    scorer = metrics.make_scorer(metrics.roc_auc_score, greater_is_better=True)\n",
    "    clf_rd = grid_search.RandomizedSearchCV(clf, param_grid, scoring=scorer, n_iter=n_iter, cv=nfold,verbose=True)\n",
    "    clf_rd.fit(train_x, train_y)\n",
    "    \n",
    "    print(\"Grid score: \",clf_rd.grid_scores_)\n",
    "    print(\"Best score: \", clf_rd.best_score_)\n",
    "    print(\"Best params: \", clf_rd.best_params_)"
   ]
  },
  {
   "cell_type": "markdown",
   "metadata": {},
   "source": [
    "# Model Ensemble"
   ]
  },
  {
   "cell_type": "code",
   "execution_count": 5,
   "metadata": {},
   "outputs": [],
   "source": [
    "# make Correlation matrix of base models\n",
    "rl_lightGBM = pd.read_csv(\"../fold_result/1.csv\", index_col=0, dtype=np.float32)\n",
    "rl_xgb = pd.read_csv(\"../fold_result/2.csv\", index_col=0, dtype=np.float32)\n",
    "rl_rf_entr = pd.read_csv(\"../fold_result/3.csv\", index_col=0, dtype=np.float32)\n",
    "rl_et_entr = pd.read_csv(\"../fold_result/4.csv\", index_col=0, dtype=np.float32)\n",
    "rl_et_gini = pd.read_csv(\"../fold_result/5.csv\", index_col=0, dtype=np.float32)\n",
    "rl_rf_gini = pd.read_csv(\"../fold_result/6.csv\", index_col=0, dtype=np.float32)"
   ]
  },
  {
   "cell_type": "code",
   "execution_count": 6,
   "metadata": {
    "collapsed": true
   },
   "outputs": [],
   "source": [
    "df_result = rl_lightGBM.join(rl_xgb,lsuffix='_lightGBM', rsuffix='_xgb').join(rl_rf_entr,lsuffix='', rsuffix='_rfentropy').join(rl_et_entr, lsuffix='', rsuffix='_etentropy').join(rl_et_gini,lsuffix='', rsuffix='_etgini').join(rl_rf_gini, lsuffix='', rsuffix='_rfgini')"
   ]
  },
  {
   "cell_type": "code",
   "execution_count": 8,
   "metadata": {},
   "outputs": [],
   "source": [
    "df_result.columns=['lightGBM','xgb','rf_entropy','et_entropy','et_gini','rf_gini']"
   ]
  },
  {
   "cell_type": "code",
   "execution_count": 9,
   "metadata": {},
   "outputs": [
    {
     "data": {
      "text/html": [
       "<div>\n",
       "<table border=\"1\" class=\"dataframe\">\n",
       "  <thead>\n",
       "    <tr style=\"text-align: right;\">\n",
       "      <th></th>\n",
       "      <th>lightGBM</th>\n",
       "      <th>xgb</th>\n",
       "      <th>rf_entropy</th>\n",
       "      <th>et_entropy</th>\n",
       "      <th>et_gini</th>\n",
       "      <th>rf_gini</th>\n",
       "    </tr>\n",
       "    <tr>\n",
       "      <th>Id</th>\n",
       "      <th></th>\n",
       "      <th></th>\n",
       "      <th></th>\n",
       "      <th></th>\n",
       "      <th></th>\n",
       "      <th></th>\n",
       "    </tr>\n",
       "  </thead>\n",
       "  <tbody>\n",
       "    <tr>\n",
       "      <th>1.0</th>\n",
       "      <td>0.0</td>\n",
       "      <td>0.0</td>\n",
       "      <td>0.0</td>\n",
       "      <td>0.0</td>\n",
       "      <td>0.0</td>\n",
       "      <td>0.0</td>\n",
       "    </tr>\n",
       "    <tr>\n",
       "      <th>2.0</th>\n",
       "      <td>0.0</td>\n",
       "      <td>0.0</td>\n",
       "      <td>0.0</td>\n",
       "      <td>0.0</td>\n",
       "      <td>0.0</td>\n",
       "      <td>0.0</td>\n",
       "    </tr>\n",
       "    <tr>\n",
       "      <th>3.0</th>\n",
       "      <td>0.0</td>\n",
       "      <td>0.0</td>\n",
       "      <td>0.0</td>\n",
       "      <td>0.0</td>\n",
       "      <td>0.0</td>\n",
       "      <td>0.0</td>\n",
       "    </tr>\n",
       "    <tr>\n",
       "      <th>5.0</th>\n",
       "      <td>0.0</td>\n",
       "      <td>0.0</td>\n",
       "      <td>0.0</td>\n",
       "      <td>0.0</td>\n",
       "      <td>0.0</td>\n",
       "      <td>0.0</td>\n",
       "    </tr>\n",
       "    <tr>\n",
       "      <th>8.0</th>\n",
       "      <td>0.0</td>\n",
       "      <td>0.0</td>\n",
       "      <td>0.0</td>\n",
       "      <td>0.0</td>\n",
       "      <td>0.0</td>\n",
       "      <td>0.0</td>\n",
       "    </tr>\n",
       "  </tbody>\n",
       "</table>\n",
       "</div>"
      ],
      "text/plain": [
       "     lightGBM  xgb  rf_entropy  et_entropy  et_gini  rf_gini\n",
       "Id                                                          \n",
       "1.0       0.0  0.0         0.0         0.0      0.0      0.0\n",
       "2.0       0.0  0.0         0.0         0.0      0.0      0.0\n",
       "3.0       0.0  0.0         0.0         0.0      0.0      0.0\n",
       "5.0       0.0  0.0         0.0         0.0      0.0      0.0\n",
       "8.0       0.0  0.0         0.0         0.0      0.0      0.0"
      ]
     },
     "execution_count": 9,
     "metadata": {},
     "output_type": "execute_result"
    }
   ],
   "source": [
    "df_result.head()"
   ]
  },
  {
   "cell_type": "code",
   "execution_count": 12,
   "metadata": {},
   "outputs": [],
   "source": [
    "corrmat = df_result.corr()"
   ]
  },
  {
   "cell_type": "code",
   "execution_count": 13,
   "metadata": {},
   "outputs": [
    {
     "data": {
      "text/html": [
       "<div>\n",
       "<table border=\"1\" class=\"dataframe\">\n",
       "  <thead>\n",
       "    <tr style=\"text-align: right;\">\n",
       "      <th></th>\n",
       "      <th>lightGBM</th>\n",
       "      <th>xgb</th>\n",
       "      <th>rf_entropy</th>\n",
       "      <th>et_entropy</th>\n",
       "      <th>et_gini</th>\n",
       "      <th>rf_gini</th>\n",
       "    </tr>\n",
       "  </thead>\n",
       "  <tbody>\n",
       "    <tr>\n",
       "      <th>lightGBM</th>\n",
       "      <td>1.000000</td>\n",
       "      <td>0.867724</td>\n",
       "      <td>0.868983</td>\n",
       "      <td>0.851146</td>\n",
       "      <td>0.851288</td>\n",
       "      <td>0.870698</td>\n",
       "    </tr>\n",
       "    <tr>\n",
       "      <th>xgb</th>\n",
       "      <td>0.867724</td>\n",
       "      <td>1.000000</td>\n",
       "      <td>0.885971</td>\n",
       "      <td>0.881702</td>\n",
       "      <td>0.880864</td>\n",
       "      <td>0.885756</td>\n",
       "    </tr>\n",
       "    <tr>\n",
       "      <th>rf_entropy</th>\n",
       "      <td>0.868983</td>\n",
       "      <td>0.885971</td>\n",
       "      <td>1.000000</td>\n",
       "      <td>0.867796</td>\n",
       "      <td>0.854454</td>\n",
       "      <td>0.950945</td>\n",
       "    </tr>\n",
       "    <tr>\n",
       "      <th>et_entropy</th>\n",
       "      <td>0.851146</td>\n",
       "      <td>0.881702</td>\n",
       "      <td>0.867796</td>\n",
       "      <td>1.000000</td>\n",
       "      <td>0.960960</td>\n",
       "      <td>0.864410</td>\n",
       "    </tr>\n",
       "    <tr>\n",
       "      <th>et_gini</th>\n",
       "      <td>0.851288</td>\n",
       "      <td>0.880864</td>\n",
       "      <td>0.854454</td>\n",
       "      <td>0.960960</td>\n",
       "      <td>1.000000</td>\n",
       "      <td>0.850490</td>\n",
       "    </tr>\n",
       "    <tr>\n",
       "      <th>rf_gini</th>\n",
       "      <td>0.870698</td>\n",
       "      <td>0.885756</td>\n",
       "      <td>0.950945</td>\n",
       "      <td>0.864410</td>\n",
       "      <td>0.850490</td>\n",
       "      <td>1.000000</td>\n",
       "    </tr>\n",
       "  </tbody>\n",
       "</table>\n",
       "</div>"
      ],
      "text/plain": [
       "            lightGBM       xgb  rf_entropy  et_entropy   et_gini   rf_gini\n",
       "lightGBM    1.000000  0.867724    0.868983    0.851146  0.851288  0.870698\n",
       "xgb         0.867724  1.000000    0.885971    0.881702  0.880864  0.885756\n",
       "rf_entropy  0.868983  0.885971    1.000000    0.867796  0.854454  0.950945\n",
       "et_entropy  0.851146  0.881702    0.867796    1.000000  0.960960  0.864410\n",
       "et_gini     0.851288  0.880864    0.854454    0.960960  1.000000  0.850490\n",
       "rf_gini     0.870698  0.885756    0.950945    0.864410  0.850490  1.000000"
      ]
     },
     "execution_count": 13,
     "metadata": {},
     "output_type": "execute_result"
    }
   ],
   "source": [
    "corrmat"
   ]
  },
  {
   "cell_type": "code",
   "execution_count": 18,
   "metadata": {},
   "outputs": [
    {
     "data": {
      "application/javascript": [
       "/* Put everything inside the global mpl namespace */\n",
       "window.mpl = {};\n",
       "\n",
       "mpl.get_websocket_type = function() {\n",
       "    if (typeof(WebSocket) !== 'undefined') {\n",
       "        return WebSocket;\n",
       "    } else if (typeof(MozWebSocket) !== 'undefined') {\n",
       "        return MozWebSocket;\n",
       "    } else {\n",
       "        alert('Your browser does not have WebSocket support.' +\n",
       "              'Please try Chrome, Safari or Firefox ≥ 6. ' +\n",
       "              'Firefox 4 and 5 are also supported but you ' +\n",
       "              'have to enable WebSockets in about:config.');\n",
       "    };\n",
       "}\n",
       "\n",
       "mpl.figure = function(figure_id, websocket, ondownload, parent_element) {\n",
       "    this.id = figure_id;\n",
       "\n",
       "    this.ws = websocket;\n",
       "\n",
       "    this.supports_binary = (this.ws.binaryType != undefined);\n",
       "\n",
       "    if (!this.supports_binary) {\n",
       "        var warnings = document.getElementById(\"mpl-warnings\");\n",
       "        if (warnings) {\n",
       "            warnings.style.display = 'block';\n",
       "            warnings.textContent = (\n",
       "                \"This browser does not support binary websocket messages. \" +\n",
       "                    \"Performance may be slow.\");\n",
       "        }\n",
       "    }\n",
       "\n",
       "    this.imageObj = new Image();\n",
       "\n",
       "    this.context = undefined;\n",
       "    this.message = undefined;\n",
       "    this.canvas = undefined;\n",
       "    this.rubberband_canvas = undefined;\n",
       "    this.rubberband_context = undefined;\n",
       "    this.format_dropdown = undefined;\n",
       "\n",
       "    this.image_mode = 'full';\n",
       "\n",
       "    this.root = $('<div/>');\n",
       "    this._root_extra_style(this.root)\n",
       "    this.root.attr('style', 'display: inline-block');\n",
       "\n",
       "    $(parent_element).append(this.root);\n",
       "\n",
       "    this._init_header(this);\n",
       "    this._init_canvas(this);\n",
       "    this._init_toolbar(this);\n",
       "\n",
       "    var fig = this;\n",
       "\n",
       "    this.waiting = false;\n",
       "\n",
       "    this.ws.onopen =  function () {\n",
       "            fig.send_message(\"supports_binary\", {value: fig.supports_binary});\n",
       "            fig.send_message(\"send_image_mode\", {});\n",
       "            fig.send_message(\"refresh\", {});\n",
       "        }\n",
       "\n",
       "    this.imageObj.onload = function() {\n",
       "            if (fig.image_mode == 'full') {\n",
       "                // Full images could contain transparency (where diff images\n",
       "                // almost always do), so we need to clear the canvas so that\n",
       "                // there is no ghosting.\n",
       "                fig.context.clearRect(0, 0, fig.canvas.width, fig.canvas.height);\n",
       "            }\n",
       "            fig.context.drawImage(fig.imageObj, 0, 0);\n",
       "        };\n",
       "\n",
       "    this.imageObj.onunload = function() {\n",
       "        this.ws.close();\n",
       "    }\n",
       "\n",
       "    this.ws.onmessage = this._make_on_message_function(this);\n",
       "\n",
       "    this.ondownload = ondownload;\n",
       "}\n",
       "\n",
       "mpl.figure.prototype._init_header = function() {\n",
       "    var titlebar = $(\n",
       "        '<div class=\"ui-dialog-titlebar ui-widget-header ui-corner-all ' +\n",
       "        'ui-helper-clearfix\"/>');\n",
       "    var titletext = $(\n",
       "        '<div class=\"ui-dialog-title\" style=\"width: 100%; ' +\n",
       "        'text-align: center; padding: 3px;\"/>');\n",
       "    titlebar.append(titletext)\n",
       "    this.root.append(titlebar);\n",
       "    this.header = titletext[0];\n",
       "}\n",
       "\n",
       "\n",
       "\n",
       "mpl.figure.prototype._canvas_extra_style = function(canvas_div) {\n",
       "\n",
       "}\n",
       "\n",
       "\n",
       "mpl.figure.prototype._root_extra_style = function(canvas_div) {\n",
       "\n",
       "}\n",
       "\n",
       "mpl.figure.prototype._init_canvas = function() {\n",
       "    var fig = this;\n",
       "\n",
       "    var canvas_div = $('<div/>');\n",
       "\n",
       "    canvas_div.attr('style', 'position: relative; clear: both; outline: 0');\n",
       "\n",
       "    function canvas_keyboard_event(event) {\n",
       "        return fig.key_event(event, event['data']);\n",
       "    }\n",
       "\n",
       "    canvas_div.keydown('key_press', canvas_keyboard_event);\n",
       "    canvas_div.keyup('key_release', canvas_keyboard_event);\n",
       "    this.canvas_div = canvas_div\n",
       "    this._canvas_extra_style(canvas_div)\n",
       "    this.root.append(canvas_div);\n",
       "\n",
       "    var canvas = $('<canvas/>');\n",
       "    canvas.addClass('mpl-canvas');\n",
       "    canvas.attr('style', \"left: 0; top: 0; z-index: 0; outline: 0\")\n",
       "\n",
       "    this.canvas = canvas[0];\n",
       "    this.context = canvas[0].getContext(\"2d\");\n",
       "\n",
       "    var rubberband = $('<canvas/>');\n",
       "    rubberband.attr('style', \"position: absolute; left: 0; top: 0; z-index: 1;\")\n",
       "\n",
       "    var pass_mouse_events = true;\n",
       "\n",
       "    canvas_div.resizable({\n",
       "        start: function(event, ui) {\n",
       "            pass_mouse_events = false;\n",
       "        },\n",
       "        resize: function(event, ui) {\n",
       "            fig.request_resize(ui.size.width, ui.size.height);\n",
       "        },\n",
       "        stop: function(event, ui) {\n",
       "            pass_mouse_events = true;\n",
       "            fig.request_resize(ui.size.width, ui.size.height);\n",
       "        },\n",
       "    });\n",
       "\n",
       "    function mouse_event_fn(event) {\n",
       "        if (pass_mouse_events)\n",
       "            return fig.mouse_event(event, event['data']);\n",
       "    }\n",
       "\n",
       "    rubberband.mousedown('button_press', mouse_event_fn);\n",
       "    rubberband.mouseup('button_release', mouse_event_fn);\n",
       "    // Throttle sequential mouse events to 1 every 20ms.\n",
       "    rubberband.mousemove('motion_notify', mouse_event_fn);\n",
       "\n",
       "    rubberband.mouseenter('figure_enter', mouse_event_fn);\n",
       "    rubberband.mouseleave('figure_leave', mouse_event_fn);\n",
       "\n",
       "    canvas_div.on(\"wheel\", function (event) {\n",
       "        event = event.originalEvent;\n",
       "        event['data'] = 'scroll'\n",
       "        if (event.deltaY < 0) {\n",
       "            event.step = 1;\n",
       "        } else {\n",
       "            event.step = -1;\n",
       "        }\n",
       "        mouse_event_fn(event);\n",
       "    });\n",
       "\n",
       "    canvas_div.append(canvas);\n",
       "    canvas_div.append(rubberband);\n",
       "\n",
       "    this.rubberband = rubberband;\n",
       "    this.rubberband_canvas = rubberband[0];\n",
       "    this.rubberband_context = rubberband[0].getContext(\"2d\");\n",
       "    this.rubberband_context.strokeStyle = \"#000000\";\n",
       "\n",
       "    this._resize_canvas = function(width, height) {\n",
       "        // Keep the size of the canvas, canvas container, and rubber band\n",
       "        // canvas in synch.\n",
       "        canvas_div.css('width', width)\n",
       "        canvas_div.css('height', height)\n",
       "\n",
       "        canvas.attr('width', width);\n",
       "        canvas.attr('height', height);\n",
       "\n",
       "        rubberband.attr('width', width);\n",
       "        rubberband.attr('height', height);\n",
       "    }\n",
       "\n",
       "    // Set the figure to an initial 600x600px, this will subsequently be updated\n",
       "    // upon first draw.\n",
       "    this._resize_canvas(600, 600);\n",
       "\n",
       "    // Disable right mouse context menu.\n",
       "    $(this.rubberband_canvas).bind(\"contextmenu\",function(e){\n",
       "        return false;\n",
       "    });\n",
       "\n",
       "    function set_focus () {\n",
       "        canvas.focus();\n",
       "        canvas_div.focus();\n",
       "    }\n",
       "\n",
       "    window.setTimeout(set_focus, 100);\n",
       "}\n",
       "\n",
       "mpl.figure.prototype._init_toolbar = function() {\n",
       "    var fig = this;\n",
       "\n",
       "    var nav_element = $('<div/>')\n",
       "    nav_element.attr('style', 'width: 100%');\n",
       "    this.root.append(nav_element);\n",
       "\n",
       "    // Define a callback function for later on.\n",
       "    function toolbar_event(event) {\n",
       "        return fig.toolbar_button_onclick(event['data']);\n",
       "    }\n",
       "    function toolbar_mouse_event(event) {\n",
       "        return fig.toolbar_button_onmouseover(event['data']);\n",
       "    }\n",
       "\n",
       "    for(var toolbar_ind in mpl.toolbar_items) {\n",
       "        var name = mpl.toolbar_items[toolbar_ind][0];\n",
       "        var tooltip = mpl.toolbar_items[toolbar_ind][1];\n",
       "        var image = mpl.toolbar_items[toolbar_ind][2];\n",
       "        var method_name = mpl.toolbar_items[toolbar_ind][3];\n",
       "\n",
       "        if (!name) {\n",
       "            // put a spacer in here.\n",
       "            continue;\n",
       "        }\n",
       "        var button = $('<button/>');\n",
       "        button.addClass('ui-button ui-widget ui-state-default ui-corner-all ' +\n",
       "                        'ui-button-icon-only');\n",
       "        button.attr('role', 'button');\n",
       "        button.attr('aria-disabled', 'false');\n",
       "        button.click(method_name, toolbar_event);\n",
       "        button.mouseover(tooltip, toolbar_mouse_event);\n",
       "\n",
       "        var icon_img = $('<span/>');\n",
       "        icon_img.addClass('ui-button-icon-primary ui-icon');\n",
       "        icon_img.addClass(image);\n",
       "        icon_img.addClass('ui-corner-all');\n",
       "\n",
       "        var tooltip_span = $('<span/>');\n",
       "        tooltip_span.addClass('ui-button-text');\n",
       "        tooltip_span.html(tooltip);\n",
       "\n",
       "        button.append(icon_img);\n",
       "        button.append(tooltip_span);\n",
       "\n",
       "        nav_element.append(button);\n",
       "    }\n",
       "\n",
       "    var fmt_picker_span = $('<span/>');\n",
       "\n",
       "    var fmt_picker = $('<select/>');\n",
       "    fmt_picker.addClass('mpl-toolbar-option ui-widget ui-widget-content');\n",
       "    fmt_picker_span.append(fmt_picker);\n",
       "    nav_element.append(fmt_picker_span);\n",
       "    this.format_dropdown = fmt_picker[0];\n",
       "\n",
       "    for (var ind in mpl.extensions) {\n",
       "        var fmt = mpl.extensions[ind];\n",
       "        var option = $(\n",
       "            '<option/>', {selected: fmt === mpl.default_extension}).html(fmt);\n",
       "        fmt_picker.append(option)\n",
       "    }\n",
       "\n",
       "    // Add hover states to the ui-buttons\n",
       "    $( \".ui-button\" ).hover(\n",
       "        function() { $(this).addClass(\"ui-state-hover\");},\n",
       "        function() { $(this).removeClass(\"ui-state-hover\");}\n",
       "    );\n",
       "\n",
       "    var status_bar = $('<span class=\"mpl-message\"/>');\n",
       "    nav_element.append(status_bar);\n",
       "    this.message = status_bar[0];\n",
       "}\n",
       "\n",
       "mpl.figure.prototype.request_resize = function(x_pixels, y_pixels) {\n",
       "    // Request matplotlib to resize the figure. Matplotlib will then trigger a resize in the client,\n",
       "    // which will in turn request a refresh of the image.\n",
       "    this.send_message('resize', {'width': x_pixels, 'height': y_pixels});\n",
       "}\n",
       "\n",
       "mpl.figure.prototype.send_message = function(type, properties) {\n",
       "    properties['type'] = type;\n",
       "    properties['figure_id'] = this.id;\n",
       "    this.ws.send(JSON.stringify(properties));\n",
       "}\n",
       "\n",
       "mpl.figure.prototype.send_draw_message = function() {\n",
       "    if (!this.waiting) {\n",
       "        this.waiting = true;\n",
       "        this.ws.send(JSON.stringify({type: \"draw\", figure_id: this.id}));\n",
       "    }\n",
       "}\n",
       "\n",
       "\n",
       "mpl.figure.prototype.handle_save = function(fig, msg) {\n",
       "    var format_dropdown = fig.format_dropdown;\n",
       "    var format = format_dropdown.options[format_dropdown.selectedIndex].value;\n",
       "    fig.ondownload(fig, format);\n",
       "}\n",
       "\n",
       "\n",
       "mpl.figure.prototype.handle_resize = function(fig, msg) {\n",
       "    var size = msg['size'];\n",
       "    if (size[0] != fig.canvas.width || size[1] != fig.canvas.height) {\n",
       "        fig._resize_canvas(size[0], size[1]);\n",
       "        fig.send_message(\"refresh\", {});\n",
       "    };\n",
       "}\n",
       "\n",
       "mpl.figure.prototype.handle_rubberband = function(fig, msg) {\n",
       "    var x0 = msg['x0'];\n",
       "    var y0 = fig.canvas.height - msg['y0'];\n",
       "    var x1 = msg['x1'];\n",
       "    var y1 = fig.canvas.height - msg['y1'];\n",
       "    x0 = Math.floor(x0) + 0.5;\n",
       "    y0 = Math.floor(y0) + 0.5;\n",
       "    x1 = Math.floor(x1) + 0.5;\n",
       "    y1 = Math.floor(y1) + 0.5;\n",
       "    var min_x = Math.min(x0, x1);\n",
       "    var min_y = Math.min(y0, y1);\n",
       "    var width = Math.abs(x1 - x0);\n",
       "    var height = Math.abs(y1 - y0);\n",
       "\n",
       "    fig.rubberband_context.clearRect(\n",
       "        0, 0, fig.canvas.width, fig.canvas.height);\n",
       "\n",
       "    fig.rubberband_context.strokeRect(min_x, min_y, width, height);\n",
       "}\n",
       "\n",
       "mpl.figure.prototype.handle_figure_label = function(fig, msg) {\n",
       "    // Updates the figure title.\n",
       "    fig.header.textContent = msg['label'];\n",
       "}\n",
       "\n",
       "mpl.figure.prototype.handle_cursor = function(fig, msg) {\n",
       "    var cursor = msg['cursor'];\n",
       "    switch(cursor)\n",
       "    {\n",
       "    case 0:\n",
       "        cursor = 'pointer';\n",
       "        break;\n",
       "    case 1:\n",
       "        cursor = 'default';\n",
       "        break;\n",
       "    case 2:\n",
       "        cursor = 'crosshair';\n",
       "        break;\n",
       "    case 3:\n",
       "        cursor = 'move';\n",
       "        break;\n",
       "    }\n",
       "    fig.rubberband_canvas.style.cursor = cursor;\n",
       "}\n",
       "\n",
       "mpl.figure.prototype.handle_message = function(fig, msg) {\n",
       "    fig.message.textContent = msg['message'];\n",
       "}\n",
       "\n",
       "mpl.figure.prototype.handle_draw = function(fig, msg) {\n",
       "    // Request the server to send over a new figure.\n",
       "    fig.send_draw_message();\n",
       "}\n",
       "\n",
       "mpl.figure.prototype.handle_image_mode = function(fig, msg) {\n",
       "    fig.image_mode = msg['mode'];\n",
       "}\n",
       "\n",
       "mpl.figure.prototype.updated_canvas_event = function() {\n",
       "    // Called whenever the canvas gets updated.\n",
       "    this.send_message(\"ack\", {});\n",
       "}\n",
       "\n",
       "// A function to construct a web socket function for onmessage handling.\n",
       "// Called in the figure constructor.\n",
       "mpl.figure.prototype._make_on_message_function = function(fig) {\n",
       "    return function socket_on_message(evt) {\n",
       "        if (evt.data instanceof Blob) {\n",
       "            /* FIXME: We get \"Resource interpreted as Image but\n",
       "             * transferred with MIME type text/plain:\" errors on\n",
       "             * Chrome.  But how to set the MIME type?  It doesn't seem\n",
       "             * to be part of the websocket stream */\n",
       "            evt.data.type = \"image/png\";\n",
       "\n",
       "            /* Free the memory for the previous frames */\n",
       "            if (fig.imageObj.src) {\n",
       "                (window.URL || window.webkitURL).revokeObjectURL(\n",
       "                    fig.imageObj.src);\n",
       "            }\n",
       "\n",
       "            fig.imageObj.src = (window.URL || window.webkitURL).createObjectURL(\n",
       "                evt.data);\n",
       "            fig.updated_canvas_event();\n",
       "            fig.waiting = false;\n",
       "            return;\n",
       "        }\n",
       "        else if (typeof evt.data === 'string' && evt.data.slice(0, 21) == \"data:image/png;base64\") {\n",
       "            fig.imageObj.src = evt.data;\n",
       "            fig.updated_canvas_event();\n",
       "            fig.waiting = false;\n",
       "            return;\n",
       "        }\n",
       "\n",
       "        var msg = JSON.parse(evt.data);\n",
       "        var msg_type = msg['type'];\n",
       "\n",
       "        // Call the  \"handle_{type}\" callback, which takes\n",
       "        // the figure and JSON message as its only arguments.\n",
       "        try {\n",
       "            var callback = fig[\"handle_\" + msg_type];\n",
       "        } catch (e) {\n",
       "            console.log(\"No handler for the '\" + msg_type + \"' message type: \", msg);\n",
       "            return;\n",
       "        }\n",
       "\n",
       "        if (callback) {\n",
       "            try {\n",
       "                // console.log(\"Handling '\" + msg_type + \"' message: \", msg);\n",
       "                callback(fig, msg);\n",
       "            } catch (e) {\n",
       "                console.log(\"Exception inside the 'handler_\" + msg_type + \"' callback:\", e, e.stack, msg);\n",
       "            }\n",
       "        }\n",
       "    };\n",
       "}\n",
       "\n",
       "// from http://stackoverflow.com/questions/1114465/getting-mouse-location-in-canvas\n",
       "mpl.findpos = function(e) {\n",
       "    //this section is from http://www.quirksmode.org/js/events_properties.html\n",
       "    var targ;\n",
       "    if (!e)\n",
       "        e = window.event;\n",
       "    if (e.target)\n",
       "        targ = e.target;\n",
       "    else if (e.srcElement)\n",
       "        targ = e.srcElement;\n",
       "    if (targ.nodeType == 3) // defeat Safari bug\n",
       "        targ = targ.parentNode;\n",
       "\n",
       "    // jQuery normalizes the pageX and pageY\n",
       "    // pageX,Y are the mouse positions relative to the document\n",
       "    // offset() returns the position of the element relative to the document\n",
       "    var x = e.pageX - $(targ).offset().left;\n",
       "    var y = e.pageY - $(targ).offset().top;\n",
       "\n",
       "    return {\"x\": x, \"y\": y};\n",
       "};\n",
       "\n",
       "/*\n",
       " * return a copy of an object with only non-object keys\n",
       " * we need this to avoid circular references\n",
       " * http://stackoverflow.com/a/24161582/3208463\n",
       " */\n",
       "function simpleKeys (original) {\n",
       "  return Object.keys(original).reduce(function (obj, key) {\n",
       "    if (typeof original[key] !== 'object')\n",
       "        obj[key] = original[key]\n",
       "    return obj;\n",
       "  }, {});\n",
       "}\n",
       "\n",
       "mpl.figure.prototype.mouse_event = function(event, name) {\n",
       "    var canvas_pos = mpl.findpos(event)\n",
       "\n",
       "    if (name === 'button_press')\n",
       "    {\n",
       "        this.canvas.focus();\n",
       "        this.canvas_div.focus();\n",
       "    }\n",
       "\n",
       "    var x = canvas_pos.x;\n",
       "    var y = canvas_pos.y;\n",
       "\n",
       "    this.send_message(name, {x: x, y: y, button: event.button,\n",
       "                             step: event.step,\n",
       "                             guiEvent: simpleKeys(event)});\n",
       "\n",
       "    /* This prevents the web browser from automatically changing to\n",
       "     * the text insertion cursor when the button is pressed.  We want\n",
       "     * to control all of the cursor setting manually through the\n",
       "     * 'cursor' event from matplotlib */\n",
       "    event.preventDefault();\n",
       "    return false;\n",
       "}\n",
       "\n",
       "mpl.figure.prototype._key_event_extra = function(event, name) {\n",
       "    // Handle any extra behaviour associated with a key event\n",
       "}\n",
       "\n",
       "mpl.figure.prototype.key_event = function(event, name) {\n",
       "\n",
       "    // Prevent repeat events\n",
       "    if (name == 'key_press')\n",
       "    {\n",
       "        if (event.which === this._key)\n",
       "            return;\n",
       "        else\n",
       "            this._key = event.which;\n",
       "    }\n",
       "    if (name == 'key_release')\n",
       "        this._key = null;\n",
       "\n",
       "    var value = '';\n",
       "    if (event.ctrlKey && event.which != 17)\n",
       "        value += \"ctrl+\";\n",
       "    if (event.altKey && event.which != 18)\n",
       "        value += \"alt+\";\n",
       "    if (event.shiftKey && event.which != 16)\n",
       "        value += \"shift+\";\n",
       "\n",
       "    value += 'k';\n",
       "    value += event.which.toString();\n",
       "\n",
       "    this._key_event_extra(event, name);\n",
       "\n",
       "    this.send_message(name, {key: value,\n",
       "                             guiEvent: simpleKeys(event)});\n",
       "    return false;\n",
       "}\n",
       "\n",
       "mpl.figure.prototype.toolbar_button_onclick = function(name) {\n",
       "    if (name == 'download') {\n",
       "        this.handle_save(this, null);\n",
       "    } else {\n",
       "        this.send_message(\"toolbar_button\", {name: name});\n",
       "    }\n",
       "};\n",
       "\n",
       "mpl.figure.prototype.toolbar_button_onmouseover = function(tooltip) {\n",
       "    this.message.textContent = tooltip;\n",
       "};\n",
       "mpl.toolbar_items = [[\"Home\", \"Reset original view\", \"fa fa-home icon-home\", \"home\"], [\"Back\", \"Back to  previous view\", \"fa fa-arrow-left icon-arrow-left\", \"back\"], [\"Forward\", \"Forward to next view\", \"fa fa-arrow-right icon-arrow-right\", \"forward\"], [\"\", \"\", \"\", \"\"], [\"Pan\", \"Pan axes with left mouse, zoom with right\", \"fa fa-arrows icon-move\", \"pan\"], [\"Zoom\", \"Zoom to rectangle\", \"fa fa-square-o icon-check-empty\", \"zoom\"], [\"\", \"\", \"\", \"\"], [\"Download\", \"Download plot\", \"fa fa-floppy-o icon-save\", \"download\"]];\n",
       "\n",
       "mpl.extensions = [\"eps\", \"jpeg\", \"pdf\", \"png\", \"ps\", \"raw\", \"svg\", \"tif\"];\n",
       "\n",
       "mpl.default_extension = \"png\";var comm_websocket_adapter = function(comm) {\n",
       "    // Create a \"websocket\"-like object which calls the given IPython comm\n",
       "    // object with the appropriate methods. Currently this is a non binary\n",
       "    // socket, so there is still some room for performance tuning.\n",
       "    var ws = {};\n",
       "\n",
       "    ws.close = function() {\n",
       "        comm.close()\n",
       "    };\n",
       "    ws.send = function(m) {\n",
       "        //console.log('sending', m);\n",
       "        comm.send(m);\n",
       "    };\n",
       "    // Register the callback with on_msg.\n",
       "    comm.on_msg(function(msg) {\n",
       "        //console.log('receiving', msg['content']['data'], msg);\n",
       "        // Pass the mpl event to the overriden (by mpl) onmessage function.\n",
       "        ws.onmessage(msg['content']['data'])\n",
       "    });\n",
       "    return ws;\n",
       "}\n",
       "\n",
       "mpl.mpl_figure_comm = function(comm, msg) {\n",
       "    // This is the function which gets called when the mpl process\n",
       "    // starts-up an IPython Comm through the \"matplotlib\" channel.\n",
       "\n",
       "    var id = msg.content.data.id;\n",
       "    // Get hold of the div created by the display call when the Comm\n",
       "    // socket was opened in Python.\n",
       "    var element = $(\"#\" + id);\n",
       "    var ws_proxy = comm_websocket_adapter(comm)\n",
       "\n",
       "    function ondownload(figure, format) {\n",
       "        window.open(figure.imageObj.src);\n",
       "    }\n",
       "\n",
       "    var fig = new mpl.figure(id, ws_proxy,\n",
       "                           ondownload,\n",
       "                           element.get(0));\n",
       "\n",
       "    // Call onopen now - mpl needs it, as it is assuming we've passed it a real\n",
       "    // web socket which is closed, not our websocket->open comm proxy.\n",
       "    ws_proxy.onopen();\n",
       "\n",
       "    fig.parent_element = element.get(0);\n",
       "    fig.cell_info = mpl.find_output_cell(\"<div id='\" + id + \"'></div>\");\n",
       "    if (!fig.cell_info) {\n",
       "        console.error(\"Failed to find cell for figure\", id, fig);\n",
       "        return;\n",
       "    }\n",
       "\n",
       "    var output_index = fig.cell_info[2]\n",
       "    var cell = fig.cell_info[0];\n",
       "\n",
       "};\n",
       "\n",
       "mpl.figure.prototype.handle_close = function(fig, msg) {\n",
       "    fig.root.unbind('remove')\n",
       "\n",
       "    // Update the output cell to use the data from the current canvas.\n",
       "    fig.push_to_output();\n",
       "    var dataURL = fig.canvas.toDataURL();\n",
       "    // Re-enable the keyboard manager in IPython - without this line, in FF,\n",
       "    // the notebook keyboard shortcuts fail.\n",
       "    IPython.keyboard_manager.enable()\n",
       "    $(fig.parent_element).html('<img src=\"' + dataURL + '\">');\n",
       "    fig.close_ws(fig, msg);\n",
       "}\n",
       "\n",
       "mpl.figure.prototype.close_ws = function(fig, msg){\n",
       "    fig.send_message('closing', msg);\n",
       "    // fig.ws.close()\n",
       "}\n",
       "\n",
       "mpl.figure.prototype.push_to_output = function(remove_interactive) {\n",
       "    // Turn the data on the canvas into data in the output cell.\n",
       "    var dataURL = this.canvas.toDataURL();\n",
       "    this.cell_info[1]['text/html'] = '<img src=\"' + dataURL + '\">';\n",
       "}\n",
       "\n",
       "mpl.figure.prototype.updated_canvas_event = function() {\n",
       "    // Tell IPython that the notebook contents must change.\n",
       "    IPython.notebook.set_dirty(true);\n",
       "    this.send_message(\"ack\", {});\n",
       "    var fig = this;\n",
       "    // Wait a second, then push the new image to the DOM so\n",
       "    // that it is saved nicely (might be nice to debounce this).\n",
       "    setTimeout(function () { fig.push_to_output() }, 1000);\n",
       "}\n",
       "\n",
       "mpl.figure.prototype._init_toolbar = function() {\n",
       "    var fig = this;\n",
       "\n",
       "    var nav_element = $('<div/>')\n",
       "    nav_element.attr('style', 'width: 100%');\n",
       "    this.root.append(nav_element);\n",
       "\n",
       "    // Define a callback function for later on.\n",
       "    function toolbar_event(event) {\n",
       "        return fig.toolbar_button_onclick(event['data']);\n",
       "    }\n",
       "    function toolbar_mouse_event(event) {\n",
       "        return fig.toolbar_button_onmouseover(event['data']);\n",
       "    }\n",
       "\n",
       "    for(var toolbar_ind in mpl.toolbar_items){\n",
       "        var name = mpl.toolbar_items[toolbar_ind][0];\n",
       "        var tooltip = mpl.toolbar_items[toolbar_ind][1];\n",
       "        var image = mpl.toolbar_items[toolbar_ind][2];\n",
       "        var method_name = mpl.toolbar_items[toolbar_ind][3];\n",
       "\n",
       "        if (!name) { continue; };\n",
       "\n",
       "        var button = $('<button class=\"btn btn-default\" href=\"#\" title=\"' + name + '\"><i class=\"fa ' + image + ' fa-lg\"></i></button>');\n",
       "        button.click(method_name, toolbar_event);\n",
       "        button.mouseover(tooltip, toolbar_mouse_event);\n",
       "        nav_element.append(button);\n",
       "    }\n",
       "\n",
       "    // Add the status bar.\n",
       "    var status_bar = $('<span class=\"mpl-message\" style=\"text-align:right; float: right;\"/>');\n",
       "    nav_element.append(status_bar);\n",
       "    this.message = status_bar[0];\n",
       "\n",
       "    // Add the close button to the window.\n",
       "    var buttongrp = $('<div class=\"btn-group inline pull-right\"></div>');\n",
       "    var button = $('<button class=\"btn btn-mini btn-primary\" href=\"#\" title=\"Stop Interaction\"><i class=\"fa fa-power-off icon-remove icon-large\"></i></button>');\n",
       "    button.click(function (evt) { fig.handle_close(fig, {}); } );\n",
       "    button.mouseover('Stop Interaction', toolbar_mouse_event);\n",
       "    buttongrp.append(button);\n",
       "    var titlebar = this.root.find($('.ui-dialog-titlebar'));\n",
       "    titlebar.prepend(buttongrp);\n",
       "}\n",
       "\n",
       "mpl.figure.prototype._root_extra_style = function(el){\n",
       "    var fig = this\n",
       "    el.on(\"remove\", function(){\n",
       "\tfig.close_ws(fig, {});\n",
       "    });\n",
       "}\n",
       "\n",
       "mpl.figure.prototype._canvas_extra_style = function(el){\n",
       "    // this is important to make the div 'focusable\n",
       "    el.attr('tabindex', 0)\n",
       "    // reach out to IPython and tell the keyboard manager to turn it's self\n",
       "    // off when our div gets focus\n",
       "\n",
       "    // location in version 3\n",
       "    if (IPython.notebook.keyboard_manager) {\n",
       "        IPython.notebook.keyboard_manager.register_events(el);\n",
       "    }\n",
       "    else {\n",
       "        // location in version 2\n",
       "        IPython.keyboard_manager.register_events(el);\n",
       "    }\n",
       "\n",
       "}\n",
       "\n",
       "mpl.figure.prototype._key_event_extra = function(event, name) {\n",
       "    var manager = IPython.notebook.keyboard_manager;\n",
       "    if (!manager)\n",
       "        manager = IPython.keyboard_manager;\n",
       "\n",
       "    // Check for shift+enter\n",
       "    if (event.shiftKey && event.which == 13) {\n",
       "        this.canvas_div.blur();\n",
       "        event.shiftKey = false;\n",
       "        // Send a \"J\" for go to next cell\n",
       "        event.which = 74;\n",
       "        event.keyCode = 74;\n",
       "        manager.command_mode();\n",
       "        manager.handle_keydown(event);\n",
       "    }\n",
       "}\n",
       "\n",
       "mpl.figure.prototype.handle_save = function(fig, msg) {\n",
       "    fig.ondownload(fig, null);\n",
       "}\n",
       "\n",
       "\n",
       "mpl.find_output_cell = function(html_output) {\n",
       "    // Return the cell and output element which can be found *uniquely* in the notebook.\n",
       "    // Note - this is a bit hacky, but it is done because the \"notebook_saving.Notebook\"\n",
       "    // IPython event is triggered only after the cells have been serialised, which for\n",
       "    // our purposes (turning an active figure into a static one), is too late.\n",
       "    var cells = IPython.notebook.get_cells();\n",
       "    var ncells = cells.length;\n",
       "    for (var i=0; i<ncells; i++) {\n",
       "        var cell = cells[i];\n",
       "        if (cell.cell_type === 'code'){\n",
       "            for (var j=0; j<cell.output_area.outputs.length; j++) {\n",
       "                var data = cell.output_area.outputs[j];\n",
       "                if (data.data) {\n",
       "                    // IPython >= 3 moved mimebundle to data attribute of output\n",
       "                    data = data.data;\n",
       "                }\n",
       "                if (data['text/html'] == html_output) {\n",
       "                    return [cell, data, j];\n",
       "                }\n",
       "            }\n",
       "        }\n",
       "    }\n",
       "}\n",
       "\n",
       "// Register the function which deals with the matplotlib target/channel.\n",
       "// The kernel may be null if the page has been refreshed.\n",
       "if (IPython.notebook.kernel != null) {\n",
       "    IPython.notebook.kernel.comm_manager.register_target('matplotlib', mpl.mpl_figure_comm);\n",
       "}\n"
      ],
      "text/plain": [
       "<IPython.core.display.Javascript object>"
      ]
     },
     "metadata": {},
     "output_type": "display_data"
    },
    {
     "data": {
      "text/html": [
       "<img src=\"data:image/png;base64,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\">"
      ],
      "text/plain": [
       "<IPython.core.display.HTML object>"
      ]
     },
     "metadata": {},
     "output_type": "display_data"
    },
    {
     "data": {
      "text/plain": [
       "<matplotlib.text.Text at 0x117334810>"
      ]
     },
     "execution_count": 18,
     "metadata": {},
     "output_type": "execute_result"
    }
   ],
   "source": [
    "f, ax = plt.subplots(figsize=(12, 9))\n",
    "sns.heatmap(corrmat,  square=True)\n",
    "plt.title(\"Heat Map of Correlation Between Models\")"
   ]
  },
  {
   "cell_type": "code",
   "execution_count": 15,
   "metadata": {},
   "outputs": [
    {
     "data": {
      "text/plain": [
       "<matplotlib.axes._subplots.AxesSubplot at 0x1158bf250>"
      ]
     },
     "execution_count": 15,
     "metadata": {},
     "output_type": "execute_result"
    }
   ],
   "source": []
  },
  {
   "cell_type": "code",
   "execution_count": 87,
   "metadata": {},
   "outputs": [],
   "source": [
    "# This function is to generate out-of-fold and test predictions\n",
    "# SOME mistake about the row number\n",
    "def get_out_of_fold_prediction(clf,name1,n_folds=5):\n",
    "    skf = list(StratifiedKFold(train_y, n_folds))\n",
    "    data_pred_out_of_fold = np.zeros(1183748)\n",
    "    data_pred_test = np.zeros((1183748, len(skf)))\n",
    "    for i, (train, test) in enumerate(skf):\n",
    "        print \"Fold\", i\n",
    "        clf.fit(train_x[train], train_y[train])\n",
    "        data_pred_out_of_fold[test] = clf.predict_proba(train_x[test])[:,1]\n",
    "        data_pred_test[:,i] = clf.predict_proba(test_x)[:, 1]\n",
    "    data_pred_test_mean = data_pred_test.mean(1)\n",
    "    name1=name1+\"fold\"\n",
    "    name2=name1+\"test\"\n",
    "    save1 = pd.DataFrame(data_pred_out_of_fold,columns=[\"prob\"])\n",
    "    save2 = pd.DataFrame(data_pred_test_mean,columns=[\"prob\"])\n",
    "    save1.to_csv(\"../data/\"+name1+\".csv\")\n",
    "    save2.to_csv(\"../data/\"+name2+\".csv\")\n",
    "    "
   ]
  },
  {
   "cell_type": "code",
   "execution_count": 21,
   "metadata": {},
   "outputs": [],
   "source": [
    "light_fold = pd.read_csv(\"../fold_result/lightGBMfold.csv\", index_col=0, dtype=np.float32)\n",
    "light_test = pd.read_csv(\"../fold_result/lightGBMfoldtest.csv\", index_col=0, dtype=np.float32)\n",
    "extr_entropy_fold = pd.read_csv(\"../fold_result/extr_entropyfold.csv\", index_col=0, dtype=np.float32)\n",
    "extr_entropy_test = pd.read_csv(\"../fold_result/extr_entropyfoldtest.csv\", index_col=0, dtype=np.float32)\n",
    "extr_gini_fold = pd.read_csv(\"../fold_result/extr_ginifold.csv\", index_col=0, dtype=np.float32)\n",
    "extr_gini_test = pd.read_csv(\"../fold_result/extr_ginifoldtest.csv\", index_col=0, dtype=np.float32)\n",
    "rf_entropy_fold = pd.read_csv(\"../fold_result/rf_entropyfold.csv\", index_col=0, dtype=np.float32)\n",
    "rf_entropy_test = pd.read_csv(\"../fold_result/rf_entropyfoldtest.csv\", index_col=0, dtype=np.float32)\n",
    "rf_gini_fold = pd.read_csv(\"../fold_result/rf_ginifold.csv\", index_col=0, dtype=np.float32)\n",
    "rf_gini_test = pd.read_csv(\"../fold_result/rf_ginifoldtest.csv\", index_col=0, dtype=np.float32)\n",
    "xgb_fold = pd.read_csv(\"../fold_result/XGBoostfold.csv\", index_col=0, dtype=np.float32)\n",
    "xgb_test = pd.read_csv(\"../fold_result/XGBoostfoldtest.csv\", index_col=0, dtype=np.float32)"
   ]
  },
  {
   "cell_type": "code",
   "execution_count": 22,
   "metadata": {
    "collapsed": true
   },
   "outputs": [],
   "source": [
    "# join to get train and test rows\n",
    "train_l2 = light_fold.join(extr_entropy_fold,lsuffix='_light', rsuffix='_extrEntropy').join(extr_gini_fold,lsuffix='', rsuffix='_extrgini').join(rf_entropy_fold,lsuffix='', rsuffix='_rfEntropy').join(rf_gini_fold,lsuffix='', rsuffix='_rfgini').join(xgb_fold,lsuffix='', rsuffix='_xgb')\n",
    "test_l2 = light_test.join(extr_entropy_test,lsuffix='_light', rsuffix='_extrEntropy').join(extr_gini_test,lsuffix='', rsuffix='_extrgini').join(rf_entropy_test,lsuffix='', rsuffix='_rfEntropy').join(rf_gini_test,lsuffix='', rsuffix='_rfgini').join(xgb_test,lsuffix='', rsuffix='_xgb')\n",
    "# drop extra rows\n",
    "train_l2 = train_l2.drop(train_l2.index[len(train_l2)-1])\n",
    "# load train lable\n",
    "# train_y"
   ]
  },
  {
   "cell_type": "code",
   "execution_count": 92,
   "metadata": {
    "collapsed": true
   },
   "outputs": [],
   "source": [
    "def logit(p):\n",
    "    with precision(100000):\n",
    "        return log(p)- log(1 -BigFloat(p))\n"
   ]
  },
  {
   "cell_type": "code",
   "execution_count": 23,
   "metadata": {
    "scrolled": true
   },
   "outputs": [],
   "source": [
    "train_l2 = train_l2.applymap(special.logit)\n",
    "test_l2 = test_l2.applymap(special.logit)"
   ]
  },
  {
   "cell_type": "code",
   "execution_count": 24,
   "metadata": {},
   "outputs": [],
   "source": [
    "train_l2 = train_l2.join(df_magic_feature_train,lsuffix='', rsuffix='')\n",
    "test_l2 = test_l2.join(df_magic_feature_test,lsuffix='', rsuffix='')\n",
    "# train_l2 = train_l2.replace([-np.inf],-16)\n",
    "# train_l2 = train_l2.replace([np.inf],10)\n",
    "# test_l2 = test_l2.replace([-np.inf],-16)\n",
    "# test_l2 = test_l2.replace([np.inf],10)"
   ]
  },
  {
   "cell_type": "code",
   "execution_count": 25,
   "metadata": {
    "scrolled": true
   },
   "outputs": [
    {
     "data": {
      "text/html": [
       "<div>\n",
       "<table border=\"1\" class=\"dataframe\">\n",
       "  <thead>\n",
       "    <tr style=\"text-align: right;\">\n",
       "      <th></th>\n",
       "      <th>prob_light</th>\n",
       "      <th>prob_extrEntropy</th>\n",
       "      <th>prob</th>\n",
       "      <th>prob_rfEntropy</th>\n",
       "      <th>prob_rfgini</th>\n",
       "      <th>prob_xgb</th>\n",
       "      <th>Duration</th>\n",
       "      <th>MF1</th>\n",
       "      <th>MF2</th>\n",
       "      <th>MF3</th>\n",
       "      <th>MF4</th>\n",
       "      <th>StartTime</th>\n",
       "    </tr>\n",
       "  </thead>\n",
       "  <tbody>\n",
       "    <tr>\n",
       "      <th>0.0</th>\n",
       "      <td>-9.127850</td>\n",
       "      <td>-8.483041</td>\n",
       "      <td>-8.685162</td>\n",
       "      <td>-10.618902</td>\n",
       "      <td>-10.187962</td>\n",
       "      <td>-5.253601</td>\n",
       "      <td>5.05</td>\n",
       "      <td>9999999</td>\n",
       "      <td>-2</td>\n",
       "      <td>-2314450</td>\n",
       "      <td>-224451</td>\n",
       "      <td>82.24</td>\n",
       "    </tr>\n",
       "    <tr>\n",
       "      <th>1.0</th>\n",
       "      <td>-7.045631</td>\n",
       "      <td>-6.352776</td>\n",
       "      <td>-6.074121</td>\n",
       "      <td>-inf</td>\n",
       "      <td>-6.193969</td>\n",
       "      <td>-5.146423</td>\n",
       "      <td>2.63</td>\n",
       "      <td>2</td>\n",
       "      <td>-1</td>\n",
       "      <td>-2284042</td>\n",
       "      <td>-67530</td>\n",
       "      <td>1313.12</td>\n",
       "    </tr>\n",
       "    <tr>\n",
       "      <th>2.0</th>\n",
       "      <td>-6.913125</td>\n",
       "      <td>-5.623464</td>\n",
       "      <td>-6.429771</td>\n",
       "      <td>-8.881556</td>\n",
       "      <td>-5.926097</td>\n",
       "      <td>-5.145325</td>\n",
       "      <td>5.72</td>\n",
       "      <td>1</td>\n",
       "      <td>-2</td>\n",
       "      <td>-2313512</td>\n",
       "      <td>-26876</td>\n",
       "      <td>1618.70</td>\n",
       "    </tr>\n",
       "    <tr>\n",
       "      <th>3.0</th>\n",
       "      <td>-5.942260</td>\n",
       "      <td>-6.210380</td>\n",
       "      <td>-6.605445</td>\n",
       "      <td>-7.223521</td>\n",
       "      <td>-7.990221</td>\n",
       "      <td>-5.191361</td>\n",
       "      <td>4.96</td>\n",
       "      <td>2</td>\n",
       "      <td>-2</td>\n",
       "      <td>-2196581</td>\n",
       "      <td>-3564</td>\n",
       "      <td>1149.20</td>\n",
       "    </tr>\n",
       "    <tr>\n",
       "      <th>4.0</th>\n",
       "      <td>-2.458716</td>\n",
       "      <td>-3.011298</td>\n",
       "      <td>-2.707870</td>\n",
       "      <td>-3.650078</td>\n",
       "      <td>-3.775202</td>\n",
       "      <td>-3.736954</td>\n",
       "      <td>3.38</td>\n",
       "      <td>2</td>\n",
       "      <td>-2</td>\n",
       "      <td>-2226678</td>\n",
       "      <td>-1</td>\n",
       "      <td>602.64</td>\n",
       "    </tr>\n",
       "  </tbody>\n",
       "</table>\n",
       "</div>"
      ],
      "text/plain": [
       "     prob_light  prob_extrEntropy      prob  prob_rfEntropy  prob_rfgini  \\\n",
       "0.0   -9.127850         -8.483041 -8.685162      -10.618902   -10.187962   \n",
       "1.0   -7.045631         -6.352776 -6.074121            -inf    -6.193969   \n",
       "2.0   -6.913125         -5.623464 -6.429771       -8.881556    -5.926097   \n",
       "3.0   -5.942260         -6.210380 -6.605445       -7.223521    -7.990221   \n",
       "4.0   -2.458716         -3.011298 -2.707870       -3.650078    -3.775202   \n",
       "\n",
       "     prob_xgb  Duration      MF1  MF2      MF3     MF4  StartTime  \n",
       "0.0 -5.253601      5.05  9999999   -2 -2314450 -224451      82.24  \n",
       "1.0 -5.146423      2.63        2   -1 -2284042  -67530    1313.12  \n",
       "2.0 -5.145325      5.72        1   -2 -2313512  -26876    1618.70  \n",
       "3.0 -5.191361      4.96        2   -2 -2196581   -3564    1149.20  \n",
       "4.0 -3.736954      3.38        2   -2 -2226678      -1     602.64  "
      ]
     },
     "execution_count": 25,
     "metadata": {},
     "output_type": "execute_result"
    }
   ],
   "source": [
    "train_l2.head()"
   ]
  },
  {
   "cell_type": "code",
   "execution_count": 26,
   "metadata": {},
   "outputs": [],
   "source": [
    "train_l2 = train_l2.values\n",
    "test_l2 = test_l2.values"
   ]
  },
  {
   "cell_type": "code",
   "execution_count": 29,
   "metadata": {},
   "outputs": [
    {
     "data": {
      "text/plain": [
       "(1183747, 6)"
      ]
     },
     "execution_count": 29,
     "metadata": {},
     "output_type": "execute_result"
    }
   ],
   "source": [
    "train_l2.shape"
   ]
  },
  {
   "cell_type": "code",
   "execution_count": 38,
   "metadata": {},
   "outputs": [
    {
     "data": {
      "text/plain": [
       "(1183748, 12)"
      ]
     },
     "execution_count": 38,
     "metadata": {},
     "output_type": "execute_result"
    }
   ],
   "source": [
    "test_l2.shape"
   ]
  },
  {
   "cell_type": "code",
   "execution_count": 344,
   "metadata": {
    "scrolled": true
   },
   "outputs": [
    {
     "name": "stdout",
     "output_type": "stream",
     "text": [
      "Fold 0\n",
      "fold 0, ROC AUC: 0.905\n",
      "fold 0, TH: 0.450, MCC: MAX 0.472\n",
      "Fold 1\n",
      "fold 1, ROC AUC: 0.909\n",
      "fold 1, TH: 0.570, MCC: MAX 0.485\n",
      "Fold 2\n",
      "fold 2, ROC AUC: 0.912\n",
      "fold 2, TH: 0.190, MCC: MAX 0.470\n",
      "Fold 3\n",
      "fold 3, ROC AUC: 0.892\n",
      "fold 3, TH: 0.390, MCC: MAX 0.458\n",
      "Fold 4\n",
      "fold 4, ROC AUC: 0.902\n"
     ]
    },
    {
     "ename": "KeyboardInterrupt",
     "evalue": "",
     "output_type": "error",
     "traceback": [
      "\u001b[0;31m---------------------------------------------------------------------------\u001b[0m",
      "\u001b[0;31mKeyboardInterrupt\u001b[0m                         Traceback (most recent call last)",
      "\u001b[0;32m<ipython-input-344-bac75e1c7b51>\u001b[0m in \u001b[0;36m<module>\u001b[0;34m()\u001b[0m\n\u001b[1;32m      1\u001b[0m \u001b[0mclf\u001b[0m \u001b[0;34m=\u001b[0m \u001b[0mLogisticRegression\u001b[0m\u001b[0;34m(\u001b[0m\u001b[0msolver\u001b[0m\u001b[0;34m=\u001b[0m\u001b[0;34m\"sag\"\u001b[0m\u001b[0;34m,\u001b[0m\u001b[0mmax_iter\u001b[0m\u001b[0;34m=\u001b[0m\u001b[0;36m1000\u001b[0m\u001b[0;34m)\u001b[0m\u001b[0;34m\u001b[0m\u001b[0m\n\u001b[0;32m----> 2\u001b[0;31m \u001b[0mreport_out_of_fold_score_L2\u001b[0m\u001b[0;34m(\u001b[0m\u001b[0mclf\u001b[0m\u001b[0;34m)\u001b[0m\u001b[0;34m\u001b[0m\u001b[0m\n\u001b[0m\u001b[1;32m      3\u001b[0m \u001b[0;31m# clf.fit(train_l2,train_y)\u001b[0m\u001b[0;34m\u001b[0m\u001b[0;34m\u001b[0m\u001b[0m\n\u001b[1;32m      4\u001b[0m \u001b[0;31m# best_threshold=0.466\u001b[0m\u001b[0;34m\u001b[0m\u001b[0;34m\u001b[0m\u001b[0m\n\u001b[1;32m      5\u001b[0m \u001b[0;31m# make_submission_L2(clf,best_threshold=0.466)\u001b[0m\u001b[0;34m\u001b[0m\u001b[0;34m\u001b[0m\u001b[0m\n",
      "\u001b[0;32m<ipython-input-319-229da5704d7e>\u001b[0m in \u001b[0;36mreport_out_of_fold_score_L2\u001b[0;34m(clf_test)\u001b[0m\n\u001b[1;32m     17\u001b[0m         \u001b[0;32mprint\u001b[0m\u001b[0;34m(\u001b[0m\u001b[0;34m\"fold {}, ROC AUC: {:.3f}\"\u001b[0m\u001b[0;34m.\u001b[0m\u001b[0mformat\u001b[0m\u001b[0;34m(\u001b[0m\u001b[0mi\u001b[0m\u001b[0;34m,\u001b[0m \u001b[0mroc_auc_score\u001b[0m\u001b[0;34m(\u001b[0m\u001b[0mtrain_y\u001b[0m\u001b[0;34m[\u001b[0m\u001b[0mtest\u001b[0m\u001b[0;34m]\u001b[0m\u001b[0;34m,\u001b[0m \u001b[0mpreds\u001b[0m\u001b[0;34m[\u001b[0m\u001b[0mtest\u001b[0m\u001b[0;34m]\u001b[0m\u001b[0;34m)\u001b[0m\u001b[0;34m)\u001b[0m\u001b[0;34m)\u001b[0m\u001b[0;34m\u001b[0m\u001b[0m\n\u001b[1;32m     18\u001b[0m         \u001b[0mthresholds\u001b[0m \u001b[0;34m=\u001b[0m \u001b[0mnp\u001b[0m\u001b[0;34m.\u001b[0m\u001b[0mlinspace\u001b[0m\u001b[0;34m(\u001b[0m\u001b[0;36m0.01\u001b[0m\u001b[0;34m,\u001b[0m \u001b[0;36m0.99\u001b[0m\u001b[0;34m,\u001b[0m \u001b[0;36m50\u001b[0m\u001b[0;34m)\u001b[0m\u001b[0;34m\u001b[0m\u001b[0m\n\u001b[0;32m---> 19\u001b[0;31m         \u001b[0mmcc\u001b[0m \u001b[0;34m=\u001b[0m \u001b[0mnp\u001b[0m\u001b[0;34m.\u001b[0m\u001b[0marray\u001b[0m\u001b[0;34m(\u001b[0m\u001b[0;34m[\u001b[0m\u001b[0mmatthews_corrcoef\u001b[0m\u001b[0;34m(\u001b[0m\u001b[0mtrain_y\u001b[0m\u001b[0;34m[\u001b[0m\u001b[0mtest\u001b[0m\u001b[0;34m]\u001b[0m\u001b[0;34m,\u001b[0m \u001b[0mpreds\u001b[0m\u001b[0;34m[\u001b[0m\u001b[0mtest\u001b[0m\u001b[0;34m]\u001b[0m\u001b[0;34m>\u001b[0m\u001b[0mthr\u001b[0m\u001b[0;34m)\u001b[0m \u001b[0;32mfor\u001b[0m \u001b[0mthr\u001b[0m \u001b[0;32min\u001b[0m \u001b[0mthresholds\u001b[0m\u001b[0;34m]\u001b[0m\u001b[0;34m)\u001b[0m\u001b[0;34m\u001b[0m\u001b[0m\n\u001b[0m\u001b[1;32m     20\u001b[0m         \u001b[0;32mprint\u001b[0m\u001b[0;34m(\u001b[0m\u001b[0;34m\"fold {}, TH: {:.3f}, MCC: MAX {:.3f}\"\u001b[0m\u001b[0;34m.\u001b[0m\u001b[0mformat\u001b[0m\u001b[0;34m(\u001b[0m\u001b[0mi\u001b[0m\u001b[0;34m,\u001b[0m\u001b[0mthresholds\u001b[0m\u001b[0;34m[\u001b[0m\u001b[0mmcc\u001b[0m\u001b[0;34m.\u001b[0m\u001b[0margmax\u001b[0m\u001b[0;34m(\u001b[0m\u001b[0;34m)\u001b[0m\u001b[0;34m]\u001b[0m\u001b[0;34m,\u001b[0m\u001b[0mmcc\u001b[0m\u001b[0;34m.\u001b[0m\u001b[0mmax\u001b[0m\u001b[0;34m(\u001b[0m\u001b[0;34m)\u001b[0m\u001b[0;34m)\u001b[0m\u001b[0;34m)\u001b[0m\u001b[0;34m\u001b[0m\u001b[0m\n\u001b[1;32m     21\u001b[0m         \u001b[0mths\u001b[0m\u001b[0;34m[\u001b[0m\u001b[0mi\u001b[0m\u001b[0;34m]\u001b[0m\u001b[0;34m=\u001b[0m\u001b[0mthresholds\u001b[0m\u001b[0;34m[\u001b[0m\u001b[0mmcc\u001b[0m\u001b[0;34m.\u001b[0m\u001b[0margmax\u001b[0m\u001b[0;34m(\u001b[0m\u001b[0;34m)\u001b[0m\u001b[0;34m]\u001b[0m\u001b[0;34m\u001b[0m\u001b[0m\n",
      "\u001b[0;32m//anaconda/lib/python2.7/site-packages/sklearn/metrics/classification.pyc\u001b[0m in \u001b[0;36mmatthews_corrcoef\u001b[0;34m(y_true, y_pred)\u001b[0m\n\u001b[1;32m    455\u001b[0m \u001b[0;34m\u001b[0m\u001b[0m\n\u001b[1;32m    456\u001b[0m     \u001b[0mlb\u001b[0m \u001b[0;34m=\u001b[0m \u001b[0mLabelEncoder\u001b[0m\u001b[0;34m(\u001b[0m\u001b[0;34m)\u001b[0m\u001b[0;34m\u001b[0m\u001b[0m\n\u001b[0;32m--> 457\u001b[0;31m     \u001b[0mlb\u001b[0m\u001b[0;34m.\u001b[0m\u001b[0mfit\u001b[0m\u001b[0;34m(\u001b[0m\u001b[0mnp\u001b[0m\u001b[0;34m.\u001b[0m\u001b[0mhstack\u001b[0m\u001b[0;34m(\u001b[0m\u001b[0;34m[\u001b[0m\u001b[0my_true\u001b[0m\u001b[0;34m,\u001b[0m \u001b[0my_pred\u001b[0m\u001b[0;34m]\u001b[0m\u001b[0;34m)\u001b[0m\u001b[0;34m)\u001b[0m\u001b[0;34m\u001b[0m\u001b[0m\n\u001b[0m\u001b[1;32m    458\u001b[0m     \u001b[0my_true\u001b[0m \u001b[0;34m=\u001b[0m \u001b[0mlb\u001b[0m\u001b[0;34m.\u001b[0m\u001b[0mtransform\u001b[0m\u001b[0;34m(\u001b[0m\u001b[0my_true\u001b[0m\u001b[0;34m)\u001b[0m\u001b[0;34m\u001b[0m\u001b[0m\n\u001b[1;32m    459\u001b[0m     \u001b[0my_pred\u001b[0m \u001b[0;34m=\u001b[0m \u001b[0mlb\u001b[0m\u001b[0;34m.\u001b[0m\u001b[0mtransform\u001b[0m\u001b[0;34m(\u001b[0m\u001b[0my_pred\u001b[0m\u001b[0;34m)\u001b[0m\u001b[0;34m\u001b[0m\u001b[0m\n",
      "\u001b[0;32m//anaconda/lib/python2.7/site-packages/sklearn/preprocessing/label.pyc\u001b[0m in \u001b[0;36mfit\u001b[0;34m(self, y)\u001b[0m\n\u001b[1;32m    108\u001b[0m         \u001b[0my\u001b[0m \u001b[0;34m=\u001b[0m \u001b[0mcolumn_or_1d\u001b[0m\u001b[0;34m(\u001b[0m\u001b[0my\u001b[0m\u001b[0;34m,\u001b[0m \u001b[0mwarn\u001b[0m\u001b[0;34m=\u001b[0m\u001b[0mTrue\u001b[0m\u001b[0;34m)\u001b[0m\u001b[0;34m\u001b[0m\u001b[0m\n\u001b[1;32m    109\u001b[0m         \u001b[0m_check_numpy_unicode_bug\u001b[0m\u001b[0;34m(\u001b[0m\u001b[0my\u001b[0m\u001b[0;34m)\u001b[0m\u001b[0;34m\u001b[0m\u001b[0m\n\u001b[0;32m--> 110\u001b[0;31m         \u001b[0mself\u001b[0m\u001b[0;34m.\u001b[0m\u001b[0mclasses_\u001b[0m \u001b[0;34m=\u001b[0m \u001b[0mnp\u001b[0m\u001b[0;34m.\u001b[0m\u001b[0munique\u001b[0m\u001b[0;34m(\u001b[0m\u001b[0my\u001b[0m\u001b[0;34m)\u001b[0m\u001b[0;34m\u001b[0m\u001b[0m\n\u001b[0m\u001b[1;32m    111\u001b[0m         \u001b[0;32mreturn\u001b[0m \u001b[0mself\u001b[0m\u001b[0;34m\u001b[0m\u001b[0m\n\u001b[1;32m    112\u001b[0m \u001b[0;34m\u001b[0m\u001b[0m\n",
      "\u001b[0;32m//anaconda/lib/python2.7/site-packages/numpy/lib/arraysetops.pyc\u001b[0m in \u001b[0;36munique\u001b[0;34m(ar, return_index, return_inverse, return_counts)\u001b[0m\n\u001b[1;32m    196\u001b[0m         \u001b[0maux\u001b[0m \u001b[0;34m=\u001b[0m \u001b[0mar\u001b[0m\u001b[0;34m[\u001b[0m\u001b[0mperm\u001b[0m\u001b[0;34m]\u001b[0m\u001b[0;34m\u001b[0m\u001b[0m\n\u001b[1;32m    197\u001b[0m     \u001b[0;32melse\u001b[0m\u001b[0;34m:\u001b[0m\u001b[0;34m\u001b[0m\u001b[0m\n\u001b[0;32m--> 198\u001b[0;31m         \u001b[0mar\u001b[0m\u001b[0;34m.\u001b[0m\u001b[0msort\u001b[0m\u001b[0;34m(\u001b[0m\u001b[0;34m)\u001b[0m\u001b[0;34m\u001b[0m\u001b[0m\n\u001b[0m\u001b[1;32m    199\u001b[0m         \u001b[0maux\u001b[0m \u001b[0;34m=\u001b[0m \u001b[0mar\u001b[0m\u001b[0;34m\u001b[0m\u001b[0m\n\u001b[1;32m    200\u001b[0m     \u001b[0mflag\u001b[0m \u001b[0;34m=\u001b[0m \u001b[0mnp\u001b[0m\u001b[0;34m.\u001b[0m\u001b[0mconcatenate\u001b[0m\u001b[0;34m(\u001b[0m\u001b[0;34m(\u001b[0m\u001b[0;34m[\u001b[0m\u001b[0mTrue\u001b[0m\u001b[0;34m]\u001b[0m\u001b[0;34m,\u001b[0m \u001b[0maux\u001b[0m\u001b[0;34m[\u001b[0m\u001b[0;36m1\u001b[0m\u001b[0;34m:\u001b[0m\u001b[0;34m]\u001b[0m \u001b[0;34m!=\u001b[0m \u001b[0maux\u001b[0m\u001b[0;34m[\u001b[0m\u001b[0;34m:\u001b[0m\u001b[0;34m-\u001b[0m\u001b[0;36m1\u001b[0m\u001b[0;34m]\u001b[0m\u001b[0;34m)\u001b[0m\u001b[0;34m)\u001b[0m\u001b[0;34m\u001b[0m\u001b[0m\n",
      "\u001b[0;31mKeyboardInterrupt\u001b[0m: "
     ]
    }
   ],
   "source": [
    "clf = LogisticRegression(solver=\"sag\",max_iter=1000)\n",
    "report_out_of_fold_score(clf,train_l2)\n",
    "# clf.fit(train_l2,train_y)\n",
    "# best_threshold=0.466\n",
    "# make_submission_L2(clf,best_threshold=0.466)"
   ]
  },
  {
   "cell_type": "code",
   "execution_count": 100,
   "metadata": {},
   "outputs": [
    {
     "name": "stdout",
     "output_type": "stream",
     "text": [
      "Fitting 5 folds for each of 5 candidates, totalling 25 fits\n"
     ]
    },
    {
     "name": "stderr",
     "output_type": "stream",
     "text": [
      "[Parallel(n_jobs=1)]: Done  25 out of  25 | elapsed: 47.1min finished\n"
     ]
    },
    {
     "name": "stdout",
     "output_type": "stream",
     "text": [
      "('Grid score: ', [mean: 0.46541, std: 0.00993, params: {'n_estimators': 10}, mean: 0.46697, std: 0.00938, params: {'n_estimators': 30}, mean: 0.46898, std: 0.01108, params: {'n_estimators': 50}, mean: 0.46979, std: 0.01025, params: {'n_estimators': 70}, mean: 0.47069, std: 0.00963, params: {'n_estimators': 90}])\n",
      "('Best score: ', 0.47069068433856481)\n",
      "('Best params: ', {'n_estimators': 90})\n"
     ]
    }
   ],
   "source": [
    "clf_rf_gini_l2 = RandomForestClassifier(n_estimators = 100, n_jobs = -1,random_state =1, \n",
    "                             max_features = \"auto\", min_samples_leaf = 3,criterion='gini')\n",
    "# param = {'n_estimators':[10,30,50,70,90]}\n",
    "# clf_rf_gini_l2.fit(train_l2,train_y)\n",
    "# make_submission(clf_rf_gini_l2,best_threshold = 0.29)\n",
    "report_out_of_fold_score(clf_rf_gini_l2,train_l2)\n",
    "# grid_search_report(clf_rf_gini_l2,param,train_l2)"
   ]
  },
  {
   "cell_type": "code",
   "execution_count": 41,
   "metadata": {
    "scrolled": true
   },
   "outputs": [
    {
     "name": "stdout",
     "output_type": "stream",
     "text": [
      "Fold 0\n",
      "fold 0, ROC AUC: 0.916\n",
      "fold 0, TH: 0.410, MCC: MAX 0.473\n",
      "Fold 1\n",
      "fold 1, ROC AUC: 0.920\n",
      "fold 1, TH: 0.510, MCC: MAX 0.491\n",
      "Fold 2\n",
      "fold 2, ROC AUC: 0.921\n",
      "fold 2, TH: 0.330, MCC: MAX 0.475\n",
      "Fold 3\n",
      "fold 3, ROC AUC: 0.907\n",
      "fold 3, TH: 0.470, MCC: MAX 0.455\n",
      "Fold 4\n",
      "fold 4, ROC AUC: 0.911\n",
      "fold 4, TH: 0.470, MCC: MAX 0.479\n",
      "mean out of fold AUC 0.91471518005\n",
      "mean out of fold MCC 0.474711498967\n",
      "mean out of fold ths 0.438\n"
     ]
    }
   ],
   "source": [
    "# train a L2 xgboost\n",
    "xgb_l2 = XGBClassifier(\n",
    " learning_rate =0.03,\n",
    " n_estimators=94,\n",
    " max_depth=8,\n",
    " min_child_weight=1,\n",
    " gamma=0,\n",
    " subsample=0.85,\n",
    " colsample_bytree=0.5,\n",
    " objective= 'reg:linear',\n",
    " nthread=4,\n",
    " scale_pos_weight=1,\n",
    " seed=0)\n",
    "\n",
    "# best_threshold = modelfit(xgb_l2, train_l2, train_y.ravel())\n",
    "report_out_of_fold_score(xgb_l2,train_l2)\n",
    "# xgb_l2.fit(train_l2,train_y)\n",
    "# best_threshold=0.43\n",
    "# make_submission(xgb_l2,best_threshold=0.438)\n",
    "# try_threshold(xgb_l2)\n",
    "\n",
    "\n",
    "# report_out_of_fold_score(xgb_starter)"
   ]
  },
  {
   "cell_type": "markdown",
   "metadata": {},
   "source": [
    "### Generate fold and prediction in one step"
   ]
  },
  {
   "cell_type": "code",
   "execution_count": 259,
   "metadata": {
    "collapsed": true
   },
   "outputs": [],
   "source": [
    "# Generate fold\n",
    "n_folds =5\n",
    "skf = list(StratifiedKFold(target_y, n_folds))"
   ]
  },
  {
   "cell_type": "code",
   "execution_count": 260,
   "metadata": {},
   "outputs": [
    {
     "name": "stdout",
     "output_type": "stream",
     "text": [
      "pyLightGBM is looking for 'LIGHTGBM_EXEC' environment variable, cannot be found.\n",
      "exec_path will be deprecated in favor of environment variable\n"
     ]
    }
   ],
   "source": [
    "clfs =  [XGBClassifier(learning_rate =0.05,n_estimators=91, max_depth=10, min_child_weight=1, gamma=0,subsample=0.85,colsample_bytree=0.5, objective= 'reg:linear', nthread=4,scale_pos_weight=1,seed=0),\n",
    "         RandomForestClassifier(n_estimators = 100, oob_score = True, n_jobs = -1,random_state =1,max_features = \"auto\", min_samples_leaf = 3,criterion='entropy'),\n",
    "         ExtraTreesClassifier(n_estimators=150, n_jobs=-1, criterion='entropy',max_features=\"auto\", min_samples_leaf=3, random_state=0),\n",
    "         GBMClassifier(exec_path=exec_path,early_stopping_round=10,verbose=True,learning_rate=0.15,num_iterations=100, min_data_in_leaf=3,metric=\"roc_auc\")]"
   ]
  },
  {
   "cell_type": "code",
   "execution_count": 261,
   "metadata": {
    "collapsed": true
   },
   "outputs": [],
   "source": [
    "dataset_blend_train = np.zeros((1183747, len(clfs)))\n",
    "dataset_blend_test = np.zeros((1183748, len(clfs)))"
   ]
  },
  {
   "cell_type": "code",
   "execution_count": null,
   "metadata": {
    "scrolled": true
   },
   "outputs": [],
   "source": [
    "print \"Creating train and test sets for stacking\"\n",
    "# dataset_blend_test -> predict features\n",
    "# dataset_blend_train -> train features\n",
    "# dataset_blend_train = np.zeros((1183747, len(clfs)))\n",
    "# dataset_blend_test = np.zeros((1183748, len(clfs)))\n",
    "for j, clf in enumerate(clfs):\n",
    "    print j, clf\n",
    "    dataset_blend_test_j = np.zeros((1183748, len(skf)))\n",
    "    for i, (train, test) in enumerate(skf):\n",
    "        print \"Fold\", i\n",
    "        X_train = train_x[train]\n",
    "        y_train = train_y[train]\n",
    "        X_test = train_x[test]\n",
    "        y_test = train_y[test]\n",
    "        clf.fit(X_train, y_train)\n",
    "        y_submission = clf.predict_proba(X_test)[:, 1]\n",
    "        dataset_blend_train[test, j] = y_submission\n",
    "        dataset_blend_test_j[:, i] = clf.predict_proba(test_x)[:, 1]\n",
    "    dataset_blend_test[:, j] = dataset_blend_test_j.mean(1)"
   ]
  },
  {
   "cell_type": "code",
   "execution_count": 269,
   "metadata": {},
   "outputs": [
    {
     "data": {
      "text/plain": [
       "(1183747, 4)"
      ]
     },
     "execution_count": 269,
     "metadata": {},
     "output_type": "execute_result"
    }
   ],
   "source": [
    "dataset_blend_train.shape"
   ]
  },
  {
   "cell_type": "code",
   "execution_count": 275,
   "metadata": {},
   "outputs": [
    {
     "name": "stdout",
     "output_type": "stream",
     "text": [
      "\n",
      "Stacking.\n",
      "0.466\n",
      "submission.csv.gz\n"
     ]
    }
   ],
   "source": [
    "print\n",
    "print \"Stacking.\"\n",
    "clf = LogisticRegression()\n",
    "# report_out_of_fold_score_L2(clf)\n",
    "clf.fit(dataset_blend_train, train_y)\n",
    "make_submission_L2(clf)\n",
    "# y_submission = clf.predict_proba(dataset_blend_test)[:, 1]"
   ]
  },
  {
   "cell_type": "markdown",
   "metadata": {},
   "source": [
    "# load test data, predict labels and submit"
   ]
  },
  {
   "cell_type": "code",
   "execution_count": 10,
   "metadata": {},
   "outputs": [],
   "source": [
    "def make_submission(clf,test=test_x,name=\"submission.csv.gz\",best_threshold=0.29):\n",
    "    print best_threshold\n",
    "    preds = (clf.predict_proba(test)[:,1] > best_threshold).astype(np.int8)\n",
    "    sub = pd.read_csv(\"../data/sample_submission.csv\", index_col=0)\n",
    "    sub[\"Response\"] = preds\n",
    "    print name\n",
    "    sub.to_csv(name, compression=\"gzip\")"
   ]
  },
  {
   "cell_type": "code",
   "execution_count": 4,
   "metadata": {},
   "outputs": [],
   "source": [
    "def try_threshold(clf):\n",
    "    threshold = [0.34,0.35,0.36,0.37,0.38,0.39,0.40,0.41,0.42,0.43,0.44,0.45,0.46,0.47,0.48]\n",
    "    for index, item in enumerate(threshold):\n",
    "        print str(index)\n",
    "        name = str(threshold[index]*100)+\"submission.csv.gz\"\n",
    "        make_submission_L2(clf,False,name,item)"
   ]
  },
  {
   "cell_type": "code",
   "execution_count": null,
   "metadata": {
    "collapsed": true
   },
   "outputs": [],
   "source": []
  }
 ],
 "metadata": {
  "anaconda-cloud": {},
  "kernelspec": {
   "display_name": "Python 3",
   "language": "python",
   "name": "python3"
  },
  "language_info": {
   "codemirror_mode": {
    "name": "ipython",
    "version": 3
   },
   "file_extension": ".py",
   "mimetype": "text/x-python",
   "name": "python",
   "nbconvert_exporter": "python",
   "pygments_lexer": "ipython3",
   "version": "3.6.2"
  }
 },
 "nbformat": 4,
 "nbformat_minor": 1
}
